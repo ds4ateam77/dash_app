{
 "cells": [
  {
   "cell_type": "code",
   "execution_count": 1,
   "metadata": {},
   "outputs": [],
   "source": [
    "import pandas as pd\n",
    "import plotly.express as px\n",
    "import plotly.graph_objects as go"
   ]
  },
  {
   "cell_type": "code",
   "execution_count": 2,
   "metadata": {
    "scrolled": true
   },
   "outputs": [
    {
     "data": {
      "text/html": [
       "<div>\n",
       "<style scoped>\n",
       "    .dataframe tbody tr th:only-of-type {\n",
       "        vertical-align: middle;\n",
       "    }\n",
       "\n",
       "    .dataframe tbody tr th {\n",
       "        vertical-align: top;\n",
       "    }\n",
       "\n",
       "    .dataframe thead th {\n",
       "        text-align: right;\n",
       "    }\n",
       "</style>\n",
       "<table border=\"1\" class=\"dataframe\">\n",
       "  <thead>\n",
       "    <tr style=\"text-align: right;\">\n",
       "      <th></th>\n",
       "      <th>Item</th>\n",
       "      <th>City</th>\n",
       "      <th>LAT</th>\n",
       "      <th>LONG</th>\n",
       "      <th>Attribute</th>\n",
       "      <th>Value</th>\n",
       "    </tr>\n",
       "  </thead>\n",
       "  <tbody>\n",
       "    <tr>\n",
       "      <th>0</th>\n",
       "      <td>New York Knicks</td>\n",
       "      <td>New York, NY</td>\n",
       "      <td>40.73061</td>\n",
       "      <td>-73.935242</td>\n",
       "      <td>2010.0</td>\n",
       "      <td>586.0</td>\n",
       "    </tr>\n",
       "    <tr>\n",
       "      <th>1</th>\n",
       "      <td>New York Knicks</td>\n",
       "      <td>New York, NY</td>\n",
       "      <td>40.73061</td>\n",
       "      <td>-73.935242</td>\n",
       "      <td>2011.0</td>\n",
       "      <td>655.0</td>\n",
       "    </tr>\n",
       "    <tr>\n",
       "      <th>2</th>\n",
       "      <td>New York Knicks</td>\n",
       "      <td>New York, NY</td>\n",
       "      <td>40.73061</td>\n",
       "      <td>-73.935242</td>\n",
       "      <td>2012.0</td>\n",
       "      <td>780.0</td>\n",
       "    </tr>\n",
       "    <tr>\n",
       "      <th>3</th>\n",
       "      <td>New York Knicks</td>\n",
       "      <td>New York, NY</td>\n",
       "      <td>40.73061</td>\n",
       "      <td>-73.935242</td>\n",
       "      <td>2013.0</td>\n",
       "      <td>1100.0</td>\n",
       "    </tr>\n",
       "    <tr>\n",
       "      <th>4</th>\n",
       "      <td>New York Knicks</td>\n",
       "      <td>New York, NY</td>\n",
       "      <td>40.73061</td>\n",
       "      <td>-73.935242</td>\n",
       "      <td>2014.0</td>\n",
       "      <td>1400.0</td>\n",
       "    </tr>\n",
       "  </tbody>\n",
       "</table>\n",
       "</div>"
      ],
      "text/plain": [
       "              Item          City       LAT       LONG  Attribute   Value\n",
       "0  New York Knicks  New York, NY  40.73061 -73.935242     2010.0   586.0\n",
       "1  New York Knicks  New York, NY  40.73061 -73.935242     2011.0   655.0\n",
       "2  New York Knicks  New York, NY  40.73061 -73.935242     2012.0   780.0\n",
       "3  New York Knicks  New York, NY  40.73061 -73.935242     2013.0  1100.0\n",
       "4  New York Knicks  New York, NY  40.73061 -73.935242     2014.0  1400.0"
      ]
     },
     "execution_count": 2,
     "metadata": {},
     "output_type": "execute_result"
    }
   ],
   "source": [
    "team_valuations = pd.read_csv('Team_Valuations_City.csv')  \n",
    "team_valuations.head(5)"
   ]
  },
  {
   "cell_type": "code",
   "execution_count": 3,
   "metadata": {},
   "outputs": [
    {
     "data": {
      "text/html": [
       "<div>\n",
       "<style scoped>\n",
       "    .dataframe tbody tr th:only-of-type {\n",
       "        vertical-align: middle;\n",
       "    }\n",
       "\n",
       "    .dataframe tbody tr th {\n",
       "        vertical-align: top;\n",
       "    }\n",
       "\n",
       "    .dataframe thead th {\n",
       "        text-align: right;\n",
       "    }\n",
       "</style>\n",
       "<table border=\"1\" class=\"dataframe\">\n",
       "  <thead>\n",
       "    <tr style=\"text-align: right;\">\n",
       "      <th></th>\n",
       "      <th>Team</th>\n",
       "      <th>City</th>\n",
       "      <th>LAT</th>\n",
       "      <th>LONG</th>\n",
       "      <th>Year</th>\n",
       "      <th>Valuation (in millions)</th>\n",
       "    </tr>\n",
       "  </thead>\n",
       "  <tbody>\n",
       "    <tr>\n",
       "      <th>0</th>\n",
       "      <td>New York Knicks</td>\n",
       "      <td>New York, NY</td>\n",
       "      <td>40.73061</td>\n",
       "      <td>-73.935242</td>\n",
       "      <td>2010.0</td>\n",
       "      <td>586.0</td>\n",
       "    </tr>\n",
       "    <tr>\n",
       "      <th>1</th>\n",
       "      <td>New York Knicks</td>\n",
       "      <td>New York, NY</td>\n",
       "      <td>40.73061</td>\n",
       "      <td>-73.935242</td>\n",
       "      <td>2011.0</td>\n",
       "      <td>655.0</td>\n",
       "    </tr>\n",
       "    <tr>\n",
       "      <th>2</th>\n",
       "      <td>New York Knicks</td>\n",
       "      <td>New York, NY</td>\n",
       "      <td>40.73061</td>\n",
       "      <td>-73.935242</td>\n",
       "      <td>2012.0</td>\n",
       "      <td>780.0</td>\n",
       "    </tr>\n",
       "    <tr>\n",
       "      <th>3</th>\n",
       "      <td>New York Knicks</td>\n",
       "      <td>New York, NY</td>\n",
       "      <td>40.73061</td>\n",
       "      <td>-73.935242</td>\n",
       "      <td>2013.0</td>\n",
       "      <td>1100.0</td>\n",
       "    </tr>\n",
       "    <tr>\n",
       "      <th>4</th>\n",
       "      <td>New York Knicks</td>\n",
       "      <td>New York, NY</td>\n",
       "      <td>40.73061</td>\n",
       "      <td>-73.935242</td>\n",
       "      <td>2014.0</td>\n",
       "      <td>1400.0</td>\n",
       "    </tr>\n",
       "    <tr>\n",
       "      <th>...</th>\n",
       "      <td>...</td>\n",
       "      <td>...</td>\n",
       "      <td>...</td>\n",
       "      <td>...</td>\n",
       "      <td>...</td>\n",
       "      <td>...</td>\n",
       "    </tr>\n",
       "    <tr>\n",
       "      <th>295</th>\n",
       "      <td>New Orleans Pelicans</td>\n",
       "      <td>New Orleans, LA</td>\n",
       "      <td>29.95110</td>\n",
       "      <td>-90.071500</td>\n",
       "      <td>2015.0</td>\n",
       "      <td>650.0</td>\n",
       "    </tr>\n",
       "    <tr>\n",
       "      <th>296</th>\n",
       "      <td>New Orleans Pelicans</td>\n",
       "      <td>New Orleans, LA</td>\n",
       "      <td>29.95110</td>\n",
       "      <td>-90.071500</td>\n",
       "      <td>2016.0</td>\n",
       "      <td>650.0</td>\n",
       "    </tr>\n",
       "    <tr>\n",
       "      <th>297</th>\n",
       "      <td>New Orleans Pelicans</td>\n",
       "      <td>New Orleans, LA</td>\n",
       "      <td>29.95110</td>\n",
       "      <td>-90.071500</td>\n",
       "      <td>2017.0</td>\n",
       "      <td>750.0</td>\n",
       "    </tr>\n",
       "    <tr>\n",
       "      <th>298</th>\n",
       "      <td>New Orleans Pelicans</td>\n",
       "      <td>New Orleans, LA</td>\n",
       "      <td>29.95110</td>\n",
       "      <td>-90.071500</td>\n",
       "      <td>2018.0</td>\n",
       "      <td>1000.0</td>\n",
       "    </tr>\n",
       "    <tr>\n",
       "      <th>299</th>\n",
       "      <td>New Orleans Pelicans</td>\n",
       "      <td>New Orleans, LA</td>\n",
       "      <td>29.95110</td>\n",
       "      <td>-90.071500</td>\n",
       "      <td>2019.0</td>\n",
       "      <td>1022.0</td>\n",
       "    </tr>\n",
       "  </tbody>\n",
       "</table>\n",
       "<p>300 rows × 6 columns</p>\n",
       "</div>"
      ],
      "text/plain": [
       "                     Team             City       LAT       LONG    Year  \\\n",
       "0         New York Knicks     New York, NY  40.73061 -73.935242  2010.0   \n",
       "1         New York Knicks     New York, NY  40.73061 -73.935242  2011.0   \n",
       "2         New York Knicks     New York, NY  40.73061 -73.935242  2012.0   \n",
       "3         New York Knicks     New York, NY  40.73061 -73.935242  2013.0   \n",
       "4         New York Knicks     New York, NY  40.73061 -73.935242  2014.0   \n",
       "..                    ...              ...       ...        ...     ...   \n",
       "295  New Orleans Pelicans  New Orleans, LA  29.95110 -90.071500  2015.0   \n",
       "296  New Orleans Pelicans  New Orleans, LA  29.95110 -90.071500  2016.0   \n",
       "297  New Orleans Pelicans  New Orleans, LA  29.95110 -90.071500  2017.0   \n",
       "298  New Orleans Pelicans  New Orleans, LA  29.95110 -90.071500  2018.0   \n",
       "299  New Orleans Pelicans  New Orleans, LA  29.95110 -90.071500  2019.0   \n",
       "\n",
       "     Valuation (in millions)  \n",
       "0                      586.0  \n",
       "1                      655.0  \n",
       "2                      780.0  \n",
       "3                     1100.0  \n",
       "4                     1400.0  \n",
       "..                       ...  \n",
       "295                    650.0  \n",
       "296                    650.0  \n",
       "297                    750.0  \n",
       "298                   1000.0  \n",
       "299                   1022.0  \n",
       "\n",
       "[300 rows x 6 columns]"
      ]
     },
     "execution_count": 3,
     "metadata": {},
     "output_type": "execute_result"
    }
   ],
   "source": [
    "team_valuations= team_valuations.rename(columns={\"Item\": \"Team\", \"Attribute\" : \"Year\", \"Value\" : \"Valuation (in millions)\"})\n",
    "team_valuations = team_valuations[team_valuations[\"Team\"].notna()]\n",
    "team_valuations"
   ]
  },
  {
   "cell_type": "code",
   "execution_count": 4,
   "metadata": {},
   "outputs": [
    {
     "name": "stderr",
     "output_type": "stream",
     "text": [
      "<ipython-input-4-ff0daeccc6b2>:4: FutureWarning: The default value of regex will change from True to False in a future version. In addition, single character regular expressions will*not* be treated as literal strings when regex=True.\n",
      "  team_valuations[\"Valuation (in millions)\"] = team_valuations[\"Valuation (in millions)\"].str.replace(\".\", \"\")\n"
     ]
    },
    {
     "data": {
      "text/html": [
       "<div>\n",
       "<style scoped>\n",
       "    .dataframe tbody tr th:only-of-type {\n",
       "        vertical-align: middle;\n",
       "    }\n",
       "\n",
       "    .dataframe tbody tr th {\n",
       "        vertical-align: top;\n",
       "    }\n",
       "\n",
       "    .dataframe thead th {\n",
       "        text-align: right;\n",
       "    }\n",
       "</style>\n",
       "<table border=\"1\" class=\"dataframe\">\n",
       "  <thead>\n",
       "    <tr style=\"text-align: right;\">\n",
       "      <th></th>\n",
       "      <th>Team</th>\n",
       "      <th>City</th>\n",
       "      <th>LAT</th>\n",
       "      <th>LONG</th>\n",
       "      <th>Year</th>\n",
       "      <th>Valuation (in millions)</th>\n",
       "    </tr>\n",
       "  </thead>\n",
       "  <tbody>\n",
       "    <tr>\n",
       "      <th>0</th>\n",
       "      <td>New York Knicks</td>\n",
       "      <td>New York, NY</td>\n",
       "      <td>40.73061</td>\n",
       "      <td>-73.935242</td>\n",
       "      <td>2010</td>\n",
       "      <td>5860000000</td>\n",
       "    </tr>\n",
       "    <tr>\n",
       "      <th>1</th>\n",
       "      <td>New York Knicks</td>\n",
       "      <td>New York, NY</td>\n",
       "      <td>40.73061</td>\n",
       "      <td>-73.935242</td>\n",
       "      <td>2011</td>\n",
       "      <td>6550000000</td>\n",
       "    </tr>\n",
       "    <tr>\n",
       "      <th>2</th>\n",
       "      <td>New York Knicks</td>\n",
       "      <td>New York, NY</td>\n",
       "      <td>40.73061</td>\n",
       "      <td>-73.935242</td>\n",
       "      <td>2012</td>\n",
       "      <td>7800000000</td>\n",
       "    </tr>\n",
       "    <tr>\n",
       "      <th>3</th>\n",
       "      <td>New York Knicks</td>\n",
       "      <td>New York, NY</td>\n",
       "      <td>40.73061</td>\n",
       "      <td>-73.935242</td>\n",
       "      <td>2013</td>\n",
       "      <td>11000000000</td>\n",
       "    </tr>\n",
       "    <tr>\n",
       "      <th>4</th>\n",
       "      <td>New York Knicks</td>\n",
       "      <td>New York, NY</td>\n",
       "      <td>40.73061</td>\n",
       "      <td>-73.935242</td>\n",
       "      <td>2014</td>\n",
       "      <td>14000000000</td>\n",
       "    </tr>\n",
       "  </tbody>\n",
       "</table>\n",
       "</div>"
      ],
      "text/plain": [
       "              Team          City       LAT       LONG  Year  \\\n",
       "0  New York Knicks  New York, NY  40.73061 -73.935242  2010   \n",
       "1  New York Knicks  New York, NY  40.73061 -73.935242  2011   \n",
       "2  New York Knicks  New York, NY  40.73061 -73.935242  2012   \n",
       "3  New York Knicks  New York, NY  40.73061 -73.935242  2013   \n",
       "4  New York Knicks  New York, NY  40.73061 -73.935242  2014   \n",
       "\n",
       "  Valuation (in millions)  \n",
       "0              5860000000  \n",
       "1              6550000000  \n",
       "2              7800000000  \n",
       "3             11000000000  \n",
       "4             14000000000  "
      ]
     },
     "execution_count": 4,
     "metadata": {},
     "output_type": "execute_result"
    }
   ],
   "source": [
    "team_valuations[\"Year\"] = team_valuations[\"Year\"].astype(\"int\")\n",
    "add_zeroes = \"000000\"\n",
    "team_valuations[\"Valuation (in millions)\"] = team_valuations[\"Valuation (in millions)\"].map(str) + add_zeroes\n",
    "team_valuations[\"Valuation (in millions)\"] = team_valuations[\"Valuation (in millions)\"].str.replace(\".\", \"\")\n",
    "team_valuations.head(5)"
   ]
  },
  {
   "cell_type": "code",
   "execution_count": 5,
   "metadata": {},
   "outputs": [
    {
     "data": {
      "text/plain": [
       "Team                       object\n",
       "City                       object\n",
       "LAT                         int64\n",
       "LONG                        int64\n",
       "Year                        int64\n",
       "Valuation (in millions)     int64\n",
       "dtype: object"
      ]
     },
     "execution_count": 5,
     "metadata": {},
     "output_type": "execute_result"
    }
   ],
   "source": [
    "convert_dict = {\"City\": str,\n",
    "               \"Team\": str,\n",
    "               \"Valuation (in millions)\": int,\n",
    "               \"LAT\": int,\n",
    "               \"LONG\" : int\n",
    "               }\n",
    "team_valuations_ = team_valuations.copy()\n",
    "team_valuations_ = team_valuations_.astype(convert_dict)\n",
    "team_valuations_['Team'] = team_valuations_['Team'].astype(str)\n",
    "team_valuations_.dtypes"
   ]
  },
  {
   "cell_type": "code",
   "execution_count": 6,
   "metadata": {},
   "outputs": [
    {
     "data": {
      "text/html": [
       "<div>\n",
       "<style scoped>\n",
       "    .dataframe tbody tr th:only-of-type {\n",
       "        vertical-align: middle;\n",
       "    }\n",
       "\n",
       "    .dataframe tbody tr th {\n",
       "        vertical-align: top;\n",
       "    }\n",
       "\n",
       "    .dataframe thead th {\n",
       "        text-align: right;\n",
       "    }\n",
       "</style>\n",
       "<table border=\"1\" class=\"dataframe\">\n",
       "  <thead>\n",
       "    <tr style=\"text-align: right;\">\n",
       "      <th></th>\n",
       "      <th>country</th>\n",
       "      <th>continent</th>\n",
       "      <th>year</th>\n",
       "      <th>lifeExp</th>\n",
       "      <th>pop</th>\n",
       "      <th>gdpPercap</th>\n",
       "      <th>iso_alpha</th>\n",
       "      <th>iso_num</th>\n",
       "    </tr>\n",
       "  </thead>\n",
       "  <tbody>\n",
       "    <tr>\n",
       "      <th>0</th>\n",
       "      <td>Afghanistan</td>\n",
       "      <td>Asia</td>\n",
       "      <td>1952</td>\n",
       "      <td>28.801</td>\n",
       "      <td>8425333</td>\n",
       "      <td>779.445314</td>\n",
       "      <td>AFG</td>\n",
       "      <td>4</td>\n",
       "    </tr>\n",
       "    <tr>\n",
       "      <th>1</th>\n",
       "      <td>Afghanistan</td>\n",
       "      <td>Asia</td>\n",
       "      <td>1957</td>\n",
       "      <td>30.332</td>\n",
       "      <td>9240934</td>\n",
       "      <td>820.853030</td>\n",
       "      <td>AFG</td>\n",
       "      <td>4</td>\n",
       "    </tr>\n",
       "    <tr>\n",
       "      <th>2</th>\n",
       "      <td>Afghanistan</td>\n",
       "      <td>Asia</td>\n",
       "      <td>1962</td>\n",
       "      <td>31.997</td>\n",
       "      <td>10267083</td>\n",
       "      <td>853.100710</td>\n",
       "      <td>AFG</td>\n",
       "      <td>4</td>\n",
       "    </tr>\n",
       "    <tr>\n",
       "      <th>3</th>\n",
       "      <td>Afghanistan</td>\n",
       "      <td>Asia</td>\n",
       "      <td>1967</td>\n",
       "      <td>34.020</td>\n",
       "      <td>11537966</td>\n",
       "      <td>836.197138</td>\n",
       "      <td>AFG</td>\n",
       "      <td>4</td>\n",
       "    </tr>\n",
       "    <tr>\n",
       "      <th>4</th>\n",
       "      <td>Afghanistan</td>\n",
       "      <td>Asia</td>\n",
       "      <td>1972</td>\n",
       "      <td>36.088</td>\n",
       "      <td>13079460</td>\n",
       "      <td>739.981106</td>\n",
       "      <td>AFG</td>\n",
       "      <td>4</td>\n",
       "    </tr>\n",
       "  </tbody>\n",
       "</table>\n",
       "</div>"
      ],
      "text/plain": [
       "       country continent  year  lifeExp       pop   gdpPercap iso_alpha  \\\n",
       "0  Afghanistan      Asia  1952   28.801   8425333  779.445314       AFG   \n",
       "1  Afghanistan      Asia  1957   30.332   9240934  820.853030       AFG   \n",
       "2  Afghanistan      Asia  1962   31.997  10267083  853.100710       AFG   \n",
       "3  Afghanistan      Asia  1967   34.020  11537966  836.197138       AFG   \n",
       "4  Afghanistan      Asia  1972   36.088  13079460  739.981106       AFG   \n",
       "\n",
       "   iso_num  \n",
       "0        4  \n",
       "1        4  \n",
       "2        4  \n",
       "3        4  \n",
       "4        4  "
      ]
     },
     "execution_count": 6,
     "metadata": {},
     "output_type": "execute_result"
    }
   ],
   "source": [
    "#this is a test dataset, this block of code doesn't need to be read\n",
    "df = px.data.gapminder()\n",
    "df.head(5)"
   ]
  },
  {
   "cell_type": "code",
   "execution_count": 8,
   "metadata": {},
   "outputs": [
    {
     "data": {
      "application/vnd.plotly.v1+json": {
       "config": {
        "plotlyServerURL": "https://plot.ly"
       },
       "data": [
        {
         "geo": "geo",
         "hovertemplate": "<b>%{hovertext}</b><br><br>Team=New York Knicks<br>Year=2010<br>Valuation (in millions)=%{marker.size}<br>LAT=%{lat}<br>LONG=%{lon}<extra></extra>",
         "hovertext": [
          "New York Knicks"
         ],
         "lat": [
          40
         ],
         "legendgroup": "New York Knicks",
         "lon": [
          -73
         ],
         "marker": {
          "color": "blue",
          "size": [
           5860000000
          ],
          "sizemode": "area",
          "sizeref": 100000000,
          "symbol": "circle"
         },
         "mode": "markers",
         "name": "New York Knicks",
         "showlegend": true,
         "type": "scattergeo"
        },
        {
         "geo": "geo",
         "hovertemplate": "<b>%{hovertext}</b><br><br>Team=Golden State Warriors<br>Year=2010<br>Valuation (in millions)=%{marker.size}<br>LAT=%{lat}<br>LONG=%{lon}<extra></extra>",
         "hovertext": [
          "Golden State Warriors"
         ],
         "lat": [
          37
         ],
         "legendgroup": "Golden State Warriors",
         "lon": [
          -122
         ],
         "marker": {
          "color": "red",
          "size": [
           3150000000
          ],
          "sizemode": "area",
          "sizeref": 100000000,
          "symbol": "circle"
         },
         "mode": "markers",
         "name": "Golden State Warriors",
         "showlegend": true,
         "type": "scattergeo"
        },
        {
         "geo": "geo",
         "hovertemplate": "<b>%{hovertext}</b><br><br>Team=Los Angeles Lakers<br>Year=2010<br>Valuation (in millions)=%{marker.size}<br>LAT=%{lat}<br>LONG=%{lon}<extra></extra>",
         "hovertext": [
          "Los Angeles Lakers"
         ],
         "lat": [
          34
         ],
         "legendgroup": "Los Angeles Lakers",
         "lon": [
          -118
         ],
         "marker": {
          "color": "yellow",
          "size": [
           6070000000
          ],
          "sizemode": "area",
          "sizeref": 100000000,
          "symbol": "circle"
         },
         "mode": "markers",
         "name": "Los Angeles Lakers",
         "showlegend": true,
         "type": "scattergeo"
        },
        {
         "geo": "geo",
         "hovertemplate": "<b>%{hovertext}</b><br><br>Team=Brooklyn Nets<br>Year=2010<br>Valuation (in millions)=%{marker.size}<br>LAT=%{lat}<br>LONG=%{lon}<extra></extra>",
         "hovertext": [
          "Brooklyn Nets"
         ],
         "lat": [
          40
         ],
         "legendgroup": "Brooklyn Nets",
         "lon": [
          -73
         ],
         "marker": {
          "color": "blue",
          "size": [
           2690000000
          ],
          "sizemode": "area",
          "sizeref": 100000000,
          "symbol": "circle"
         },
         "mode": "markers",
         "name": "Brooklyn Nets",
         "showlegend": true,
         "type": "scattergeo"
        },
        {
         "geo": "geo",
         "hovertemplate": "<b>%{hovertext}</b><br><br>Team=Boston Celtics<br>Year=2010<br>Valuation (in millions)=%{marker.size}<br>LAT=%{lat}<br>LONG=%{lon}<extra></extra>",
         "hovertext": [
          "Boston Celtics"
         ],
         "lat": [
          42
         ],
         "legendgroup": "Boston Celtics",
         "lon": [
          -71
         ],
         "marker": {
          "color": "red",
          "size": [
           4330000000
          ],
          "sizemode": "area",
          "sizeref": 100000000,
          "symbol": "circle"
         },
         "mode": "markers",
         "name": "Boston Celtics",
         "showlegend": true,
         "type": "scattergeo"
        },
        {
         "geo": "geo",
         "hovertemplate": "<b>%{hovertext}</b><br><br>Team=Chicago Bulls<br>Year=2010<br>Valuation (in millions)=%{marker.size}<br>LAT=%{lat}<br>LONG=%{lon}<extra></extra>",
         "hovertext": [
          "Chicago Bulls"
         ],
         "lat": [
          41
         ],
         "legendgroup": "Chicago Bulls",
         "lon": [
          -87
         ],
         "marker": {
          "color": "yellow",
          "size": [
           5110000000
          ],
          "sizemode": "area",
          "sizeref": 100000000,
          "symbol": "circle"
         },
         "mode": "markers",
         "name": "Chicago Bulls",
         "showlegend": true,
         "type": "scattergeo"
        },
        {
         "geo": "geo",
         "hovertemplate": "<b>%{hovertext}</b><br><br>Team=Houston Rockets<br>Year=2010<br>Valuation (in millions)=%{marker.size}<br>LAT=%{lat}<br>LONG=%{lon}<extra></extra>",
         "hovertext": [
          "Houston Rockets"
         ],
         "lat": [
          29
         ],
         "legendgroup": "Houston Rockets",
         "lon": [
          -95
         ],
         "marker": {
          "color": "blue",
          "size": [
           4700000000
          ],
          "sizemode": "area",
          "sizeref": 100000000,
          "symbol": "circle"
         },
         "mode": "markers",
         "name": "Houston Rockets",
         "showlegend": true,
         "type": "scattergeo"
        },
        {
         "geo": "geo",
         "hovertemplate": "<b>%{hovertext}</b><br><br>Team=Los Angeles Clippers<br>Year=2010<br>Valuation (in millions)=%{marker.size}<br>LAT=%{lat}<br>LONG=%{lon}<extra></extra>",
         "hovertext": [
          "Los Angeles Clippers"
         ],
         "lat": [
          34
         ],
         "legendgroup": "Los Angeles Clippers",
         "lon": [
          -118
         ],
         "marker": {
          "color": "red",
          "size": [
           2950000000
          ],
          "sizemode": "area",
          "sizeref": 100000000,
          "symbol": "circle"
         },
         "mode": "markers",
         "name": "Los Angeles Clippers",
         "showlegend": true,
         "type": "scattergeo"
        },
        {
         "geo": "geo",
         "hovertemplate": "<b>%{hovertext}</b><br><br>Team=Dallas Mavericks<br>Year=2010<br>Valuation (in millions)=%{marker.size}<br>LAT=%{lat}<br>LONG=%{lon}<extra></extra>",
         "hovertext": [
          "Dallas Mavericks"
         ],
         "lat": [
          32
         ],
         "legendgroup": "Dallas Mavericks",
         "lon": [
          -96
         ],
         "marker": {
          "color": "yellow",
          "size": [
           4460000000
          ],
          "sizemode": "area",
          "sizeref": 100000000,
          "symbol": "circle"
         },
         "mode": "markers",
         "name": "Dallas Mavericks",
         "showlegend": true,
         "type": "scattergeo"
        },
        {
         "geo": "geo",
         "hovertemplate": "<b>%{hovertext}</b><br><br>Team=Toronto Raptors<br>Year=2010<br>Valuation (in millions)=%{marker.size}<br>LAT=%{lat}<br>LONG=%{lon}<extra></extra>",
         "hovertext": [
          "Toronto Raptors"
         ],
         "lat": [
          43
         ],
         "legendgroup": "Toronto Raptors",
         "lon": [
          -79
         ],
         "marker": {
          "color": "blue",
          "size": [
           3860000000
          ],
          "sizemode": "area",
          "sizeref": 100000000,
          "symbol": "circle"
         },
         "mode": "markers",
         "name": "Toronto Raptors",
         "showlegend": true,
         "type": "scattergeo"
        },
        {
         "geo": "geo",
         "hovertemplate": "<b>%{hovertext}</b><br><br>Team=Philadelphia 76ers<br>Year=2010<br>Valuation (in millions)=%{marker.size}<br>LAT=%{lat}<br>LONG=%{lon}<extra></extra>",
         "hovertext": [
          "Philadelphia 76ers"
         ],
         "lat": [
          39
         ],
         "legendgroup": "Philadelphia 76ers",
         "lon": [
          -75
         ],
         "marker": {
          "color": "red",
          "size": [
           3440000000
          ],
          "sizemode": "area",
          "sizeref": 100000000,
          "symbol": "circle"
         },
         "mode": "markers",
         "name": "Philadelphia 76ers",
         "showlegend": true,
         "type": "scattergeo"
        },
        {
         "geo": "geo",
         "hovertemplate": "<b>%{hovertext}</b><br><br>Team=Miami Heat<br>Year=2010<br>Valuation (in millions)=%{marker.size}<br>LAT=%{lat}<br>LONG=%{lon}<extra></extra>",
         "hovertext": [
          "Miami Heat"
         ],
         "lat": [
          25
         ],
         "legendgroup": "Miami Heat",
         "lon": [
          -80
         ],
         "marker": {
          "color": "yellow",
          "size": [
           3640000000
          ],
          "sizemode": "area",
          "sizeref": 100000000,
          "symbol": "circle"
         },
         "mode": "markers",
         "name": "Miami Heat",
         "showlegend": true,
         "type": "scattergeo"
        },
        {
         "geo": "geo",
         "hovertemplate": "<b>%{hovertext}</b><br><br>Team=San Antonio Spurs<br>Year=2010<br>Valuation (in millions)=%{marker.size}<br>LAT=%{lat}<br>LONG=%{lon}<extra></extra>",
         "hovertext": [
          "San Antonio Spurs"
         ],
         "lat": [
          29
         ],
         "legendgroup": "San Antonio Spurs",
         "lon": [
          -98
         ],
         "marker": {
          "color": "blue",
          "size": [
           3980000000
          ],
          "sizemode": "area",
          "sizeref": 100000000,
          "symbol": "circle"
         },
         "mode": "markers",
         "name": "San Antonio Spurs",
         "showlegend": true,
         "type": "scattergeo"
        },
        {
         "geo": "geo",
         "hovertemplate": "<b>%{hovertext}</b><br><br>Team=Washington Wizards<br>Year=2010<br>Valuation (in millions)=%{marker.size}<br>LAT=%{lat}<br>LONG=%{lon}<extra></extra>",
         "hovertext": [
          "Washington Wizards"
         ],
         "lat": [
          38
         ],
         "legendgroup": "Washington Wizards",
         "lon": [
          -77
         ],
         "marker": {
          "color": "red",
          "size": [
           3130000000
          ],
          "sizemode": "area",
          "sizeref": 100000000,
          "symbol": "circle"
         },
         "mode": "markers",
         "name": "Washington Wizards",
         "showlegend": true,
         "type": "scattergeo"
        },
        {
         "geo": "geo",
         "hovertemplate": "<b>%{hovertext}</b><br><br>Team=Portland Trail Blazers<br>Year=2010<br>Valuation (in millions)=%{marker.size}<br>LAT=%{lat}<br>LONG=%{lon}<extra></extra>",
         "hovertext": [
          "Portland Trail Blazers"
         ],
         "lat": [
          45
         ],
         "legendgroup": "Portland Trail Blazers",
         "lon": [
          -122
         ],
         "marker": {
          "color": "yellow",
          "size": [
           3380000000
          ],
          "sizemode": "area",
          "sizeref": 100000000,
          "symbol": "circle"
         },
         "mode": "markers",
         "name": "Portland Trail Blazers",
         "showlegend": true,
         "type": "scattergeo"
        },
        {
         "geo": "geo",
         "hovertemplate": "<b>%{hovertext}</b><br><br>Team=Milwaukee Bucks<br>Year=2010<br>Valuation (in millions)=%{marker.size}<br>LAT=%{lat}<br>LONG=%{lon}<extra></extra>",
         "hovertext": [
          "Milwaukee Bucks"
         ],
         "lat": [
          43
         ],
         "legendgroup": "Milwaukee Bucks",
         "lon": [
          -87
         ],
         "marker": {
          "color": "blue",
          "size": [
           2540000000
          ],
          "sizemode": "area",
          "sizeref": 100000000,
          "symbol": "circle"
         },
         "mode": "markers",
         "name": "Milwaukee Bucks",
         "showlegend": true,
         "type": "scattergeo"
        },
        {
         "geo": "geo",
         "hovertemplate": "<b>%{hovertext}</b><br><br>Team=Sacramento Kings<br>Year=2010<br>Valuation (in millions)=%{marker.size}<br>LAT=%{lat}<br>LONG=%{lon}<extra></extra>",
         "hovertext": [
          "Sacramento Kings"
         ],
         "lat": [
          38
         ],
         "legendgroup": "Sacramento Kings",
         "lon": [
          -121
         ],
         "marker": {
          "color": "red",
          "size": [
           3050000000
          ],
          "sizemode": "area",
          "sizeref": 100000000,
          "symbol": "circle"
         },
         "mode": "markers",
         "name": "Sacramento Kings",
         "showlegend": true,
         "type": "scattergeo"
        },
        {
         "geo": "geo",
         "hovertemplate": "<b>%{hovertext}</b><br><br>Team=Denver Nuggets<br>Year=2010<br>Valuation (in millions)=%{marker.size}<br>LAT=%{lat}<br>LONG=%{lon}<extra></extra>",
         "hovertext": [
          "Denver Nuggets"
         ],
         "lat": [
          39
         ],
         "legendgroup": "Denver Nuggets",
         "lon": [
          -104
         ],
         "marker": {
          "color": "yellow",
          "size": [
           3210000000
          ],
          "sizemode": "area",
          "sizeref": 100000000,
          "symbol": "circle"
         },
         "mode": "markers",
         "name": "Denver Nuggets",
         "showlegend": true,
         "type": "scattergeo"
        },
        {
         "geo": "geo",
         "hovertemplate": "<b>%{hovertext}</b><br><br>Team=Cleveland Cavaliers<br>Year=2010<br>Valuation (in millions)=%{marker.size}<br>LAT=%{lat}<br>LONG=%{lon}<extra></extra>",
         "hovertext": [
          "Cleveland Cavaliers"
         ],
         "lat": [
          41
         ],
         "legendgroup": "Cleveland Cavaliers",
         "lon": [
          -81
         ],
         "marker": {
          "color": "blue",
          "size": [
           4760000000
          ],
          "sizemode": "area",
          "sizeref": 100000000,
          "symbol": "circle"
         },
         "mode": "markers",
         "name": "Cleveland Cavaliers",
         "showlegend": true,
         "type": "scattergeo"
        },
        {
         "geo": "geo",
         "hovertemplate": "<b>%{hovertext}</b><br><br>Team=Detroit Pistons<br>Year=2010<br>Valuation (in millions)=%{marker.size}<br>LAT=%{lat}<br>LONG=%{lon}<extra></extra>",
         "hovertext": [
          "Detroit Pistons"
         ],
         "lat": [
          42
         ],
         "legendgroup": "Detroit Pistons",
         "lon": [
          -83
         ],
         "marker": {
          "color": "red",
          "size": [
           4790000000
          ],
          "sizemode": "area",
          "sizeref": 100000000,
          "symbol": "circle"
         },
         "mode": "markers",
         "name": "Detroit Pistons",
         "showlegend": true,
         "type": "scattergeo"
        },
        {
         "geo": "geo",
         "hovertemplate": "<b>%{hovertext}</b><br><br>Team=Utah Jazz<br>Year=2010<br>Valuation (in millions)=%{marker.size}<br>LAT=%{lat}<br>LONG=%{lon}<extra></extra>",
         "hovertext": [
          "Utah Jazz"
         ],
         "lat": [
          40
         ],
         "legendgroup": "Utah Jazz",
         "lon": [
          -111
         ],
         "marker": {
          "color": "yellow",
          "size": [
           3430000000
          ],
          "sizemode": "area",
          "sizeref": 100000000,
          "symbol": "circle"
         },
         "mode": "markers",
         "name": "Utah Jazz",
         "showlegend": true,
         "type": "scattergeo"
        },
        {
         "geo": "geo",
         "hovertemplate": "<b>%{hovertext}</b><br><br>Team=Oklahoma City Thunder<br>Year=2010<br>Valuation (in millions)=%{marker.size}<br>LAT=%{lat}<br>LONG=%{lon}<extra></extra>",
         "hovertext": [
          "Oklahoma City Thunder"
         ],
         "lat": [
          35
         ],
         "legendgroup": "Oklahoma City Thunder",
         "lon": [
          -97
         ],
         "marker": {
          "color": "blue",
          "size": [
           3100000000
          ],
          "sizemode": "area",
          "sizeref": 100000000,
          "symbol": "circle"
         },
         "mode": "markers",
         "name": "Oklahoma City Thunder",
         "showlegend": true,
         "type": "scattergeo"
        },
        {
         "geo": "geo",
         "hovertemplate": "<b>%{hovertext}</b><br><br>Team=Phoenix Suns<br>Year=2010<br>Valuation (in millions)=%{marker.size}<br>LAT=%{lat}<br>LONG=%{lon}<extra></extra>",
         "hovertext": [
          "Phoenix Suns"
         ],
         "lat": [
          33
         ],
         "legendgroup": "Phoenix Suns",
         "lon": [
          -112
         ],
         "marker": {
          "color": "red",
          "size": [
           4290000000
          ],
          "sizemode": "area",
          "sizeref": 100000000,
          "symbol": "circle"
         },
         "mode": "markers",
         "name": "Phoenix Suns",
         "showlegend": true,
         "type": "scattergeo"
        },
        {
         "geo": "geo",
         "hovertemplate": "<b>%{hovertext}</b><br><br>Team=Indiana Pacers<br>Year=2010<br>Valuation (in millions)=%{marker.size}<br>LAT=%{lat}<br>LONG=%{lon}<extra></extra>",
         "hovertext": [
          "Indiana Pacers"
         ],
         "lat": [
          39
         ],
         "legendgroup": "Indiana Pacers",
         "lon": [
          -86
         ],
         "marker": {
          "color": "yellow",
          "size": [
           2810000000
          ],
          "sizemode": "area",
          "sizeref": 100000000,
          "symbol": "circle"
         },
         "mode": "markers",
         "name": "Indiana Pacers",
         "showlegend": true,
         "type": "scattergeo"
        },
        {
         "geo": "geo",
         "hovertemplate": "<b>%{hovertext}</b><br><br>Team=Atlanta Hawks<br>Year=2010<br>Valuation (in millions)=%{marker.size}<br>LAT=%{lat}<br>LONG=%{lon}<extra></extra>",
         "hovertext": [
          "Atlanta Hawks"
         ],
         "lat": [
          33
         ],
         "legendgroup": "Atlanta Hawks",
         "lon": [
          -84
         ],
         "marker": {
          "color": "blue",
          "size": [
           3060000000
          ],
          "sizemode": "area",
          "sizeref": 100000000,
          "symbol": "circle"
         },
         "mode": "markers",
         "name": "Atlanta Hawks",
         "showlegend": true,
         "type": "scattergeo"
        },
        {
         "geo": "geo",
         "hovertemplate": "<b>%{hovertext}</b><br><br>Team=Orlando Magic<br>Year=2010<br>Valuation (in millions)=%{marker.size}<br>LAT=%{lat}<br>LONG=%{lon}<extra></extra>",
         "hovertext": [
          "Orlando Magic"
         ],
         "lat": [
          28
         ],
         "legendgroup": "Orlando Magic",
         "lon": [
          -81
         ],
         "marker": {
          "color": "red",
          "size": [
           3610000000
          ],
          "sizemode": "area",
          "sizeref": 100000000,
          "symbol": "circle"
         },
         "mode": "markers",
         "name": "Orlando Magic",
         "showlegend": true,
         "type": "scattergeo"
        },
        {
         "geo": "geo",
         "hovertemplate": "<b>%{hovertext}</b><br><br>Team=Charlotte Hornets<br>Year=2010<br>Valuation (in millions)=%{marker.size}<br>LAT=%{lat}<br>LONG=%{lon}<extra></extra>",
         "hovertext": [
          "Charlotte Hornets"
         ],
         "lat": [
          35
         ],
         "legendgroup": "Charlotte Hornets",
         "lon": [
          -80
         ],
         "marker": {
          "color": "yellow",
          "size": [
           2780000000
          ],
          "sizemode": "area",
          "sizeref": 100000000,
          "symbol": "circle"
         },
         "mode": "markers",
         "name": "Charlotte Hornets",
         "showlegend": true,
         "type": "scattergeo"
        },
        {
         "geo": "geo",
         "hovertemplate": "<b>%{hovertext}</b><br><br>Team=Minnesota Timberwolves<br>Year=2010<br>Valuation (in millions)=%{marker.size}<br>LAT=%{lat}<br>LONG=%{lon}<extra></extra>",
         "hovertext": [
          "Minnesota Timberwolves"
         ],
         "lat": [
          44
         ],
         "legendgroup": "Minnesota Timberwolves",
         "lon": [
          -93
         ],
         "marker": {
          "color": "blue",
          "size": [
           2680000000
          ],
          "sizemode": "area",
          "sizeref": 100000000,
          "symbol": "circle"
         },
         "mode": "markers",
         "name": "Minnesota Timberwolves",
         "showlegend": true,
         "type": "scattergeo"
        },
        {
         "geo": "geo",
         "hovertemplate": "<b>%{hovertext}</b><br><br>Team=Memphis Grizzlies<br>Year=2010<br>Valuation (in millions)=%{marker.size}<br>LAT=%{lat}<br>LONG=%{lon}<extra></extra>",
         "hovertext": [
          "Memphis Grizzlies"
         ],
         "lat": [
          35
         ],
         "legendgroup": "Memphis Grizzlies",
         "lon": [
          -90
         ],
         "marker": {
          "color": "red",
          "size": [
           2570000000
          ],
          "sizemode": "area",
          "sizeref": 100000000,
          "symbol": "circle"
         },
         "mode": "markers",
         "name": "Memphis Grizzlies",
         "showlegend": true,
         "type": "scattergeo"
        },
        {
         "geo": "geo",
         "hovertemplate": "<b>%{hovertext}</b><br><br>Team=New Orleans Pelicans<br>Year=2010<br>Valuation (in millions)=%{marker.size}<br>LAT=%{lat}<br>LONG=%{lon}<extra></extra>",
         "hovertext": [
          "New Orleans Pelicans"
         ],
         "lat": [
          29
         ],
         "legendgroup": "New Orleans Pelicans",
         "lon": [
          -90
         ],
         "marker": {
          "color": "yellow",
          "size": [
           2670000000
          ],
          "sizemode": "area",
          "sizeref": 100000000,
          "symbol": "circle"
         },
         "mode": "markers",
         "name": "New Orleans Pelicans",
         "showlegend": true,
         "type": "scattergeo"
        }
       ],
       "frames": [
        {
         "data": [
          {
           "geo": "geo",
           "hovertemplate": "<b>%{hovertext}</b><br><br>Team=New York Knicks<br>Year=2010<br>Valuation (in millions)=%{marker.size}<br>LAT=%{lat}<br>LONG=%{lon}<extra></extra>",
           "hovertext": [
            "New York Knicks"
           ],
           "lat": [
            40
           ],
           "legendgroup": "New York Knicks",
           "lon": [
            -73
           ],
           "marker": {
            "color": "blue",
            "size": [
             5860000000
            ],
            "sizemode": "area",
            "sizeref": 100000000,
            "symbol": "circle"
           },
           "mode": "markers",
           "name": "New York Knicks",
           "showlegend": true,
           "type": "scattergeo"
          },
          {
           "geo": "geo",
           "hovertemplate": "<b>%{hovertext}</b><br><br>Team=Golden State Warriors<br>Year=2010<br>Valuation (in millions)=%{marker.size}<br>LAT=%{lat}<br>LONG=%{lon}<extra></extra>",
           "hovertext": [
            "Golden State Warriors"
           ],
           "lat": [
            37
           ],
           "legendgroup": "Golden State Warriors",
           "lon": [
            -122
           ],
           "marker": {
            "color": "red",
            "size": [
             3150000000
            ],
            "sizemode": "area",
            "sizeref": 100000000,
            "symbol": "circle"
           },
           "mode": "markers",
           "name": "Golden State Warriors",
           "showlegend": true,
           "type": "scattergeo"
          },
          {
           "geo": "geo",
           "hovertemplate": "<b>%{hovertext}</b><br><br>Team=Los Angeles Lakers<br>Year=2010<br>Valuation (in millions)=%{marker.size}<br>LAT=%{lat}<br>LONG=%{lon}<extra></extra>",
           "hovertext": [
            "Los Angeles Lakers"
           ],
           "lat": [
            34
           ],
           "legendgroup": "Los Angeles Lakers",
           "lon": [
            -118
           ],
           "marker": {
            "color": "yellow",
            "size": [
             6070000000
            ],
            "sizemode": "area",
            "sizeref": 100000000,
            "symbol": "circle"
           },
           "mode": "markers",
           "name": "Los Angeles Lakers",
           "showlegend": true,
           "type": "scattergeo"
          },
          {
           "geo": "geo",
           "hovertemplate": "<b>%{hovertext}</b><br><br>Team=Brooklyn Nets<br>Year=2010<br>Valuation (in millions)=%{marker.size}<br>LAT=%{lat}<br>LONG=%{lon}<extra></extra>",
           "hovertext": [
            "Brooklyn Nets"
           ],
           "lat": [
            40
           ],
           "legendgroup": "Brooklyn Nets",
           "lon": [
            -73
           ],
           "marker": {
            "color": "blue",
            "size": [
             2690000000
            ],
            "sizemode": "area",
            "sizeref": 100000000,
            "symbol": "circle"
           },
           "mode": "markers",
           "name": "Brooklyn Nets",
           "showlegend": true,
           "type": "scattergeo"
          },
          {
           "geo": "geo",
           "hovertemplate": "<b>%{hovertext}</b><br><br>Team=Boston Celtics<br>Year=2010<br>Valuation (in millions)=%{marker.size}<br>LAT=%{lat}<br>LONG=%{lon}<extra></extra>",
           "hovertext": [
            "Boston Celtics"
           ],
           "lat": [
            42
           ],
           "legendgroup": "Boston Celtics",
           "lon": [
            -71
           ],
           "marker": {
            "color": "red",
            "size": [
             4330000000
            ],
            "sizemode": "area",
            "sizeref": 100000000,
            "symbol": "circle"
           },
           "mode": "markers",
           "name": "Boston Celtics",
           "showlegend": true,
           "type": "scattergeo"
          },
          {
           "geo": "geo",
           "hovertemplate": "<b>%{hovertext}</b><br><br>Team=Chicago Bulls<br>Year=2010<br>Valuation (in millions)=%{marker.size}<br>LAT=%{lat}<br>LONG=%{lon}<extra></extra>",
           "hovertext": [
            "Chicago Bulls"
           ],
           "lat": [
            41
           ],
           "legendgroup": "Chicago Bulls",
           "lon": [
            -87
           ],
           "marker": {
            "color": "yellow",
            "size": [
             5110000000
            ],
            "sizemode": "area",
            "sizeref": 100000000,
            "symbol": "circle"
           },
           "mode": "markers",
           "name": "Chicago Bulls",
           "showlegend": true,
           "type": "scattergeo"
          },
          {
           "geo": "geo",
           "hovertemplate": "<b>%{hovertext}</b><br><br>Team=Houston Rockets<br>Year=2010<br>Valuation (in millions)=%{marker.size}<br>LAT=%{lat}<br>LONG=%{lon}<extra></extra>",
           "hovertext": [
            "Houston Rockets"
           ],
           "lat": [
            29
           ],
           "legendgroup": "Houston Rockets",
           "lon": [
            -95
           ],
           "marker": {
            "color": "blue",
            "size": [
             4700000000
            ],
            "sizemode": "area",
            "sizeref": 100000000,
            "symbol": "circle"
           },
           "mode": "markers",
           "name": "Houston Rockets",
           "showlegend": true,
           "type": "scattergeo"
          },
          {
           "geo": "geo",
           "hovertemplate": "<b>%{hovertext}</b><br><br>Team=Los Angeles Clippers<br>Year=2010<br>Valuation (in millions)=%{marker.size}<br>LAT=%{lat}<br>LONG=%{lon}<extra></extra>",
           "hovertext": [
            "Los Angeles Clippers"
           ],
           "lat": [
            34
           ],
           "legendgroup": "Los Angeles Clippers",
           "lon": [
            -118
           ],
           "marker": {
            "color": "red",
            "size": [
             2950000000
            ],
            "sizemode": "area",
            "sizeref": 100000000,
            "symbol": "circle"
           },
           "mode": "markers",
           "name": "Los Angeles Clippers",
           "showlegend": true,
           "type": "scattergeo"
          },
          {
           "geo": "geo",
           "hovertemplate": "<b>%{hovertext}</b><br><br>Team=Dallas Mavericks<br>Year=2010<br>Valuation (in millions)=%{marker.size}<br>LAT=%{lat}<br>LONG=%{lon}<extra></extra>",
           "hovertext": [
            "Dallas Mavericks"
           ],
           "lat": [
            32
           ],
           "legendgroup": "Dallas Mavericks",
           "lon": [
            -96
           ],
           "marker": {
            "color": "yellow",
            "size": [
             4460000000
            ],
            "sizemode": "area",
            "sizeref": 100000000,
            "symbol": "circle"
           },
           "mode": "markers",
           "name": "Dallas Mavericks",
           "showlegend": true,
           "type": "scattergeo"
          },
          {
           "geo": "geo",
           "hovertemplate": "<b>%{hovertext}</b><br><br>Team=Toronto Raptors<br>Year=2010<br>Valuation (in millions)=%{marker.size}<br>LAT=%{lat}<br>LONG=%{lon}<extra></extra>",
           "hovertext": [
            "Toronto Raptors"
           ],
           "lat": [
            43
           ],
           "legendgroup": "Toronto Raptors",
           "lon": [
            -79
           ],
           "marker": {
            "color": "blue",
            "size": [
             3860000000
            ],
            "sizemode": "area",
            "sizeref": 100000000,
            "symbol": "circle"
           },
           "mode": "markers",
           "name": "Toronto Raptors",
           "showlegend": true,
           "type": "scattergeo"
          },
          {
           "geo": "geo",
           "hovertemplate": "<b>%{hovertext}</b><br><br>Team=Philadelphia 76ers<br>Year=2010<br>Valuation (in millions)=%{marker.size}<br>LAT=%{lat}<br>LONG=%{lon}<extra></extra>",
           "hovertext": [
            "Philadelphia 76ers"
           ],
           "lat": [
            39
           ],
           "legendgroup": "Philadelphia 76ers",
           "lon": [
            -75
           ],
           "marker": {
            "color": "red",
            "size": [
             3440000000
            ],
            "sizemode": "area",
            "sizeref": 100000000,
            "symbol": "circle"
           },
           "mode": "markers",
           "name": "Philadelphia 76ers",
           "showlegend": true,
           "type": "scattergeo"
          },
          {
           "geo": "geo",
           "hovertemplate": "<b>%{hovertext}</b><br><br>Team=Miami Heat<br>Year=2010<br>Valuation (in millions)=%{marker.size}<br>LAT=%{lat}<br>LONG=%{lon}<extra></extra>",
           "hovertext": [
            "Miami Heat"
           ],
           "lat": [
            25
           ],
           "legendgroup": "Miami Heat",
           "lon": [
            -80
           ],
           "marker": {
            "color": "yellow",
            "size": [
             3640000000
            ],
            "sizemode": "area",
            "sizeref": 100000000,
            "symbol": "circle"
           },
           "mode": "markers",
           "name": "Miami Heat",
           "showlegend": true,
           "type": "scattergeo"
          },
          {
           "geo": "geo",
           "hovertemplate": "<b>%{hovertext}</b><br><br>Team=San Antonio Spurs<br>Year=2010<br>Valuation (in millions)=%{marker.size}<br>LAT=%{lat}<br>LONG=%{lon}<extra></extra>",
           "hovertext": [
            "San Antonio Spurs"
           ],
           "lat": [
            29
           ],
           "legendgroup": "San Antonio Spurs",
           "lon": [
            -98
           ],
           "marker": {
            "color": "blue",
            "size": [
             3980000000
            ],
            "sizemode": "area",
            "sizeref": 100000000,
            "symbol": "circle"
           },
           "mode": "markers",
           "name": "San Antonio Spurs",
           "showlegend": true,
           "type": "scattergeo"
          },
          {
           "geo": "geo",
           "hovertemplate": "<b>%{hovertext}</b><br><br>Team=Washington Wizards<br>Year=2010<br>Valuation (in millions)=%{marker.size}<br>LAT=%{lat}<br>LONG=%{lon}<extra></extra>",
           "hovertext": [
            "Washington Wizards"
           ],
           "lat": [
            38
           ],
           "legendgroup": "Washington Wizards",
           "lon": [
            -77
           ],
           "marker": {
            "color": "red",
            "size": [
             3130000000
            ],
            "sizemode": "area",
            "sizeref": 100000000,
            "symbol": "circle"
           },
           "mode": "markers",
           "name": "Washington Wizards",
           "showlegend": true,
           "type": "scattergeo"
          },
          {
           "geo": "geo",
           "hovertemplate": "<b>%{hovertext}</b><br><br>Team=Portland Trail Blazers<br>Year=2010<br>Valuation (in millions)=%{marker.size}<br>LAT=%{lat}<br>LONG=%{lon}<extra></extra>",
           "hovertext": [
            "Portland Trail Blazers"
           ],
           "lat": [
            45
           ],
           "legendgroup": "Portland Trail Blazers",
           "lon": [
            -122
           ],
           "marker": {
            "color": "yellow",
            "size": [
             3380000000
            ],
            "sizemode": "area",
            "sizeref": 100000000,
            "symbol": "circle"
           },
           "mode": "markers",
           "name": "Portland Trail Blazers",
           "showlegend": true,
           "type": "scattergeo"
          },
          {
           "geo": "geo",
           "hovertemplate": "<b>%{hovertext}</b><br><br>Team=Milwaukee Bucks<br>Year=2010<br>Valuation (in millions)=%{marker.size}<br>LAT=%{lat}<br>LONG=%{lon}<extra></extra>",
           "hovertext": [
            "Milwaukee Bucks"
           ],
           "lat": [
            43
           ],
           "legendgroup": "Milwaukee Bucks",
           "lon": [
            -87
           ],
           "marker": {
            "color": "blue",
            "size": [
             2540000000
            ],
            "sizemode": "area",
            "sizeref": 100000000,
            "symbol": "circle"
           },
           "mode": "markers",
           "name": "Milwaukee Bucks",
           "showlegend": true,
           "type": "scattergeo"
          },
          {
           "geo": "geo",
           "hovertemplate": "<b>%{hovertext}</b><br><br>Team=Sacramento Kings<br>Year=2010<br>Valuation (in millions)=%{marker.size}<br>LAT=%{lat}<br>LONG=%{lon}<extra></extra>",
           "hovertext": [
            "Sacramento Kings"
           ],
           "lat": [
            38
           ],
           "legendgroup": "Sacramento Kings",
           "lon": [
            -121
           ],
           "marker": {
            "color": "red",
            "size": [
             3050000000
            ],
            "sizemode": "area",
            "sizeref": 100000000,
            "symbol": "circle"
           },
           "mode": "markers",
           "name": "Sacramento Kings",
           "showlegend": true,
           "type": "scattergeo"
          },
          {
           "geo": "geo",
           "hovertemplate": "<b>%{hovertext}</b><br><br>Team=Denver Nuggets<br>Year=2010<br>Valuation (in millions)=%{marker.size}<br>LAT=%{lat}<br>LONG=%{lon}<extra></extra>",
           "hovertext": [
            "Denver Nuggets"
           ],
           "lat": [
            39
           ],
           "legendgroup": "Denver Nuggets",
           "lon": [
            -104
           ],
           "marker": {
            "color": "yellow",
            "size": [
             3210000000
            ],
            "sizemode": "area",
            "sizeref": 100000000,
            "symbol": "circle"
           },
           "mode": "markers",
           "name": "Denver Nuggets",
           "showlegend": true,
           "type": "scattergeo"
          },
          {
           "geo": "geo",
           "hovertemplate": "<b>%{hovertext}</b><br><br>Team=Cleveland Cavaliers<br>Year=2010<br>Valuation (in millions)=%{marker.size}<br>LAT=%{lat}<br>LONG=%{lon}<extra></extra>",
           "hovertext": [
            "Cleveland Cavaliers"
           ],
           "lat": [
            41
           ],
           "legendgroup": "Cleveland Cavaliers",
           "lon": [
            -81
           ],
           "marker": {
            "color": "blue",
            "size": [
             4760000000
            ],
            "sizemode": "area",
            "sizeref": 100000000,
            "symbol": "circle"
           },
           "mode": "markers",
           "name": "Cleveland Cavaliers",
           "showlegend": true,
           "type": "scattergeo"
          },
          {
           "geo": "geo",
           "hovertemplate": "<b>%{hovertext}</b><br><br>Team=Detroit Pistons<br>Year=2010<br>Valuation (in millions)=%{marker.size}<br>LAT=%{lat}<br>LONG=%{lon}<extra></extra>",
           "hovertext": [
            "Detroit Pistons"
           ],
           "lat": [
            42
           ],
           "legendgroup": "Detroit Pistons",
           "lon": [
            -83
           ],
           "marker": {
            "color": "red",
            "size": [
             4790000000
            ],
            "sizemode": "area",
            "sizeref": 100000000,
            "symbol": "circle"
           },
           "mode": "markers",
           "name": "Detroit Pistons",
           "showlegend": true,
           "type": "scattergeo"
          },
          {
           "geo": "geo",
           "hovertemplate": "<b>%{hovertext}</b><br><br>Team=Utah Jazz<br>Year=2010<br>Valuation (in millions)=%{marker.size}<br>LAT=%{lat}<br>LONG=%{lon}<extra></extra>",
           "hovertext": [
            "Utah Jazz"
           ],
           "lat": [
            40
           ],
           "legendgroup": "Utah Jazz",
           "lon": [
            -111
           ],
           "marker": {
            "color": "yellow",
            "size": [
             3430000000
            ],
            "sizemode": "area",
            "sizeref": 100000000,
            "symbol": "circle"
           },
           "mode": "markers",
           "name": "Utah Jazz",
           "showlegend": true,
           "type": "scattergeo"
          },
          {
           "geo": "geo",
           "hovertemplate": "<b>%{hovertext}</b><br><br>Team=Oklahoma City Thunder<br>Year=2010<br>Valuation (in millions)=%{marker.size}<br>LAT=%{lat}<br>LONG=%{lon}<extra></extra>",
           "hovertext": [
            "Oklahoma City Thunder"
           ],
           "lat": [
            35
           ],
           "legendgroup": "Oklahoma City Thunder",
           "lon": [
            -97
           ],
           "marker": {
            "color": "blue",
            "size": [
             3100000000
            ],
            "sizemode": "area",
            "sizeref": 100000000,
            "symbol": "circle"
           },
           "mode": "markers",
           "name": "Oklahoma City Thunder",
           "showlegend": true,
           "type": "scattergeo"
          },
          {
           "geo": "geo",
           "hovertemplate": "<b>%{hovertext}</b><br><br>Team=Phoenix Suns<br>Year=2010<br>Valuation (in millions)=%{marker.size}<br>LAT=%{lat}<br>LONG=%{lon}<extra></extra>",
           "hovertext": [
            "Phoenix Suns"
           ],
           "lat": [
            33
           ],
           "legendgroup": "Phoenix Suns",
           "lon": [
            -112
           ],
           "marker": {
            "color": "red",
            "size": [
             4290000000
            ],
            "sizemode": "area",
            "sizeref": 100000000,
            "symbol": "circle"
           },
           "mode": "markers",
           "name": "Phoenix Suns",
           "showlegend": true,
           "type": "scattergeo"
          },
          {
           "geo": "geo",
           "hovertemplate": "<b>%{hovertext}</b><br><br>Team=Indiana Pacers<br>Year=2010<br>Valuation (in millions)=%{marker.size}<br>LAT=%{lat}<br>LONG=%{lon}<extra></extra>",
           "hovertext": [
            "Indiana Pacers"
           ],
           "lat": [
            39
           ],
           "legendgroup": "Indiana Pacers",
           "lon": [
            -86
           ],
           "marker": {
            "color": "yellow",
            "size": [
             2810000000
            ],
            "sizemode": "area",
            "sizeref": 100000000,
            "symbol": "circle"
           },
           "mode": "markers",
           "name": "Indiana Pacers",
           "showlegend": true,
           "type": "scattergeo"
          },
          {
           "geo": "geo",
           "hovertemplate": "<b>%{hovertext}</b><br><br>Team=Atlanta Hawks<br>Year=2010<br>Valuation (in millions)=%{marker.size}<br>LAT=%{lat}<br>LONG=%{lon}<extra></extra>",
           "hovertext": [
            "Atlanta Hawks"
           ],
           "lat": [
            33
           ],
           "legendgroup": "Atlanta Hawks",
           "lon": [
            -84
           ],
           "marker": {
            "color": "blue",
            "size": [
             3060000000
            ],
            "sizemode": "area",
            "sizeref": 100000000,
            "symbol": "circle"
           },
           "mode": "markers",
           "name": "Atlanta Hawks",
           "showlegend": true,
           "type": "scattergeo"
          },
          {
           "geo": "geo",
           "hovertemplate": "<b>%{hovertext}</b><br><br>Team=Orlando Magic<br>Year=2010<br>Valuation (in millions)=%{marker.size}<br>LAT=%{lat}<br>LONG=%{lon}<extra></extra>",
           "hovertext": [
            "Orlando Magic"
           ],
           "lat": [
            28
           ],
           "legendgroup": "Orlando Magic",
           "lon": [
            -81
           ],
           "marker": {
            "color": "red",
            "size": [
             3610000000
            ],
            "sizemode": "area",
            "sizeref": 100000000,
            "symbol": "circle"
           },
           "mode": "markers",
           "name": "Orlando Magic",
           "showlegend": true,
           "type": "scattergeo"
          },
          {
           "geo": "geo",
           "hovertemplate": "<b>%{hovertext}</b><br><br>Team=Charlotte Hornets<br>Year=2010<br>Valuation (in millions)=%{marker.size}<br>LAT=%{lat}<br>LONG=%{lon}<extra></extra>",
           "hovertext": [
            "Charlotte Hornets"
           ],
           "lat": [
            35
           ],
           "legendgroup": "Charlotte Hornets",
           "lon": [
            -80
           ],
           "marker": {
            "color": "yellow",
            "size": [
             2780000000
            ],
            "sizemode": "area",
            "sizeref": 100000000,
            "symbol": "circle"
           },
           "mode": "markers",
           "name": "Charlotte Hornets",
           "showlegend": true,
           "type": "scattergeo"
          },
          {
           "geo": "geo",
           "hovertemplate": "<b>%{hovertext}</b><br><br>Team=Minnesota Timberwolves<br>Year=2010<br>Valuation (in millions)=%{marker.size}<br>LAT=%{lat}<br>LONG=%{lon}<extra></extra>",
           "hovertext": [
            "Minnesota Timberwolves"
           ],
           "lat": [
            44
           ],
           "legendgroup": "Minnesota Timberwolves",
           "lon": [
            -93
           ],
           "marker": {
            "color": "blue",
            "size": [
             2680000000
            ],
            "sizemode": "area",
            "sizeref": 100000000,
            "symbol": "circle"
           },
           "mode": "markers",
           "name": "Minnesota Timberwolves",
           "showlegend": true,
           "type": "scattergeo"
          },
          {
           "geo": "geo",
           "hovertemplate": "<b>%{hovertext}</b><br><br>Team=Memphis Grizzlies<br>Year=2010<br>Valuation (in millions)=%{marker.size}<br>LAT=%{lat}<br>LONG=%{lon}<extra></extra>",
           "hovertext": [
            "Memphis Grizzlies"
           ],
           "lat": [
            35
           ],
           "legendgroup": "Memphis Grizzlies",
           "lon": [
            -90
           ],
           "marker": {
            "color": "red",
            "size": [
             2570000000
            ],
            "sizemode": "area",
            "sizeref": 100000000,
            "symbol": "circle"
           },
           "mode": "markers",
           "name": "Memphis Grizzlies",
           "showlegend": true,
           "type": "scattergeo"
          },
          {
           "geo": "geo",
           "hovertemplate": "<b>%{hovertext}</b><br><br>Team=New Orleans Pelicans<br>Year=2010<br>Valuation (in millions)=%{marker.size}<br>LAT=%{lat}<br>LONG=%{lon}<extra></extra>",
           "hovertext": [
            "New Orleans Pelicans"
           ],
           "lat": [
            29
           ],
           "legendgroup": "New Orleans Pelicans",
           "lon": [
            -90
           ],
           "marker": {
            "color": "yellow",
            "size": [
             2670000000
            ],
            "sizemode": "area",
            "sizeref": 100000000,
            "symbol": "circle"
           },
           "mode": "markers",
           "name": "New Orleans Pelicans",
           "showlegend": true,
           "type": "scattergeo"
          }
         ],
         "name": "2010"
        },
        {
         "data": [
          {
           "geo": "geo",
           "hovertemplate": "<b>%{hovertext}</b><br><br>Team=New York Knicks<br>Year=2011<br>Valuation (in millions)=%{marker.size}<br>LAT=%{lat}<br>LONG=%{lon}<extra></extra>",
           "hovertext": [
            "New York Knicks"
           ],
           "lat": [
            40
           ],
           "legendgroup": "New York Knicks",
           "lon": [
            -73
           ],
           "marker": {
            "color": "blue",
            "size": [
             6550000000
            ],
            "sizemode": "area",
            "sizeref": 100000000,
            "symbol": "circle"
           },
           "mode": "markers",
           "name": "New York Knicks",
           "showlegend": true,
           "type": "scattergeo"
          },
          {
           "geo": "geo",
           "hovertemplate": "<b>%{hovertext}</b><br><br>Team=Golden State Warriors<br>Year=2011<br>Valuation (in millions)=%{marker.size}<br>LAT=%{lat}<br>LONG=%{lon}<extra></extra>",
           "hovertext": [
            "Golden State Warriors"
           ],
           "lat": [
            37
           ],
           "legendgroup": "Golden State Warriors",
           "lon": [
            -122
           ],
           "marker": {
            "color": "red",
            "size": [
             3630000000
            ],
            "sizemode": "area",
            "sizeref": 100000000,
            "symbol": "circle"
           },
           "mode": "markers",
           "name": "Golden State Warriors",
           "showlegend": true,
           "type": "scattergeo"
          },
          {
           "geo": "geo",
           "hovertemplate": "<b>%{hovertext}</b><br><br>Team=Los Angeles Lakers<br>Year=2011<br>Valuation (in millions)=%{marker.size}<br>LAT=%{lat}<br>LONG=%{lon}<extra></extra>",
           "hovertext": [
            "Los Angeles Lakers"
           ],
           "lat": [
            34
           ],
           "legendgroup": "Los Angeles Lakers",
           "lon": [
            -118
           ],
           "marker": {
            "color": "yellow",
            "size": [
             6430000000
            ],
            "sizemode": "area",
            "sizeref": 100000000,
            "symbol": "circle"
           },
           "mode": "markers",
           "name": "Los Angeles Lakers",
           "showlegend": true,
           "type": "scattergeo"
          },
          {
           "geo": "geo",
           "hovertemplate": "<b>%{hovertext}</b><br><br>Team=Brooklyn Nets<br>Year=2011<br>Valuation (in millions)=%{marker.size}<br>LAT=%{lat}<br>LONG=%{lon}<extra></extra>",
           "hovertext": [
            "Brooklyn Nets"
           ],
           "lat": [
            40
           ],
           "legendgroup": "Brooklyn Nets",
           "lon": [
            -73
           ],
           "marker": {
            "color": "blue",
            "size": [
             3120000000
            ],
            "sizemode": "area",
            "sizeref": 100000000,
            "symbol": "circle"
           },
           "mode": "markers",
           "name": "Brooklyn Nets",
           "showlegend": true,
           "type": "scattergeo"
          },
          {
           "geo": "geo",
           "hovertemplate": "<b>%{hovertext}</b><br><br>Team=Boston Celtics<br>Year=2011<br>Valuation (in millions)=%{marker.size}<br>LAT=%{lat}<br>LONG=%{lon}<extra></extra>",
           "hovertext": [
            "Boston Celtics"
           ],
           "lat": [
            42
           ],
           "legendgroup": "Boston Celtics",
           "lon": [
            -71
           ],
           "marker": {
            "color": "red",
            "size": [
             4520000000
            ],
            "sizemode": "area",
            "sizeref": 100000000,
            "symbol": "circle"
           },
           "mode": "markers",
           "name": "Boston Celtics",
           "showlegend": true,
           "type": "scattergeo"
          },
          {
           "geo": "geo",
           "hovertemplate": "<b>%{hovertext}</b><br><br>Team=Chicago Bulls<br>Year=2011<br>Valuation (in millions)=%{marker.size}<br>LAT=%{lat}<br>LONG=%{lon}<extra></extra>",
           "hovertext": [
            "Chicago Bulls"
           ],
           "lat": [
            41
           ],
           "legendgroup": "Chicago Bulls",
           "lon": [
            -87
           ],
           "marker": {
            "color": "yellow",
            "size": [
             5110000000
            ],
            "sizemode": "area",
            "sizeref": 100000000,
            "symbol": "circle"
           },
           "mode": "markers",
           "name": "Chicago Bulls",
           "showlegend": true,
           "type": "scattergeo"
          },
          {
           "geo": "geo",
           "hovertemplate": "<b>%{hovertext}</b><br><br>Team=Houston Rockets<br>Year=2011<br>Valuation (in millions)=%{marker.size}<br>LAT=%{lat}<br>LONG=%{lon}<extra></extra>",
           "hovertext": [
            "Houston Rockets"
           ],
           "lat": [
            29
           ],
           "legendgroup": "Houston Rockets",
           "lon": [
            -95
           ],
           "marker": {
            "color": "blue",
            "size": [
             4430000000
            ],
            "sizemode": "area",
            "sizeref": 100000000,
            "symbol": "circle"
           },
           "mode": "markers",
           "name": "Houston Rockets",
           "showlegend": true,
           "type": "scattergeo"
          },
          {
           "geo": "geo",
           "hovertemplate": "<b>%{hovertext}</b><br><br>Team=Los Angeles Clippers<br>Year=2011<br>Valuation (in millions)=%{marker.size}<br>LAT=%{lat}<br>LONG=%{lon}<extra></extra>",
           "hovertext": [
            "Los Angeles Clippers"
           ],
           "lat": [
            34
           ],
           "legendgroup": "Los Angeles Clippers",
           "lon": [
            -118
           ],
           "marker": {
            "color": "red",
            "size": [
             3050000000
            ],
            "sizemode": "area",
            "sizeref": 100000000,
            "symbol": "circle"
           },
           "mode": "markers",
           "name": "Los Angeles Clippers",
           "showlegend": true,
           "type": "scattergeo"
          },
          {
           "geo": "geo",
           "hovertemplate": "<b>%{hovertext}</b><br><br>Team=Dallas Mavericks<br>Year=2011<br>Valuation (in millions)=%{marker.size}<br>LAT=%{lat}<br>LONG=%{lon}<extra></extra>",
           "hovertext": [
            "Dallas Mavericks"
           ],
           "lat": [
            32
           ],
           "legendgroup": "Dallas Mavericks",
           "lon": [
            -96
           ],
           "marker": {
            "color": "yellow",
            "size": [
             4380000000
            ],
            "sizemode": "area",
            "sizeref": 100000000,
            "symbol": "circle"
           },
           "mode": "markers",
           "name": "Dallas Mavericks",
           "showlegend": true,
           "type": "scattergeo"
          },
          {
           "geo": "geo",
           "hovertemplate": "<b>%{hovertext}</b><br><br>Team=Toronto Raptors<br>Year=2011<br>Valuation (in millions)=%{marker.size}<br>LAT=%{lat}<br>LONG=%{lon}<extra></extra>",
           "hovertext": [
            "Toronto Raptors"
           ],
           "lat": [
            43
           ],
           "legendgroup": "Toronto Raptors",
           "lon": [
            -79
           ],
           "marker": {
            "color": "blue",
            "size": [
             3990000000
            ],
            "sizemode": "area",
            "sizeref": 100000000,
            "symbol": "circle"
           },
           "mode": "markers",
           "name": "Toronto Raptors",
           "showlegend": true,
           "type": "scattergeo"
          },
          {
           "geo": "geo",
           "hovertemplate": "<b>%{hovertext}</b><br><br>Team=Philadelphia 76ers<br>Year=2011<br>Valuation (in millions)=%{marker.size}<br>LAT=%{lat}<br>LONG=%{lon}<extra></extra>",
           "hovertext": [
            "Philadelphia 76ers"
           ],
           "lat": [
            39
           ],
           "legendgroup": "Philadelphia 76ers",
           "lon": [
            -75
           ],
           "marker": {
            "color": "red",
            "size": [
             3300000000
            ],
            "sizemode": "area",
            "sizeref": 100000000,
            "symbol": "circle"
           },
           "mode": "markers",
           "name": "Philadelphia 76ers",
           "showlegend": true,
           "type": "scattergeo"
          },
          {
           "geo": "geo",
           "hovertemplate": "<b>%{hovertext}</b><br><br>Team=Miami Heat<br>Year=2011<br>Valuation (in millions)=%{marker.size}<br>LAT=%{lat}<br>LONG=%{lon}<extra></extra>",
           "hovertext": [
            "Miami Heat"
           ],
           "lat": [
            25
           ],
           "legendgroup": "Miami Heat",
           "lon": [
            -80
           ],
           "marker": {
            "color": "yellow",
            "size": [
             4250000000
            ],
            "sizemode": "area",
            "sizeref": 100000000,
            "symbol": "circle"
           },
           "mode": "markers",
           "name": "Miami Heat",
           "showlegend": true,
           "type": "scattergeo"
          },
          {
           "geo": "geo",
           "hovertemplate": "<b>%{hovertext}</b><br><br>Team=San Antonio Spurs<br>Year=2011<br>Valuation (in millions)=%{marker.size}<br>LAT=%{lat}<br>LONG=%{lon}<extra></extra>",
           "hovertext": [
            "San Antonio Spurs"
           ],
           "lat": [
            29
           ],
           "legendgroup": "San Antonio Spurs",
           "lon": [
            -98
           ],
           "marker": {
            "color": "blue",
            "size": [
             4040000000
            ],
            "sizemode": "area",
            "sizeref": 100000000,
            "symbol": "circle"
           },
           "mode": "markers",
           "name": "San Antonio Spurs",
           "showlegend": true,
           "type": "scattergeo"
          },
          {
           "geo": "geo",
           "hovertemplate": "<b>%{hovertext}</b><br><br>Team=Washington Wizards<br>Year=2011<br>Valuation (in millions)=%{marker.size}<br>LAT=%{lat}<br>LONG=%{lon}<extra></extra>",
           "hovertext": [
            "Washington Wizards"
           ],
           "lat": [
            38
           ],
           "legendgroup": "Washington Wizards",
           "lon": [
            -77
           ],
           "marker": {
            "color": "red",
            "size": [
             3220000000
            ],
            "sizemode": "area",
            "sizeref": 100000000,
            "symbol": "circle"
           },
           "mode": "markers",
           "name": "Washington Wizards",
           "showlegend": true,
           "type": "scattergeo"
          },
          {
           "geo": "geo",
           "hovertemplate": "<b>%{hovertext}</b><br><br>Team=Portland Trail Blazers<br>Year=2011<br>Valuation (in millions)=%{marker.size}<br>LAT=%{lat}<br>LONG=%{lon}<extra></extra>",
           "hovertext": [
            "Portland Trail Blazers"
           ],
           "lat": [
            45
           ],
           "legendgroup": "Portland Trail Blazers",
           "lon": [
            -122
           ],
           "marker": {
            "color": "yellow",
            "size": [
             3560000000
            ],
            "sizemode": "area",
            "sizeref": 100000000,
            "symbol": "circle"
           },
           "mode": "markers",
           "name": "Portland Trail Blazers",
           "showlegend": true,
           "type": "scattergeo"
          },
          {
           "geo": "geo",
           "hovertemplate": "<b>%{hovertext}</b><br><br>Team=Milwaukee Bucks<br>Year=2011<br>Valuation (in millions)=%{marker.size}<br>LAT=%{lat}<br>LONG=%{lon}<extra></extra>",
           "hovertext": [
            "Milwaukee Bucks"
           ],
           "lat": [
            43
           ],
           "legendgroup": "Milwaukee Bucks",
           "lon": [
            -87
           ],
           "marker": {
            "color": "blue",
            "size": [
             2580000000
            ],
            "sizemode": "area",
            "sizeref": 100000000,
            "symbol": "circle"
           },
           "mode": "markers",
           "name": "Milwaukee Bucks",
           "showlegend": true,
           "type": "scattergeo"
          },
          {
           "geo": "geo",
           "hovertemplate": "<b>%{hovertext}</b><br><br>Team=Sacramento Kings<br>Year=2011<br>Valuation (in millions)=%{marker.size}<br>LAT=%{lat}<br>LONG=%{lon}<extra></extra>",
           "hovertext": [
            "Sacramento Kings"
           ],
           "lat": [
            38
           ],
           "legendgroup": "Sacramento Kings",
           "lon": [
            -121
           ],
           "marker": {
            "color": "red",
            "size": [
             2930000000
            ],
            "sizemode": "area",
            "sizeref": 100000000,
            "symbol": "circle"
           },
           "mode": "markers",
           "name": "Sacramento Kings",
           "showlegend": true,
           "type": "scattergeo"
          },
          {
           "geo": "geo",
           "hovertemplate": "<b>%{hovertext}</b><br><br>Team=Denver Nuggets<br>Year=2011<br>Valuation (in millions)=%{marker.size}<br>LAT=%{lat}<br>LONG=%{lon}<extra></extra>",
           "hovertext": [
            "Denver Nuggets"
           ],
           "lat": [
            39
           ],
           "legendgroup": "Denver Nuggets",
           "lon": [
            -104
           ],
           "marker": {
            "color": "yellow",
            "size": [
             3160000000
            ],
            "sizemode": "area",
            "sizeref": 100000000,
            "symbol": "circle"
           },
           "mode": "markers",
           "name": "Denver Nuggets",
           "showlegend": true,
           "type": "scattergeo"
          },
          {
           "geo": "geo",
           "hovertemplate": "<b>%{hovertext}</b><br><br>Team=Cleveland Cavaliers<br>Year=2011<br>Valuation (in millions)=%{marker.size}<br>LAT=%{lat}<br>LONG=%{lon}<extra></extra>",
           "hovertext": [
            "Cleveland Cavaliers"
           ],
           "lat": [
            41
           ],
           "legendgroup": "Cleveland Cavaliers",
           "lon": [
            -81
           ],
           "marker": {
            "color": "blue",
            "size": [
             3550000000
            ],
            "sizemode": "area",
            "sizeref": 100000000,
            "symbol": "circle"
           },
           "mode": "markers",
           "name": "Cleveland Cavaliers",
           "showlegend": true,
           "type": "scattergeo"
          },
          {
           "geo": "geo",
           "hovertemplate": "<b>%{hovertext}</b><br><br>Team=Detroit Pistons<br>Year=2011<br>Valuation (in millions)=%{marker.size}<br>LAT=%{lat}<br>LONG=%{lon}<extra></extra>",
           "hovertext": [
            "Detroit Pistons"
           ],
           "lat": [
            42
           ],
           "legendgroup": "Detroit Pistons",
           "lon": [
            -83
           ],
           "marker": {
            "color": "red",
            "size": [
             3600000000
            ],
            "sizemode": "area",
            "sizeref": 100000000,
            "symbol": "circle"
           },
           "mode": "markers",
           "name": "Detroit Pistons",
           "showlegend": true,
           "type": "scattergeo"
          },
          {
           "geo": "geo",
           "hovertemplate": "<b>%{hovertext}</b><br><br>Team=Utah Jazz<br>Year=2011<br>Valuation (in millions)=%{marker.size}<br>LAT=%{lat}<br>LONG=%{lon}<extra></extra>",
           "hovertext": [
            "Utah Jazz"
           ],
           "lat": [
            40
           ],
           "legendgroup": "Utah Jazz",
           "lon": [
            -111
           ],
           "marker": {
            "color": "yellow",
            "size": [
             3430000000
            ],
            "sizemode": "area",
            "sizeref": 100000000,
            "symbol": "circle"
           },
           "mode": "markers",
           "name": "Utah Jazz",
           "showlegend": true,
           "type": "scattergeo"
          },
          {
           "geo": "geo",
           "hovertemplate": "<b>%{hovertext}</b><br><br>Team=Oklahoma City Thunder<br>Year=2011<br>Valuation (in millions)=%{marker.size}<br>LAT=%{lat}<br>LONG=%{lon}<extra></extra>",
           "hovertext": [
            "Oklahoma City Thunder"
           ],
           "lat": [
            35
           ],
           "legendgroup": "Oklahoma City Thunder",
           "lon": [
            -97
           ],
           "marker": {
            "color": "blue",
            "size": [
             3290000000
            ],
            "sizemode": "area",
            "sizeref": 100000000,
            "symbol": "circle"
           },
           "mode": "markers",
           "name": "Oklahoma City Thunder",
           "showlegend": true,
           "type": "scattergeo"
          },
          {
           "geo": "geo",
           "hovertemplate": "<b>%{hovertext}</b><br><br>Team=Phoenix Suns<br>Year=2011<br>Valuation (in millions)=%{marker.size}<br>LAT=%{lat}<br>LONG=%{lon}<extra></extra>",
           "hovertext": [
            "Phoenix Suns"
           ],
           "lat": [
            33
           ],
           "legendgroup": "Phoenix Suns",
           "lon": [
            -112
           ],
           "marker": {
            "color": "red",
            "size": [
             4110000000
            ],
            "sizemode": "area",
            "sizeref": 100000000,
            "symbol": "circle"
           },
           "mode": "markers",
           "name": "Phoenix Suns",
           "showlegend": true,
           "type": "scattergeo"
          },
          {
           "geo": "geo",
           "hovertemplate": "<b>%{hovertext}</b><br><br>Team=Indiana Pacers<br>Year=2011<br>Valuation (in millions)=%{marker.size}<br>LAT=%{lat}<br>LONG=%{lon}<extra></extra>",
           "hovertext": [
            "Indiana Pacers"
           ],
           "lat": [
            39
           ],
           "legendgroup": "Indiana Pacers",
           "lon": [
            -86
           ],
           "marker": {
            "color": "yellow",
            "size": [
             2690000000
            ],
            "sizemode": "area",
            "sizeref": 100000000,
            "symbol": "circle"
           },
           "mode": "markers",
           "name": "Indiana Pacers",
           "showlegend": true,
           "type": "scattergeo"
          },
          {
           "geo": "geo",
           "hovertemplate": "<b>%{hovertext}</b><br><br>Team=Atlanta Hawks<br>Year=2011<br>Valuation (in millions)=%{marker.size}<br>LAT=%{lat}<br>LONG=%{lon}<extra></extra>",
           "hovertext": [
            "Atlanta Hawks"
           ],
           "lat": [
            33
           ],
           "legendgroup": "Atlanta Hawks",
           "lon": [
            -84
           ],
           "marker": {
            "color": "blue",
            "size": [
             2950000000
            ],
            "sizemode": "area",
            "sizeref": 100000000,
            "symbol": "circle"
           },
           "mode": "markers",
           "name": "Atlanta Hawks",
           "showlegend": true,
           "type": "scattergeo"
          },
          {
           "geo": "geo",
           "hovertemplate": "<b>%{hovertext}</b><br><br>Team=Orlando Magic<br>Year=2011<br>Valuation (in millions)=%{marker.size}<br>LAT=%{lat}<br>LONG=%{lon}<extra></extra>",
           "hovertext": [
            "Orlando Magic"
           ],
           "lat": [
            28
           ],
           "legendgroup": "Orlando Magic",
           "lon": [
            -81
           ],
           "marker": {
            "color": "red",
            "size": [
             3850000000
            ],
            "sizemode": "area",
            "sizeref": 100000000,
            "symbol": "circle"
           },
           "mode": "markers",
           "name": "Orlando Magic",
           "showlegend": true,
           "type": "scattergeo"
          },
          {
           "geo": "geo",
           "hovertemplate": "<b>%{hovertext}</b><br><br>Team=Charlotte Hornets<br>Year=2011<br>Valuation (in millions)=%{marker.size}<br>LAT=%{lat}<br>LONG=%{lon}<extra></extra>",
           "hovertext": [
            "Charlotte Hornets"
           ],
           "lat": [
            35
           ],
           "legendgroup": "Charlotte Hornets",
           "lon": [
            -80
           ],
           "marker": {
            "color": "yellow",
            "size": [
             2810000000
            ],
            "sizemode": "area",
            "sizeref": 100000000,
            "symbol": "circle"
           },
           "mode": "markers",
           "name": "Charlotte Hornets",
           "showlegend": true,
           "type": "scattergeo"
          },
          {
           "geo": "geo",
           "hovertemplate": "<b>%{hovertext}</b><br><br>Team=Minnesota Timberwolves<br>Year=2011<br>Valuation (in millions)=%{marker.size}<br>LAT=%{lat}<br>LONG=%{lon}<extra></extra>",
           "hovertext": [
            "Minnesota Timberwolves"
           ],
           "lat": [
            44
           ],
           "legendgroup": "Minnesota Timberwolves",
           "lon": [
            -93
           ],
           "marker": {
            "color": "blue",
            "size": [
             2640000000
            ],
            "sizemode": "area",
            "sizeref": 100000000,
            "symbol": "circle"
           },
           "mode": "markers",
           "name": "Minnesota Timberwolves",
           "showlegend": true,
           "type": "scattergeo"
          },
          {
           "geo": "geo",
           "hovertemplate": "<b>%{hovertext}</b><br><br>Team=Memphis Grizzlies<br>Year=2011<br>Valuation (in millions)=%{marker.size}<br>LAT=%{lat}<br>LONG=%{lon}<extra></extra>",
           "hovertext": [
            "Memphis Grizzlies"
           ],
           "lat": [
            35
           ],
           "legendgroup": "Memphis Grizzlies",
           "lon": [
            -90
           ],
           "marker": {
            "color": "red",
            "size": [
             2660000000
            ],
            "sizemode": "area",
            "sizeref": 100000000,
            "symbol": "circle"
           },
           "mode": "markers",
           "name": "Memphis Grizzlies",
           "showlegend": true,
           "type": "scattergeo"
          },
          {
           "geo": "geo",
           "hovertemplate": "<b>%{hovertext}</b><br><br>Team=New Orleans Pelicans<br>Year=2011<br>Valuation (in millions)=%{marker.size}<br>LAT=%{lat}<br>LONG=%{lon}<extra></extra>",
           "hovertext": [
            "New Orleans Pelicans"
           ],
           "lat": [
            29
           ],
           "legendgroup": "New Orleans Pelicans",
           "lon": [
            -90
           ],
           "marker": {
            "color": "yellow",
            "size": [
             2800000000
            ],
            "sizemode": "area",
            "sizeref": 100000000,
            "symbol": "circle"
           },
           "mode": "markers",
           "name": "New Orleans Pelicans",
           "showlegend": true,
           "type": "scattergeo"
          }
         ],
         "name": "2011"
        },
        {
         "data": [
          {
           "geo": "geo",
           "hovertemplate": "<b>%{hovertext}</b><br><br>Team=New York Knicks<br>Year=2012<br>Valuation (in millions)=%{marker.size}<br>LAT=%{lat}<br>LONG=%{lon}<extra></extra>",
           "hovertext": [
            "New York Knicks"
           ],
           "lat": [
            40
           ],
           "legendgroup": "New York Knicks",
           "lon": [
            -73
           ],
           "marker": {
            "color": "blue",
            "size": [
             7800000000
            ],
            "sizemode": "area",
            "sizeref": 100000000,
            "symbol": "circle"
           },
           "mode": "markers",
           "name": "New York Knicks",
           "showlegend": true,
           "type": "scattergeo"
          },
          {
           "geo": "geo",
           "hovertemplate": "<b>%{hovertext}</b><br><br>Team=Golden State Warriors<br>Year=2012<br>Valuation (in millions)=%{marker.size}<br>LAT=%{lat}<br>LONG=%{lon}<extra></extra>",
           "hovertext": [
            "Golden State Warriors"
           ],
           "lat": [
            37
           ],
           "legendgroup": "Golden State Warriors",
           "lon": [
            -122
           ],
           "marker": {
            "color": "red",
            "size": [
             4500000000
            ],
            "sizemode": "area",
            "sizeref": 100000000,
            "symbol": "circle"
           },
           "mode": "markers",
           "name": "Golden State Warriors",
           "showlegend": true,
           "type": "scattergeo"
          },
          {
           "geo": "geo",
           "hovertemplate": "<b>%{hovertext}</b><br><br>Team=Los Angeles Lakers<br>Year=2012<br>Valuation (in millions)=%{marker.size}<br>LAT=%{lat}<br>LONG=%{lon}<extra></extra>",
           "hovertext": [
            "Los Angeles Lakers"
           ],
           "lat": [
            34
           ],
           "legendgroup": "Los Angeles Lakers",
           "lon": [
            -118
           ],
           "marker": {
            "color": "yellow",
            "size": [
             9000000000
            ],
            "sizemode": "area",
            "sizeref": 100000000,
            "symbol": "circle"
           },
           "mode": "markers",
           "name": "Los Angeles Lakers",
           "showlegend": true,
           "type": "scattergeo"
          },
          {
           "geo": "geo",
           "hovertemplate": "<b>%{hovertext}</b><br><br>Team=Brooklyn Nets<br>Year=2012<br>Valuation (in millions)=%{marker.size}<br>LAT=%{lat}<br>LONG=%{lon}<extra></extra>",
           "hovertext": [
            "Brooklyn Nets"
           ],
           "lat": [
            40
           ],
           "legendgroup": "Brooklyn Nets",
           "lon": [
            -73
           ],
           "marker": {
            "color": "blue",
            "size": [
             3570000000
            ],
            "sizemode": "area",
            "sizeref": 100000000,
            "symbol": "circle"
           },
           "mode": "markers",
           "name": "Brooklyn Nets",
           "showlegend": true,
           "type": "scattergeo"
          },
          {
           "geo": "geo",
           "hovertemplate": "<b>%{hovertext}</b><br><br>Team=Boston Celtics<br>Year=2012<br>Valuation (in millions)=%{marker.size}<br>LAT=%{lat}<br>LONG=%{lon}<extra></extra>",
           "hovertext": [
            "Boston Celtics"
           ],
           "lat": [
            42
           ],
           "legendgroup": "Boston Celtics",
           "lon": [
            -71
           ],
           "marker": {
            "color": "red",
            "size": [
             4820000000
            ],
            "sizemode": "area",
            "sizeref": 100000000,
            "symbol": "circle"
           },
           "mode": "markers",
           "name": "Boston Celtics",
           "showlegend": true,
           "type": "scattergeo"
          },
          {
           "geo": "geo",
           "hovertemplate": "<b>%{hovertext}</b><br><br>Team=Chicago Bulls<br>Year=2012<br>Valuation (in millions)=%{marker.size}<br>LAT=%{lat}<br>LONG=%{lon}<extra></extra>",
           "hovertext": [
            "Chicago Bulls"
           ],
           "lat": [
            41
           ],
           "legendgroup": "Chicago Bulls",
           "lon": [
            -87
           ],
           "marker": {
            "color": "yellow",
            "size": [
             6000000000
            ],
            "sizemode": "area",
            "sizeref": 100000000,
            "symbol": "circle"
           },
           "mode": "markers",
           "name": "Chicago Bulls",
           "showlegend": true,
           "type": "scattergeo"
          },
          {
           "geo": "geo",
           "hovertemplate": "<b>%{hovertext}</b><br><br>Team=Houston Rockets<br>Year=2012<br>Valuation (in millions)=%{marker.size}<br>LAT=%{lat}<br>LONG=%{lon}<extra></extra>",
           "hovertext": [
            "Houston Rockets"
           ],
           "lat": [
            29
           ],
           "legendgroup": "Houston Rockets",
           "lon": [
            -95
           ],
           "marker": {
            "color": "blue",
            "size": [
             4530000000
            ],
            "sizemode": "area",
            "sizeref": 100000000,
            "symbol": "circle"
           },
           "mode": "markers",
           "name": "Houston Rockets",
           "showlegend": true,
           "type": "scattergeo"
          },
          {
           "geo": "geo",
           "hovertemplate": "<b>%{hovertext}</b><br><br>Team=Los Angeles Clippers<br>Year=2012<br>Valuation (in millions)=%{marker.size}<br>LAT=%{lat}<br>LONG=%{lon}<extra></extra>",
           "hovertext": [
            "Los Angeles Clippers"
           ],
           "lat": [
            34
           ],
           "legendgroup": "Los Angeles Clippers",
           "lon": [
            -118
           ],
           "marker": {
            "color": "red",
            "size": [
             3240000000
            ],
            "sizemode": "area",
            "sizeref": 100000000,
            "symbol": "circle"
           },
           "mode": "markers",
           "name": "Los Angeles Clippers",
           "showlegend": true,
           "type": "scattergeo"
          },
          {
           "geo": "geo",
           "hovertemplate": "<b>%{hovertext}</b><br><br>Team=Dallas Mavericks<br>Year=2012<br>Valuation (in millions)=%{marker.size}<br>LAT=%{lat}<br>LONG=%{lon}<extra></extra>",
           "hovertext": [
            "Dallas Mavericks"
           ],
           "lat": [
            32
           ],
           "legendgroup": "Dallas Mavericks",
           "lon": [
            -96
           ],
           "marker": {
            "color": "yellow",
            "size": [
             4970000000
            ],
            "sizemode": "area",
            "sizeref": 100000000,
            "symbol": "circle"
           },
           "mode": "markers",
           "name": "Dallas Mavericks",
           "showlegend": true,
           "type": "scattergeo"
          },
          {
           "geo": "geo",
           "hovertemplate": "<b>%{hovertext}</b><br><br>Team=Toronto Raptors<br>Year=2012<br>Valuation (in millions)=%{marker.size}<br>LAT=%{lat}<br>LONG=%{lon}<extra></extra>",
           "hovertext": [
            "Toronto Raptors"
           ],
           "lat": [
            43
           ],
           "legendgroup": "Toronto Raptors",
           "lon": [
            -79
           ],
           "marker": {
            "color": "blue",
            "size": [
             3820000000
            ],
            "sizemode": "area",
            "sizeref": 100000000,
            "symbol": "circle"
           },
           "mode": "markers",
           "name": "Toronto Raptors",
           "showlegend": true,
           "type": "scattergeo"
          },
          {
           "geo": "geo",
           "hovertemplate": "<b>%{hovertext}</b><br><br>Team=Philadelphia 76ers<br>Year=2012<br>Valuation (in millions)=%{marker.size}<br>LAT=%{lat}<br>LONG=%{lon}<extra></extra>",
           "hovertext": [
            "Philadelphia 76ers"
           ],
           "lat": [
            39
           ],
           "legendgroup": "Philadelphia 76ers",
           "lon": [
            -75
           ],
           "marker": {
            "color": "red",
            "size": [
             3140000000
            ],
            "sizemode": "area",
            "sizeref": 100000000,
            "symbol": "circle"
           },
           "mode": "markers",
           "name": "Philadelphia 76ers",
           "showlegend": true,
           "type": "scattergeo"
          },
          {
           "geo": "geo",
           "hovertemplate": "<b>%{hovertext}</b><br><br>Team=Miami Heat<br>Year=2012<br>Valuation (in millions)=%{marker.size}<br>LAT=%{lat}<br>LONG=%{lon}<extra></extra>",
           "hovertext": [
            "Miami Heat"
           ],
           "lat": [
            25
           ],
           "legendgroup": "Miami Heat",
           "lon": [
            -80
           ],
           "marker": {
            "color": "yellow",
            "size": [
             4570000000
            ],
            "sizemode": "area",
            "sizeref": 100000000,
            "symbol": "circle"
           },
           "mode": "markers",
           "name": "Miami Heat",
           "showlegend": true,
           "type": "scattergeo"
          },
          {
           "geo": "geo",
           "hovertemplate": "<b>%{hovertext}</b><br><br>Team=San Antonio Spurs<br>Year=2012<br>Valuation (in millions)=%{marker.size}<br>LAT=%{lat}<br>LONG=%{lon}<extra></extra>",
           "hovertext": [
            "San Antonio Spurs"
           ],
           "lat": [
            29
           ],
           "legendgroup": "San Antonio Spurs",
           "lon": [
            -98
           ],
           "marker": {
            "color": "blue",
            "size": [
             4180000000
            ],
            "sizemode": "area",
            "sizeref": 100000000,
            "symbol": "circle"
           },
           "mode": "markers",
           "name": "San Antonio Spurs",
           "showlegend": true,
           "type": "scattergeo"
          },
          {
           "geo": "geo",
           "hovertemplate": "<b>%{hovertext}</b><br><br>Team=Washington Wizards<br>Year=2012<br>Valuation (in millions)=%{marker.size}<br>LAT=%{lat}<br>LONG=%{lon}<extra></extra>",
           "hovertext": [
            "Washington Wizards"
           ],
           "lat": [
            38
           ],
           "legendgroup": "Washington Wizards",
           "lon": [
            -77
           ],
           "marker": {
            "color": "red",
            "size": [
             3280000000
            ],
            "sizemode": "area",
            "sizeref": 100000000,
            "symbol": "circle"
           },
           "mode": "markers",
           "name": "Washington Wizards",
           "showlegend": true,
           "type": "scattergeo"
          },
          {
           "geo": "geo",
           "hovertemplate": "<b>%{hovertext}</b><br><br>Team=Portland Trail Blazers<br>Year=2012<br>Valuation (in millions)=%{marker.size}<br>LAT=%{lat}<br>LONG=%{lon}<extra></extra>",
           "hovertext": [
            "Portland Trail Blazers"
           ],
           "lat": [
            45
           ],
           "legendgroup": "Portland Trail Blazers",
           "lon": [
            -122
           ],
           "marker": {
            "color": "yellow",
            "size": [
             3700000000
            ],
            "sizemode": "area",
            "sizeref": 100000000,
            "symbol": "circle"
           },
           "mode": "markers",
           "name": "Portland Trail Blazers",
           "showlegend": true,
           "type": "scattergeo"
          },
          {
           "geo": "geo",
           "hovertemplate": "<b>%{hovertext}</b><br><br>Team=Milwaukee Bucks<br>Year=2012<br>Valuation (in millions)=%{marker.size}<br>LAT=%{lat}<br>LONG=%{lon}<extra></extra>",
           "hovertext": [
            "Milwaukee Bucks"
           ],
           "lat": [
            43
           ],
           "legendgroup": "Milwaukee Bucks",
           "lon": [
            -87
           ],
           "marker": {
            "color": "blue",
            "size": [
             2680000000
            ],
            "sizemode": "area",
            "sizeref": 100000000,
            "symbol": "circle"
           },
           "mode": "markers",
           "name": "Milwaukee Bucks",
           "showlegend": true,
           "type": "scattergeo"
          },
          {
           "geo": "geo",
           "hovertemplate": "<b>%{hovertext}</b><br><br>Team=Sacramento Kings<br>Year=2012<br>Valuation (in millions)=%{marker.size}<br>LAT=%{lat}<br>LONG=%{lon}<extra></extra>",
           "hovertext": [
            "Sacramento Kings"
           ],
           "lat": [
            38
           ],
           "legendgroup": "Sacramento Kings",
           "lon": [
            -121
           ],
           "marker": {
            "color": "red",
            "size": [
             3000000000
            ],
            "sizemode": "area",
            "sizeref": 100000000,
            "symbol": "circle"
           },
           "mode": "markers",
           "name": "Sacramento Kings",
           "showlegend": true,
           "type": "scattergeo"
          },
          {
           "geo": "geo",
           "hovertemplate": "<b>%{hovertext}</b><br><br>Team=Denver Nuggets<br>Year=2012<br>Valuation (in millions)=%{marker.size}<br>LAT=%{lat}<br>LONG=%{lon}<extra></extra>",
           "hovertext": [
            "Denver Nuggets"
           ],
           "lat": [
            39
           ],
           "legendgroup": "Denver Nuggets",
           "lon": [
            -104
           ],
           "marker": {
            "color": "yellow",
            "size": [
             3160000000
            ],
            "sizemode": "area",
            "sizeref": 100000000,
            "symbol": "circle"
           },
           "mode": "markers",
           "name": "Denver Nuggets",
           "showlegend": true,
           "type": "scattergeo"
          },
          {
           "geo": "geo",
           "hovertemplate": "<b>%{hovertext}</b><br><br>Team=Cleveland Cavaliers<br>Year=2012<br>Valuation (in millions)=%{marker.size}<br>LAT=%{lat}<br>LONG=%{lon}<extra></extra>",
           "hovertext": [
            "Cleveland Cavaliers"
           ],
           "lat": [
            41
           ],
           "legendgroup": "Cleveland Cavaliers",
           "lon": [
            -81
           ],
           "marker": {
            "color": "blue",
            "size": [
             3290000000
            ],
            "sizemode": "area",
            "sizeref": 100000000,
            "symbol": "circle"
           },
           "mode": "markers",
           "name": "Cleveland Cavaliers",
           "showlegend": true,
           "type": "scattergeo"
          },
          {
           "geo": "geo",
           "hovertemplate": "<b>%{hovertext}</b><br><br>Team=Detroit Pistons<br>Year=2012<br>Valuation (in millions)=%{marker.size}<br>LAT=%{lat}<br>LONG=%{lon}<extra></extra>",
           "hovertext": [
            "Detroit Pistons"
           ],
           "lat": [
            42
           ],
           "legendgroup": "Detroit Pistons",
           "lon": [
            -83
           ],
           "marker": {
            "color": "red",
            "size": [
             3320000000
            ],
            "sizemode": "area",
            "sizeref": 100000000,
            "symbol": "circle"
           },
           "mode": "markers",
           "name": "Detroit Pistons",
           "showlegend": true,
           "type": "scattergeo"
          },
          {
           "geo": "geo",
           "hovertemplate": "<b>%{hovertext}</b><br><br>Team=Utah Jazz<br>Year=2012<br>Valuation (in millions)=%{marker.size}<br>LAT=%{lat}<br>LONG=%{lon}<extra></extra>",
           "hovertext": [
            "Utah Jazz"
           ],
           "lat": [
            40
           ],
           "legendgroup": "Utah Jazz",
           "lon": [
            -111
           ],
           "marker": {
            "color": "yellow",
            "size": [
             3350000000
            ],
            "sizemode": "area",
            "sizeref": 100000000,
            "symbol": "circle"
           },
           "mode": "markers",
           "name": "Utah Jazz",
           "showlegend": true,
           "type": "scattergeo"
          },
          {
           "geo": "geo",
           "hovertemplate": "<b>%{hovertext}</b><br><br>Team=Oklahoma City Thunder<br>Year=2012<br>Valuation (in millions)=%{marker.size}<br>LAT=%{lat}<br>LONG=%{lon}<extra></extra>",
           "hovertext": [
            "Oklahoma City Thunder"
           ],
           "lat": [
            35
           ],
           "legendgroup": "Oklahoma City Thunder",
           "lon": [
            -97
           ],
           "marker": {
            "color": "blue",
            "size": [
             3480000000
            ],
            "sizemode": "area",
            "sizeref": 100000000,
            "symbol": "circle"
           },
           "mode": "markers",
           "name": "Oklahoma City Thunder",
           "showlegend": true,
           "type": "scattergeo"
          },
          {
           "geo": "geo",
           "hovertemplate": "<b>%{hovertext}</b><br><br>Team=Phoenix Suns<br>Year=2012<br>Valuation (in millions)=%{marker.size}<br>LAT=%{lat}<br>LONG=%{lon}<extra></extra>",
           "hovertext": [
            "Phoenix Suns"
           ],
           "lat": [
            33
           ],
           "legendgroup": "Phoenix Suns",
           "lon": [
            -112
           ],
           "marker": {
            "color": "red",
            "size": [
             3950000000
            ],
            "sizemode": "area",
            "sizeref": 100000000,
            "symbol": "circle"
           },
           "mode": "markers",
           "name": "Phoenix Suns",
           "showlegend": true,
           "type": "scattergeo"
          },
          {
           "geo": "geo",
           "hovertemplate": "<b>%{hovertext}</b><br><br>Team=Indiana Pacers<br>Year=2012<br>Valuation (in millions)=%{marker.size}<br>LAT=%{lat}<br>LONG=%{lon}<extra></extra>",
           "hovertext": [
            "Indiana Pacers"
           ],
           "lat": [
            39
           ],
           "legendgroup": "Indiana Pacers",
           "lon": [
            -86
           ],
           "marker": {
            "color": "yellow",
            "size": [
             2830000000
            ],
            "sizemode": "area",
            "sizeref": 100000000,
            "symbol": "circle"
           },
           "mode": "markers",
           "name": "Indiana Pacers",
           "showlegend": true,
           "type": "scattergeo"
          },
          {
           "geo": "geo",
           "hovertemplate": "<b>%{hovertext}</b><br><br>Team=Atlanta Hawks<br>Year=2012<br>Valuation (in millions)=%{marker.size}<br>LAT=%{lat}<br>LONG=%{lon}<extra></extra>",
           "hovertext": [
            "Atlanta Hawks"
           ],
           "lat": [
            33
           ],
           "legendgroup": "Atlanta Hawks",
           "lon": [
            -84
           ],
           "marker": {
            "color": "blue",
            "size": [
             2700000000
            ],
            "sizemode": "area",
            "sizeref": 100000000,
            "symbol": "circle"
           },
           "mode": "markers",
           "name": "Atlanta Hawks",
           "showlegend": true,
           "type": "scattergeo"
          },
          {
           "geo": "geo",
           "hovertemplate": "<b>%{hovertext}</b><br><br>Team=Orlando Magic<br>Year=2012<br>Valuation (in millions)=%{marker.size}<br>LAT=%{lat}<br>LONG=%{lon}<extra></extra>",
           "hovertext": [
            "Orlando Magic"
           ],
           "lat": [
            28
           ],
           "legendgroup": "Orlando Magic",
           "lon": [
            -81
           ],
           "marker": {
            "color": "red",
            "size": [
             3850000000
            ],
            "sizemode": "area",
            "sizeref": 100000000,
            "symbol": "circle"
           },
           "mode": "markers",
           "name": "Orlando Magic",
           "showlegend": true,
           "type": "scattergeo"
          },
          {
           "geo": "geo",
           "hovertemplate": "<b>%{hovertext}</b><br><br>Team=Charlotte Hornets<br>Year=2012<br>Valuation (in millions)=%{marker.size}<br>LAT=%{lat}<br>LONG=%{lon}<extra></extra>",
           "hovertext": [
            "Charlotte Hornets"
           ],
           "lat": [
            35
           ],
           "legendgroup": "Charlotte Hornets",
           "lon": [
            -80
           ],
           "marker": {
            "color": "yellow",
            "size": [
             2770000000
            ],
            "sizemode": "area",
            "sizeref": 100000000,
            "symbol": "circle"
           },
           "mode": "markers",
           "name": "Charlotte Hornets",
           "showlegend": true,
           "type": "scattergeo"
          },
          {
           "geo": "geo",
           "hovertemplate": "<b>%{hovertext}</b><br><br>Team=Minnesota Timberwolves<br>Year=2012<br>Valuation (in millions)=%{marker.size}<br>LAT=%{lat}<br>LONG=%{lon}<extra></extra>",
           "hovertext": [
            "Minnesota Timberwolves"
           ],
           "lat": [
            44
           ],
           "legendgroup": "Minnesota Timberwolves",
           "lon": [
            -93
           ],
           "marker": {
            "color": "blue",
            "size": [
             2720000000
            ],
            "sizemode": "area",
            "sizeref": 100000000,
            "symbol": "circle"
           },
           "mode": "markers",
           "name": "Minnesota Timberwolves",
           "showlegend": true,
           "type": "scattergeo"
          },
          {
           "geo": "geo",
           "hovertemplate": "<b>%{hovertext}</b><br><br>Team=Memphis Grizzlies<br>Year=2012<br>Valuation (in millions)=%{marker.size}<br>LAT=%{lat}<br>LONG=%{lon}<extra></extra>",
           "hovertext": [
            "Memphis Grizzlies"
           ],
           "lat": [
            35
           ],
           "legendgroup": "Memphis Grizzlies",
           "lon": [
            -90
           ],
           "marker": {
            "color": "red",
            "size": [
             2690000000
            ],
            "sizemode": "area",
            "sizeref": 100000000,
            "symbol": "circle"
           },
           "mode": "markers",
           "name": "Memphis Grizzlies",
           "showlegend": true,
           "type": "scattergeo"
          },
          {
           "geo": "geo",
           "hovertemplate": "<b>%{hovertext}</b><br><br>Team=New Orleans Pelicans<br>Year=2012<br>Valuation (in millions)=%{marker.size}<br>LAT=%{lat}<br>LONG=%{lon}<extra></extra>",
           "hovertext": [
            "New Orleans Pelicans"
           ],
           "lat": [
            29
           ],
           "legendgroup": "New Orleans Pelicans",
           "lon": [
            -90
           ],
           "marker": {
            "color": "yellow",
            "size": [
             2850000000
            ],
            "sizemode": "area",
            "sizeref": 100000000,
            "symbol": "circle"
           },
           "mode": "markers",
           "name": "New Orleans Pelicans",
           "showlegend": true,
           "type": "scattergeo"
          }
         ],
         "name": "2012"
        },
        {
         "data": [
          {
           "geo": "geo",
           "hovertemplate": "<b>%{hovertext}</b><br><br>Team=New York Knicks<br>Year=2013<br>Valuation (in millions)=%{marker.size}<br>LAT=%{lat}<br>LONG=%{lon}<extra></extra>",
           "hovertext": [
            "New York Knicks"
           ],
           "lat": [
            40
           ],
           "legendgroup": "New York Knicks",
           "lon": [
            -73
           ],
           "marker": {
            "color": "blue",
            "size": [
             11000000000
            ],
            "sizemode": "area",
            "sizeref": 100000000,
            "symbol": "circle"
           },
           "mode": "markers",
           "name": "New York Knicks",
           "showlegend": true,
           "type": "scattergeo"
          },
          {
           "geo": "geo",
           "hovertemplate": "<b>%{hovertext}</b><br><br>Team=Golden State Warriors<br>Year=2013<br>Valuation (in millions)=%{marker.size}<br>LAT=%{lat}<br>LONG=%{lon}<extra></extra>",
           "hovertext": [
            "Golden State Warriors"
           ],
           "lat": [
            37
           ],
           "legendgroup": "Golden State Warriors",
           "lon": [
            -122
           ],
           "marker": {
            "color": "red",
            "size": [
             5550000000
            ],
            "sizemode": "area",
            "sizeref": 100000000,
            "symbol": "circle"
           },
           "mode": "markers",
           "name": "Golden State Warriors",
           "showlegend": true,
           "type": "scattergeo"
          },
          {
           "geo": "geo",
           "hovertemplate": "<b>%{hovertext}</b><br><br>Team=Los Angeles Lakers<br>Year=2013<br>Valuation (in millions)=%{marker.size}<br>LAT=%{lat}<br>LONG=%{lon}<extra></extra>",
           "hovertext": [
            "Los Angeles Lakers"
           ],
           "lat": [
            34
           ],
           "legendgroup": "Los Angeles Lakers",
           "lon": [
            -118
           ],
           "marker": {
            "color": "yellow",
            "size": [
             10000000000
            ],
            "sizemode": "area",
            "sizeref": 100000000,
            "symbol": "circle"
           },
           "mode": "markers",
           "name": "Los Angeles Lakers",
           "showlegend": true,
           "type": "scattergeo"
          },
          {
           "geo": "geo",
           "hovertemplate": "<b>%{hovertext}</b><br><br>Team=Brooklyn Nets<br>Year=2013<br>Valuation (in millions)=%{marker.size}<br>LAT=%{lat}<br>LONG=%{lon}<extra></extra>",
           "hovertext": [
            "Brooklyn Nets"
           ],
           "lat": [
            40
           ],
           "legendgroup": "Brooklyn Nets",
           "lon": [
            -73
           ],
           "marker": {
            "color": "blue",
            "size": [
             5300000000
            ],
            "sizemode": "area",
            "sizeref": 100000000,
            "symbol": "circle"
           },
           "mode": "markers",
           "name": "Brooklyn Nets",
           "showlegend": true,
           "type": "scattergeo"
          },
          {
           "geo": "geo",
           "hovertemplate": "<b>%{hovertext}</b><br><br>Team=Boston Celtics<br>Year=2013<br>Valuation (in millions)=%{marker.size}<br>LAT=%{lat}<br>LONG=%{lon}<extra></extra>",
           "hovertext": [
            "Boston Celtics"
           ],
           "lat": [
            42
           ],
           "legendgroup": "Boston Celtics",
           "lon": [
            -71
           ],
           "marker": {
            "color": "red",
            "size": [
             7300000000
            ],
            "sizemode": "area",
            "sizeref": 100000000,
            "symbol": "circle"
           },
           "mode": "markers",
           "name": "Boston Celtics",
           "showlegend": true,
           "type": "scattergeo"
          },
          {
           "geo": "geo",
           "hovertemplate": "<b>%{hovertext}</b><br><br>Team=Chicago Bulls<br>Year=2013<br>Valuation (in millions)=%{marker.size}<br>LAT=%{lat}<br>LONG=%{lon}<extra></extra>",
           "hovertext": [
            "Chicago Bulls"
           ],
           "lat": [
            41
           ],
           "legendgroup": "Chicago Bulls",
           "lon": [
            -87
           ],
           "marker": {
            "color": "yellow",
            "size": [
             8000000000
            ],
            "sizemode": "area",
            "sizeref": 100000000,
            "symbol": "circle"
           },
           "mode": "markers",
           "name": "Chicago Bulls",
           "showlegend": true,
           "type": "scattergeo"
          },
          {
           "geo": "geo",
           "hovertemplate": "<b>%{hovertext}</b><br><br>Team=Houston Rockets<br>Year=2013<br>Valuation (in millions)=%{marker.size}<br>LAT=%{lat}<br>LONG=%{lon}<extra></extra>",
           "hovertext": [
            "Houston Rockets"
           ],
           "lat": [
            29
           ],
           "legendgroup": "Houston Rockets",
           "lon": [
            -95
           ],
           "marker": {
            "color": "blue",
            "size": [
             5680000000
            ],
            "sizemode": "area",
            "sizeref": 100000000,
            "symbol": "circle"
           },
           "mode": "markers",
           "name": "Houston Rockets",
           "showlegend": true,
           "type": "scattergeo"
          },
          {
           "geo": "geo",
           "hovertemplate": "<b>%{hovertext}</b><br><br>Team=Los Angeles Clippers<br>Year=2013<br>Valuation (in millions)=%{marker.size}<br>LAT=%{lat}<br>LONG=%{lon}<extra></extra>",
           "hovertext": [
            "Los Angeles Clippers"
           ],
           "lat": [
            34
           ],
           "legendgroup": "Los Angeles Clippers",
           "lon": [
            -118
           ],
           "marker": {
            "color": "red",
            "size": [
             4300000000
            ],
            "sizemode": "area",
            "sizeref": 100000000,
            "symbol": "circle"
           },
           "mode": "markers",
           "name": "Los Angeles Clippers",
           "showlegend": true,
           "type": "scattergeo"
          },
          {
           "geo": "geo",
           "hovertemplate": "<b>%{hovertext}</b><br><br>Team=Dallas Mavericks<br>Year=2013<br>Valuation (in millions)=%{marker.size}<br>LAT=%{lat}<br>LONG=%{lon}<extra></extra>",
           "hovertext": [
            "Dallas Mavericks"
           ],
           "lat": [
            32
           ],
           "legendgroup": "Dallas Mavericks",
           "lon": [
            -96
           ],
           "marker": {
            "color": "yellow",
            "size": [
             6850000000
            ],
            "sizemode": "area",
            "sizeref": 100000000,
            "symbol": "circle"
           },
           "mode": "markers",
           "name": "Dallas Mavericks",
           "showlegend": true,
           "type": "scattergeo"
          },
          {
           "geo": "geo",
           "hovertemplate": "<b>%{hovertext}</b><br><br>Team=Toronto Raptors<br>Year=2013<br>Valuation (in millions)=%{marker.size}<br>LAT=%{lat}<br>LONG=%{lon}<extra></extra>",
           "hovertext": [
            "Toronto Raptors"
           ],
           "lat": [
            43
           ],
           "legendgroup": "Toronto Raptors",
           "lon": [
            -79
           ],
           "marker": {
            "color": "blue",
            "size": [
             4050000000
            ],
            "sizemode": "area",
            "sizeref": 100000000,
            "symbol": "circle"
           },
           "mode": "markers",
           "name": "Toronto Raptors",
           "showlegend": true,
           "type": "scattergeo"
          },
          {
           "geo": "geo",
           "hovertemplate": "<b>%{hovertext}</b><br><br>Team=Philadelphia 76ers<br>Year=2013<br>Valuation (in millions)=%{marker.size}<br>LAT=%{lat}<br>LONG=%{lon}<extra></extra>",
           "hovertext": [
            "Philadelphia 76ers"
           ],
           "lat": [
            39
           ],
           "legendgroup": "Philadelphia 76ers",
           "lon": [
            -75
           ],
           "marker": {
            "color": "red",
            "size": [
             4180000000
            ],
            "sizemode": "area",
            "sizeref": 100000000,
            "symbol": "circle"
           },
           "mode": "markers",
           "name": "Philadelphia 76ers",
           "showlegend": true,
           "type": "scattergeo"
          },
          {
           "geo": "geo",
           "hovertemplate": "<b>%{hovertext}</b><br><br>Team=Miami Heat<br>Year=2013<br>Valuation (in millions)=%{marker.size}<br>LAT=%{lat}<br>LONG=%{lon}<extra></extra>",
           "hovertext": [
            "Miami Heat"
           ],
           "lat": [
            25
           ],
           "legendgroup": "Miami Heat",
           "lon": [
            -80
           ],
           "marker": {
            "color": "yellow",
            "size": [
             6250000000
            ],
            "sizemode": "area",
            "sizeref": 100000000,
            "symbol": "circle"
           },
           "mode": "markers",
           "name": "Miami Heat",
           "showlegend": true,
           "type": "scattergeo"
          },
          {
           "geo": "geo",
           "hovertemplate": "<b>%{hovertext}</b><br><br>Team=San Antonio Spurs<br>Year=2013<br>Valuation (in millions)=%{marker.size}<br>LAT=%{lat}<br>LONG=%{lon}<extra></extra>",
           "hovertext": [
            "San Antonio Spurs"
           ],
           "lat": [
            29
           ],
           "legendgroup": "San Antonio Spurs",
           "lon": [
            -98
           ],
           "marker": {
            "color": "blue",
            "size": [
             5270000000
            ],
            "sizemode": "area",
            "sizeref": 100000000,
            "symbol": "circle"
           },
           "mode": "markers",
           "name": "San Antonio Spurs",
           "showlegend": true,
           "type": "scattergeo"
          },
          {
           "geo": "geo",
           "hovertemplate": "<b>%{hovertext}</b><br><br>Team=Washington Wizards<br>Year=2013<br>Valuation (in millions)=%{marker.size}<br>LAT=%{lat}<br>LONG=%{lon}<extra></extra>",
           "hovertext": [
            "Washington Wizards"
           ],
           "lat": [
            38
           ],
           "legendgroup": "Washington Wizards",
           "lon": [
            -77
           ],
           "marker": {
            "color": "red",
            "size": [
             3970000000
            ],
            "sizemode": "area",
            "sizeref": 100000000,
            "symbol": "circle"
           },
           "mode": "markers",
           "name": "Washington Wizards",
           "showlegend": true,
           "type": "scattergeo"
          },
          {
           "geo": "geo",
           "hovertemplate": "<b>%{hovertext}</b><br><br>Team=Portland Trail Blazers<br>Year=2013<br>Valuation (in millions)=%{marker.size}<br>LAT=%{lat}<br>LONG=%{lon}<extra></extra>",
           "hovertext": [
            "Portland Trail Blazers"
           ],
           "lat": [
            45
           ],
           "legendgroup": "Portland Trail Blazers",
           "lon": [
            -122
           ],
           "marker": {
            "color": "yellow",
            "size": [
             4570000000
            ],
            "sizemode": "area",
            "sizeref": 100000000,
            "symbol": "circle"
           },
           "mode": "markers",
           "name": "Portland Trail Blazers",
           "showlegend": true,
           "type": "scattergeo"
          },
          {
           "geo": "geo",
           "hovertemplate": "<b>%{hovertext}</b><br><br>Team=Milwaukee Bucks<br>Year=2013<br>Valuation (in millions)=%{marker.size}<br>LAT=%{lat}<br>LONG=%{lon}<extra></extra>",
           "hovertext": [
            "Milwaukee Bucks"
           ],
           "lat": [
            43
           ],
           "legendgroup": "Milwaukee Bucks",
           "lon": [
            -87
           ],
           "marker": {
            "color": "blue",
            "size": [
             3120000000
            ],
            "sizemode": "area",
            "sizeref": 100000000,
            "symbol": "circle"
           },
           "mode": "markers",
           "name": "Milwaukee Bucks",
           "showlegend": true,
           "type": "scattergeo"
          },
          {
           "geo": "geo",
           "hovertemplate": "<b>%{hovertext}</b><br><br>Team=Sacramento Kings<br>Year=2013<br>Valuation (in millions)=%{marker.size}<br>LAT=%{lat}<br>LONG=%{lon}<extra></extra>",
           "hovertext": [
            "Sacramento Kings"
           ],
           "lat": [
            38
           ],
           "legendgroup": "Sacramento Kings",
           "lon": [
            -121
           ],
           "marker": {
            "color": "red",
            "size": [
             5250000000
            ],
            "sizemode": "area",
            "sizeref": 100000000,
            "symbol": "circle"
           },
           "mode": "markers",
           "name": "Sacramento Kings",
           "showlegend": true,
           "type": "scattergeo"
          },
          {
           "geo": "geo",
           "hovertemplate": "<b>%{hovertext}</b><br><br>Team=Denver Nuggets<br>Year=2013<br>Valuation (in millions)=%{marker.size}<br>LAT=%{lat}<br>LONG=%{lon}<extra></extra>",
           "hovertext": [
            "Denver Nuggets"
           ],
           "lat": [
            39
           ],
           "legendgroup": "Denver Nuggets",
           "lon": [
            -104
           ],
           "marker": {
            "color": "yellow",
            "size": [
             4270000000
            ],
            "sizemode": "area",
            "sizeref": 100000000,
            "symbol": "circle"
           },
           "mode": "markers",
           "name": "Denver Nuggets",
           "showlegend": true,
           "type": "scattergeo"
          },
          {
           "geo": "geo",
           "hovertemplate": "<b>%{hovertext}</b><br><br>Team=Cleveland Cavaliers<br>Year=2013<br>Valuation (in millions)=%{marker.size}<br>LAT=%{lat}<br>LONG=%{lon}<extra></extra>",
           "hovertext": [
            "Cleveland Cavaliers"
           ],
           "lat": [
            41
           ],
           "legendgroup": "Cleveland Cavaliers",
           "lon": [
            -81
           ],
           "marker": {
            "color": "blue",
            "size": [
             4340000000
            ],
            "sizemode": "area",
            "sizeref": 100000000,
            "symbol": "circle"
           },
           "mode": "markers",
           "name": "Cleveland Cavaliers",
           "showlegend": true,
           "type": "scattergeo"
          },
          {
           "geo": "geo",
           "hovertemplate": "<b>%{hovertext}</b><br><br>Team=Detroit Pistons<br>Year=2013<br>Valuation (in millions)=%{marker.size}<br>LAT=%{lat}<br>LONG=%{lon}<extra></extra>",
           "hovertext": [
            "Detroit Pistons"
           ],
           "lat": [
            42
           ],
           "legendgroup": "Detroit Pistons",
           "lon": [
            -83
           ],
           "marker": {
            "color": "red",
            "size": [
             4000000000
            ],
            "sizemode": "area",
            "sizeref": 100000000,
            "symbol": "circle"
           },
           "mode": "markers",
           "name": "Detroit Pistons",
           "showlegend": true,
           "type": "scattergeo"
          },
          {
           "geo": "geo",
           "hovertemplate": "<b>%{hovertext}</b><br><br>Team=Utah Jazz<br>Year=2013<br>Valuation (in millions)=%{marker.size}<br>LAT=%{lat}<br>LONG=%{lon}<extra></extra>",
           "hovertext": [
            "Utah Jazz"
           ],
           "lat": [
            40
           ],
           "legendgroup": "Utah Jazz",
           "lon": [
            -111
           ],
           "marker": {
            "color": "yellow",
            "size": [
             4320000000
            ],
            "sizemode": "area",
            "sizeref": 100000000,
            "symbol": "circle"
           },
           "mode": "markers",
           "name": "Utah Jazz",
           "showlegend": true,
           "type": "scattergeo"
          },
          {
           "geo": "geo",
           "hovertemplate": "<b>%{hovertext}</b><br><br>Team=Oklahoma City Thunder<br>Year=2013<br>Valuation (in millions)=%{marker.size}<br>LAT=%{lat}<br>LONG=%{lon}<extra></extra>",
           "hovertext": [
            "Oklahoma City Thunder"
           ],
           "lat": [
            35
           ],
           "legendgroup": "Oklahoma City Thunder",
           "lon": [
            -97
           ],
           "marker": {
            "color": "blue",
            "size": [
             4750000000
            ],
            "sizemode": "area",
            "sizeref": 100000000,
            "symbol": "circle"
           },
           "mode": "markers",
           "name": "Oklahoma City Thunder",
           "showlegend": true,
           "type": "scattergeo"
          },
          {
           "geo": "geo",
           "hovertemplate": "<b>%{hovertext}</b><br><br>Team=Phoenix Suns<br>Year=2013<br>Valuation (in millions)=%{marker.size}<br>LAT=%{lat}<br>LONG=%{lon}<extra></extra>",
           "hovertext": [
            "Phoenix Suns"
           ],
           "lat": [
            33
           ],
           "legendgroup": "Phoenix Suns",
           "lon": [
            -112
           ],
           "marker": {
            "color": "red",
            "size": [
             4740000000
            ],
            "sizemode": "area",
            "sizeref": 100000000,
            "symbol": "circle"
           },
           "mode": "markers",
           "name": "Phoenix Suns",
           "showlegend": true,
           "type": "scattergeo"
          },
          {
           "geo": "geo",
           "hovertemplate": "<b>%{hovertext}</b><br><br>Team=Indiana Pacers<br>Year=2013<br>Valuation (in millions)=%{marker.size}<br>LAT=%{lat}<br>LONG=%{lon}<extra></extra>",
           "hovertext": [
            "Indiana Pacers"
           ],
           "lat": [
            39
           ],
           "legendgroup": "Indiana Pacers",
           "lon": [
            -86
           ],
           "marker": {
            "color": "yellow",
            "size": [
             3830000000
            ],
            "sizemode": "area",
            "sizeref": 100000000,
            "symbol": "circle"
           },
           "mode": "markers",
           "name": "Indiana Pacers",
           "showlegend": true,
           "type": "scattergeo"
          },
          {
           "geo": "geo",
           "hovertemplate": "<b>%{hovertext}</b><br><br>Team=Atlanta Hawks<br>Year=2013<br>Valuation (in millions)=%{marker.size}<br>LAT=%{lat}<br>LONG=%{lon}<extra></extra>",
           "hovertext": [
            "Atlanta Hawks"
           ],
           "lat": [
            33
           ],
           "legendgroup": "Atlanta Hawks",
           "lon": [
            -84
           ],
           "marker": {
            "color": "blue",
            "size": [
             3160000000
            ],
            "sizemode": "area",
            "sizeref": 100000000,
            "symbol": "circle"
           },
           "mode": "markers",
           "name": "Atlanta Hawks",
           "showlegend": true,
           "type": "scattergeo"
          },
          {
           "geo": "geo",
           "hovertemplate": "<b>%{hovertext}</b><br><br>Team=Orlando Magic<br>Year=2013<br>Valuation (in millions)=%{marker.size}<br>LAT=%{lat}<br>LONG=%{lon}<extra></extra>",
           "hovertext": [
            "Orlando Magic"
           ],
           "lat": [
            28
           ],
           "legendgroup": "Orlando Magic",
           "lon": [
            -81
           ],
           "marker": {
            "color": "red",
            "size": [
             4700000000
            ],
            "sizemode": "area",
            "sizeref": 100000000,
            "symbol": "circle"
           },
           "mode": "markers",
           "name": "Orlando Magic",
           "showlegend": true,
           "type": "scattergeo"
          },
          {
           "geo": "geo",
           "hovertemplate": "<b>%{hovertext}</b><br><br>Team=Charlotte Hornets<br>Year=2013<br>Valuation (in millions)=%{marker.size}<br>LAT=%{lat}<br>LONG=%{lon}<extra></extra>",
           "hovertext": [
            "Charlotte Hornets"
           ],
           "lat": [
            35
           ],
           "legendgroup": "Charlotte Hornets",
           "lon": [
            -80
           ],
           "marker": {
            "color": "yellow",
            "size": [
             3150000000
            ],
            "sizemode": "area",
            "sizeref": 100000000,
            "symbol": "circle"
           },
           "mode": "markers",
           "name": "Charlotte Hornets",
           "showlegend": true,
           "type": "scattergeo"
          },
          {
           "geo": "geo",
           "hovertemplate": "<b>%{hovertext}</b><br><br>Team=Minnesota Timberwolves<br>Year=2013<br>Valuation (in millions)=%{marker.size}<br>LAT=%{lat}<br>LONG=%{lon}<extra></extra>",
           "hovertext": [
            "Minnesota Timberwolves"
           ],
           "lat": [
            44
           ],
           "legendgroup": "Minnesota Timberwolves",
           "lon": [
            -93
           ],
           "marker": {
            "color": "blue",
            "size": [
             3640000000
            ],
            "sizemode": "area",
            "sizeref": 100000000,
            "symbol": "circle"
           },
           "mode": "markers",
           "name": "Minnesota Timberwolves",
           "showlegend": true,
           "type": "scattergeo"
          },
          {
           "geo": "geo",
           "hovertemplate": "<b>%{hovertext}</b><br><br>Team=Memphis Grizzlies<br>Year=2013<br>Valuation (in millions)=%{marker.size}<br>LAT=%{lat}<br>LONG=%{lon}<extra></extra>",
           "hovertext": [
            "Memphis Grizzlies"
           ],
           "lat": [
            35
           ],
           "legendgroup": "Memphis Grizzlies",
           "lon": [
            -90
           ],
           "marker": {
            "color": "red",
            "size": [
             3770000000
            ],
            "sizemode": "area",
            "sizeref": 100000000,
            "symbol": "circle"
           },
           "mode": "markers",
           "name": "Memphis Grizzlies",
           "showlegend": true,
           "type": "scattergeo"
          },
          {
           "geo": "geo",
           "hovertemplate": "<b>%{hovertext}</b><br><br>Team=New Orleans Pelicans<br>Year=2013<br>Valuation (in millions)=%{marker.size}<br>LAT=%{lat}<br>LONG=%{lon}<extra></extra>",
           "hovertext": [
            "New Orleans Pelicans"
           ],
           "lat": [
            29
           ],
           "legendgroup": "New Orleans Pelicans",
           "lon": [
            -90
           ],
           "marker": {
            "color": "yellow",
            "size": [
             3400000000
            ],
            "sizemode": "area",
            "sizeref": 100000000,
            "symbol": "circle"
           },
           "mode": "markers",
           "name": "New Orleans Pelicans",
           "showlegend": true,
           "type": "scattergeo"
          }
         ],
         "name": "2013"
        },
        {
         "data": [
          {
           "geo": "geo",
           "hovertemplate": "<b>%{hovertext}</b><br><br>Team=New York Knicks<br>Year=2014<br>Valuation (in millions)=%{marker.size}<br>LAT=%{lat}<br>LONG=%{lon}<extra></extra>",
           "hovertext": [
            "New York Knicks"
           ],
           "lat": [
            40
           ],
           "legendgroup": "New York Knicks",
           "lon": [
            -73
           ],
           "marker": {
            "color": "blue",
            "size": [
             14000000000
            ],
            "sizemode": "area",
            "sizeref": 100000000,
            "symbol": "circle"
           },
           "mode": "markers",
           "name": "New York Knicks",
           "showlegend": true,
           "type": "scattergeo"
          },
          {
           "geo": "geo",
           "hovertemplate": "<b>%{hovertext}</b><br><br>Team=Golden State Warriors<br>Year=2014<br>Valuation (in millions)=%{marker.size}<br>LAT=%{lat}<br>LONG=%{lon}<extra></extra>",
           "hovertext": [
            "Golden State Warriors"
           ],
           "lat": [
            37
           ],
           "legendgroup": "Golden State Warriors",
           "lon": [
            -122
           ],
           "marker": {
            "color": "red",
            "size": [
             7500000000
            ],
            "sizemode": "area",
            "sizeref": 100000000,
            "symbol": "circle"
           },
           "mode": "markers",
           "name": "Golden State Warriors",
           "showlegend": true,
           "type": "scattergeo"
          },
          {
           "geo": "geo",
           "hovertemplate": "<b>%{hovertext}</b><br><br>Team=Los Angeles Lakers<br>Year=2014<br>Valuation (in millions)=%{marker.size}<br>LAT=%{lat}<br>LONG=%{lon}<extra></extra>",
           "hovertext": [
            "Los Angeles Lakers"
           ],
           "lat": [
            34
           ],
           "legendgroup": "Los Angeles Lakers",
           "lon": [
            -118
           ],
           "marker": {
            "color": "yellow",
            "size": [
             13500000000
            ],
            "sizemode": "area",
            "sizeref": 100000000,
            "symbol": "circle"
           },
           "mode": "markers",
           "name": "Los Angeles Lakers",
           "showlegend": true,
           "type": "scattergeo"
          },
          {
           "geo": "geo",
           "hovertemplate": "<b>%{hovertext}</b><br><br>Team=Brooklyn Nets<br>Year=2014<br>Valuation (in millions)=%{marker.size}<br>LAT=%{lat}<br>LONG=%{lon}<extra></extra>",
           "hovertext": [
            "Brooklyn Nets"
           ],
           "lat": [
            40
           ],
           "legendgroup": "Brooklyn Nets",
           "lon": [
            -73
           ],
           "marker": {
            "color": "blue",
            "size": [
             7800000000
            ],
            "sizemode": "area",
            "sizeref": 100000000,
            "symbol": "circle"
           },
           "mode": "markers",
           "name": "Brooklyn Nets",
           "showlegend": true,
           "type": "scattergeo"
          },
          {
           "geo": "geo",
           "hovertemplate": "<b>%{hovertext}</b><br><br>Team=Boston Celtics<br>Year=2014<br>Valuation (in millions)=%{marker.size}<br>LAT=%{lat}<br>LONG=%{lon}<extra></extra>",
           "hovertext": [
            "Boston Celtics"
           ],
           "lat": [
            42
           ],
           "legendgroup": "Boston Celtics",
           "lon": [
            -71
           ],
           "marker": {
            "color": "red",
            "size": [
             8750000000
            ],
            "sizemode": "area",
            "sizeref": 100000000,
            "symbol": "circle"
           },
           "mode": "markers",
           "name": "Boston Celtics",
           "showlegend": true,
           "type": "scattergeo"
          },
          {
           "geo": "geo",
           "hovertemplate": "<b>%{hovertext}</b><br><br>Team=Chicago Bulls<br>Year=2014<br>Valuation (in millions)=%{marker.size}<br>LAT=%{lat}<br>LONG=%{lon}<extra></extra>",
           "hovertext": [
            "Chicago Bulls"
           ],
           "lat": [
            41
           ],
           "legendgroup": "Chicago Bulls",
           "lon": [
            -87
           ],
           "marker": {
            "color": "yellow",
            "size": [
             12000000000
            ],
            "sizemode": "area",
            "sizeref": 100000000,
            "symbol": "circle"
           },
           "mode": "markers",
           "name": "Chicago Bulls",
           "showlegend": true,
           "type": "scattergeo"
          },
          {
           "geo": "geo",
           "hovertemplate": "<b>%{hovertext}</b><br><br>Team=Houston Rockets<br>Year=2014<br>Valuation (in millions)=%{marker.size}<br>LAT=%{lat}<br>LONG=%{lon}<extra></extra>",
           "hovertext": [
            "Houston Rockets"
           ],
           "lat": [
            29
           ],
           "legendgroup": "Houston Rockets",
           "lon": [
            -95
           ],
           "marker": {
            "color": "blue",
            "size": [
             7750000000
            ],
            "sizemode": "area",
            "sizeref": 100000000,
            "symbol": "circle"
           },
           "mode": "markers",
           "name": "Houston Rockets",
           "showlegend": true,
           "type": "scattergeo"
          },
          {
           "geo": "geo",
           "hovertemplate": "<b>%{hovertext}</b><br><br>Team=Los Angeles Clippers<br>Year=2014<br>Valuation (in millions)=%{marker.size}<br>LAT=%{lat}<br>LONG=%{lon}<extra></extra>",
           "hovertext": [
            "Los Angeles Clippers"
           ],
           "lat": [
            34
           ],
           "legendgroup": "Los Angeles Clippers",
           "lon": [
            -118
           ],
           "marker": {
            "color": "red",
            "size": [
             5750000000
            ],
            "sizemode": "area",
            "sizeref": 100000000,
            "symbol": "circle"
           },
           "mode": "markers",
           "name": "Los Angeles Clippers",
           "showlegend": true,
           "type": "scattergeo"
          },
          {
           "geo": "geo",
           "hovertemplate": "<b>%{hovertext}</b><br><br>Team=Dallas Mavericks<br>Year=2014<br>Valuation (in millions)=%{marker.size}<br>LAT=%{lat}<br>LONG=%{lon}<extra></extra>",
           "hovertext": [
            "Dallas Mavericks"
           ],
           "lat": [
            32
           ],
           "legendgroup": "Dallas Mavericks",
           "lon": [
            -96
           ],
           "marker": {
            "color": "yellow",
            "size": [
             7650000000
            ],
            "sizemode": "area",
            "sizeref": 100000000,
            "symbol": "circle"
           },
           "mode": "markers",
           "name": "Dallas Mavericks",
           "showlegend": true,
           "type": "scattergeo"
          },
          {
           "geo": "geo",
           "hovertemplate": "<b>%{hovertext}</b><br><br>Team=Toronto Raptors<br>Year=2014<br>Valuation (in millions)=%{marker.size}<br>LAT=%{lat}<br>LONG=%{lon}<extra></extra>",
           "hovertext": [
            "Toronto Raptors"
           ],
           "lat": [
            43
           ],
           "legendgroup": "Toronto Raptors",
           "lon": [
            -79
           ],
           "marker": {
            "color": "blue",
            "size": [
             5200000000
            ],
            "sizemode": "area",
            "sizeref": 100000000,
            "symbol": "circle"
           },
           "mode": "markers",
           "name": "Toronto Raptors",
           "showlegend": true,
           "type": "scattergeo"
          },
          {
           "geo": "geo",
           "hovertemplate": "<b>%{hovertext}</b><br><br>Team=Philadelphia 76ers<br>Year=2014<br>Valuation (in millions)=%{marker.size}<br>LAT=%{lat}<br>LONG=%{lon}<extra></extra>",
           "hovertext": [
            "Philadelphia 76ers"
           ],
           "lat": [
            39
           ],
           "legendgroup": "Philadelphia 76ers",
           "lon": [
            -75
           ],
           "marker": {
            "color": "red",
            "size": [
             4690000000
            ],
            "sizemode": "area",
            "sizeref": 100000000,
            "symbol": "circle"
           },
           "mode": "markers",
           "name": "Philadelphia 76ers",
           "showlegend": true,
           "type": "scattergeo"
          },
          {
           "geo": "geo",
           "hovertemplate": "<b>%{hovertext}</b><br><br>Team=Miami Heat<br>Year=2014<br>Valuation (in millions)=%{marker.size}<br>LAT=%{lat}<br>LONG=%{lon}<extra></extra>",
           "hovertext": [
            "Miami Heat"
           ],
           "lat": [
            25
           ],
           "legendgroup": "Miami Heat",
           "lon": [
            -80
           ],
           "marker": {
            "color": "yellow",
            "size": [
             7700000000
            ],
            "sizemode": "area",
            "sizeref": 100000000,
            "symbol": "circle"
           },
           "mode": "markers",
           "name": "Miami Heat",
           "showlegend": true,
           "type": "scattergeo"
          },
          {
           "geo": "geo",
           "hovertemplate": "<b>%{hovertext}</b><br><br>Team=San Antonio Spurs<br>Year=2014<br>Valuation (in millions)=%{marker.size}<br>LAT=%{lat}<br>LONG=%{lon}<extra></extra>",
           "hovertext": [
            "San Antonio Spurs"
           ],
           "lat": [
            29
           ],
           "legendgroup": "San Antonio Spurs",
           "lon": [
            -98
           ],
           "marker": {
            "color": "blue",
            "size": [
             6600000000
            ],
            "sizemode": "area",
            "sizeref": 100000000,
            "symbol": "circle"
           },
           "mode": "markers",
           "name": "San Antonio Spurs",
           "showlegend": true,
           "type": "scattergeo"
          },
          {
           "geo": "geo",
           "hovertemplate": "<b>%{hovertext}</b><br><br>Team=Washington Wizards<br>Year=2014<br>Valuation (in millions)=%{marker.size}<br>LAT=%{lat}<br>LONG=%{lon}<extra></extra>",
           "hovertext": [
            "Washington Wizards"
           ],
           "lat": [
            38
           ],
           "legendgroup": "Washington Wizards",
           "lon": [
            -77
           ],
           "marker": {
            "color": "red",
            "size": [
             4850000000
            ],
            "sizemode": "area",
            "sizeref": 100000000,
            "symbol": "circle"
           },
           "mode": "markers",
           "name": "Washington Wizards",
           "showlegend": true,
           "type": "scattergeo"
          },
          {
           "geo": "geo",
           "hovertemplate": "<b>%{hovertext}</b><br><br>Team=Portland Trail Blazers<br>Year=2014<br>Valuation (in millions)=%{marker.size}<br>LAT=%{lat}<br>LONG=%{lon}<extra></extra>",
           "hovertext": [
            "Portland Trail Blazers"
           ],
           "lat": [
            45
           ],
           "legendgroup": "Portland Trail Blazers",
           "lon": [
            -122
           ],
           "marker": {
            "color": "yellow",
            "size": [
             5870000000
            ],
            "sizemode": "area",
            "sizeref": 100000000,
            "symbol": "circle"
           },
           "mode": "markers",
           "name": "Portland Trail Blazers",
           "showlegend": true,
           "type": "scattergeo"
          },
          {
           "geo": "geo",
           "hovertemplate": "<b>%{hovertext}</b><br><br>Team=Milwaukee Bucks<br>Year=2014<br>Valuation (in millions)=%{marker.size}<br>LAT=%{lat}<br>LONG=%{lon}<extra></extra>",
           "hovertext": [
            "Milwaukee Bucks"
           ],
           "lat": [
            43
           ],
           "legendgroup": "Milwaukee Bucks",
           "lon": [
            -87
           ],
           "marker": {
            "color": "blue",
            "size": [
             4050000000
            ],
            "sizemode": "area",
            "sizeref": 100000000,
            "symbol": "circle"
           },
           "mode": "markers",
           "name": "Milwaukee Bucks",
           "showlegend": true,
           "type": "scattergeo"
          },
          {
           "geo": "geo",
           "hovertemplate": "<b>%{hovertext}</b><br><br>Team=Sacramento Kings<br>Year=2014<br>Valuation (in millions)=%{marker.size}<br>LAT=%{lat}<br>LONG=%{lon}<extra></extra>",
           "hovertext": [
            "Sacramento Kings"
           ],
           "lat": [
            38
           ],
           "legendgroup": "Sacramento Kings",
           "lon": [
            -121
           ],
           "marker": {
            "color": "red",
            "size": [
             5500000000
            ],
            "sizemode": "area",
            "sizeref": 100000000,
            "symbol": "circle"
           },
           "mode": "markers",
           "name": "Sacramento Kings",
           "showlegend": true,
           "type": "scattergeo"
          },
          {
           "geo": "geo",
           "hovertemplate": "<b>%{hovertext}</b><br><br>Team=Denver Nuggets<br>Year=2014<br>Valuation (in millions)=%{marker.size}<br>LAT=%{lat}<br>LONG=%{lon}<extra></extra>",
           "hovertext": [
            "Denver Nuggets"
           ],
           "lat": [
            39
           ],
           "legendgroup": "Denver Nuggets",
           "lon": [
            -104
           ],
           "marker": {
            "color": "yellow",
            "size": [
             4950000000
            ],
            "sizemode": "area",
            "sizeref": 100000000,
            "symbol": "circle"
           },
           "mode": "markers",
           "name": "Denver Nuggets",
           "showlegend": true,
           "type": "scattergeo"
          },
          {
           "geo": "geo",
           "hovertemplate": "<b>%{hovertext}</b><br><br>Team=Cleveland Cavaliers<br>Year=2014<br>Valuation (in millions)=%{marker.size}<br>LAT=%{lat}<br>LONG=%{lon}<extra></extra>",
           "hovertext": [
            "Cleveland Cavaliers"
           ],
           "lat": [
            41
           ],
           "legendgroup": "Cleveland Cavaliers",
           "lon": [
            -81
           ],
           "marker": {
            "color": "blue",
            "size": [
             5150000000
            ],
            "sizemode": "area",
            "sizeref": 100000000,
            "symbol": "circle"
           },
           "mode": "markers",
           "name": "Cleveland Cavaliers",
           "showlegend": true,
           "type": "scattergeo"
          },
          {
           "geo": "geo",
           "hovertemplate": "<b>%{hovertext}</b><br><br>Team=Detroit Pistons<br>Year=2014<br>Valuation (in millions)=%{marker.size}<br>LAT=%{lat}<br>LONG=%{lon}<extra></extra>",
           "hovertext": [
            "Detroit Pistons"
           ],
           "lat": [
            42
           ],
           "legendgroup": "Detroit Pistons",
           "lon": [
            -83
           ],
           "marker": {
            "color": "red",
            "size": [
             4500000000
            ],
            "sizemode": "area",
            "sizeref": 100000000,
            "symbol": "circle"
           },
           "mode": "markers",
           "name": "Detroit Pistons",
           "showlegend": true,
           "type": "scattergeo"
          },
          {
           "geo": "geo",
           "hovertemplate": "<b>%{hovertext}</b><br><br>Team=Utah Jazz<br>Year=2014<br>Valuation (in millions)=%{marker.size}<br>LAT=%{lat}<br>LONG=%{lon}<extra></extra>",
           "hovertext": [
            "Utah Jazz"
           ],
           "lat": [
            40
           ],
           "legendgroup": "Utah Jazz",
           "lon": [
            -111
           ],
           "marker": {
            "color": "yellow",
            "size": [
             5250000000
            ],
            "sizemode": "area",
            "sizeref": 100000000,
            "symbol": "circle"
           },
           "mode": "markers",
           "name": "Utah Jazz",
           "showlegend": true,
           "type": "scattergeo"
          },
          {
           "geo": "geo",
           "hovertemplate": "<b>%{hovertext}</b><br><br>Team=Oklahoma City Thunder<br>Year=2014<br>Valuation (in millions)=%{marker.size}<br>LAT=%{lat}<br>LONG=%{lon}<extra></extra>",
           "hovertext": [
            "Oklahoma City Thunder"
           ],
           "lat": [
            35
           ],
           "legendgroup": "Oklahoma City Thunder",
           "lon": [
            -97
           ],
           "marker": {
            "color": "blue",
            "size": [
             5900000000
            ],
            "sizemode": "area",
            "sizeref": 100000000,
            "symbol": "circle"
           },
           "mode": "markers",
           "name": "Oklahoma City Thunder",
           "showlegend": true,
           "type": "scattergeo"
          },
          {
           "geo": "geo",
           "hovertemplate": "<b>%{hovertext}</b><br><br>Team=Phoenix Suns<br>Year=2014<br>Valuation (in millions)=%{marker.size}<br>LAT=%{lat}<br>LONG=%{lon}<extra></extra>",
           "hovertext": [
            "Phoenix Suns"
           ],
           "lat": [
            33
           ],
           "legendgroup": "Phoenix Suns",
           "lon": [
            -112
           ],
           "marker": {
            "color": "red",
            "size": [
             5650000000
            ],
            "sizemode": "area",
            "sizeref": 100000000,
            "symbol": "circle"
           },
           "mode": "markers",
           "name": "Phoenix Suns",
           "showlegend": true,
           "type": "scattergeo"
          },
          {
           "geo": "geo",
           "hovertemplate": "<b>%{hovertext}</b><br><br>Team=Indiana Pacers<br>Year=2014<br>Valuation (in millions)=%{marker.size}<br>LAT=%{lat}<br>LONG=%{lon}<extra></extra>",
           "hovertext": [
            "Indiana Pacers"
           ],
           "lat": [
            39
           ],
           "legendgroup": "Indiana Pacers",
           "lon": [
            -86
           ],
           "marker": {
            "color": "yellow",
            "size": [
             4750000000
            ],
            "sizemode": "area",
            "sizeref": 100000000,
            "symbol": "circle"
           },
           "mode": "markers",
           "name": "Indiana Pacers",
           "showlegend": true,
           "type": "scattergeo"
          },
          {
           "geo": "geo",
           "hovertemplate": "<b>%{hovertext}</b><br><br>Team=Atlanta Hawks<br>Year=2014<br>Valuation (in millions)=%{marker.size}<br>LAT=%{lat}<br>LONG=%{lon}<extra></extra>",
           "hovertext": [
            "Atlanta Hawks"
           ],
           "lat": [
            33
           ],
           "legendgroup": "Atlanta Hawks",
           "lon": [
            -84
           ],
           "marker": {
            "color": "blue",
            "size": [
             4250000000
            ],
            "sizemode": "area",
            "sizeref": 100000000,
            "symbol": "circle"
           },
           "mode": "markers",
           "name": "Atlanta Hawks",
           "showlegend": true,
           "type": "scattergeo"
          },
          {
           "geo": "geo",
           "hovertemplate": "<b>%{hovertext}</b><br><br>Team=Orlando Magic<br>Year=2014<br>Valuation (in millions)=%{marker.size}<br>LAT=%{lat}<br>LONG=%{lon}<extra></extra>",
           "hovertext": [
            "Orlando Magic"
           ],
           "lat": [
            28
           ],
           "legendgroup": "Orlando Magic",
           "lon": [
            -81
           ],
           "marker": {
            "color": "red",
            "size": [
             5600000000
            ],
            "sizemode": "area",
            "sizeref": 100000000,
            "symbol": "circle"
           },
           "mode": "markers",
           "name": "Orlando Magic",
           "showlegend": true,
           "type": "scattergeo"
          },
          {
           "geo": "geo",
           "hovertemplate": "<b>%{hovertext}</b><br><br>Team=Charlotte Hornets<br>Year=2014<br>Valuation (in millions)=%{marker.size}<br>LAT=%{lat}<br>LONG=%{lon}<extra></extra>",
           "hovertext": [
            "Charlotte Hornets"
           ],
           "lat": [
            35
           ],
           "legendgroup": "Charlotte Hornets",
           "lon": [
            -80
           ],
           "marker": {
            "color": "yellow",
            "size": [
             4100000000
            ],
            "sizemode": "area",
            "sizeref": 100000000,
            "symbol": "circle"
           },
           "mode": "markers",
           "name": "Charlotte Hornets",
           "showlegend": true,
           "type": "scattergeo"
          },
          {
           "geo": "geo",
           "hovertemplate": "<b>%{hovertext}</b><br><br>Team=Minnesota Timberwolves<br>Year=2014<br>Valuation (in millions)=%{marker.size}<br>LAT=%{lat}<br>LONG=%{lon}<extra></extra>",
           "hovertext": [
            "Minnesota Timberwolves"
           ],
           "lat": [
            44
           ],
           "legendgroup": "Minnesota Timberwolves",
           "lon": [
            -93
           ],
           "marker": {
            "color": "blue",
            "size": [
             4300000000
            ],
            "sizemode": "area",
            "sizeref": 100000000,
            "symbol": "circle"
           },
           "mode": "markers",
           "name": "Minnesota Timberwolves",
           "showlegend": true,
           "type": "scattergeo"
          },
          {
           "geo": "geo",
           "hovertemplate": "<b>%{hovertext}</b><br><br>Team=Memphis Grizzlies<br>Year=2014<br>Valuation (in millions)=%{marker.size}<br>LAT=%{lat}<br>LONG=%{lon}<extra></extra>",
           "hovertext": [
            "Memphis Grizzlies"
           ],
           "lat": [
            35
           ],
           "legendgroup": "Memphis Grizzlies",
           "lon": [
            -90
           ],
           "marker": {
            "color": "red",
            "size": [
             4530000000
            ],
            "sizemode": "area",
            "sizeref": 100000000,
            "symbol": "circle"
           },
           "mode": "markers",
           "name": "Memphis Grizzlies",
           "showlegend": true,
           "type": "scattergeo"
          },
          {
           "geo": "geo",
           "hovertemplate": "<b>%{hovertext}</b><br><br>Team=New Orleans Pelicans<br>Year=2014<br>Valuation (in millions)=%{marker.size}<br>LAT=%{lat}<br>LONG=%{lon}<extra></extra>",
           "hovertext": [
            "New Orleans Pelicans"
           ],
           "lat": [
            29
           ],
           "legendgroup": "New Orleans Pelicans",
           "lon": [
            -90
           ],
           "marker": {
            "color": "yellow",
            "size": [
             4200000000
            ],
            "sizemode": "area",
            "sizeref": 100000000,
            "symbol": "circle"
           },
           "mode": "markers",
           "name": "New Orleans Pelicans",
           "showlegend": true,
           "type": "scattergeo"
          }
         ],
         "name": "2014"
        },
        {
         "data": [
          {
           "geo": "geo",
           "hovertemplate": "<b>%{hovertext}</b><br><br>Team=New York Knicks<br>Year=2015<br>Valuation (in millions)=%{marker.size}<br>LAT=%{lat}<br>LONG=%{lon}<extra></extra>",
           "hovertext": [
            "New York Knicks"
           ],
           "lat": [
            40
           ],
           "legendgroup": "New York Knicks",
           "lon": [
            -73
           ],
           "marker": {
            "color": "blue",
            "size": [
             25000000000
            ],
            "sizemode": "area",
            "sizeref": 100000000,
            "symbol": "circle"
           },
           "mode": "markers",
           "name": "New York Knicks",
           "showlegend": true,
           "type": "scattergeo"
          },
          {
           "geo": "geo",
           "hovertemplate": "<b>%{hovertext}</b><br><br>Team=Golden State Warriors<br>Year=2015<br>Valuation (in millions)=%{marker.size}<br>LAT=%{lat}<br>LONG=%{lon}<extra></extra>",
           "hovertext": [
            "Golden State Warriors"
           ],
           "lat": [
            37
           ],
           "legendgroup": "Golden State Warriors",
           "lon": [
            -122
           ],
           "marker": {
            "color": "red",
            "size": [
             13000000000
            ],
            "sizemode": "area",
            "sizeref": 100000000,
            "symbol": "circle"
           },
           "mode": "markers",
           "name": "Golden State Warriors",
           "showlegend": true,
           "type": "scattergeo"
          },
          {
           "geo": "geo",
           "hovertemplate": "<b>%{hovertext}</b><br><br>Team=Los Angeles Lakers<br>Year=2015<br>Valuation (in millions)=%{marker.size}<br>LAT=%{lat}<br>LONG=%{lon}<extra></extra>",
           "hovertext": [
            "Los Angeles Lakers"
           ],
           "lat": [
            34
           ],
           "legendgroup": "Los Angeles Lakers",
           "lon": [
            -118
           ],
           "marker": {
            "color": "yellow",
            "size": [
             26000000000
            ],
            "sizemode": "area",
            "sizeref": 100000000,
            "symbol": "circle"
           },
           "mode": "markers",
           "name": "Los Angeles Lakers",
           "showlegend": true,
           "type": "scattergeo"
          },
          {
           "geo": "geo",
           "hovertemplate": "<b>%{hovertext}</b><br><br>Team=Brooklyn Nets<br>Year=2015<br>Valuation (in millions)=%{marker.size}<br>LAT=%{lat}<br>LONG=%{lon}<extra></extra>",
           "hovertext": [
            "Brooklyn Nets"
           ],
           "lat": [
            40
           ],
           "legendgroup": "Brooklyn Nets",
           "lon": [
            -73
           ],
           "marker": {
            "color": "blue",
            "size": [
             15000000000
            ],
            "sizemode": "area",
            "sizeref": 100000000,
            "symbol": "circle"
           },
           "mode": "markers",
           "name": "Brooklyn Nets",
           "showlegend": true,
           "type": "scattergeo"
          },
          {
           "geo": "geo",
           "hovertemplate": "<b>%{hovertext}</b><br><br>Team=Boston Celtics<br>Year=2015<br>Valuation (in millions)=%{marker.size}<br>LAT=%{lat}<br>LONG=%{lon}<extra></extra>",
           "hovertext": [
            "Boston Celtics"
           ],
           "lat": [
            42
           ],
           "legendgroup": "Boston Celtics",
           "lon": [
            -71
           ],
           "marker": {
            "color": "red",
            "size": [
             17000000000
            ],
            "sizemode": "area",
            "sizeref": 100000000,
            "symbol": "circle"
           },
           "mode": "markers",
           "name": "Boston Celtics",
           "showlegend": true,
           "type": "scattergeo"
          },
          {
           "geo": "geo",
           "hovertemplate": "<b>%{hovertext}</b><br><br>Team=Chicago Bulls<br>Year=2015<br>Valuation (in millions)=%{marker.size}<br>LAT=%{lat}<br>LONG=%{lon}<extra></extra>",
           "hovertext": [
            "Chicago Bulls"
           ],
           "lat": [
            41
           ],
           "legendgroup": "Chicago Bulls",
           "lon": [
            -87
           ],
           "marker": {
            "color": "yellow",
            "size": [
             20000000000
            ],
            "sizemode": "area",
            "sizeref": 100000000,
            "symbol": "circle"
           },
           "mode": "markers",
           "name": "Chicago Bulls",
           "showlegend": true,
           "type": "scattergeo"
          },
          {
           "geo": "geo",
           "hovertemplate": "<b>%{hovertext}</b><br><br>Team=Houston Rockets<br>Year=2015<br>Valuation (in millions)=%{marker.size}<br>LAT=%{lat}<br>LONG=%{lon}<extra></extra>",
           "hovertext": [
            "Houston Rockets"
           ],
           "lat": [
            29
           ],
           "legendgroup": "Houston Rockets",
           "lon": [
            -95
           ],
           "marker": {
            "color": "blue",
            "size": [
             12500000000
            ],
            "sizemode": "area",
            "sizeref": 100000000,
            "symbol": "circle"
           },
           "mode": "markers",
           "name": "Houston Rockets",
           "showlegend": true,
           "type": "scattergeo"
          },
          {
           "geo": "geo",
           "hovertemplate": "<b>%{hovertext}</b><br><br>Team=Los Angeles Clippers<br>Year=2015<br>Valuation (in millions)=%{marker.size}<br>LAT=%{lat}<br>LONG=%{lon}<extra></extra>",
           "hovertext": [
            "Los Angeles Clippers"
           ],
           "lat": [
            34
           ],
           "legendgroup": "Los Angeles Clippers",
           "lon": [
            -118
           ],
           "marker": {
            "color": "red",
            "size": [
             16000000000
            ],
            "sizemode": "area",
            "sizeref": 100000000,
            "symbol": "circle"
           },
           "mode": "markers",
           "name": "Los Angeles Clippers",
           "showlegend": true,
           "type": "scattergeo"
          },
          {
           "geo": "geo",
           "hovertemplate": "<b>%{hovertext}</b><br><br>Team=Dallas Mavericks<br>Year=2015<br>Valuation (in millions)=%{marker.size}<br>LAT=%{lat}<br>LONG=%{lon}<extra></extra>",
           "hovertext": [
            "Dallas Mavericks"
           ],
           "lat": [
            32
           ],
           "legendgroup": "Dallas Mavericks",
           "lon": [
            -96
           ],
           "marker": {
            "color": "yellow",
            "size": [
             11500000000
            ],
            "sizemode": "area",
            "sizeref": 100000000,
            "symbol": "circle"
           },
           "mode": "markers",
           "name": "Dallas Mavericks",
           "showlegend": true,
           "type": "scattergeo"
          },
          {
           "geo": "geo",
           "hovertemplate": "<b>%{hovertext}</b><br><br>Team=Toronto Raptors<br>Year=2015<br>Valuation (in millions)=%{marker.size}<br>LAT=%{lat}<br>LONG=%{lon}<extra></extra>",
           "hovertext": [
            "Toronto Raptors"
           ],
           "lat": [
            43
           ],
           "legendgroup": "Toronto Raptors",
           "lon": [
            -79
           ],
           "marker": {
            "color": "blue",
            "size": [
             9200000000
            ],
            "sizemode": "area",
            "sizeref": 100000000,
            "symbol": "circle"
           },
           "mode": "markers",
           "name": "Toronto Raptors",
           "showlegend": true,
           "type": "scattergeo"
          },
          {
           "geo": "geo",
           "hovertemplate": "<b>%{hovertext}</b><br><br>Team=Philadelphia 76ers<br>Year=2015<br>Valuation (in millions)=%{marker.size}<br>LAT=%{lat}<br>LONG=%{lon}<extra></extra>",
           "hovertext": [
            "Philadelphia 76ers"
           ],
           "lat": [
            39
           ],
           "legendgroup": "Philadelphia 76ers",
           "lon": [
            -75
           ],
           "marker": {
            "color": "red",
            "size": [
             7000000000
            ],
            "sizemode": "area",
            "sizeref": 100000000,
            "symbol": "circle"
           },
           "mode": "markers",
           "name": "Philadelphia 76ers",
           "showlegend": true,
           "type": "scattergeo"
          },
          {
           "geo": "geo",
           "hovertemplate": "<b>%{hovertext}</b><br><br>Team=Miami Heat<br>Year=2015<br>Valuation (in millions)=%{marker.size}<br>LAT=%{lat}<br>LONG=%{lon}<extra></extra>",
           "hovertext": [
            "Miami Heat"
           ],
           "lat": [
            25
           ],
           "legendgroup": "Miami Heat",
           "lon": [
            -80
           ],
           "marker": {
            "color": "yellow",
            "size": [
             11750000000
            ],
            "sizemode": "area",
            "sizeref": 100000000,
            "symbol": "circle"
           },
           "mode": "markers",
           "name": "Miami Heat",
           "showlegend": true,
           "type": "scattergeo"
          },
          {
           "geo": "geo",
           "hovertemplate": "<b>%{hovertext}</b><br><br>Team=San Antonio Spurs<br>Year=2015<br>Valuation (in millions)=%{marker.size}<br>LAT=%{lat}<br>LONG=%{lon}<extra></extra>",
           "hovertext": [
            "San Antonio Spurs"
           ],
           "lat": [
            29
           ],
           "legendgroup": "San Antonio Spurs",
           "lon": [
            -98
           ],
           "marker": {
            "color": "blue",
            "size": [
             10000000000
            ],
            "sizemode": "area",
            "sizeref": 100000000,
            "symbol": "circle"
           },
           "mode": "markers",
           "name": "San Antonio Spurs",
           "showlegend": true,
           "type": "scattergeo"
          },
          {
           "geo": "geo",
           "hovertemplate": "<b>%{hovertext}</b><br><br>Team=Washington Wizards<br>Year=2015<br>Valuation (in millions)=%{marker.size}<br>LAT=%{lat}<br>LONG=%{lon}<extra></extra>",
           "hovertext": [
            "Washington Wizards"
           ],
           "lat": [
            38
           ],
           "legendgroup": "Washington Wizards",
           "lon": [
            -77
           ],
           "marker": {
            "color": "red",
            "size": [
             9000000000
            ],
            "sizemode": "area",
            "sizeref": 100000000,
            "symbol": "circle"
           },
           "mode": "markers",
           "name": "Washington Wizards",
           "showlegend": true,
           "type": "scattergeo"
          },
          {
           "geo": "geo",
           "hovertemplate": "<b>%{hovertext}</b><br><br>Team=Portland Trail Blazers<br>Year=2015<br>Valuation (in millions)=%{marker.size}<br>LAT=%{lat}<br>LONG=%{lon}<extra></extra>",
           "hovertext": [
            "Portland Trail Blazers"
           ],
           "lat": [
            45
           ],
           "legendgroup": "Portland Trail Blazers",
           "lon": [
            -122
           ],
           "marker": {
            "color": "yellow",
            "size": [
             9400000000
            ],
            "sizemode": "area",
            "sizeref": 100000000,
            "symbol": "circle"
           },
           "mode": "markers",
           "name": "Portland Trail Blazers",
           "showlegend": true,
           "type": "scattergeo"
          },
          {
           "geo": "geo",
           "hovertemplate": "<b>%{hovertext}</b><br><br>Team=Milwaukee Bucks<br>Year=2015<br>Valuation (in millions)=%{marker.size}<br>LAT=%{lat}<br>LONG=%{lon}<extra></extra>",
           "hovertext": [
            "Milwaukee Bucks"
           ],
           "lat": [
            43
           ],
           "legendgroup": "Milwaukee Bucks",
           "lon": [
            -87
           ],
           "marker": {
            "color": "blue",
            "size": [
             6000000000
            ],
            "sizemode": "area",
            "sizeref": 100000000,
            "symbol": "circle"
           },
           "mode": "markers",
           "name": "Milwaukee Bucks",
           "showlegend": true,
           "type": "scattergeo"
          },
          {
           "geo": "geo",
           "hovertemplate": "<b>%{hovertext}</b><br><br>Team=Sacramento Kings<br>Year=2015<br>Valuation (in millions)=%{marker.size}<br>LAT=%{lat}<br>LONG=%{lon}<extra></extra>",
           "hovertext": [
            "Sacramento Kings"
           ],
           "lat": [
            38
           ],
           "legendgroup": "Sacramento Kings",
           "lon": [
            -121
           ],
           "marker": {
            "color": "red",
            "size": [
             8000000000
            ],
            "sizemode": "area",
            "sizeref": 100000000,
            "symbol": "circle"
           },
           "mode": "markers",
           "name": "Sacramento Kings",
           "showlegend": true,
           "type": "scattergeo"
          },
          {
           "geo": "geo",
           "hovertemplate": "<b>%{hovertext}</b><br><br>Team=Denver Nuggets<br>Year=2015<br>Valuation (in millions)=%{marker.size}<br>LAT=%{lat}<br>LONG=%{lon}<extra></extra>",
           "hovertext": [
            "Denver Nuggets"
           ],
           "lat": [
            39
           ],
           "legendgroup": "Denver Nuggets",
           "lon": [
            -104
           ],
           "marker": {
            "color": "yellow",
            "size": [
             8550000000
            ],
            "sizemode": "area",
            "sizeref": 100000000,
            "symbol": "circle"
           },
           "mode": "markers",
           "name": "Denver Nuggets",
           "showlegend": true,
           "type": "scattergeo"
          },
          {
           "geo": "geo",
           "hovertemplate": "<b>%{hovertext}</b><br><br>Team=Cleveland Cavaliers<br>Year=2015<br>Valuation (in millions)=%{marker.size}<br>LAT=%{lat}<br>LONG=%{lon}<extra></extra>",
           "hovertext": [
            "Cleveland Cavaliers"
           ],
           "lat": [
            41
           ],
           "legendgroup": "Cleveland Cavaliers",
           "lon": [
            -81
           ],
           "marker": {
            "color": "blue",
            "size": [
             9150000000
            ],
            "sizemode": "area",
            "sizeref": 100000000,
            "symbol": "circle"
           },
           "mode": "markers",
           "name": "Cleveland Cavaliers",
           "showlegend": true,
           "type": "scattergeo"
          },
          {
           "geo": "geo",
           "hovertemplate": "<b>%{hovertext}</b><br><br>Team=Detroit Pistons<br>Year=2015<br>Valuation (in millions)=%{marker.size}<br>LAT=%{lat}<br>LONG=%{lon}<extra></extra>",
           "hovertext": [
            "Detroit Pistons"
           ],
           "lat": [
            42
           ],
           "legendgroup": "Detroit Pistons",
           "lon": [
            -83
           ],
           "marker": {
            "color": "red",
            "size": [
             8100000000
            ],
            "sizemode": "area",
            "sizeref": 100000000,
            "symbol": "circle"
           },
           "mode": "markers",
           "name": "Detroit Pistons",
           "showlegend": true,
           "type": "scattergeo"
          },
          {
           "geo": "geo",
           "hovertemplate": "<b>%{hovertext}</b><br><br>Team=Utah Jazz<br>Year=2015<br>Valuation (in millions)=%{marker.size}<br>LAT=%{lat}<br>LONG=%{lon}<extra></extra>",
           "hovertext": [
            "Utah Jazz"
           ],
           "lat": [
            40
           ],
           "legendgroup": "Utah Jazz",
           "lon": [
            -111
           ],
           "marker": {
            "color": "yellow",
            "size": [
             8500000000
            ],
            "sizemode": "area",
            "sizeref": 100000000,
            "symbol": "circle"
           },
           "mode": "markers",
           "name": "Utah Jazz",
           "showlegend": true,
           "type": "scattergeo"
          },
          {
           "geo": "geo",
           "hovertemplate": "<b>%{hovertext}</b><br><br>Team=Oklahoma City Thunder<br>Year=2015<br>Valuation (in millions)=%{marker.size}<br>LAT=%{lat}<br>LONG=%{lon}<extra></extra>",
           "hovertext": [
            "Oklahoma City Thunder"
           ],
           "lat": [
            35
           ],
           "legendgroup": "Oklahoma City Thunder",
           "lon": [
            -97
           ],
           "marker": {
            "color": "blue",
            "size": [
             9300000000
            ],
            "sizemode": "area",
            "sizeref": 100000000,
            "symbol": "circle"
           },
           "mode": "markers",
           "name": "Oklahoma City Thunder",
           "showlegend": true,
           "type": "scattergeo"
          },
          {
           "geo": "geo",
           "hovertemplate": "<b>%{hovertext}</b><br><br>Team=Phoenix Suns<br>Year=2015<br>Valuation (in millions)=%{marker.size}<br>LAT=%{lat}<br>LONG=%{lon}<extra></extra>",
           "hovertext": [
            "Phoenix Suns"
           ],
           "lat": [
            33
           ],
           "legendgroup": "Phoenix Suns",
           "lon": [
            -112
           ],
           "marker": {
            "color": "red",
            "size": [
             9100000000
            ],
            "sizemode": "area",
            "sizeref": 100000000,
            "symbol": "circle"
           },
           "mode": "markers",
           "name": "Phoenix Suns",
           "showlegend": true,
           "type": "scattergeo"
          },
          {
           "geo": "geo",
           "hovertemplate": "<b>%{hovertext}</b><br><br>Team=Indiana Pacers<br>Year=2015<br>Valuation (in millions)=%{marker.size}<br>LAT=%{lat}<br>LONG=%{lon}<extra></extra>",
           "hovertext": [
            "Indiana Pacers"
           ],
           "lat": [
            39
           ],
           "legendgroup": "Indiana Pacers",
           "lon": [
            -86
           ],
           "marker": {
            "color": "yellow",
            "size": [
             8300000000
            ],
            "sizemode": "area",
            "sizeref": 100000000,
            "symbol": "circle"
           },
           "mode": "markers",
           "name": "Indiana Pacers",
           "showlegend": true,
           "type": "scattergeo"
          },
          {
           "geo": "geo",
           "hovertemplate": "<b>%{hovertext}</b><br><br>Team=Atlanta Hawks<br>Year=2015<br>Valuation (in millions)=%{marker.size}<br>LAT=%{lat}<br>LONG=%{lon}<extra></extra>",
           "hovertext": [
            "Atlanta Hawks"
           ],
           "lat": [
            33
           ],
           "legendgroup": "Atlanta Hawks",
           "lon": [
            -84
           ],
           "marker": {
            "color": "blue",
            "size": [
             8250000000
            ],
            "sizemode": "area",
            "sizeref": 100000000,
            "symbol": "circle"
           },
           "mode": "markers",
           "name": "Atlanta Hawks",
           "showlegend": true,
           "type": "scattergeo"
          },
          {
           "geo": "geo",
           "hovertemplate": "<b>%{hovertext}</b><br><br>Team=Orlando Magic<br>Year=2015<br>Valuation (in millions)=%{marker.size}<br>LAT=%{lat}<br>LONG=%{lon}<extra></extra>",
           "hovertext": [
            "Orlando Magic"
           ],
           "lat": [
            28
           ],
           "legendgroup": "Orlando Magic",
           "lon": [
            -81
           ],
           "marker": {
            "color": "red",
            "size": [
             8750000000
            ],
            "sizemode": "area",
            "sizeref": 100000000,
            "symbol": "circle"
           },
           "mode": "markers",
           "name": "Orlando Magic",
           "showlegend": true,
           "type": "scattergeo"
          },
          {
           "geo": "geo",
           "hovertemplate": "<b>%{hovertext}</b><br><br>Team=Charlotte Hornets<br>Year=2015<br>Valuation (in millions)=%{marker.size}<br>LAT=%{lat}<br>LONG=%{lon}<extra></extra>",
           "hovertext": [
            "Charlotte Hornets"
           ],
           "lat": [
            35
           ],
           "legendgroup": "Charlotte Hornets",
           "lon": [
            -80
           ],
           "marker": {
            "color": "yellow",
            "size": [
             7250000000
            ],
            "sizemode": "area",
            "sizeref": 100000000,
            "symbol": "circle"
           },
           "mode": "markers",
           "name": "Charlotte Hornets",
           "showlegend": true,
           "type": "scattergeo"
          },
          {
           "geo": "geo",
           "hovertemplate": "<b>%{hovertext}</b><br><br>Team=Minnesota Timberwolves<br>Year=2015<br>Valuation (in millions)=%{marker.size}<br>LAT=%{lat}<br>LONG=%{lon}<extra></extra>",
           "hovertext": [
            "Minnesota Timberwolves"
           ],
           "lat": [
            44
           ],
           "legendgroup": "Minnesota Timberwolves",
           "lon": [
            -93
           ],
           "marker": {
            "color": "blue",
            "size": [
             6250000000
            ],
            "sizemode": "area",
            "sizeref": 100000000,
            "symbol": "circle"
           },
           "mode": "markers",
           "name": "Minnesota Timberwolves",
           "showlegend": true,
           "type": "scattergeo"
          },
          {
           "geo": "geo",
           "hovertemplate": "<b>%{hovertext}</b><br><br>Team=Memphis Grizzlies<br>Year=2015<br>Valuation (in millions)=%{marker.size}<br>LAT=%{lat}<br>LONG=%{lon}<extra></extra>",
           "hovertext": [
            "Memphis Grizzlies"
           ],
           "lat": [
            35
           ],
           "legendgroup": "Memphis Grizzlies",
           "lon": [
            -90
           ],
           "marker": {
            "color": "red",
            "size": [
             7500000000
            ],
            "sizemode": "area",
            "sizeref": 100000000,
            "symbol": "circle"
           },
           "mode": "markers",
           "name": "Memphis Grizzlies",
           "showlegend": true,
           "type": "scattergeo"
          },
          {
           "geo": "geo",
           "hovertemplate": "<b>%{hovertext}</b><br><br>Team=New Orleans Pelicans<br>Year=2015<br>Valuation (in millions)=%{marker.size}<br>LAT=%{lat}<br>LONG=%{lon}<extra></extra>",
           "hovertext": [
            "New Orleans Pelicans"
           ],
           "lat": [
            29
           ],
           "legendgroup": "New Orleans Pelicans",
           "lon": [
            -90
           ],
           "marker": {
            "color": "yellow",
            "size": [
             6500000000
            ],
            "sizemode": "area",
            "sizeref": 100000000,
            "symbol": "circle"
           },
           "mode": "markers",
           "name": "New Orleans Pelicans",
           "showlegend": true,
           "type": "scattergeo"
          }
         ],
         "name": "2015"
        },
        {
         "data": [
          {
           "geo": "geo",
           "hovertemplate": "<b>%{hovertext}</b><br><br>Team=New York Knicks<br>Year=2016<br>Valuation (in millions)=%{marker.size}<br>LAT=%{lat}<br>LONG=%{lon}<extra></extra>",
           "hovertext": [
            "New York Knicks"
           ],
           "lat": [
            40
           ],
           "legendgroup": "New York Knicks",
           "lon": [
            -73
           ],
           "marker": {
            "color": "blue",
            "size": [
             30000000000
            ],
            "sizemode": "area",
            "sizeref": 100000000,
            "symbol": "circle"
           },
           "mode": "markers",
           "name": "New York Knicks",
           "showlegend": true,
           "type": "scattergeo"
          },
          {
           "geo": "geo",
           "hovertemplate": "<b>%{hovertext}</b><br><br>Team=Golden State Warriors<br>Year=2016<br>Valuation (in millions)=%{marker.size}<br>LAT=%{lat}<br>LONG=%{lon}<extra></extra>",
           "hovertext": [
            "Golden State Warriors"
           ],
           "lat": [
            37
           ],
           "legendgroup": "Golden State Warriors",
           "lon": [
            -122
           ],
           "marker": {
            "color": "red",
            "size": [
             19000000000
            ],
            "sizemode": "area",
            "sizeref": 100000000,
            "symbol": "circle"
           },
           "mode": "markers",
           "name": "Golden State Warriors",
           "showlegend": true,
           "type": "scattergeo"
          },
          {
           "geo": "geo",
           "hovertemplate": "<b>%{hovertext}</b><br><br>Team=Los Angeles Lakers<br>Year=2016<br>Valuation (in millions)=%{marker.size}<br>LAT=%{lat}<br>LONG=%{lon}<extra></extra>",
           "hovertext": [
            "Los Angeles Lakers"
           ],
           "lat": [
            34
           ],
           "legendgroup": "Los Angeles Lakers",
           "lon": [
            -118
           ],
           "marker": {
            "color": "yellow",
            "size": [
             27000000000
            ],
            "sizemode": "area",
            "sizeref": 100000000,
            "symbol": "circle"
           },
           "mode": "markers",
           "name": "Los Angeles Lakers",
           "showlegend": true,
           "type": "scattergeo"
          },
          {
           "geo": "geo",
           "hovertemplate": "<b>%{hovertext}</b><br><br>Team=Brooklyn Nets<br>Year=2016<br>Valuation (in millions)=%{marker.size}<br>LAT=%{lat}<br>LONG=%{lon}<extra></extra>",
           "hovertext": [
            "Brooklyn Nets"
           ],
           "lat": [
            40
           ],
           "legendgroup": "Brooklyn Nets",
           "lon": [
            -73
           ],
           "marker": {
            "color": "blue",
            "size": [
             17000000000
            ],
            "sizemode": "area",
            "sizeref": 100000000,
            "symbol": "circle"
           },
           "mode": "markers",
           "name": "Brooklyn Nets",
           "showlegend": true,
           "type": "scattergeo"
          },
          {
           "geo": "geo",
           "hovertemplate": "<b>%{hovertext}</b><br><br>Team=Boston Celtics<br>Year=2016<br>Valuation (in millions)=%{marker.size}<br>LAT=%{lat}<br>LONG=%{lon}<extra></extra>",
           "hovertext": [
            "Boston Celtics"
           ],
           "lat": [
            42
           ],
           "legendgroup": "Boston Celtics",
           "lon": [
            -71
           ],
           "marker": {
            "color": "red",
            "size": [
             21000000000
            ],
            "sizemode": "area",
            "sizeref": 100000000,
            "symbol": "circle"
           },
           "mode": "markers",
           "name": "Boston Celtics",
           "showlegend": true,
           "type": "scattergeo"
          },
          {
           "geo": "geo",
           "hovertemplate": "<b>%{hovertext}</b><br><br>Team=Chicago Bulls<br>Year=2016<br>Valuation (in millions)=%{marker.size}<br>LAT=%{lat}<br>LONG=%{lon}<extra></extra>",
           "hovertext": [
            "Chicago Bulls"
           ],
           "lat": [
            41
           ],
           "legendgroup": "Chicago Bulls",
           "lon": [
            -87
           ],
           "marker": {
            "color": "yellow",
            "size": [
             23000000000
            ],
            "sizemode": "area",
            "sizeref": 100000000,
            "symbol": "circle"
           },
           "mode": "markers",
           "name": "Chicago Bulls",
           "showlegend": true,
           "type": "scattergeo"
          },
          {
           "geo": "geo",
           "hovertemplate": "<b>%{hovertext}</b><br><br>Team=Houston Rockets<br>Year=2016<br>Valuation (in millions)=%{marker.size}<br>LAT=%{lat}<br>LONG=%{lon}<extra></extra>",
           "hovertext": [
            "Houston Rockets"
           ],
           "lat": [
            29
           ],
           "legendgroup": "Houston Rockets",
           "lon": [
            -95
           ],
           "marker": {
            "color": "blue",
            "size": [
             15000000000
            ],
            "sizemode": "area",
            "sizeref": 100000000,
            "symbol": "circle"
           },
           "mode": "markers",
           "name": "Houston Rockets",
           "showlegend": true,
           "type": "scattergeo"
          },
          {
           "geo": "geo",
           "hovertemplate": "<b>%{hovertext}</b><br><br>Team=Los Angeles Clippers<br>Year=2016<br>Valuation (in millions)=%{marker.size}<br>LAT=%{lat}<br>LONG=%{lon}<extra></extra>",
           "hovertext": [
            "Los Angeles Clippers"
           ],
           "lat": [
            34
           ],
           "legendgroup": "Los Angeles Clippers",
           "lon": [
            -118
           ],
           "marker": {
            "color": "red",
            "size": [
             20000000000
            ],
            "sizemode": "area",
            "sizeref": 100000000,
            "symbol": "circle"
           },
           "mode": "markers",
           "name": "Los Angeles Clippers",
           "showlegend": true,
           "type": "scattergeo"
          },
          {
           "geo": "geo",
           "hovertemplate": "<b>%{hovertext}</b><br><br>Team=Dallas Mavericks<br>Year=2016<br>Valuation (in millions)=%{marker.size}<br>LAT=%{lat}<br>LONG=%{lon}<extra></extra>",
           "hovertext": [
            "Dallas Mavericks"
           ],
           "lat": [
            32
           ],
           "legendgroup": "Dallas Mavericks",
           "lon": [
            -96
           ],
           "marker": {
            "color": "yellow",
            "size": [
             14000000000
            ],
            "sizemode": "area",
            "sizeref": 100000000,
            "symbol": "circle"
           },
           "mode": "markers",
           "name": "Dallas Mavericks",
           "showlegend": true,
           "type": "scattergeo"
          },
          {
           "geo": "geo",
           "hovertemplate": "<b>%{hovertext}</b><br><br>Team=Toronto Raptors<br>Year=2016<br>Valuation (in millions)=%{marker.size}<br>LAT=%{lat}<br>LONG=%{lon}<extra></extra>",
           "hovertext": [
            "Toronto Raptors"
           ],
           "lat": [
            43
           ],
           "legendgroup": "Toronto Raptors",
           "lon": [
            -79
           ],
           "marker": {
            "color": "blue",
            "size": [
             9800000000
            ],
            "sizemode": "area",
            "sizeref": 100000000,
            "symbol": "circle"
           },
           "mode": "markers",
           "name": "Toronto Raptors",
           "showlegend": true,
           "type": "scattergeo"
          },
          {
           "geo": "geo",
           "hovertemplate": "<b>%{hovertext}</b><br><br>Team=Philadelphia 76ers<br>Year=2016<br>Valuation (in millions)=%{marker.size}<br>LAT=%{lat}<br>LONG=%{lon}<extra></extra>",
           "hovertext": [
            "Philadelphia 76ers"
           ],
           "lat": [
            39
           ],
           "legendgroup": "Philadelphia 76ers",
           "lon": [
            -75
           ],
           "marker": {
            "color": "red",
            "size": [
             7000000000
            ],
            "sizemode": "area",
            "sizeref": 100000000,
            "symbol": "circle"
           },
           "mode": "markers",
           "name": "Philadelphia 76ers",
           "showlegend": true,
           "type": "scattergeo"
          },
          {
           "geo": "geo",
           "hovertemplate": "<b>%{hovertext}</b><br><br>Team=Miami Heat<br>Year=2016<br>Valuation (in millions)=%{marker.size}<br>LAT=%{lat}<br>LONG=%{lon}<extra></extra>",
           "hovertext": [
            "Miami Heat"
           ],
           "lat": [
            25
           ],
           "legendgroup": "Miami Heat",
           "lon": [
            -80
           ],
           "marker": {
            "color": "yellow",
            "size": [
             13000000000
            ],
            "sizemode": "area",
            "sizeref": 100000000,
            "symbol": "circle"
           },
           "mode": "markers",
           "name": "Miami Heat",
           "showlegend": true,
           "type": "scattergeo"
          },
          {
           "geo": "geo",
           "hovertemplate": "<b>%{hovertext}</b><br><br>Team=San Antonio Spurs<br>Year=2016<br>Valuation (in millions)=%{marker.size}<br>LAT=%{lat}<br>LONG=%{lon}<extra></extra>",
           "hovertext": [
            "San Antonio Spurs"
           ],
           "lat": [
            29
           ],
           "legendgroup": "San Antonio Spurs",
           "lon": [
            -98
           ],
           "marker": {
            "color": "blue",
            "size": [
             11500000000
            ],
            "sizemode": "area",
            "sizeref": 100000000,
            "symbol": "circle"
           },
           "mode": "markers",
           "name": "San Antonio Spurs",
           "showlegend": true,
           "type": "scattergeo"
          },
          {
           "geo": "geo",
           "hovertemplate": "<b>%{hovertext}</b><br><br>Team=Washington Wizards<br>Year=2016<br>Valuation (in millions)=%{marker.size}<br>LAT=%{lat}<br>LONG=%{lon}<extra></extra>",
           "hovertext": [
            "Washington Wizards"
           ],
           "lat": [
            38
           ],
           "legendgroup": "Washington Wizards",
           "lon": [
            -77
           ],
           "marker": {
            "color": "red",
            "size": [
             9600000000
            ],
            "sizemode": "area",
            "sizeref": 100000000,
            "symbol": "circle"
           },
           "mode": "markers",
           "name": "Washington Wizards",
           "showlegend": true,
           "type": "scattergeo"
          },
          {
           "geo": "geo",
           "hovertemplate": "<b>%{hovertext}</b><br><br>Team=Portland Trail Blazers<br>Year=2016<br>Valuation (in millions)=%{marker.size}<br>LAT=%{lat}<br>LONG=%{lon}<extra></extra>",
           "hovertext": [
            "Portland Trail Blazers"
           ],
           "lat": [
            45
           ],
           "legendgroup": "Portland Trail Blazers",
           "lon": [
            -122
           ],
           "marker": {
            "color": "yellow",
            "size": [
             9750000000
            ],
            "sizemode": "area",
            "sizeref": 100000000,
            "symbol": "circle"
           },
           "mode": "markers",
           "name": "Portland Trail Blazers",
           "showlegend": true,
           "type": "scattergeo"
          },
          {
           "geo": "geo",
           "hovertemplate": "<b>%{hovertext}</b><br><br>Team=Milwaukee Bucks<br>Year=2016<br>Valuation (in millions)=%{marker.size}<br>LAT=%{lat}<br>LONG=%{lon}<extra></extra>",
           "hovertext": [
            "Milwaukee Bucks"
           ],
           "lat": [
            43
           ],
           "legendgroup": "Milwaukee Bucks",
           "lon": [
            -87
           ],
           "marker": {
            "color": "blue",
            "size": [
             6750000000
            ],
            "sizemode": "area",
            "sizeref": 100000000,
            "symbol": "circle"
           },
           "mode": "markers",
           "name": "Milwaukee Bucks",
           "showlegend": true,
           "type": "scattergeo"
          },
          {
           "geo": "geo",
           "hovertemplate": "<b>%{hovertext}</b><br><br>Team=Sacramento Kings<br>Year=2016<br>Valuation (in millions)=%{marker.size}<br>LAT=%{lat}<br>LONG=%{lon}<extra></extra>",
           "hovertext": [
            "Sacramento Kings"
           ],
           "lat": [
            38
           ],
           "legendgroup": "Sacramento Kings",
           "lon": [
            -121
           ],
           "marker": {
            "color": "red",
            "size": [
             9250000000
            ],
            "sizemode": "area",
            "sizeref": 100000000,
            "symbol": "circle"
           },
           "mode": "markers",
           "name": "Sacramento Kings",
           "showlegend": true,
           "type": "scattergeo"
          },
          {
           "geo": "geo",
           "hovertemplate": "<b>%{hovertext}</b><br><br>Team=Denver Nuggets<br>Year=2016<br>Valuation (in millions)=%{marker.size}<br>LAT=%{lat}<br>LONG=%{lon}<extra></extra>",
           "hovertext": [
            "Denver Nuggets"
           ],
           "lat": [
            39
           ],
           "legendgroup": "Denver Nuggets",
           "lon": [
            -104
           ],
           "marker": {
            "color": "yellow",
            "size": [
             8550000000
            ],
            "sizemode": "area",
            "sizeref": 100000000,
            "symbol": "circle"
           },
           "mode": "markers",
           "name": "Denver Nuggets",
           "showlegend": true,
           "type": "scattergeo"
          },
          {
           "geo": "geo",
           "hovertemplate": "<b>%{hovertext}</b><br><br>Team=Cleveland Cavaliers<br>Year=2016<br>Valuation (in millions)=%{marker.size}<br>LAT=%{lat}<br>LONG=%{lon}<extra></extra>",
           "hovertext": [
            "Cleveland Cavaliers"
           ],
           "lat": [
            41
           ],
           "legendgroup": "Cleveland Cavaliers",
           "lon": [
            -81
           ],
           "marker": {
            "color": "blue",
            "size": [
             11000000000
            ],
            "sizemode": "area",
            "sizeref": 100000000,
            "symbol": "circle"
           },
           "mode": "markers",
           "name": "Cleveland Cavaliers",
           "showlegend": true,
           "type": "scattergeo"
          },
          {
           "geo": "geo",
           "hovertemplate": "<b>%{hovertext}</b><br><br>Team=Detroit Pistons<br>Year=2016<br>Valuation (in millions)=%{marker.size}<br>LAT=%{lat}<br>LONG=%{lon}<extra></extra>",
           "hovertext": [
            "Detroit Pistons"
           ],
           "lat": [
            42
           ],
           "legendgroup": "Detroit Pistons",
           "lon": [
            -83
           ],
           "marker": {
            "color": "red",
            "size": [
             8500000000
            ],
            "sizemode": "area",
            "sizeref": 100000000,
            "symbol": "circle"
           },
           "mode": "markers",
           "name": "Detroit Pistons",
           "showlegend": true,
           "type": "scattergeo"
          },
          {
           "geo": "geo",
           "hovertemplate": "<b>%{hovertext}</b><br><br>Team=Utah Jazz<br>Year=2016<br>Valuation (in millions)=%{marker.size}<br>LAT=%{lat}<br>LONG=%{lon}<extra></extra>",
           "hovertext": [
            "Utah Jazz"
           ],
           "lat": [
            40
           ],
           "legendgroup": "Utah Jazz",
           "lon": [
            -111
           ],
           "marker": {
            "color": "yellow",
            "size": [
             8750000000
            ],
            "sizemode": "area",
            "sizeref": 100000000,
            "symbol": "circle"
           },
           "mode": "markers",
           "name": "Utah Jazz",
           "showlegend": true,
           "type": "scattergeo"
          },
          {
           "geo": "geo",
           "hovertemplate": "<b>%{hovertext}</b><br><br>Team=Oklahoma City Thunder<br>Year=2016<br>Valuation (in millions)=%{marker.size}<br>LAT=%{lat}<br>LONG=%{lon}<extra></extra>",
           "hovertext": [
            "Oklahoma City Thunder"
           ],
           "lat": [
            35
           ],
           "legendgroup": "Oklahoma City Thunder",
           "lon": [
            -97
           ],
           "marker": {
            "color": "blue",
            "size": [
             9500000000
            ],
            "sizemode": "area",
            "sizeref": 100000000,
            "symbol": "circle"
           },
           "mode": "markers",
           "name": "Oklahoma City Thunder",
           "showlegend": true,
           "type": "scattergeo"
          },
          {
           "geo": "geo",
           "hovertemplate": "<b>%{hovertext}</b><br><br>Team=Phoenix Suns<br>Year=2016<br>Valuation (in millions)=%{marker.size}<br>LAT=%{lat}<br>LONG=%{lon}<extra></extra>",
           "hovertext": [
            "Phoenix Suns"
           ],
           "lat": [
            33
           ],
           "legendgroup": "Phoenix Suns",
           "lon": [
            -112
           ],
           "marker": {
            "color": "red",
            "size": [
             10000000000
            ],
            "sizemode": "area",
            "sizeref": 100000000,
            "symbol": "circle"
           },
           "mode": "markers",
           "name": "Phoenix Suns",
           "showlegend": true,
           "type": "scattergeo"
          },
          {
           "geo": "geo",
           "hovertemplate": "<b>%{hovertext}</b><br><br>Team=Indiana Pacers<br>Year=2016<br>Valuation (in millions)=%{marker.size}<br>LAT=%{lat}<br>LONG=%{lon}<extra></extra>",
           "hovertext": [
            "Indiana Pacers"
           ],
           "lat": [
            39
           ],
           "legendgroup": "Indiana Pacers",
           "lon": [
            -86
           ],
           "marker": {
            "color": "yellow",
            "size": [
             8400000000
            ],
            "sizemode": "area",
            "sizeref": 100000000,
            "symbol": "circle"
           },
           "mode": "markers",
           "name": "Indiana Pacers",
           "showlegend": true,
           "type": "scattergeo"
          },
          {
           "geo": "geo",
           "hovertemplate": "<b>%{hovertext}</b><br><br>Team=Atlanta Hawks<br>Year=2016<br>Valuation (in millions)=%{marker.size}<br>LAT=%{lat}<br>LONG=%{lon}<extra></extra>",
           "hovertext": [
            "Atlanta Hawks"
           ],
           "lat": [
            33
           ],
           "legendgroup": "Atlanta Hawks",
           "lon": [
            -84
           ],
           "marker": {
            "color": "blue",
            "size": [
             8250000000
            ],
            "sizemode": "area",
            "sizeref": 100000000,
            "symbol": "circle"
           },
           "mode": "markers",
           "name": "Atlanta Hawks",
           "showlegend": true,
           "type": "scattergeo"
          },
          {
           "geo": "geo",
           "hovertemplate": "<b>%{hovertext}</b><br><br>Team=Orlando Magic<br>Year=2016<br>Valuation (in millions)=%{marker.size}<br>LAT=%{lat}<br>LONG=%{lon}<extra></extra>",
           "hovertext": [
            "Orlando Magic"
           ],
           "lat": [
            28
           ],
           "legendgroup": "Orlando Magic",
           "lon": [
            -81
           ],
           "marker": {
            "color": "red",
            "size": [
             9000000000
            ],
            "sizemode": "area",
            "sizeref": 100000000,
            "symbol": "circle"
           },
           "mode": "markers",
           "name": "Orlando Magic",
           "showlegend": true,
           "type": "scattergeo"
          },
          {
           "geo": "geo",
           "hovertemplate": "<b>%{hovertext}</b><br><br>Team=Charlotte Hornets<br>Year=2016<br>Valuation (in millions)=%{marker.size}<br>LAT=%{lat}<br>LONG=%{lon}<extra></extra>",
           "hovertext": [
            "Charlotte Hornets"
           ],
           "lat": [
            35
           ],
           "legendgroup": "Charlotte Hornets",
           "lon": [
            -80
           ],
           "marker": {
            "color": "yellow",
            "size": [
             7500000000
            ],
            "sizemode": "area",
            "sizeref": 100000000,
            "symbol": "circle"
           },
           "mode": "markers",
           "name": "Charlotte Hornets",
           "showlegend": true,
           "type": "scattergeo"
          },
          {
           "geo": "geo",
           "hovertemplate": "<b>%{hovertext}</b><br><br>Team=Minnesota Timberwolves<br>Year=2016<br>Valuation (in millions)=%{marker.size}<br>LAT=%{lat}<br>LONG=%{lon}<extra></extra>",
           "hovertext": [
            "Minnesota Timberwolves"
           ],
           "lat": [
            44
           ],
           "legendgroup": "Minnesota Timberwolves",
           "lon": [
            -93
           ],
           "marker": {
            "color": "blue",
            "size": [
             7200000000
            ],
            "sizemode": "area",
            "sizeref": 100000000,
            "symbol": "circle"
           },
           "mode": "markers",
           "name": "Minnesota Timberwolves",
           "showlegend": true,
           "type": "scattergeo"
          },
          {
           "geo": "geo",
           "hovertemplate": "<b>%{hovertext}</b><br><br>Team=Memphis Grizzlies<br>Year=2016<br>Valuation (in millions)=%{marker.size}<br>LAT=%{lat}<br>LONG=%{lon}<extra></extra>",
           "hovertext": [
            "Memphis Grizzlies"
           ],
           "lat": [
            35
           ],
           "legendgroup": "Memphis Grizzlies",
           "lon": [
            -90
           ],
           "marker": {
            "color": "red",
            "size": [
             7800000000
            ],
            "sizemode": "area",
            "sizeref": 100000000,
            "symbol": "circle"
           },
           "mode": "markers",
           "name": "Memphis Grizzlies",
           "showlegend": true,
           "type": "scattergeo"
          },
          {
           "geo": "geo",
           "hovertemplate": "<b>%{hovertext}</b><br><br>Team=New Orleans Pelicans<br>Year=2016<br>Valuation (in millions)=%{marker.size}<br>LAT=%{lat}<br>LONG=%{lon}<extra></extra>",
           "hovertext": [
            "New Orleans Pelicans"
           ],
           "lat": [
            29
           ],
           "legendgroup": "New Orleans Pelicans",
           "lon": [
            -90
           ],
           "marker": {
            "color": "yellow",
            "size": [
             6500000000
            ],
            "sizemode": "area",
            "sizeref": 100000000,
            "symbol": "circle"
           },
           "mode": "markers",
           "name": "New Orleans Pelicans",
           "showlegend": true,
           "type": "scattergeo"
          }
         ],
         "name": "2016"
        },
        {
         "data": [
          {
           "geo": "geo",
           "hovertemplate": "<b>%{hovertext}</b><br><br>Team=New York Knicks<br>Year=2017<br>Valuation (in millions)=%{marker.size}<br>LAT=%{lat}<br>LONG=%{lon}<extra></extra>",
           "hovertext": [
            "New York Knicks"
           ],
           "lat": [
            40
           ],
           "legendgroup": "New York Knicks",
           "lon": [
            -73
           ],
           "marker": {
            "color": "blue",
            "size": [
             33000000000
            ],
            "sizemode": "area",
            "sizeref": 100000000,
            "symbol": "circle"
           },
           "mode": "markers",
           "name": "New York Knicks",
           "showlegend": true,
           "type": "scattergeo"
          },
          {
           "geo": "geo",
           "hovertemplate": "<b>%{hovertext}</b><br><br>Team=Golden State Warriors<br>Year=2017<br>Valuation (in millions)=%{marker.size}<br>LAT=%{lat}<br>LONG=%{lon}<extra></extra>",
           "hovertext": [
            "Golden State Warriors"
           ],
           "lat": [
            37
           ],
           "legendgroup": "Golden State Warriors",
           "lon": [
            -122
           ],
           "marker": {
            "color": "red",
            "size": [
             26000000000
            ],
            "sizemode": "area",
            "sizeref": 100000000,
            "symbol": "circle"
           },
           "mode": "markers",
           "name": "Golden State Warriors",
           "showlegend": true,
           "type": "scattergeo"
          },
          {
           "geo": "geo",
           "hovertemplate": "<b>%{hovertext}</b><br><br>Team=Los Angeles Lakers<br>Year=2017<br>Valuation (in millions)=%{marker.size}<br>LAT=%{lat}<br>LONG=%{lon}<extra></extra>",
           "hovertext": [
            "Los Angeles Lakers"
           ],
           "lat": [
            34
           ],
           "legendgroup": "Los Angeles Lakers",
           "lon": [
            -118
           ],
           "marker": {
            "color": "yellow",
            "size": [
             30000000000
            ],
            "sizemode": "area",
            "sizeref": 100000000,
            "symbol": "circle"
           },
           "mode": "markers",
           "name": "Los Angeles Lakers",
           "showlegend": true,
           "type": "scattergeo"
          },
          {
           "geo": "geo",
           "hovertemplate": "<b>%{hovertext}</b><br><br>Team=Brooklyn Nets<br>Year=2017<br>Valuation (in millions)=%{marker.size}<br>LAT=%{lat}<br>LONG=%{lon}<extra></extra>",
           "hovertext": [
            "Brooklyn Nets"
           ],
           "lat": [
            40
           ],
           "legendgroup": "Brooklyn Nets",
           "lon": [
            -73
           ],
           "marker": {
            "color": "blue",
            "size": [
             18000000000
            ],
            "sizemode": "area",
            "sizeref": 100000000,
            "symbol": "circle"
           },
           "mode": "markers",
           "name": "Brooklyn Nets",
           "showlegend": true,
           "type": "scattergeo"
          },
          {
           "geo": "geo",
           "hovertemplate": "<b>%{hovertext}</b><br><br>Team=Boston Celtics<br>Year=2017<br>Valuation (in millions)=%{marker.size}<br>LAT=%{lat}<br>LONG=%{lon}<extra></extra>",
           "hovertext": [
            "Boston Celtics"
           ],
           "lat": [
            42
           ],
           "legendgroup": "Boston Celtics",
           "lon": [
            -71
           ],
           "marker": {
            "color": "red",
            "size": [
             22000000000
            ],
            "sizemode": "area",
            "sizeref": 100000000,
            "symbol": "circle"
           },
           "mode": "markers",
           "name": "Boston Celtics",
           "showlegend": true,
           "type": "scattergeo"
          },
          {
           "geo": "geo",
           "hovertemplate": "<b>%{hovertext}</b><br><br>Team=Chicago Bulls<br>Year=2017<br>Valuation (in millions)=%{marker.size}<br>LAT=%{lat}<br>LONG=%{lon}<extra></extra>",
           "hovertext": [
            "Chicago Bulls"
           ],
           "lat": [
            41
           ],
           "legendgroup": "Chicago Bulls",
           "lon": [
            -87
           ],
           "marker": {
            "color": "yellow",
            "size": [
             25000000000
            ],
            "sizemode": "area",
            "sizeref": 100000000,
            "symbol": "circle"
           },
           "mode": "markers",
           "name": "Chicago Bulls",
           "showlegend": true,
           "type": "scattergeo"
          },
          {
           "geo": "geo",
           "hovertemplate": "<b>%{hovertext}</b><br><br>Team=Houston Rockets<br>Year=2017<br>Valuation (in millions)=%{marker.size}<br>LAT=%{lat}<br>LONG=%{lon}<extra></extra>",
           "hovertext": [
            "Houston Rockets"
           ],
           "lat": [
            29
           ],
           "legendgroup": "Houston Rockets",
           "lon": [
            -95
           ],
           "marker": {
            "color": "blue",
            "size": [
             16500000000
            ],
            "sizemode": "area",
            "sizeref": 100000000,
            "symbol": "circle"
           },
           "mode": "markers",
           "name": "Houston Rockets",
           "showlegend": true,
           "type": "scattergeo"
          },
          {
           "geo": "geo",
           "hovertemplate": "<b>%{hovertext}</b><br><br>Team=Los Angeles Clippers<br>Year=2017<br>Valuation (in millions)=%{marker.size}<br>LAT=%{lat}<br>LONG=%{lon}<extra></extra>",
           "hovertext": [
            "Los Angeles Clippers"
           ],
           "lat": [
            34
           ],
           "legendgroup": "Los Angeles Clippers",
           "lon": [
            -118
           ],
           "marker": {
            "color": "red",
            "size": [
             20000000000
            ],
            "sizemode": "area",
            "sizeref": 100000000,
            "symbol": "circle"
           },
           "mode": "markers",
           "name": "Los Angeles Clippers",
           "showlegend": true,
           "type": "scattergeo"
          },
          {
           "geo": "geo",
           "hovertemplate": "<b>%{hovertext}</b><br><br>Team=Dallas Mavericks<br>Year=2017<br>Valuation (in millions)=%{marker.size}<br>LAT=%{lat}<br>LONG=%{lon}<extra></extra>",
           "hovertext": [
            "Dallas Mavericks"
           ],
           "lat": [
            32
           ],
           "legendgroup": "Dallas Mavericks",
           "lon": [
            -96
           ],
           "marker": {
            "color": "yellow",
            "size": [
             14500000000
            ],
            "sizemode": "area",
            "sizeref": 100000000,
            "symbol": "circle"
           },
           "mode": "markers",
           "name": "Dallas Mavericks",
           "showlegend": true,
           "type": "scattergeo"
          },
          {
           "geo": "geo",
           "hovertemplate": "<b>%{hovertext}</b><br><br>Team=Toronto Raptors<br>Year=2017<br>Valuation (in millions)=%{marker.size}<br>LAT=%{lat}<br>LONG=%{lon}<extra></extra>",
           "hovertext": [
            "Toronto Raptors"
           ],
           "lat": [
            43
           ],
           "legendgroup": "Toronto Raptors",
           "lon": [
            -79
           ],
           "marker": {
            "color": "blue",
            "size": [
             11250000000
            ],
            "sizemode": "area",
            "sizeref": 100000000,
            "symbol": "circle"
           },
           "mode": "markers",
           "name": "Toronto Raptors",
           "showlegend": true,
           "type": "scattergeo"
          },
          {
           "geo": "geo",
           "hovertemplate": "<b>%{hovertext}</b><br><br>Team=Philadelphia 76ers<br>Year=2017<br>Valuation (in millions)=%{marker.size}<br>LAT=%{lat}<br>LONG=%{lon}<extra></extra>",
           "hovertext": [
            "Philadelphia 76ers"
           ],
           "lat": [
            39
           ],
           "legendgroup": "Philadelphia 76ers",
           "lon": [
            -75
           ],
           "marker": {
            "color": "red",
            "size": [
             8000000000
            ],
            "sizemode": "area",
            "sizeref": 100000000,
            "symbol": "circle"
           },
           "mode": "markers",
           "name": "Philadelphia 76ers",
           "showlegend": true,
           "type": "scattergeo"
          },
          {
           "geo": "geo",
           "hovertemplate": "<b>%{hovertext}</b><br><br>Team=Miami Heat<br>Year=2017<br>Valuation (in millions)=%{marker.size}<br>LAT=%{lat}<br>LONG=%{lon}<extra></extra>",
           "hovertext": [
            "Miami Heat"
           ],
           "lat": [
            25
           ],
           "legendgroup": "Miami Heat",
           "lon": [
            -80
           ],
           "marker": {
            "color": "yellow",
            "size": [
             13500000000
            ],
            "sizemode": "area",
            "sizeref": 100000000,
            "symbol": "circle"
           },
           "mode": "markers",
           "name": "Miami Heat",
           "showlegend": true,
           "type": "scattergeo"
          },
          {
           "geo": "geo",
           "hovertemplate": "<b>%{hovertext}</b><br><br>Team=San Antonio Spurs<br>Year=2017<br>Valuation (in millions)=%{marker.size}<br>LAT=%{lat}<br>LONG=%{lon}<extra></extra>",
           "hovertext": [
            "San Antonio Spurs"
           ],
           "lat": [
            29
           ],
           "legendgroup": "San Antonio Spurs",
           "lon": [
            -98
           ],
           "marker": {
            "color": "blue",
            "size": [
             11750000000
            ],
            "sizemode": "area",
            "sizeref": 100000000,
            "symbol": "circle"
           },
           "mode": "markers",
           "name": "San Antonio Spurs",
           "showlegend": true,
           "type": "scattergeo"
          },
          {
           "geo": "geo",
           "hovertemplate": "<b>%{hovertext}</b><br><br>Team=Washington Wizards<br>Year=2017<br>Valuation (in millions)=%{marker.size}<br>LAT=%{lat}<br>LONG=%{lon}<extra></extra>",
           "hovertext": [
            "Washington Wizards"
           ],
           "lat": [
            38
           ],
           "legendgroup": "Washington Wizards",
           "lon": [
            -77
           ],
           "marker": {
            "color": "red",
            "size": [
             10000000000
            ],
            "sizemode": "area",
            "sizeref": 100000000,
            "symbol": "circle"
           },
           "mode": "markers",
           "name": "Washington Wizards",
           "showlegend": true,
           "type": "scattergeo"
          },
          {
           "geo": "geo",
           "hovertemplate": "<b>%{hovertext}</b><br><br>Team=Portland Trail Blazers<br>Year=2017<br>Valuation (in millions)=%{marker.size}<br>LAT=%{lat}<br>LONG=%{lon}<extra></extra>",
           "hovertext": [
            "Portland Trail Blazers"
           ],
           "lat": [
            45
           ],
           "legendgroup": "Portland Trail Blazers",
           "lon": [
            -122
           ],
           "marker": {
            "color": "yellow",
            "size": [
             10500000000
            ],
            "sizemode": "area",
            "sizeref": 100000000,
            "symbol": "circle"
           },
           "mode": "markers",
           "name": "Portland Trail Blazers",
           "showlegend": true,
           "type": "scattergeo"
          },
          {
           "geo": "geo",
           "hovertemplate": "<b>%{hovertext}</b><br><br>Team=Milwaukee Bucks<br>Year=2017<br>Valuation (in millions)=%{marker.size}<br>LAT=%{lat}<br>LONG=%{lon}<extra></extra>",
           "hovertext": [
            "Milwaukee Bucks"
           ],
           "lat": [
            43
           ],
           "legendgroup": "Milwaukee Bucks",
           "lon": [
            -87
           ],
           "marker": {
            "color": "blue",
            "size": [
             7850000000
            ],
            "sizemode": "area",
            "sizeref": 100000000,
            "symbol": "circle"
           },
           "mode": "markers",
           "name": "Milwaukee Bucks",
           "showlegend": true,
           "type": "scattergeo"
          },
          {
           "geo": "geo",
           "hovertemplate": "<b>%{hovertext}</b><br><br>Team=Sacramento Kings<br>Year=2017<br>Valuation (in millions)=%{marker.size}<br>LAT=%{lat}<br>LONG=%{lon}<extra></extra>",
           "hovertext": [
            "Sacramento Kings"
           ],
           "lat": [
            38
           ],
           "legendgroup": "Sacramento Kings",
           "lon": [
            -121
           ],
           "marker": {
            "color": "red",
            "size": [
             10750000000
            ],
            "sizemode": "area",
            "sizeref": 100000000,
            "symbol": "circle"
           },
           "mode": "markers",
           "name": "Sacramento Kings",
           "showlegend": true,
           "type": "scattergeo"
          },
          {
           "geo": "geo",
           "hovertemplate": "<b>%{hovertext}</b><br><br>Team=Denver Nuggets<br>Year=2017<br>Valuation (in millions)=%{marker.size}<br>LAT=%{lat}<br>LONG=%{lon}<extra></extra>",
           "hovertext": [
            "Denver Nuggets"
           ],
           "lat": [
            39
           ],
           "legendgroup": "Denver Nuggets",
           "lon": [
            -104
           ],
           "marker": {
            "color": "yellow",
            "size": [
             8900000000
            ],
            "sizemode": "area",
            "sizeref": 100000000,
            "symbol": "circle"
           },
           "mode": "markers",
           "name": "Denver Nuggets",
           "showlegend": true,
           "type": "scattergeo"
          },
          {
           "geo": "geo",
           "hovertemplate": "<b>%{hovertext}</b><br><br>Team=Cleveland Cavaliers<br>Year=2017<br>Valuation (in millions)=%{marker.size}<br>LAT=%{lat}<br>LONG=%{lon}<extra></extra>",
           "hovertext": [
            "Cleveland Cavaliers"
           ],
           "lat": [
            41
           ],
           "legendgroup": "Cleveland Cavaliers",
           "lon": [
            -81
           ],
           "marker": {
            "color": "blue",
            "size": [
             12000000000
            ],
            "sizemode": "area",
            "sizeref": 100000000,
            "symbol": "circle"
           },
           "mode": "markers",
           "name": "Cleveland Cavaliers",
           "showlegend": true,
           "type": "scattergeo"
          },
          {
           "geo": "geo",
           "hovertemplate": "<b>%{hovertext}</b><br><br>Team=Detroit Pistons<br>Year=2017<br>Valuation (in millions)=%{marker.size}<br>LAT=%{lat}<br>LONG=%{lon}<extra></extra>",
           "hovertext": [
            "Detroit Pistons"
           ],
           "lat": [
            42
           ],
           "legendgroup": "Detroit Pistons",
           "lon": [
            -83
           ],
           "marker": {
            "color": "red",
            "size": [
             9000000000
            ],
            "sizemode": "area",
            "sizeref": 100000000,
            "symbol": "circle"
           },
           "mode": "markers",
           "name": "Detroit Pistons",
           "showlegend": true,
           "type": "scattergeo"
          },
          {
           "geo": "geo",
           "hovertemplate": "<b>%{hovertext}</b><br><br>Team=Utah Jazz<br>Year=2017<br>Valuation (in millions)=%{marker.size}<br>LAT=%{lat}<br>LONG=%{lon}<extra></extra>",
           "hovertext": [
            "Utah Jazz"
           ],
           "lat": [
            40
           ],
           "legendgroup": "Utah Jazz",
           "lon": [
            -111
           ],
           "marker": {
            "color": "yellow",
            "size": [
             9100000000
            ],
            "sizemode": "area",
            "sizeref": 100000000,
            "symbol": "circle"
           },
           "mode": "markers",
           "name": "Utah Jazz",
           "showlegend": true,
           "type": "scattergeo"
          },
          {
           "geo": "geo",
           "hovertemplate": "<b>%{hovertext}</b><br><br>Team=Oklahoma City Thunder<br>Year=2017<br>Valuation (in millions)=%{marker.size}<br>LAT=%{lat}<br>LONG=%{lon}<extra></extra>",
           "hovertext": [
            "Oklahoma City Thunder"
           ],
           "lat": [
            35
           ],
           "legendgroup": "Oklahoma City Thunder",
           "lon": [
            -97
           ],
           "marker": {
            "color": "blue",
            "size": [
             10250000000
            ],
            "sizemode": "area",
            "sizeref": 100000000,
            "symbol": "circle"
           },
           "mode": "markers",
           "name": "Oklahoma City Thunder",
           "showlegend": true,
           "type": "scattergeo"
          },
          {
           "geo": "geo",
           "hovertemplate": "<b>%{hovertext}</b><br><br>Team=Phoenix Suns<br>Year=2017<br>Valuation (in millions)=%{marker.size}<br>LAT=%{lat}<br>LONG=%{lon}<extra></extra>",
           "hovertext": [
            "Phoenix Suns"
           ],
           "lat": [
            33
           ],
           "legendgroup": "Phoenix Suns",
           "lon": [
            -112
           ],
           "marker": {
            "color": "red",
            "size": [
             11000000000
            ],
            "sizemode": "area",
            "sizeref": 100000000,
            "symbol": "circle"
           },
           "mode": "markers",
           "name": "Phoenix Suns",
           "showlegend": true,
           "type": "scattergeo"
          },
          {
           "geo": "geo",
           "hovertemplate": "<b>%{hovertext}</b><br><br>Team=Indiana Pacers<br>Year=2017<br>Valuation (in millions)=%{marker.size}<br>LAT=%{lat}<br>LONG=%{lon}<extra></extra>",
           "hovertext": [
            "Indiana Pacers"
           ],
           "lat": [
            39
           ],
           "legendgroup": "Indiana Pacers",
           "lon": [
            -86
           ],
           "marker": {
            "color": "yellow",
            "size": [
             8800000000
            ],
            "sizemode": "area",
            "sizeref": 100000000,
            "symbol": "circle"
           },
           "mode": "markers",
           "name": "Indiana Pacers",
           "showlegend": true,
           "type": "scattergeo"
          },
          {
           "geo": "geo",
           "hovertemplate": "<b>%{hovertext}</b><br><br>Team=Atlanta Hawks<br>Year=2017<br>Valuation (in millions)=%{marker.size}<br>LAT=%{lat}<br>LONG=%{lon}<extra></extra>",
           "hovertext": [
            "Atlanta Hawks"
           ],
           "lat": [
            33
           ],
           "legendgroup": "Atlanta Hawks",
           "lon": [
            -84
           ],
           "marker": {
            "color": "blue",
            "size": [
             8850000000
            ],
            "sizemode": "area",
            "sizeref": 100000000,
            "symbol": "circle"
           },
           "mode": "markers",
           "name": "Atlanta Hawks",
           "showlegend": true,
           "type": "scattergeo"
          },
          {
           "geo": "geo",
           "hovertemplate": "<b>%{hovertext}</b><br><br>Team=Orlando Magic<br>Year=2017<br>Valuation (in millions)=%{marker.size}<br>LAT=%{lat}<br>LONG=%{lon}<extra></extra>",
           "hovertext": [
            "Orlando Magic"
           ],
           "lat": [
            28
           ],
           "legendgroup": "Orlando Magic",
           "lon": [
            -81
           ],
           "marker": {
            "color": "red",
            "size": [
             9200000000
            ],
            "sizemode": "area",
            "sizeref": 100000000,
            "symbol": "circle"
           },
           "mode": "markers",
           "name": "Orlando Magic",
           "showlegend": true,
           "type": "scattergeo"
          },
          {
           "geo": "geo",
           "hovertemplate": "<b>%{hovertext}</b><br><br>Team=Charlotte Hornets<br>Year=2017<br>Valuation (in millions)=%{marker.size}<br>LAT=%{lat}<br>LONG=%{lon}<extra></extra>",
           "hovertext": [
            "Charlotte Hornets"
           ],
           "lat": [
            35
           ],
           "legendgroup": "Charlotte Hornets",
           "lon": [
            -80
           ],
           "marker": {
            "color": "yellow",
            "size": [
             7800000000
            ],
            "sizemode": "area",
            "sizeref": 100000000,
            "symbol": "circle"
           },
           "mode": "markers",
           "name": "Charlotte Hornets",
           "showlegend": true,
           "type": "scattergeo"
          },
          {
           "geo": "geo",
           "hovertemplate": "<b>%{hovertext}</b><br><br>Team=Minnesota Timberwolves<br>Year=2017<br>Valuation (in millions)=%{marker.size}<br>LAT=%{lat}<br>LONG=%{lon}<extra></extra>",
           "hovertext": [
            "Minnesota Timberwolves"
           ],
           "lat": [
            44
           ],
           "legendgroup": "Minnesota Timberwolves",
           "lon": [
            -93
           ],
           "marker": {
            "color": "blue",
            "size": [
             7700000000
            ],
            "sizemode": "area",
            "sizeref": 100000000,
            "symbol": "circle"
           },
           "mode": "markers",
           "name": "Minnesota Timberwolves",
           "showlegend": true,
           "type": "scattergeo"
          },
          {
           "geo": "geo",
           "hovertemplate": "<b>%{hovertext}</b><br><br>Team=Memphis Grizzlies<br>Year=2017<br>Valuation (in millions)=%{marker.size}<br>LAT=%{lat}<br>LONG=%{lon}<extra></extra>",
           "hovertext": [
            "Memphis Grizzlies"
           ],
           "lat": [
            35
           ],
           "legendgroup": "Memphis Grizzlies",
           "lon": [
            -90
           ],
           "marker": {
            "color": "red",
            "size": [
             7900000000
            ],
            "sizemode": "area",
            "sizeref": 100000000,
            "symbol": "circle"
           },
           "mode": "markers",
           "name": "Memphis Grizzlies",
           "showlegend": true,
           "type": "scattergeo"
          },
          {
           "geo": "geo",
           "hovertemplate": "<b>%{hovertext}</b><br><br>Team=New Orleans Pelicans<br>Year=2017<br>Valuation (in millions)=%{marker.size}<br>LAT=%{lat}<br>LONG=%{lon}<extra></extra>",
           "hovertext": [
            "New Orleans Pelicans"
           ],
           "lat": [
            29
           ],
           "legendgroup": "New Orleans Pelicans",
           "lon": [
            -90
           ],
           "marker": {
            "color": "yellow",
            "size": [
             7500000000
            ],
            "sizemode": "area",
            "sizeref": 100000000,
            "symbol": "circle"
           },
           "mode": "markers",
           "name": "New Orleans Pelicans",
           "showlegend": true,
           "type": "scattergeo"
          }
         ],
         "name": "2017"
        },
        {
         "data": [
          {
           "geo": "geo",
           "hovertemplate": "<b>%{hovertext}</b><br><br>Team=New York Knicks<br>Year=2018<br>Valuation (in millions)=%{marker.size}<br>LAT=%{lat}<br>LONG=%{lon}<extra></extra>",
           "hovertext": [
            "New York Knicks"
           ],
           "lat": [
            40
           ],
           "legendgroup": "New York Knicks",
           "lon": [
            -73
           ],
           "marker": {
            "color": "blue",
            "size": [
             36000000000
            ],
            "sizemode": "area",
            "sizeref": 100000000,
            "symbol": "circle"
           },
           "mode": "markers",
           "name": "New York Knicks",
           "showlegend": true,
           "type": "scattergeo"
          },
          {
           "geo": "geo",
           "hovertemplate": "<b>%{hovertext}</b><br><br>Team=Golden State Warriors<br>Year=2018<br>Valuation (in millions)=%{marker.size}<br>LAT=%{lat}<br>LONG=%{lon}<extra></extra>",
           "hovertext": [
            "Golden State Warriors"
           ],
           "lat": [
            37
           ],
           "legendgroup": "Golden State Warriors",
           "lon": [
            -122
           ],
           "marker": {
            "color": "red",
            "size": [
             31000000000
            ],
            "sizemode": "area",
            "sizeref": 100000000,
            "symbol": "circle"
           },
           "mode": "markers",
           "name": "Golden State Warriors",
           "showlegend": true,
           "type": "scattergeo"
          },
          {
           "geo": "geo",
           "hovertemplate": "<b>%{hovertext}</b><br><br>Team=Los Angeles Lakers<br>Year=2018<br>Valuation (in millions)=%{marker.size}<br>LAT=%{lat}<br>LONG=%{lon}<extra></extra>",
           "hovertext": [
            "Los Angeles Lakers"
           ],
           "lat": [
            34
           ],
           "legendgroup": "Los Angeles Lakers",
           "lon": [
            -118
           ],
           "marker": {
            "color": "yellow",
            "size": [
             33000000000
            ],
            "sizemode": "area",
            "sizeref": 100000000,
            "symbol": "circle"
           },
           "mode": "markers",
           "name": "Los Angeles Lakers",
           "showlegend": true,
           "type": "scattergeo"
          },
          {
           "geo": "geo",
           "hovertemplate": "<b>%{hovertext}</b><br><br>Team=Brooklyn Nets<br>Year=2018<br>Valuation (in millions)=%{marker.size}<br>LAT=%{lat}<br>LONG=%{lon}<extra></extra>",
           "hovertext": [
            "Brooklyn Nets"
           ],
           "lat": [
            40
           ],
           "legendgroup": "Brooklyn Nets",
           "lon": [
            -73
           ],
           "marker": {
            "color": "blue",
            "size": [
             23000000000
            ],
            "sizemode": "area",
            "sizeref": 100000000,
            "symbol": "circle"
           },
           "mode": "markers",
           "name": "Brooklyn Nets",
           "showlegend": true,
           "type": "scattergeo"
          },
          {
           "geo": "geo",
           "hovertemplate": "<b>%{hovertext}</b><br><br>Team=Boston Celtics<br>Year=2018<br>Valuation (in millions)=%{marker.size}<br>LAT=%{lat}<br>LONG=%{lon}<extra></extra>",
           "hovertext": [
            "Boston Celtics"
           ],
           "lat": [
            42
           ],
           "legendgroup": "Boston Celtics",
           "lon": [
            -71
           ],
           "marker": {
            "color": "red",
            "size": [
             25000000000
            ],
            "sizemode": "area",
            "sizeref": 100000000,
            "symbol": "circle"
           },
           "mode": "markers",
           "name": "Boston Celtics",
           "showlegend": true,
           "type": "scattergeo"
          },
          {
           "geo": "geo",
           "hovertemplate": "<b>%{hovertext}</b><br><br>Team=Chicago Bulls<br>Year=2018<br>Valuation (in millions)=%{marker.size}<br>LAT=%{lat}<br>LONG=%{lon}<extra></extra>",
           "hovertext": [
            "Chicago Bulls"
           ],
           "lat": [
            41
           ],
           "legendgroup": "Chicago Bulls",
           "lon": [
            -87
           ],
           "marker": {
            "color": "yellow",
            "size": [
             26000000000
            ],
            "sizemode": "area",
            "sizeref": 100000000,
            "symbol": "circle"
           },
           "mode": "markers",
           "name": "Chicago Bulls",
           "showlegend": true,
           "type": "scattergeo"
          },
          {
           "geo": "geo",
           "hovertemplate": "<b>%{hovertext}</b><br><br>Team=Houston Rockets<br>Year=2018<br>Valuation (in millions)=%{marker.size}<br>LAT=%{lat}<br>LONG=%{lon}<extra></extra>",
           "hovertext": [
            "Houston Rockets"
           ],
           "lat": [
            29
           ],
           "legendgroup": "Houston Rockets",
           "lon": [
            -95
           ],
           "marker": {
            "color": "blue",
            "size": [
             22000000000
            ],
            "sizemode": "area",
            "sizeref": 100000000,
            "symbol": "circle"
           },
           "mode": "markers",
           "name": "Houston Rockets",
           "showlegend": true,
           "type": "scattergeo"
          },
          {
           "geo": "geo",
           "hovertemplate": "<b>%{hovertext}</b><br><br>Team=Los Angeles Clippers<br>Year=2018<br>Valuation (in millions)=%{marker.size}<br>LAT=%{lat}<br>LONG=%{lon}<extra></extra>",
           "hovertext": [
            "Los Angeles Clippers"
           ],
           "lat": [
            34
           ],
           "legendgroup": "Los Angeles Clippers",
           "lon": [
            -118
           ],
           "marker": {
            "color": "red",
            "size": [
             21500000000
            ],
            "sizemode": "area",
            "sizeref": 100000000,
            "symbol": "circle"
           },
           "mode": "markers",
           "name": "Los Angeles Clippers",
           "showlegend": true,
           "type": "scattergeo"
          },
          {
           "geo": "geo",
           "hovertemplate": "<b>%{hovertext}</b><br><br>Team=Dallas Mavericks<br>Year=2018<br>Valuation (in millions)=%{marker.size}<br>LAT=%{lat}<br>LONG=%{lon}<extra></extra>",
           "hovertext": [
            "Dallas Mavericks"
           ],
           "lat": [
            32
           ],
           "legendgroup": "Dallas Mavericks",
           "lon": [
            -96
           ],
           "marker": {
            "color": "yellow",
            "size": [
             19000000000
            ],
            "sizemode": "area",
            "sizeref": 100000000,
            "symbol": "circle"
           },
           "mode": "markers",
           "name": "Dallas Mavericks",
           "showlegend": true,
           "type": "scattergeo"
          },
          {
           "geo": "geo",
           "hovertemplate": "<b>%{hovertext}</b><br><br>Team=Toronto Raptors<br>Year=2018<br>Valuation (in millions)=%{marker.size}<br>LAT=%{lat}<br>LONG=%{lon}<extra></extra>",
           "hovertext": [
            "Toronto Raptors"
           ],
           "lat": [
            43
           ],
           "legendgroup": "Toronto Raptors",
           "lon": [
            -79
           ],
           "marker": {
            "color": "blue",
            "size": [
             14000000000
            ],
            "sizemode": "area",
            "sizeref": 100000000,
            "symbol": "circle"
           },
           "mode": "markers",
           "name": "Toronto Raptors",
           "showlegend": true,
           "type": "scattergeo"
          },
          {
           "geo": "geo",
           "hovertemplate": "<b>%{hovertext}</b><br><br>Team=Philadelphia 76ers<br>Year=2018<br>Valuation (in millions)=%{marker.size}<br>LAT=%{lat}<br>LONG=%{lon}<extra></extra>",
           "hovertext": [
            "Philadelphia 76ers"
           ],
           "lat": [
            39
           ],
           "legendgroup": "Philadelphia 76ers",
           "lon": [
            -75
           ],
           "marker": {
            "color": "red",
            "size": [
             11800000000
            ],
            "sizemode": "area",
            "sizeref": 100000000,
            "symbol": "circle"
           },
           "mode": "markers",
           "name": "Philadelphia 76ers",
           "showlegend": true,
           "type": "scattergeo"
          },
          {
           "geo": "geo",
           "hovertemplate": "<b>%{hovertext}</b><br><br>Team=Miami Heat<br>Year=2018<br>Valuation (in millions)=%{marker.size}<br>LAT=%{lat}<br>LONG=%{lon}<extra></extra>",
           "hovertext": [
            "Miami Heat"
           ],
           "lat": [
            25
           ],
           "legendgroup": "Miami Heat",
           "lon": [
            -80
           ],
           "marker": {
            "color": "yellow",
            "size": [
             17000000000
            ],
            "sizemode": "area",
            "sizeref": 100000000,
            "symbol": "circle"
           },
           "mode": "markers",
           "name": "Miami Heat",
           "showlegend": true,
           "type": "scattergeo"
          },
          {
           "geo": "geo",
           "hovertemplate": "<b>%{hovertext}</b><br><br>Team=San Antonio Spurs<br>Year=2018<br>Valuation (in millions)=%{marker.size}<br>LAT=%{lat}<br>LONG=%{lon}<extra></extra>",
           "hovertext": [
            "San Antonio Spurs"
           ],
           "lat": [
            29
           ],
           "legendgroup": "San Antonio Spurs",
           "lon": [
            -98
           ],
           "marker": {
            "color": "blue",
            "size": [
             15500000000
            ],
            "sizemode": "area",
            "sizeref": 100000000,
            "symbol": "circle"
           },
           "mode": "markers",
           "name": "San Antonio Spurs",
           "showlegend": true,
           "type": "scattergeo"
          },
          {
           "geo": "geo",
           "hovertemplate": "<b>%{hovertext}</b><br><br>Team=Washington Wizards<br>Year=2018<br>Valuation (in millions)=%{marker.size}<br>LAT=%{lat}<br>LONG=%{lon}<extra></extra>",
           "hovertext": [
            "Washington Wizards"
           ],
           "lat": [
            38
           ],
           "legendgroup": "Washington Wizards",
           "lon": [
            -77
           ],
           "marker": {
            "color": "red",
            "size": [
             13500000000
            ],
            "sizemode": "area",
            "sizeref": 100000000,
            "symbol": "circle"
           },
           "mode": "markers",
           "name": "Washington Wizards",
           "showlegend": true,
           "type": "scattergeo"
          },
          {
           "geo": "geo",
           "hovertemplate": "<b>%{hovertext}</b><br><br>Team=Portland Trail Blazers<br>Year=2018<br>Valuation (in millions)=%{marker.size}<br>LAT=%{lat}<br>LONG=%{lon}<extra></extra>",
           "hovertext": [
            "Portland Trail Blazers"
           ],
           "lat": [
            45
           ],
           "legendgroup": "Portland Trail Blazers",
           "lon": [
            -122
           ],
           "marker": {
            "color": "yellow",
            "size": [
             13000000000
            ],
            "sizemode": "area",
            "sizeref": 100000000,
            "symbol": "circle"
           },
           "mode": "markers",
           "name": "Portland Trail Blazers",
           "showlegend": true,
           "type": "scattergeo"
          },
          {
           "geo": "geo",
           "hovertemplate": "<b>%{hovertext}</b><br><br>Team=Milwaukee Bucks<br>Year=2018<br>Valuation (in millions)=%{marker.size}<br>LAT=%{lat}<br>LONG=%{lon}<extra></extra>",
           "hovertext": [
            "Milwaukee Bucks"
           ],
           "lat": [
            43
           ],
           "legendgroup": "Milwaukee Bucks",
           "lon": [
            -87
           ],
           "marker": {
            "color": "blue",
            "size": [
             10750000000
            ],
            "sizemode": "area",
            "sizeref": 100000000,
            "symbol": "circle"
           },
           "mode": "markers",
           "name": "Milwaukee Bucks",
           "showlegend": true,
           "type": "scattergeo"
          },
          {
           "geo": "geo",
           "hovertemplate": "<b>%{hovertext}</b><br><br>Team=Sacramento Kings<br>Year=2018<br>Valuation (in millions)=%{marker.size}<br>LAT=%{lat}<br>LONG=%{lon}<extra></extra>",
           "hovertext": [
            "Sacramento Kings"
           ],
           "lat": [
            38
           ],
           "legendgroup": "Sacramento Kings",
           "lon": [
            -121
           ],
           "marker": {
            "color": "red",
            "size": [
             13750000000
            ],
            "sizemode": "area",
            "sizeref": 100000000,
            "symbol": "circle"
           },
           "mode": "markers",
           "name": "Sacramento Kings",
           "showlegend": true,
           "type": "scattergeo"
          },
          {
           "geo": "geo",
           "hovertemplate": "<b>%{hovertext}</b><br><br>Team=Denver Nuggets<br>Year=2018<br>Valuation (in millions)=%{marker.size}<br>LAT=%{lat}<br>LONG=%{lon}<extra></extra>",
           "hovertext": [
            "Denver Nuggets"
           ],
           "lat": [
            39
           ],
           "legendgroup": "Denver Nuggets",
           "lon": [
            -104
           ],
           "marker": {
            "color": "yellow",
            "size": [
             11250000000
            ],
            "sizemode": "area",
            "sizeref": 100000000,
            "symbol": "circle"
           },
           "mode": "markers",
           "name": "Denver Nuggets",
           "showlegend": true,
           "type": "scattergeo"
          },
          {
           "geo": "geo",
           "hovertemplate": "<b>%{hovertext}</b><br><br>Team=Cleveland Cavaliers<br>Year=2018<br>Valuation (in millions)=%{marker.size}<br>LAT=%{lat}<br>LONG=%{lon}<extra></extra>",
           "hovertext": [
            "Cleveland Cavaliers"
           ],
           "lat": [
            41
           ],
           "legendgroup": "Cleveland Cavaliers",
           "lon": [
            -81
           ],
           "marker": {
            "color": "blue",
            "size": [
             13250000000
            ],
            "sizemode": "area",
            "sizeref": 100000000,
            "symbol": "circle"
           },
           "mode": "markers",
           "name": "Cleveland Cavaliers",
           "showlegend": true,
           "type": "scattergeo"
          },
          {
           "geo": "geo",
           "hovertemplate": "<b>%{hovertext}</b><br><br>Team=Detroit Pistons<br>Year=2018<br>Valuation (in millions)=%{marker.size}<br>LAT=%{lat}<br>LONG=%{lon}<extra></extra>",
           "hovertext": [
            "Detroit Pistons"
           ],
           "lat": [
            42
           ],
           "legendgroup": "Detroit Pistons",
           "lon": [
            -83
           ],
           "marker": {
            "color": "red",
            "size": [
             11000000000
            ],
            "sizemode": "area",
            "sizeref": 100000000,
            "symbol": "circle"
           },
           "mode": "markers",
           "name": "Detroit Pistons",
           "showlegend": true,
           "type": "scattergeo"
          },
          {
           "geo": "geo",
           "hovertemplate": "<b>%{hovertext}</b><br><br>Team=Utah Jazz<br>Year=2018<br>Valuation (in millions)=%{marker.size}<br>LAT=%{lat}<br>LONG=%{lon}<extra></extra>",
           "hovertext": [
            "Utah Jazz"
           ],
           "lat": [
            40
           ],
           "legendgroup": "Utah Jazz",
           "lon": [
            -111
           ],
           "marker": {
            "color": "yellow",
            "size": [
             12000000000
            ],
            "sizemode": "area",
            "sizeref": 100000000,
            "symbol": "circle"
           },
           "mode": "markers",
           "name": "Utah Jazz",
           "showlegend": true,
           "type": "scattergeo"
          },
          {
           "geo": "geo",
           "hovertemplate": "<b>%{hovertext}</b><br><br>Team=Oklahoma City Thunder<br>Year=2018<br>Valuation (in millions)=%{marker.size}<br>LAT=%{lat}<br>LONG=%{lon}<extra></extra>",
           "hovertext": [
            "Oklahoma City Thunder"
           ],
           "lat": [
            35
           ],
           "legendgroup": "Oklahoma City Thunder",
           "lon": [
            -97
           ],
           "marker": {
            "color": "blue",
            "size": [
             12500000000
            ],
            "sizemode": "area",
            "sizeref": 100000000,
            "symbol": "circle"
           },
           "mode": "markers",
           "name": "Oklahoma City Thunder",
           "showlegend": true,
           "type": "scattergeo"
          },
          {
           "geo": "geo",
           "hovertemplate": "<b>%{hovertext}</b><br><br>Team=Phoenix Suns<br>Year=2018<br>Valuation (in millions)=%{marker.size}<br>LAT=%{lat}<br>LONG=%{lon}<extra></extra>",
           "hovertext": [
            "Phoenix Suns"
           ],
           "lat": [
            33
           ],
           "legendgroup": "Phoenix Suns",
           "lon": [
            -112
           ],
           "marker": {
            "color": "red",
            "size": [
             12800000000
            ],
            "sizemode": "area",
            "sizeref": 100000000,
            "symbol": "circle"
           },
           "mode": "markers",
           "name": "Phoenix Suns",
           "showlegend": true,
           "type": "scattergeo"
          },
          {
           "geo": "geo",
           "hovertemplate": "<b>%{hovertext}</b><br><br>Team=Indiana Pacers<br>Year=2018<br>Valuation (in millions)=%{marker.size}<br>LAT=%{lat}<br>LONG=%{lon}<extra></extra>",
           "hovertext": [
            "Indiana Pacers"
           ],
           "lat": [
            39
           ],
           "legendgroup": "Indiana Pacers",
           "lon": [
            -86
           ],
           "marker": {
            "color": "yellow",
            "size": [
             11750000000
            ],
            "sizemode": "area",
            "sizeref": 100000000,
            "symbol": "circle"
           },
           "mode": "markers",
           "name": "Indiana Pacers",
           "showlegend": true,
           "type": "scattergeo"
          },
          {
           "geo": "geo",
           "hovertemplate": "<b>%{hovertext}</b><br><br>Team=Atlanta Hawks<br>Year=2018<br>Valuation (in millions)=%{marker.size}<br>LAT=%{lat}<br>LONG=%{lon}<extra></extra>",
           "hovertext": [
            "Atlanta Hawks"
           ],
           "lat": [
            33
           ],
           "legendgroup": "Atlanta Hawks",
           "lon": [
            -84
           ],
           "marker": {
            "color": "blue",
            "size": [
             11500000000
            ],
            "sizemode": "area",
            "sizeref": 100000000,
            "symbol": "circle"
           },
           "mode": "markers",
           "name": "Atlanta Hawks",
           "showlegend": true,
           "type": "scattergeo"
          },
          {
           "geo": "geo",
           "hovertemplate": "<b>%{hovertext}</b><br><br>Team=Orlando Magic<br>Year=2018<br>Valuation (in millions)=%{marker.size}<br>LAT=%{lat}<br>LONG=%{lon}<extra></extra>",
           "hovertext": [
            "Orlando Magic"
           ],
           "lat": [
            28
           ],
           "legendgroup": "Orlando Magic",
           "lon": [
            -81
           ],
           "marker": {
            "color": "red",
            "size": [
             12250000000
            ],
            "sizemode": "area",
            "sizeref": 100000000,
            "symbol": "circle"
           },
           "mode": "markers",
           "name": "Orlando Magic",
           "showlegend": true,
           "type": "scattergeo"
          },
          {
           "geo": "geo",
           "hovertemplate": "<b>%{hovertext}</b><br><br>Team=Charlotte Hornets<br>Year=2018<br>Valuation (in millions)=%{marker.size}<br>LAT=%{lat}<br>LONG=%{lon}<extra></extra>",
           "hovertext": [
            "Charlotte Hornets"
           ],
           "lat": [
            35
           ],
           "legendgroup": "Charlotte Hornets",
           "lon": [
            -80
           ],
           "marker": {
            "color": "yellow",
            "size": [
             10500000000
            ],
            "sizemode": "area",
            "sizeref": 100000000,
            "symbol": "circle"
           },
           "mode": "markers",
           "name": "Charlotte Hornets",
           "showlegend": true,
           "type": "scattergeo"
          },
          {
           "geo": "geo",
           "hovertemplate": "<b>%{hovertext}</b><br><br>Team=Minnesota Timberwolves<br>Year=2018<br>Valuation (in millions)=%{marker.size}<br>LAT=%{lat}<br>LONG=%{lon}<extra></extra>",
           "hovertext": [
            "Minnesota Timberwolves"
           ],
           "lat": [
            44
           ],
           "legendgroup": "Minnesota Timberwolves",
           "lon": [
            -93
           ],
           "marker": {
            "color": "blue",
            "size": [
             10600000000
            ],
            "sizemode": "area",
            "sizeref": 100000000,
            "symbol": "circle"
           },
           "mode": "markers",
           "name": "Minnesota Timberwolves",
           "showlegend": true,
           "type": "scattergeo"
          },
          {
           "geo": "geo",
           "hovertemplate": "<b>%{hovertext}</b><br><br>Team=Memphis Grizzlies<br>Year=2018<br>Valuation (in millions)=%{marker.size}<br>LAT=%{lat}<br>LONG=%{lon}<extra></extra>",
           "hovertext": [
            "Memphis Grizzlies"
           ],
           "lat": [
            35
           ],
           "legendgroup": "Memphis Grizzlies",
           "lon": [
            -90
           ],
           "marker": {
            "color": "red",
            "size": [
             10250000000
            ],
            "sizemode": "area",
            "sizeref": 100000000,
            "symbol": "circle"
           },
           "mode": "markers",
           "name": "Memphis Grizzlies",
           "showlegend": true,
           "type": "scattergeo"
          },
          {
           "geo": "geo",
           "hovertemplate": "<b>%{hovertext}</b><br><br>Team=New Orleans Pelicans<br>Year=2018<br>Valuation (in millions)=%{marker.size}<br>LAT=%{lat}<br>LONG=%{lon}<extra></extra>",
           "hovertext": [
            "New Orleans Pelicans"
           ],
           "lat": [
            29
           ],
           "legendgroup": "New Orleans Pelicans",
           "lon": [
            -90
           ],
           "marker": {
            "color": "yellow",
            "size": [
             10000000000
            ],
            "sizemode": "area",
            "sizeref": 100000000,
            "symbol": "circle"
           },
           "mode": "markers",
           "name": "New Orleans Pelicans",
           "showlegend": true,
           "type": "scattergeo"
          }
         ],
         "name": "2018"
        },
        {
         "data": [
          {
           "geo": "geo",
           "hovertemplate": "<b>%{hovertext}</b><br><br>Team=New York Knicks<br>Year=2019<br>Valuation (in millions)=%{marker.size}<br>LAT=%{lat}<br>LONG=%{lon}<extra></extra>",
           "hovertext": [
            "New York Knicks"
           ],
           "lat": [
            40
           ],
           "legendgroup": "New York Knicks",
           "lon": [
            -73
           ],
           "marker": {
            "color": "blue",
            "size": [
             40000000000
            ],
            "sizemode": "area",
            "sizeref": 100000000,
            "symbol": "circle"
           },
           "mode": "markers",
           "name": "New York Knicks",
           "showlegend": true,
           "type": "scattergeo"
          },
          {
           "geo": "geo",
           "hovertemplate": "<b>%{hovertext}</b><br><br>Team=Golden State Warriors<br>Year=2019<br>Valuation (in millions)=%{marker.size}<br>LAT=%{lat}<br>LONG=%{lon}<extra></extra>",
           "hovertext": [
            "Golden State Warriors"
           ],
           "lat": [
            37
           ],
           "legendgroup": "Golden State Warriors",
           "lon": [
            -122
           ],
           "marker": {
            "color": "red",
            "size": [
             35000000000
            ],
            "sizemode": "area",
            "sizeref": 100000000,
            "symbol": "circle"
           },
           "mode": "markers",
           "name": "Golden State Warriors",
           "showlegend": true,
           "type": "scattergeo"
          },
          {
           "geo": "geo",
           "hovertemplate": "<b>%{hovertext}</b><br><br>Team=Los Angeles Lakers<br>Year=2019<br>Valuation (in millions)=%{marker.size}<br>LAT=%{lat}<br>LONG=%{lon}<extra></extra>",
           "hovertext": [
            "Los Angeles Lakers"
           ],
           "lat": [
            34
           ],
           "legendgroup": "Los Angeles Lakers",
           "lon": [
            -118
           ],
           "marker": {
            "color": "yellow",
            "size": [
             37000000000
            ],
            "sizemode": "area",
            "sizeref": 100000000,
            "symbol": "circle"
           },
           "mode": "markers",
           "name": "Los Angeles Lakers",
           "showlegend": true,
           "type": "scattergeo"
          },
          {
           "geo": "geo",
           "hovertemplate": "<b>%{hovertext}</b><br><br>Team=Brooklyn Nets<br>Year=2019<br>Valuation (in millions)=%{marker.size}<br>LAT=%{lat}<br>LONG=%{lon}<extra></extra>",
           "hovertext": [
            "Brooklyn Nets"
           ],
           "lat": [
            40
           ],
           "legendgroup": "Brooklyn Nets",
           "lon": [
            -73
           ],
           "marker": {
            "color": "blue",
            "size": [
             23500000000
            ],
            "sizemode": "area",
            "sizeref": 100000000,
            "symbol": "circle"
           },
           "mode": "markers",
           "name": "Brooklyn Nets",
           "showlegend": true,
           "type": "scattergeo"
          },
          {
           "geo": "geo",
           "hovertemplate": "<b>%{hovertext}</b><br><br>Team=Boston Celtics<br>Year=2019<br>Valuation (in millions)=%{marker.size}<br>LAT=%{lat}<br>LONG=%{lon}<extra></extra>",
           "hovertext": [
            "Boston Celtics"
           ],
           "lat": [
            42
           ],
           "legendgroup": "Boston Celtics",
           "lon": [
            -71
           ],
           "marker": {
            "color": "red",
            "size": [
             28000000000
            ],
            "sizemode": "area",
            "sizeref": 100000000,
            "symbol": "circle"
           },
           "mode": "markers",
           "name": "Boston Celtics",
           "showlegend": true,
           "type": "scattergeo"
          },
          {
           "geo": "geo",
           "hovertemplate": "<b>%{hovertext}</b><br><br>Team=Chicago Bulls<br>Year=2019<br>Valuation (in millions)=%{marker.size}<br>LAT=%{lat}<br>LONG=%{lon}<extra></extra>",
           "hovertext": [
            "Chicago Bulls"
           ],
           "lat": [
            41
           ],
           "legendgroup": "Chicago Bulls",
           "lon": [
            -87
           ],
           "marker": {
            "color": "yellow",
            "size": [
             29000000000
            ],
            "sizemode": "area",
            "sizeref": 100000000,
            "symbol": "circle"
           },
           "mode": "markers",
           "name": "Chicago Bulls",
           "showlegend": true,
           "type": "scattergeo"
          },
          {
           "geo": "geo",
           "hovertemplate": "<b>%{hovertext}</b><br><br>Team=Houston Rockets<br>Year=2019<br>Valuation (in millions)=%{marker.size}<br>LAT=%{lat}<br>LONG=%{lon}<extra></extra>",
           "hovertext": [
            "Houston Rockets"
           ],
           "lat": [
            29
           ],
           "legendgroup": "Houston Rockets",
           "lon": [
            -95
           ],
           "marker": {
            "color": "blue",
            "size": [
             23000000000
            ],
            "sizemode": "area",
            "sizeref": 100000000,
            "symbol": "circle"
           },
           "mode": "markers",
           "name": "Houston Rockets",
           "showlegend": true,
           "type": "scattergeo"
          },
          {
           "geo": "geo",
           "hovertemplate": "<b>%{hovertext}</b><br><br>Team=Los Angeles Clippers<br>Year=2019<br>Valuation (in millions)=%{marker.size}<br>LAT=%{lat}<br>LONG=%{lon}<extra></extra>",
           "hovertext": [
            "Los Angeles Clippers"
           ],
           "lat": [
            34
           ],
           "legendgroup": "Los Angeles Clippers",
           "lon": [
            -118
           ],
           "marker": {
            "color": "red",
            "size": [
             22000000000
            ],
            "sizemode": "area",
            "sizeref": 100000000,
            "symbol": "circle"
           },
           "mode": "markers",
           "name": "Los Angeles Clippers",
           "showlegend": true,
           "type": "scattergeo"
          },
          {
           "geo": "geo",
           "hovertemplate": "<b>%{hovertext}</b><br><br>Team=Dallas Mavericks<br>Year=2019<br>Valuation (in millions)=%{marker.size}<br>LAT=%{lat}<br>LONG=%{lon}<extra></extra>",
           "hovertext": [
            "Dallas Mavericks"
           ],
           "lat": [
            32
           ],
           "legendgroup": "Dallas Mavericks",
           "lon": [
            -96
           ],
           "marker": {
            "color": "yellow",
            "size": [
             22500000000
            ],
            "sizemode": "area",
            "sizeref": 100000000,
            "symbol": "circle"
           },
           "mode": "markers",
           "name": "Dallas Mavericks",
           "showlegend": true,
           "type": "scattergeo"
          },
          {
           "geo": "geo",
           "hovertemplate": "<b>%{hovertext}</b><br><br>Team=Toronto Raptors<br>Year=2019<br>Valuation (in millions)=%{marker.size}<br>LAT=%{lat}<br>LONG=%{lon}<extra></extra>",
           "hovertext": [
            "Toronto Raptors"
           ],
           "lat": [
            43
           ],
           "legendgroup": "Toronto Raptors",
           "lon": [
            -79
           ],
           "marker": {
            "color": "blue",
            "size": [
             16750000000
            ],
            "sizemode": "area",
            "sizeref": 100000000,
            "symbol": "circle"
           },
           "mode": "markers",
           "name": "Toronto Raptors",
           "showlegend": true,
           "type": "scattergeo"
          },
          {
           "geo": "geo",
           "hovertemplate": "<b>%{hovertext}</b><br><br>Team=Philadelphia 76ers<br>Year=2019<br>Valuation (in millions)=%{marker.size}<br>LAT=%{lat}<br>LONG=%{lon}<extra></extra>",
           "hovertext": [
            "Philadelphia 76ers"
           ],
           "lat": [
            39
           ],
           "legendgroup": "Philadelphia 76ers",
           "lon": [
            -75
           ],
           "marker": {
            "color": "red",
            "size": [
             16500000000
            ],
            "sizemode": "area",
            "sizeref": 100000000,
            "symbol": "circle"
           },
           "mode": "markers",
           "name": "Philadelphia 76ers",
           "showlegend": true,
           "type": "scattergeo"
          },
          {
           "geo": "geo",
           "hovertemplate": "<b>%{hovertext}</b><br><br>Team=Miami Heat<br>Year=2019<br>Valuation (in millions)=%{marker.size}<br>LAT=%{lat}<br>LONG=%{lon}<extra></extra>",
           "hovertext": [
            "Miami Heat"
           ],
           "lat": [
            25
           ],
           "legendgroup": "Miami Heat",
           "lon": [
            -80
           ],
           "marker": {
            "color": "yellow",
            "size": [
             17500000000
            ],
            "sizemode": "area",
            "sizeref": 100000000,
            "symbol": "circle"
           },
           "mode": "markers",
           "name": "Miami Heat",
           "showlegend": true,
           "type": "scattergeo"
          },
          {
           "geo": "geo",
           "hovertemplate": "<b>%{hovertext}</b><br><br>Team=San Antonio Spurs<br>Year=2019<br>Valuation (in millions)=%{marker.size}<br>LAT=%{lat}<br>LONG=%{lon}<extra></extra>",
           "hovertext": [
            "San Antonio Spurs"
           ],
           "lat": [
            29
           ],
           "legendgroup": "San Antonio Spurs",
           "lon": [
            -98
           ],
           "marker": {
            "color": "blue",
            "size": [
             16250000000
            ],
            "sizemode": "area",
            "sizeref": 100000000,
            "symbol": "circle"
           },
           "mode": "markers",
           "name": "San Antonio Spurs",
           "showlegend": true,
           "type": "scattergeo"
          },
          {
           "geo": "geo",
           "hovertemplate": "<b>%{hovertext}</b><br><br>Team=Washington Wizards<br>Year=2019<br>Valuation (in millions)=%{marker.size}<br>LAT=%{lat}<br>LONG=%{lon}<extra></extra>",
           "hovertext": [
            "Washington Wizards"
           ],
           "lat": [
            38
           ],
           "legendgroup": "Washington Wizards",
           "lon": [
            -77
           ],
           "marker": {
            "color": "red",
            "size": [
             15500000000
            ],
            "sizemode": "area",
            "sizeref": 100000000,
            "symbol": "circle"
           },
           "mode": "markers",
           "name": "Washington Wizards",
           "showlegend": true,
           "type": "scattergeo"
          },
          {
           "geo": "geo",
           "hovertemplate": "<b>%{hovertext}</b><br><br>Team=Portland Trail Blazers<br>Year=2019<br>Valuation (in millions)=%{marker.size}<br>LAT=%{lat}<br>LONG=%{lon}<extra></extra>",
           "hovertext": [
            "Portland Trail Blazers"
           ],
           "lat": [
            45
           ],
           "legendgroup": "Portland Trail Blazers",
           "lon": [
            -122
           ],
           "marker": {
            "color": "yellow",
            "size": [
             16000000000
            ],
            "sizemode": "area",
            "sizeref": 100000000,
            "symbol": "circle"
           },
           "mode": "markers",
           "name": "Portland Trail Blazers",
           "showlegend": true,
           "type": "scattergeo"
          },
          {
           "geo": "geo",
           "hovertemplate": "<b>%{hovertext}</b><br><br>Team=Milwaukee Bucks<br>Year=2019<br>Valuation (in millions)=%{marker.size}<br>LAT=%{lat}<br>LONG=%{lon}<extra></extra>",
           "hovertext": [
            "Milwaukee Bucks"
           ],
           "lat": [
            43
           ],
           "legendgroup": "Milwaukee Bucks",
           "lon": [
            -87
           ],
           "marker": {
            "color": "blue",
            "size": [
             18600000000
            ],
            "sizemode": "area",
            "sizeref": 100000000,
            "symbol": "circle"
           },
           "mode": "markers",
           "name": "Milwaukee Bucks",
           "showlegend": true,
           "type": "scattergeo"
          },
          {
           "geo": "geo",
           "hovertemplate": "<b>%{hovertext}</b><br><br>Team=Sacramento Kings<br>Year=2019<br>Valuation (in millions)=%{marker.size}<br>LAT=%{lat}<br>LONG=%{lon}<extra></extra>",
           "hovertext": [
            "Sacramento Kings"
           ],
           "lat": [
            38
           ],
           "legendgroup": "Sacramento Kings",
           "lon": [
            -121
           ],
           "marker": {
            "color": "red",
            "size": [
             15750000000
            ],
            "sizemode": "area",
            "sizeref": 100000000,
            "symbol": "circle"
           },
           "mode": "markers",
           "name": "Sacramento Kings",
           "showlegend": true,
           "type": "scattergeo"
          },
          {
           "geo": "geo",
           "hovertemplate": "<b>%{hovertext}</b><br><br>Team=Denver Nuggets<br>Year=2019<br>Valuation (in millions)=%{marker.size}<br>LAT=%{lat}<br>LONG=%{lon}<extra></extra>",
           "hovertext": [
            "Denver Nuggets"
           ],
           "lat": [
            39
           ],
           "legendgroup": "Denver Nuggets",
           "lon": [
            -104
           ],
           "marker": {
            "color": "yellow",
            "size": [
             13750000000
            ],
            "sizemode": "area",
            "sizeref": 100000000,
            "symbol": "circle"
           },
           "mode": "markers",
           "name": "Denver Nuggets",
           "showlegend": true,
           "type": "scattergeo"
          },
          {
           "geo": "geo",
           "hovertemplate": "<b>%{hovertext}</b><br><br>Team=Cleveland Cavaliers<br>Year=2019<br>Valuation (in millions)=%{marker.size}<br>LAT=%{lat}<br>LONG=%{lon}<extra></extra>",
           "hovertext": [
            "Cleveland Cavaliers"
           ],
           "lat": [
            41
           ],
           "legendgroup": "Cleveland Cavaliers",
           "lon": [
            -81
           ],
           "marker": {
            "color": "blue",
            "size": [
             12750000000
            ],
            "sizemode": "area",
            "sizeref": 100000000,
            "symbol": "circle"
           },
           "mode": "markers",
           "name": "Cleveland Cavaliers",
           "showlegend": true,
           "type": "scattergeo"
          },
          {
           "geo": "geo",
           "hovertemplate": "<b>%{hovertext}</b><br><br>Team=Detroit Pistons<br>Year=2019<br>Valuation (in millions)=%{marker.size}<br>LAT=%{lat}<br>LONG=%{lon}<extra></extra>",
           "hovertext": [
            "Detroit Pistons"
           ],
           "lat": [
            42
           ],
           "legendgroup": "Detroit Pistons",
           "lon": [
            -83
           ],
           "marker": {
            "color": "red",
            "size": [
             12700000000
            ],
            "sizemode": "area",
            "sizeref": 100000000,
            "symbol": "circle"
           },
           "mode": "markers",
           "name": "Detroit Pistons",
           "showlegend": true,
           "type": "scattergeo"
          },
          {
           "geo": "geo",
           "hovertemplate": "<b>%{hovertext}</b><br><br>Team=Utah Jazz<br>Year=2019<br>Valuation (in millions)=%{marker.size}<br>LAT=%{lat}<br>LONG=%{lon}<extra></extra>",
           "hovertext": [
            "Utah Jazz"
           ],
           "lat": [
            40
           ],
           "legendgroup": "Utah Jazz",
           "lon": [
            -111
           ],
           "marker": {
            "color": "yellow",
            "size": [
             14250000000
            ],
            "sizemode": "area",
            "sizeref": 100000000,
            "symbol": "circle"
           },
           "mode": "markers",
           "name": "Utah Jazz",
           "showlegend": true,
           "type": "scattergeo"
          },
          {
           "geo": "geo",
           "hovertemplate": "<b>%{hovertext}</b><br><br>Team=Oklahoma City Thunder<br>Year=2019<br>Valuation (in millions)=%{marker.size}<br>LAT=%{lat}<br>LONG=%{lon}<extra></extra>",
           "hovertext": [
            "Oklahoma City Thunder"
           ],
           "lat": [
            35
           ],
           "legendgroup": "Oklahoma City Thunder",
           "lon": [
            -97
           ],
           "marker": {
            "color": "blue",
            "size": [
             14750000000
            ],
            "sizemode": "area",
            "sizeref": 100000000,
            "symbol": "circle"
           },
           "mode": "markers",
           "name": "Oklahoma City Thunder",
           "showlegend": true,
           "type": "scattergeo"
          },
          {
           "geo": "geo",
           "hovertemplate": "<b>%{hovertext}</b><br><br>Team=Phoenix Suns<br>Year=2019<br>Valuation (in millions)=%{marker.size}<br>LAT=%{lat}<br>LONG=%{lon}<extra></extra>",
           "hovertext": [
            "Phoenix Suns"
           ],
           "lat": [
            33
           ],
           "legendgroup": "Phoenix Suns",
           "lon": [
            -112
           ],
           "marker": {
            "color": "red",
            "size": [
             15000000000
            ],
            "sizemode": "area",
            "sizeref": 100000000,
            "symbol": "circle"
           },
           "mode": "markers",
           "name": "Phoenix Suns",
           "showlegend": true,
           "type": "scattergeo"
          },
          {
           "geo": "geo",
           "hovertemplate": "<b>%{hovertext}</b><br><br>Team=Indiana Pacers<br>Year=2019<br>Valuation (in millions)=%{marker.size}<br>LAT=%{lat}<br>LONG=%{lon}<extra></extra>",
           "hovertext": [
            "Indiana Pacers"
           ],
           "lat": [
            39
           ],
           "legendgroup": "Indiana Pacers",
           "lon": [
            -86
           ],
           "marker": {
            "color": "yellow",
            "size": [
             14000000000
            ],
            "sizemode": "area",
            "sizeref": 100000000,
            "symbol": "circle"
           },
           "mode": "markers",
           "name": "Indiana Pacers",
           "showlegend": true,
           "type": "scattergeo"
          },
          {
           "geo": "geo",
           "hovertemplate": "<b>%{hovertext}</b><br><br>Team=Atlanta Hawks<br>Year=2019<br>Valuation (in millions)=%{marker.size}<br>LAT=%{lat}<br>LONG=%{lon}<extra></extra>",
           "hovertext": [
            "Atlanta Hawks"
           ],
           "lat": [
            33
           ],
           "legendgroup": "Atlanta Hawks",
           "lon": [
            -84
           ],
           "marker": {
            "color": "blue",
            "size": [
             13000000000
            ],
            "sizemode": "area",
            "sizeref": 100000000,
            "symbol": "circle"
           },
           "mode": "markers",
           "name": "Atlanta Hawks",
           "showlegend": true,
           "type": "scattergeo"
          },
          {
           "geo": "geo",
           "hovertemplate": "<b>%{hovertext}</b><br><br>Team=Orlando Magic<br>Year=2019<br>Valuation (in millions)=%{marker.size}<br>LAT=%{lat}<br>LONG=%{lon}<extra></extra>",
           "hovertext": [
            "Orlando Magic"
           ],
           "lat": [
            28
           ],
           "legendgroup": "Orlando Magic",
           "lon": [
            -81
           ],
           "marker": {
            "color": "red",
            "size": [
             13250000000
            ],
            "sizemode": "area",
            "sizeref": 100000000,
            "symbol": "circle"
           },
           "mode": "markers",
           "name": "Orlando Magic",
           "showlegend": true,
           "type": "scattergeo"
          },
          {
           "geo": "geo",
           "hovertemplate": "<b>%{hovertext}</b><br><br>Team=Charlotte Hornets<br>Year=2019<br>Valuation (in millions)=%{marker.size}<br>LAT=%{lat}<br>LONG=%{lon}<extra></extra>",
           "hovertext": [
            "Charlotte Hornets"
           ],
           "lat": [
            35
           ],
           "legendgroup": "Charlotte Hornets",
           "lon": [
            -80
           ],
           "marker": {
            "color": "yellow",
            "size": [
             10250000000
            ],
            "sizemode": "area",
            "sizeref": 100000000,
            "symbol": "circle"
           },
           "mode": "markers",
           "name": "Charlotte Hornets",
           "showlegend": true,
           "type": "scattergeo"
          },
          {
           "geo": "geo",
           "hovertemplate": "<b>%{hovertext}</b><br><br>Team=Minnesota Timberwolves<br>Year=2019<br>Valuation (in millions)=%{marker.size}<br>LAT=%{lat}<br>LONG=%{lon}<extra></extra>",
           "hovertext": [
            "Minnesota Timberwolves"
           ],
           "lat": [
            44
           ],
           "legendgroup": "Minnesota Timberwolves",
           "lon": [
            -93
           ],
           "marker": {
            "color": "blue",
            "size": [
             12600000000
            ],
            "sizemode": "area",
            "sizeref": 100000000,
            "symbol": "circle"
           },
           "mode": "markers",
           "name": "Minnesota Timberwolves",
           "showlegend": true,
           "type": "scattergeo"
          },
          {
           "geo": "geo",
           "hovertemplate": "<b>%{hovertext}</b><br><br>Team=Memphis Grizzlies<br>Year=2019<br>Valuation (in millions)=%{marker.size}<br>LAT=%{lat}<br>LONG=%{lon}<extra></extra>",
           "hovertext": [
            "Memphis Grizzlies"
           ],
           "lat": [
            35
           ],
           "legendgroup": "Memphis Grizzlies",
           "lon": [
            -90
           ],
           "marker": {
            "color": "red",
            "size": [
             10020000000
            ],
            "sizemode": "area",
            "sizeref": 100000000,
            "symbol": "circle"
           },
           "mode": "markers",
           "name": "Memphis Grizzlies",
           "showlegend": true,
           "type": "scattergeo"
          },
          {
           "geo": "geo",
           "hovertemplate": "<b>%{hovertext}</b><br><br>Team=New Orleans Pelicans<br>Year=2019<br>Valuation (in millions)=%{marker.size}<br>LAT=%{lat}<br>LONG=%{lon}<extra></extra>",
           "hovertext": [
            "New Orleans Pelicans"
           ],
           "lat": [
            29
           ],
           "legendgroup": "New Orleans Pelicans",
           "lon": [
            -90
           ],
           "marker": {
            "color": "yellow",
            "size": [
             10220000000
            ],
            "sizemode": "area",
            "sizeref": 100000000,
            "symbol": "circle"
           },
           "mode": "markers",
           "name": "New Orleans Pelicans",
           "showlegend": true,
           "type": "scattergeo"
          }
         ],
         "name": "2019"
        }
       ],
       "layout": {
        "autosize": true,
        "geo": {
         "center": {},
         "domain": {
          "x": [
           0,
           1
          ],
          "y": [
           0,
           1
          ]
         },
         "scope": "usa"
        },
        "legend": {
         "itemsizing": "constant",
         "title": {
          "text": "Team"
         },
         "tracegroupgap": 0
        },
        "sliders": [
         {
          "active": 0,
          "currentvalue": {
           "prefix": "Year="
          },
          "len": 0.9,
          "pad": {
           "b": 10,
           "t": 60
          },
          "steps": [
           {
            "args": [
             [
              "2010"
             ],
             {
              "frame": {
               "duration": 0,
               "redraw": true
              },
              "fromcurrent": true,
              "mode": "immediate",
              "transition": {
               "duration": 0,
               "easing": "linear"
              }
             }
            ],
            "label": "2010",
            "method": "animate"
           },
           {
            "args": [
             [
              "2011"
             ],
             {
              "frame": {
               "duration": 0,
               "redraw": true
              },
              "fromcurrent": true,
              "mode": "immediate",
              "transition": {
               "duration": 0,
               "easing": "linear"
              }
             }
            ],
            "label": "2011",
            "method": "animate"
           },
           {
            "args": [
             [
              "2012"
             ],
             {
              "frame": {
               "duration": 0,
               "redraw": true
              },
              "fromcurrent": true,
              "mode": "immediate",
              "transition": {
               "duration": 0,
               "easing": "linear"
              }
             }
            ],
            "label": "2012",
            "method": "animate"
           },
           {
            "args": [
             [
              "2013"
             ],
             {
              "frame": {
               "duration": 0,
               "redraw": true
              },
              "fromcurrent": true,
              "mode": "immediate",
              "transition": {
               "duration": 0,
               "easing": "linear"
              }
             }
            ],
            "label": "2013",
            "method": "animate"
           },
           {
            "args": [
             [
              "2014"
             ],
             {
              "frame": {
               "duration": 0,
               "redraw": true
              },
              "fromcurrent": true,
              "mode": "immediate",
              "transition": {
               "duration": 0,
               "easing": "linear"
              }
             }
            ],
            "label": "2014",
            "method": "animate"
           },
           {
            "args": [
             [
              "2015"
             ],
             {
              "frame": {
               "duration": 0,
               "redraw": true
              },
              "fromcurrent": true,
              "mode": "immediate",
              "transition": {
               "duration": 0,
               "easing": "linear"
              }
             }
            ],
            "label": "2015",
            "method": "animate"
           },
           {
            "args": [
             [
              "2016"
             ],
             {
              "frame": {
               "duration": 0,
               "redraw": true
              },
              "fromcurrent": true,
              "mode": "immediate",
              "transition": {
               "duration": 0,
               "easing": "linear"
              }
             }
            ],
            "label": "2016",
            "method": "animate"
           },
           {
            "args": [
             [
              "2017"
             ],
             {
              "frame": {
               "duration": 0,
               "redraw": true
              },
              "fromcurrent": true,
              "mode": "immediate",
              "transition": {
               "duration": 0,
               "easing": "linear"
              }
             }
            ],
            "label": "2017",
            "method": "animate"
           },
           {
            "args": [
             [
              "2018"
             ],
             {
              "frame": {
               "duration": 0,
               "redraw": true
              },
              "fromcurrent": true,
              "mode": "immediate",
              "transition": {
               "duration": 0,
               "easing": "linear"
              }
             }
            ],
            "label": "2018",
            "method": "animate"
           },
           {
            "args": [
             [
              "2019"
             ],
             {
              "frame": {
               "duration": 0,
               "redraw": true
              },
              "fromcurrent": true,
              "mode": "immediate",
              "transition": {
               "duration": 0,
               "easing": "linear"
              }
             }
            ],
            "label": "2019",
            "method": "animate"
           }
          ],
          "x": 0.1,
          "xanchor": "left",
          "y": 0,
          "yanchor": "top"
         }
        ],
        "template": {
         "data": {
          "bar": [
           {
            "error_x": {
             "color": "#2a3f5f"
            },
            "error_y": {
             "color": "#2a3f5f"
            },
            "marker": {
             "line": {
              "color": "#E5ECF6",
              "width": 0.5
             },
             "pattern": {
              "fillmode": "overlay",
              "size": 10,
              "solidity": 0.2
             }
            },
            "type": "bar"
           }
          ],
          "barpolar": [
           {
            "marker": {
             "line": {
              "color": "#E5ECF6",
              "width": 0.5
             },
             "pattern": {
              "fillmode": "overlay",
              "size": 10,
              "solidity": 0.2
             }
            },
            "type": "barpolar"
           }
          ],
          "carpet": [
           {
            "aaxis": {
             "endlinecolor": "#2a3f5f",
             "gridcolor": "white",
             "linecolor": "white",
             "minorgridcolor": "white",
             "startlinecolor": "#2a3f5f"
            },
            "baxis": {
             "endlinecolor": "#2a3f5f",
             "gridcolor": "white",
             "linecolor": "white",
             "minorgridcolor": "white",
             "startlinecolor": "#2a3f5f"
            },
            "type": "carpet"
           }
          ],
          "choropleth": [
           {
            "colorbar": {
             "outlinewidth": 0,
             "ticks": ""
            },
            "type": "choropleth"
           }
          ],
          "contour": [
           {
            "colorbar": {
             "outlinewidth": 0,
             "ticks": ""
            },
            "colorscale": [
             [
              0,
              "#0d0887"
             ],
             [
              0.1111111111111111,
              "#46039f"
             ],
             [
              0.2222222222222222,
              "#7201a8"
             ],
             [
              0.3333333333333333,
              "#9c179e"
             ],
             [
              0.4444444444444444,
              "#bd3786"
             ],
             [
              0.5555555555555556,
              "#d8576b"
             ],
             [
              0.6666666666666666,
              "#ed7953"
             ],
             [
              0.7777777777777778,
              "#fb9f3a"
             ],
             [
              0.8888888888888888,
              "#fdca26"
             ],
             [
              1,
              "#f0f921"
             ]
            ],
            "type": "contour"
           }
          ],
          "contourcarpet": [
           {
            "colorbar": {
             "outlinewidth": 0,
             "ticks": ""
            },
            "type": "contourcarpet"
           }
          ],
          "heatmap": [
           {
            "colorbar": {
             "outlinewidth": 0,
             "ticks": ""
            },
            "colorscale": [
             [
              0,
              "#0d0887"
             ],
             [
              0.1111111111111111,
              "#46039f"
             ],
             [
              0.2222222222222222,
              "#7201a8"
             ],
             [
              0.3333333333333333,
              "#9c179e"
             ],
             [
              0.4444444444444444,
              "#bd3786"
             ],
             [
              0.5555555555555556,
              "#d8576b"
             ],
             [
              0.6666666666666666,
              "#ed7953"
             ],
             [
              0.7777777777777778,
              "#fb9f3a"
             ],
             [
              0.8888888888888888,
              "#fdca26"
             ],
             [
              1,
              "#f0f921"
             ]
            ],
            "type": "heatmap"
           }
          ],
          "heatmapgl": [
           {
            "colorbar": {
             "outlinewidth": 0,
             "ticks": ""
            },
            "colorscale": [
             [
              0,
              "#0d0887"
             ],
             [
              0.1111111111111111,
              "#46039f"
             ],
             [
              0.2222222222222222,
              "#7201a8"
             ],
             [
              0.3333333333333333,
              "#9c179e"
             ],
             [
              0.4444444444444444,
              "#bd3786"
             ],
             [
              0.5555555555555556,
              "#d8576b"
             ],
             [
              0.6666666666666666,
              "#ed7953"
             ],
             [
              0.7777777777777778,
              "#fb9f3a"
             ],
             [
              0.8888888888888888,
              "#fdca26"
             ],
             [
              1,
              "#f0f921"
             ]
            ],
            "type": "heatmapgl"
           }
          ],
          "histogram": [
           {
            "marker": {
             "pattern": {
              "fillmode": "overlay",
              "size": 10,
              "solidity": 0.2
             }
            },
            "type": "histogram"
           }
          ],
          "histogram2d": [
           {
            "colorbar": {
             "outlinewidth": 0,
             "ticks": ""
            },
            "colorscale": [
             [
              0,
              "#0d0887"
             ],
             [
              0.1111111111111111,
              "#46039f"
             ],
             [
              0.2222222222222222,
              "#7201a8"
             ],
             [
              0.3333333333333333,
              "#9c179e"
             ],
             [
              0.4444444444444444,
              "#bd3786"
             ],
             [
              0.5555555555555556,
              "#d8576b"
             ],
             [
              0.6666666666666666,
              "#ed7953"
             ],
             [
              0.7777777777777778,
              "#fb9f3a"
             ],
             [
              0.8888888888888888,
              "#fdca26"
             ],
             [
              1,
              "#f0f921"
             ]
            ],
            "type": "histogram2d"
           }
          ],
          "histogram2dcontour": [
           {
            "colorbar": {
             "outlinewidth": 0,
             "ticks": ""
            },
            "colorscale": [
             [
              0,
              "#0d0887"
             ],
             [
              0.1111111111111111,
              "#46039f"
             ],
             [
              0.2222222222222222,
              "#7201a8"
             ],
             [
              0.3333333333333333,
              "#9c179e"
             ],
             [
              0.4444444444444444,
              "#bd3786"
             ],
             [
              0.5555555555555556,
              "#d8576b"
             ],
             [
              0.6666666666666666,
              "#ed7953"
             ],
             [
              0.7777777777777778,
              "#fb9f3a"
             ],
             [
              0.8888888888888888,
              "#fdca26"
             ],
             [
              1,
              "#f0f921"
             ]
            ],
            "type": "histogram2dcontour"
           }
          ],
          "mesh3d": [
           {
            "colorbar": {
             "outlinewidth": 0,
             "ticks": ""
            },
            "type": "mesh3d"
           }
          ],
          "parcoords": [
           {
            "line": {
             "colorbar": {
              "outlinewidth": 0,
              "ticks": ""
             }
            },
            "type": "parcoords"
           }
          ],
          "pie": [
           {
            "automargin": true,
            "type": "pie"
           }
          ],
          "scatter": [
           {
            "marker": {
             "colorbar": {
              "outlinewidth": 0,
              "ticks": ""
             }
            },
            "type": "scatter"
           }
          ],
          "scatter3d": [
           {
            "line": {
             "colorbar": {
              "outlinewidth": 0,
              "ticks": ""
             }
            },
            "marker": {
             "colorbar": {
              "outlinewidth": 0,
              "ticks": ""
             }
            },
            "type": "scatter3d"
           }
          ],
          "scattercarpet": [
           {
            "marker": {
             "colorbar": {
              "outlinewidth": 0,
              "ticks": ""
             }
            },
            "type": "scattercarpet"
           }
          ],
          "scattergeo": [
           {
            "marker": {
             "colorbar": {
              "outlinewidth": 0,
              "ticks": ""
             }
            },
            "type": "scattergeo"
           }
          ],
          "scattergl": [
           {
            "marker": {
             "colorbar": {
              "outlinewidth": 0,
              "ticks": ""
             }
            },
            "type": "scattergl"
           }
          ],
          "scattermapbox": [
           {
            "marker": {
             "colorbar": {
              "outlinewidth": 0,
              "ticks": ""
             }
            },
            "type": "scattermapbox"
           }
          ],
          "scatterpolar": [
           {
            "marker": {
             "colorbar": {
              "outlinewidth": 0,
              "ticks": ""
             }
            },
            "type": "scatterpolar"
           }
          ],
          "scatterpolargl": [
           {
            "marker": {
             "colorbar": {
              "outlinewidth": 0,
              "ticks": ""
             }
            },
            "type": "scatterpolargl"
           }
          ],
          "scatterternary": [
           {
            "marker": {
             "colorbar": {
              "outlinewidth": 0,
              "ticks": ""
             }
            },
            "type": "scatterternary"
           }
          ],
          "surface": [
           {
            "colorbar": {
             "outlinewidth": 0,
             "ticks": ""
            },
            "colorscale": [
             [
              0,
              "#0d0887"
             ],
             [
              0.1111111111111111,
              "#46039f"
             ],
             [
              0.2222222222222222,
              "#7201a8"
             ],
             [
              0.3333333333333333,
              "#9c179e"
             ],
             [
              0.4444444444444444,
              "#bd3786"
             ],
             [
              0.5555555555555556,
              "#d8576b"
             ],
             [
              0.6666666666666666,
              "#ed7953"
             ],
             [
              0.7777777777777778,
              "#fb9f3a"
             ],
             [
              0.8888888888888888,
              "#fdca26"
             ],
             [
              1,
              "#f0f921"
             ]
            ],
            "type": "surface"
           }
          ],
          "table": [
           {
            "cells": {
             "fill": {
              "color": "#EBF0F8"
             },
             "line": {
              "color": "white"
             }
            },
            "header": {
             "fill": {
              "color": "#C8D4E3"
             },
             "line": {
              "color": "white"
             }
            },
            "type": "table"
           }
          ]
         },
         "layout": {
          "annotationdefaults": {
           "arrowcolor": "#2a3f5f",
           "arrowhead": 0,
           "arrowwidth": 1
          },
          "autotypenumbers": "strict",
          "coloraxis": {
           "colorbar": {
            "outlinewidth": 0,
            "ticks": ""
           }
          },
          "colorscale": {
           "diverging": [
            [
             0,
             "#8e0152"
            ],
            [
             0.1,
             "#c51b7d"
            ],
            [
             0.2,
             "#de77ae"
            ],
            [
             0.3,
             "#f1b6da"
            ],
            [
             0.4,
             "#fde0ef"
            ],
            [
             0.5,
             "#f7f7f7"
            ],
            [
             0.6,
             "#e6f5d0"
            ],
            [
             0.7,
             "#b8e186"
            ],
            [
             0.8,
             "#7fbc41"
            ],
            [
             0.9,
             "#4d9221"
            ],
            [
             1,
             "#276419"
            ]
           ],
           "sequential": [
            [
             0,
             "#0d0887"
            ],
            [
             0.1111111111111111,
             "#46039f"
            ],
            [
             0.2222222222222222,
             "#7201a8"
            ],
            [
             0.3333333333333333,
             "#9c179e"
            ],
            [
             0.4444444444444444,
             "#bd3786"
            ],
            [
             0.5555555555555556,
             "#d8576b"
            ],
            [
             0.6666666666666666,
             "#ed7953"
            ],
            [
             0.7777777777777778,
             "#fb9f3a"
            ],
            [
             0.8888888888888888,
             "#fdca26"
            ],
            [
             1,
             "#f0f921"
            ]
           ],
           "sequentialminus": [
            [
             0,
             "#0d0887"
            ],
            [
             0.1111111111111111,
             "#46039f"
            ],
            [
             0.2222222222222222,
             "#7201a8"
            ],
            [
             0.3333333333333333,
             "#9c179e"
            ],
            [
             0.4444444444444444,
             "#bd3786"
            ],
            [
             0.5555555555555556,
             "#d8576b"
            ],
            [
             0.6666666666666666,
             "#ed7953"
            ],
            [
             0.7777777777777778,
             "#fb9f3a"
            ],
            [
             0.8888888888888888,
             "#fdca26"
            ],
            [
             1,
             "#f0f921"
            ]
           ]
          },
          "colorway": [
           "#636efa",
           "#EF553B",
           "#00cc96",
           "#ab63fa",
           "#FFA15A",
           "#19d3f3",
           "#FF6692",
           "#B6E880",
           "#FF97FF",
           "#FECB52"
          ],
          "font": {
           "color": "#2a3f5f"
          },
          "geo": {
           "bgcolor": "white",
           "lakecolor": "white",
           "landcolor": "#E5ECF6",
           "showlakes": true,
           "showland": true,
           "subunitcolor": "white"
          },
          "hoverlabel": {
           "align": "left"
          },
          "hovermode": "closest",
          "mapbox": {
           "style": "light"
          },
          "paper_bgcolor": "white",
          "plot_bgcolor": "#E5ECF6",
          "polar": {
           "angularaxis": {
            "gridcolor": "white",
            "linecolor": "white",
            "ticks": ""
           },
           "bgcolor": "#E5ECF6",
           "radialaxis": {
            "gridcolor": "white",
            "linecolor": "white",
            "ticks": ""
           }
          },
          "scene": {
           "xaxis": {
            "backgroundcolor": "#E5ECF6",
            "gridcolor": "white",
            "gridwidth": 2,
            "linecolor": "white",
            "showbackground": true,
            "ticks": "",
            "zerolinecolor": "white"
           },
           "yaxis": {
            "backgroundcolor": "#E5ECF6",
            "gridcolor": "white",
            "gridwidth": 2,
            "linecolor": "white",
            "showbackground": true,
            "ticks": "",
            "zerolinecolor": "white"
           },
           "zaxis": {
            "backgroundcolor": "#E5ECF6",
            "gridcolor": "white",
            "gridwidth": 2,
            "linecolor": "white",
            "showbackground": true,
            "ticks": "",
            "zerolinecolor": "white"
           }
          },
          "shapedefaults": {
           "line": {
            "color": "#2a3f5f"
           }
          },
          "ternary": {
           "aaxis": {
            "gridcolor": "white",
            "linecolor": "white",
            "ticks": ""
           },
           "baxis": {
            "gridcolor": "white",
            "linecolor": "white",
            "ticks": ""
           },
           "bgcolor": "#E5ECF6",
           "caxis": {
            "gridcolor": "white",
            "linecolor": "white",
            "ticks": ""
           }
          },
          "title": {
           "x": 0.05
          },
          "xaxis": {
           "automargin": true,
           "gridcolor": "white",
           "linecolor": "white",
           "ticks": "",
           "title": {
            "standoff": 15
           },
           "zerolinecolor": "white",
           "zerolinewidth": 2
          },
          "yaxis": {
           "automargin": true,
           "gridcolor": "white",
           "linecolor": "white",
           "ticks": "",
           "title": {
            "standoff": 15
           },
           "zerolinecolor": "white",
           "zerolinewidth": 2
          }
         }
        },
        "title": {
         "text": "Team Valuation (in millions)"
        },
        "updatemenus": [
         {
          "buttons": [
           {
            "args": [
             null,
             {
              "frame": {
               "duration": 500,
               "redraw": true
              },
              "fromcurrent": true,
              "mode": "immediate",
              "transition": {
               "duration": 500,
               "easing": "linear"
              }
             }
            ],
            "label": "&#9654;",
            "method": "animate"
           },
           {
            "args": [
             [
              null
             ],
             {
              "frame": {
               "duration": 0,
               "redraw": true
              },
              "fromcurrent": true,
              "mode": "immediate",
              "transition": {
               "duration": 0,
               "easing": "linear"
              }
             }
            ],
            "label": "&#9724;",
            "method": "animate"
           }
          ],
          "direction": "left",
          "pad": {
           "r": 10,
           "t": 70
          },
          "showactive": false,
          "type": "buttons",
          "x": 0.1,
          "xanchor": "right",
          "y": 0,
          "yanchor": "top"
         }
        ]
       }
      },
      "image/png": "[encoded data removed]",
      "text/html": [
       "<div>                            <div id=\"f5af9251-5ab4-45bf-b836-28048089d149\" class=\"plotly-graph-div\" style=\"height:525px; width:100%;\"></div>            <script type=\"text/javascript\">                require([\"plotly\"], function(Plotly) {                    window.PLOTLYENV=window.PLOTLYENV || {};                                    if (document.getElementById(\"f5af9251-5ab4-45bf-b836-28048089d149\")) {                    Plotly.newPlot(                        \"f5af9251-5ab4-45bf-b836-28048089d149\",                        [{\"geo\":\"geo\",\"hovertemplate\":\"<b>%{hovertext}</b><br><br>Team=New York Knicks<br>Year=2010<br>Valuation (in millions)=%{marker.size}<br>LAT=%{lat}<br>LONG=%{lon}<extra></extra>\",\"hovertext\":[\"New York Knicks\"],\"lat\":[40],\"legendgroup\":\"New York Knicks\",\"lon\":[-73],\"marker\":{\"color\":\"blue\",\"size\":[5860000000],\"sizemode\":\"area\",\"sizeref\":100000000.0,\"symbol\":\"circle\"},\"mode\":\"markers\",\"name\":\"New York Knicks\",\"showlegend\":true,\"type\":\"scattergeo\"},{\"geo\":\"geo\",\"hovertemplate\":\"<b>%{hovertext}</b><br><br>Team=Golden State Warriors<br>Year=2010<br>Valuation (in millions)=%{marker.size}<br>LAT=%{lat}<br>LONG=%{lon}<extra></extra>\",\"hovertext\":[\"Golden State Warriors\"],\"lat\":[37],\"legendgroup\":\"Golden State Warriors\",\"lon\":[-122],\"marker\":{\"color\":\"red\",\"size\":[3150000000],\"sizemode\":\"area\",\"sizeref\":100000000.0,\"symbol\":\"circle\"},\"mode\":\"markers\",\"name\":\"Golden State Warriors\",\"showlegend\":true,\"type\":\"scattergeo\"},{\"geo\":\"geo\",\"hovertemplate\":\"<b>%{hovertext}</b><br><br>Team=Los Angeles Lakers<br>Year=2010<br>Valuation (in millions)=%{marker.size}<br>LAT=%{lat}<br>LONG=%{lon}<extra></extra>\",\"hovertext\":[\"Los Angeles Lakers\"],\"lat\":[34],\"legendgroup\":\"Los Angeles Lakers\",\"lon\":[-118],\"marker\":{\"color\":\"yellow\",\"size\":[6070000000],\"sizemode\":\"area\",\"sizeref\":100000000.0,\"symbol\":\"circle\"},\"mode\":\"markers\",\"name\":\"Los Angeles Lakers\",\"showlegend\":true,\"type\":\"scattergeo\"},{\"geo\":\"geo\",\"hovertemplate\":\"<b>%{hovertext}</b><br><br>Team=Brooklyn Nets<br>Year=2010<br>Valuation (in millions)=%{marker.size}<br>LAT=%{lat}<br>LONG=%{lon}<extra></extra>\",\"hovertext\":[\"Brooklyn Nets\"],\"lat\":[40],\"legendgroup\":\"Brooklyn Nets\",\"lon\":[-73],\"marker\":{\"color\":\"blue\",\"size\":[2690000000],\"sizemode\":\"area\",\"sizeref\":100000000.0,\"symbol\":\"circle\"},\"mode\":\"markers\",\"name\":\"Brooklyn Nets\",\"showlegend\":true,\"type\":\"scattergeo\"},{\"geo\":\"geo\",\"hovertemplate\":\"<b>%{hovertext}</b><br><br>Team=Boston Celtics<br>Year=2010<br>Valuation (in millions)=%{marker.size}<br>LAT=%{lat}<br>LONG=%{lon}<extra></extra>\",\"hovertext\":[\"Boston Celtics\"],\"lat\":[42],\"legendgroup\":\"Boston Celtics\",\"lon\":[-71],\"marker\":{\"color\":\"red\",\"size\":[4330000000],\"sizemode\":\"area\",\"sizeref\":100000000.0,\"symbol\":\"circle\"},\"mode\":\"markers\",\"name\":\"Boston Celtics\",\"showlegend\":true,\"type\":\"scattergeo\"},{\"geo\":\"geo\",\"hovertemplate\":\"<b>%{hovertext}</b><br><br>Team=Chicago Bulls<br>Year=2010<br>Valuation (in millions)=%{marker.size}<br>LAT=%{lat}<br>LONG=%{lon}<extra></extra>\",\"hovertext\":[\"Chicago Bulls\"],\"lat\":[41],\"legendgroup\":\"Chicago Bulls\",\"lon\":[-87],\"marker\":{\"color\":\"yellow\",\"size\":[5110000000],\"sizemode\":\"area\",\"sizeref\":100000000.0,\"symbol\":\"circle\"},\"mode\":\"markers\",\"name\":\"Chicago Bulls\",\"showlegend\":true,\"type\":\"scattergeo\"},{\"geo\":\"geo\",\"hovertemplate\":\"<b>%{hovertext}</b><br><br>Team=Houston Rockets<br>Year=2010<br>Valuation (in millions)=%{marker.size}<br>LAT=%{lat}<br>LONG=%{lon}<extra></extra>\",\"hovertext\":[\"Houston Rockets\"],\"lat\":[29],\"legendgroup\":\"Houston Rockets\",\"lon\":[-95],\"marker\":{\"color\":\"blue\",\"size\":[4700000000],\"sizemode\":\"area\",\"sizeref\":100000000.0,\"symbol\":\"circle\"},\"mode\":\"markers\",\"name\":\"Houston Rockets\",\"showlegend\":true,\"type\":\"scattergeo\"},{\"geo\":\"geo\",\"hovertemplate\":\"<b>%{hovertext}</b><br><br>Team=Los Angeles Clippers<br>Year=2010<br>Valuation (in millions)=%{marker.size}<br>LAT=%{lat}<br>LONG=%{lon}<extra></extra>\",\"hovertext\":[\"Los Angeles Clippers\"],\"lat\":[34],\"legendgroup\":\"Los Angeles Clippers\",\"lon\":[-118],\"marker\":{\"color\":\"red\",\"size\":[2950000000],\"sizemode\":\"area\",\"sizeref\":100000000.0,\"symbol\":\"circle\"},\"mode\":\"markers\",\"name\":\"Los Angeles Clippers\",\"showlegend\":true,\"type\":\"scattergeo\"},{\"geo\":\"geo\",\"hovertemplate\":\"<b>%{hovertext}</b><br><br>Team=Dallas Mavericks<br>Year=2010<br>Valuation (in millions)=%{marker.size}<br>LAT=%{lat}<br>LONG=%{lon}<extra></extra>\",\"hovertext\":[\"Dallas Mavericks\"],\"lat\":[32],\"legendgroup\":\"Dallas Mavericks\",\"lon\":[-96],\"marker\":{\"color\":\"yellow\",\"size\":[4460000000],\"sizemode\":\"area\",\"sizeref\":100000000.0,\"symbol\":\"circle\"},\"mode\":\"markers\",\"name\":\"Dallas Mavericks\",\"showlegend\":true,\"type\":\"scattergeo\"},{\"geo\":\"geo\",\"hovertemplate\":\"<b>%{hovertext}</b><br><br>Team=Toronto Raptors<br>Year=2010<br>Valuation (in millions)=%{marker.size}<br>LAT=%{lat}<br>LONG=%{lon}<extra></extra>\",\"hovertext\":[\"Toronto Raptors\"],\"lat\":[43],\"legendgroup\":\"Toronto Raptors\",\"lon\":[-79],\"marker\":{\"color\":\"blue\",\"size\":[3860000000],\"sizemode\":\"area\",\"sizeref\":100000000.0,\"symbol\":\"circle\"},\"mode\":\"markers\",\"name\":\"Toronto Raptors\",\"showlegend\":true,\"type\":\"scattergeo\"},{\"geo\":\"geo\",\"hovertemplate\":\"<b>%{hovertext}</b><br><br>Team=Philadelphia 76ers<br>Year=2010<br>Valuation (in millions)=%{marker.size}<br>LAT=%{lat}<br>LONG=%{lon}<extra></extra>\",\"hovertext\":[\"Philadelphia 76ers\"],\"lat\":[39],\"legendgroup\":\"Philadelphia 76ers\",\"lon\":[-75],\"marker\":{\"color\":\"red\",\"size\":[3440000000],\"sizemode\":\"area\",\"sizeref\":100000000.0,\"symbol\":\"circle\"},\"mode\":\"markers\",\"name\":\"Philadelphia 76ers\",\"showlegend\":true,\"type\":\"scattergeo\"},{\"geo\":\"geo\",\"hovertemplate\":\"<b>%{hovertext}</b><br><br>Team=Miami Heat<br>Year=2010<br>Valuation (in millions)=%{marker.size}<br>LAT=%{lat}<br>LONG=%{lon}<extra></extra>\",\"hovertext\":[\"Miami Heat\"],\"lat\":[25],\"legendgroup\":\"Miami Heat\",\"lon\":[-80],\"marker\":{\"color\":\"yellow\",\"size\":[3640000000],\"sizemode\":\"area\",\"sizeref\":100000000.0,\"symbol\":\"circle\"},\"mode\":\"markers\",\"name\":\"Miami Heat\",\"showlegend\":true,\"type\":\"scattergeo\"},{\"geo\":\"geo\",\"hovertemplate\":\"<b>%{hovertext}</b><br><br>Team=San Antonio Spurs<br>Year=2010<br>Valuation (in millions)=%{marker.size}<br>LAT=%{lat}<br>LONG=%{lon}<extra></extra>\",\"hovertext\":[\"San Antonio Spurs\"],\"lat\":[29],\"legendgroup\":\"San Antonio Spurs\",\"lon\":[-98],\"marker\":{\"color\":\"blue\",\"size\":[3980000000],\"sizemode\":\"area\",\"sizeref\":100000000.0,\"symbol\":\"circle\"},\"mode\":\"markers\",\"name\":\"San Antonio Spurs\",\"showlegend\":true,\"type\":\"scattergeo\"},{\"geo\":\"geo\",\"hovertemplate\":\"<b>%{hovertext}</b><br><br>Team=Washington Wizards<br>Year=2010<br>Valuation (in millions)=%{marker.size}<br>LAT=%{lat}<br>LONG=%{lon}<extra></extra>\",\"hovertext\":[\"Washington Wizards\"],\"lat\":[38],\"legendgroup\":\"Washington Wizards\",\"lon\":[-77],\"marker\":{\"color\":\"red\",\"size\":[3130000000],\"sizemode\":\"area\",\"sizeref\":100000000.0,\"symbol\":\"circle\"},\"mode\":\"markers\",\"name\":\"Washington Wizards\",\"showlegend\":true,\"type\":\"scattergeo\"},{\"geo\":\"geo\",\"hovertemplate\":\"<b>%{hovertext}</b><br><br>Team=Portland Trail Blazers<br>Year=2010<br>Valuation (in millions)=%{marker.size}<br>LAT=%{lat}<br>LONG=%{lon}<extra></extra>\",\"hovertext\":[\"Portland Trail Blazers\"],\"lat\":[45],\"legendgroup\":\"Portland Trail Blazers\",\"lon\":[-122],\"marker\":{\"color\":\"yellow\",\"size\":[3380000000],\"sizemode\":\"area\",\"sizeref\":100000000.0,\"symbol\":\"circle\"},\"mode\":\"markers\",\"name\":\"Portland Trail Blazers\",\"showlegend\":true,\"type\":\"scattergeo\"},{\"geo\":\"geo\",\"hovertemplate\":\"<b>%{hovertext}</b><br><br>Team=Milwaukee Bucks<br>Year=2010<br>Valuation (in millions)=%{marker.size}<br>LAT=%{lat}<br>LONG=%{lon}<extra></extra>\",\"hovertext\":[\"Milwaukee Bucks\"],\"lat\":[43],\"legendgroup\":\"Milwaukee Bucks\",\"lon\":[-87],\"marker\":{\"color\":\"blue\",\"size\":[2540000000],\"sizemode\":\"area\",\"sizeref\":100000000.0,\"symbol\":\"circle\"},\"mode\":\"markers\",\"name\":\"Milwaukee Bucks\",\"showlegend\":true,\"type\":\"scattergeo\"},{\"geo\":\"geo\",\"hovertemplate\":\"<b>%{hovertext}</b><br><br>Team=Sacramento Kings<br>Year=2010<br>Valuation (in millions)=%{marker.size}<br>LAT=%{lat}<br>LONG=%{lon}<extra></extra>\",\"hovertext\":[\"Sacramento Kings\"],\"lat\":[38],\"legendgroup\":\"Sacramento Kings\",\"lon\":[-121],\"marker\":{\"color\":\"red\",\"size\":[3050000000],\"sizemode\":\"area\",\"sizeref\":100000000.0,\"symbol\":\"circle\"},\"mode\":\"markers\",\"name\":\"Sacramento Kings\",\"showlegend\":true,\"type\":\"scattergeo\"},{\"geo\":\"geo\",\"hovertemplate\":\"<b>%{hovertext}</b><br><br>Team=Denver Nuggets<br>Year=2010<br>Valuation (in millions)=%{marker.size}<br>LAT=%{lat}<br>LONG=%{lon}<extra></extra>\",\"hovertext\":[\"Denver Nuggets\"],\"lat\":[39],\"legendgroup\":\"Denver Nuggets\",\"lon\":[-104],\"marker\":{\"color\":\"yellow\",\"size\":[3210000000],\"sizemode\":\"area\",\"sizeref\":100000000.0,\"symbol\":\"circle\"},\"mode\":\"markers\",\"name\":\"Denver Nuggets\",\"showlegend\":true,\"type\":\"scattergeo\"},{\"geo\":\"geo\",\"hovertemplate\":\"<b>%{hovertext}</b><br><br>Team=Cleveland Cavaliers<br>Year=2010<br>Valuation (in millions)=%{marker.size}<br>LAT=%{lat}<br>LONG=%{lon}<extra></extra>\",\"hovertext\":[\"Cleveland Cavaliers\"],\"lat\":[41],\"legendgroup\":\"Cleveland Cavaliers\",\"lon\":[-81],\"marker\":{\"color\":\"blue\",\"size\":[4760000000],\"sizemode\":\"area\",\"sizeref\":100000000.0,\"symbol\":\"circle\"},\"mode\":\"markers\",\"name\":\"Cleveland Cavaliers\",\"showlegend\":true,\"type\":\"scattergeo\"},{\"geo\":\"geo\",\"hovertemplate\":\"<b>%{hovertext}</b><br><br>Team=Detroit Pistons<br>Year=2010<br>Valuation (in millions)=%{marker.size}<br>LAT=%{lat}<br>LONG=%{lon}<extra></extra>\",\"hovertext\":[\"Detroit Pistons\"],\"lat\":[42],\"legendgroup\":\"Detroit Pistons\",\"lon\":[-83],\"marker\":{\"color\":\"red\",\"size\":[4790000000],\"sizemode\":\"area\",\"sizeref\":100000000.0,\"symbol\":\"circle\"},\"mode\":\"markers\",\"name\":\"Detroit Pistons\",\"showlegend\":true,\"type\":\"scattergeo\"},{\"geo\":\"geo\",\"hovertemplate\":\"<b>%{hovertext}</b><br><br>Team=Utah Jazz<br>Year=2010<br>Valuation (in millions)=%{marker.size}<br>LAT=%{lat}<br>LONG=%{lon}<extra></extra>\",\"hovertext\":[\"Utah Jazz\"],\"lat\":[40],\"legendgroup\":\"Utah Jazz\",\"lon\":[-111],\"marker\":{\"color\":\"yellow\",\"size\":[3430000000],\"sizemode\":\"area\",\"sizeref\":100000000.0,\"symbol\":\"circle\"},\"mode\":\"markers\",\"name\":\"Utah Jazz\",\"showlegend\":true,\"type\":\"scattergeo\"},{\"geo\":\"geo\",\"hovertemplate\":\"<b>%{hovertext}</b><br><br>Team=Oklahoma City Thunder<br>Year=2010<br>Valuation (in millions)=%{marker.size}<br>LAT=%{lat}<br>LONG=%{lon}<extra></extra>\",\"hovertext\":[\"Oklahoma City Thunder\"],\"lat\":[35],\"legendgroup\":\"Oklahoma City Thunder\",\"lon\":[-97],\"marker\":{\"color\":\"blue\",\"size\":[3100000000],\"sizemode\":\"area\",\"sizeref\":100000000.0,\"symbol\":\"circle\"},\"mode\":\"markers\",\"name\":\"Oklahoma City Thunder\",\"showlegend\":true,\"type\":\"scattergeo\"},{\"geo\":\"geo\",\"hovertemplate\":\"<b>%{hovertext}</b><br><br>Team=Phoenix Suns<br>Year=2010<br>Valuation (in millions)=%{marker.size}<br>LAT=%{lat}<br>LONG=%{lon}<extra></extra>\",\"hovertext\":[\"Phoenix Suns\"],\"lat\":[33],\"legendgroup\":\"Phoenix Suns\",\"lon\":[-112],\"marker\":{\"color\":\"red\",\"size\":[4290000000],\"sizemode\":\"area\",\"sizeref\":100000000.0,\"symbol\":\"circle\"},\"mode\":\"markers\",\"name\":\"Phoenix Suns\",\"showlegend\":true,\"type\":\"scattergeo\"},{\"geo\":\"geo\",\"hovertemplate\":\"<b>%{hovertext}</b><br><br>Team=Indiana Pacers<br>Year=2010<br>Valuation (in millions)=%{marker.size}<br>LAT=%{lat}<br>LONG=%{lon}<extra></extra>\",\"hovertext\":[\"Indiana Pacers\"],\"lat\":[39],\"legendgroup\":\"Indiana Pacers\",\"lon\":[-86],\"marker\":{\"color\":\"yellow\",\"size\":[2810000000],\"sizemode\":\"area\",\"sizeref\":100000000.0,\"symbol\":\"circle\"},\"mode\":\"markers\",\"name\":\"Indiana Pacers\",\"showlegend\":true,\"type\":\"scattergeo\"},{\"geo\":\"geo\",\"hovertemplate\":\"<b>%{hovertext}</b><br><br>Team=Atlanta Hawks<br>Year=2010<br>Valuation (in millions)=%{marker.size}<br>LAT=%{lat}<br>LONG=%{lon}<extra></extra>\",\"hovertext\":[\"Atlanta Hawks\"],\"lat\":[33],\"legendgroup\":\"Atlanta Hawks\",\"lon\":[-84],\"marker\":{\"color\":\"blue\",\"size\":[3060000000],\"sizemode\":\"area\",\"sizeref\":100000000.0,\"symbol\":\"circle\"},\"mode\":\"markers\",\"name\":\"Atlanta Hawks\",\"showlegend\":true,\"type\":\"scattergeo\"},{\"geo\":\"geo\",\"hovertemplate\":\"<b>%{hovertext}</b><br><br>Team=Orlando Magic<br>Year=2010<br>Valuation (in millions)=%{marker.size}<br>LAT=%{lat}<br>LONG=%{lon}<extra></extra>\",\"hovertext\":[\"Orlando Magic\"],\"lat\":[28],\"legendgroup\":\"Orlando Magic\",\"lon\":[-81],\"marker\":{\"color\":\"red\",\"size\":[3610000000],\"sizemode\":\"area\",\"sizeref\":100000000.0,\"symbol\":\"circle\"},\"mode\":\"markers\",\"name\":\"Orlando Magic\",\"showlegend\":true,\"type\":\"scattergeo\"},{\"geo\":\"geo\",\"hovertemplate\":\"<b>%{hovertext}</b><br><br>Team=Charlotte Hornets<br>Year=2010<br>Valuation (in millions)=%{marker.size}<br>LAT=%{lat}<br>LONG=%{lon}<extra></extra>\",\"hovertext\":[\"Charlotte Hornets\"],\"lat\":[35],\"legendgroup\":\"Charlotte Hornets\",\"lon\":[-80],\"marker\":{\"color\":\"yellow\",\"size\":[2780000000],\"sizemode\":\"area\",\"sizeref\":100000000.0,\"symbol\":\"circle\"},\"mode\":\"markers\",\"name\":\"Charlotte Hornets\",\"showlegend\":true,\"type\":\"scattergeo\"},{\"geo\":\"geo\",\"hovertemplate\":\"<b>%{hovertext}</b><br><br>Team=Minnesota Timberwolves<br>Year=2010<br>Valuation (in millions)=%{marker.size}<br>LAT=%{lat}<br>LONG=%{lon}<extra></extra>\",\"hovertext\":[\"Minnesota Timberwolves\"],\"lat\":[44],\"legendgroup\":\"Minnesota Timberwolves\",\"lon\":[-93],\"marker\":{\"color\":\"blue\",\"size\":[2680000000],\"sizemode\":\"area\",\"sizeref\":100000000.0,\"symbol\":\"circle\"},\"mode\":\"markers\",\"name\":\"Minnesota Timberwolves\",\"showlegend\":true,\"type\":\"scattergeo\"},{\"geo\":\"geo\",\"hovertemplate\":\"<b>%{hovertext}</b><br><br>Team=Memphis Grizzlies<br>Year=2010<br>Valuation (in millions)=%{marker.size}<br>LAT=%{lat}<br>LONG=%{lon}<extra></extra>\",\"hovertext\":[\"Memphis Grizzlies\"],\"lat\":[35],\"legendgroup\":\"Memphis Grizzlies\",\"lon\":[-90],\"marker\":{\"color\":\"red\",\"size\":[2570000000],\"sizemode\":\"area\",\"sizeref\":100000000.0,\"symbol\":\"circle\"},\"mode\":\"markers\",\"name\":\"Memphis Grizzlies\",\"showlegend\":true,\"type\":\"scattergeo\"},{\"geo\":\"geo\",\"hovertemplate\":\"<b>%{hovertext}</b><br><br>Team=New Orleans Pelicans<br>Year=2010<br>Valuation (in millions)=%{marker.size}<br>LAT=%{lat}<br>LONG=%{lon}<extra></extra>\",\"hovertext\":[\"New Orleans Pelicans\"],\"lat\":[29],\"legendgroup\":\"New Orleans Pelicans\",\"lon\":[-90],\"marker\":{\"color\":\"yellow\",\"size\":[2670000000],\"sizemode\":\"area\",\"sizeref\":100000000.0,\"symbol\":\"circle\"},\"mode\":\"markers\",\"name\":\"New Orleans Pelicans\",\"showlegend\":true,\"type\":\"scattergeo\"}],                        {\"geo\":{\"center\":{},\"domain\":{\"x\":[0.0,1.0],\"y\":[0.0,1.0]},\"scope\":\"usa\"},\"legend\":{\"itemsizing\":\"constant\",\"title\":{\"text\":\"Team\"},\"tracegroupgap\":0},\"sliders\":[{\"active\":0,\"currentvalue\":{\"prefix\":\"Year=\"},\"len\":0.9,\"pad\":{\"b\":10,\"t\":60},\"steps\":[{\"args\":[[\"2010\"],{\"frame\":{\"duration\":0,\"redraw\":true},\"fromcurrent\":true,\"mode\":\"immediate\",\"transition\":{\"duration\":0,\"easing\":\"linear\"}}],\"label\":\"2010\",\"method\":\"animate\"},{\"args\":[[\"2011\"],{\"frame\":{\"duration\":0,\"redraw\":true},\"fromcurrent\":true,\"mode\":\"immediate\",\"transition\":{\"duration\":0,\"easing\":\"linear\"}}],\"label\":\"2011\",\"method\":\"animate\"},{\"args\":[[\"2012\"],{\"frame\":{\"duration\":0,\"redraw\":true},\"fromcurrent\":true,\"mode\":\"immediate\",\"transition\":{\"duration\":0,\"easing\":\"linear\"}}],\"label\":\"2012\",\"method\":\"animate\"},{\"args\":[[\"2013\"],{\"frame\":{\"duration\":0,\"redraw\":true},\"fromcurrent\":true,\"mode\":\"immediate\",\"transition\":{\"duration\":0,\"easing\":\"linear\"}}],\"label\":\"2013\",\"method\":\"animate\"},{\"args\":[[\"2014\"],{\"frame\":{\"duration\":0,\"redraw\":true},\"fromcurrent\":true,\"mode\":\"immediate\",\"transition\":{\"duration\":0,\"easing\":\"linear\"}}],\"label\":\"2014\",\"method\":\"animate\"},{\"args\":[[\"2015\"],{\"frame\":{\"duration\":0,\"redraw\":true},\"fromcurrent\":true,\"mode\":\"immediate\",\"transition\":{\"duration\":0,\"easing\":\"linear\"}}],\"label\":\"2015\",\"method\":\"animate\"},{\"args\":[[\"2016\"],{\"frame\":{\"duration\":0,\"redraw\":true},\"fromcurrent\":true,\"mode\":\"immediate\",\"transition\":{\"duration\":0,\"easing\":\"linear\"}}],\"label\":\"2016\",\"method\":\"animate\"},{\"args\":[[\"2017\"],{\"frame\":{\"duration\":0,\"redraw\":true},\"fromcurrent\":true,\"mode\":\"immediate\",\"transition\":{\"duration\":0,\"easing\":\"linear\"}}],\"label\":\"2017\",\"method\":\"animate\"},{\"args\":[[\"2018\"],{\"frame\":{\"duration\":0,\"redraw\":true},\"fromcurrent\":true,\"mode\":\"immediate\",\"transition\":{\"duration\":0,\"easing\":\"linear\"}}],\"label\":\"2018\",\"method\":\"animate\"},{\"args\":[[\"2019\"],{\"frame\":{\"duration\":0,\"redraw\":true},\"fromcurrent\":true,\"mode\":\"immediate\",\"transition\":{\"duration\":0,\"easing\":\"linear\"}}],\"label\":\"2019\",\"method\":\"animate\"}],\"x\":0.1,\"xanchor\":\"left\",\"y\":0,\"yanchor\":\"top\"}],\"template\":{\"data\":{\"bar\":[{\"error_x\":{\"color\":\"#2a3f5f\"},\"error_y\":{\"color\":\"#2a3f5f\"},\"marker\":{\"line\":{\"color\":\"#E5ECF6\",\"width\":0.5},\"pattern\":{\"fillmode\":\"overlay\",\"size\":10,\"solidity\":0.2}},\"type\":\"bar\"}],\"barpolar\":[{\"marker\":{\"line\":{\"color\":\"#E5ECF6\",\"width\":0.5},\"pattern\":{\"fillmode\":\"overlay\",\"size\":10,\"solidity\":0.2}},\"type\":\"barpolar\"}],\"carpet\":[{\"aaxis\":{\"endlinecolor\":\"#2a3f5f\",\"gridcolor\":\"white\",\"linecolor\":\"white\",\"minorgridcolor\":\"white\",\"startlinecolor\":\"#2a3f5f\"},\"baxis\":{\"endlinecolor\":\"#2a3f5f\",\"gridcolor\":\"white\",\"linecolor\":\"white\",\"minorgridcolor\":\"white\",\"startlinecolor\":\"#2a3f5f\"},\"type\":\"carpet\"}],\"choropleth\":[{\"colorbar\":{\"outlinewidth\":0,\"ticks\":\"\"},\"type\":\"choropleth\"}],\"contour\":[{\"colorbar\":{\"outlinewidth\":0,\"ticks\":\"\"},\"colorscale\":[[0.0,\"#0d0887\"],[0.1111111111111111,\"#46039f\"],[0.2222222222222222,\"#7201a8\"],[0.3333333333333333,\"#9c179e\"],[0.4444444444444444,\"#bd3786\"],[0.5555555555555556,\"#d8576b\"],[0.6666666666666666,\"#ed7953\"],[0.7777777777777778,\"#fb9f3a\"],[0.8888888888888888,\"#fdca26\"],[1.0,\"#f0f921\"]],\"type\":\"contour\"}],\"contourcarpet\":[{\"colorbar\":{\"outlinewidth\":0,\"ticks\":\"\"},\"type\":\"contourcarpet\"}],\"heatmap\":[{\"colorbar\":{\"outlinewidth\":0,\"ticks\":\"\"},\"colorscale\":[[0.0,\"#0d0887\"],[0.1111111111111111,\"#46039f\"],[0.2222222222222222,\"#7201a8\"],[0.3333333333333333,\"#9c179e\"],[0.4444444444444444,\"#bd3786\"],[0.5555555555555556,\"#d8576b\"],[0.6666666666666666,\"#ed7953\"],[0.7777777777777778,\"#fb9f3a\"],[0.8888888888888888,\"#fdca26\"],[1.0,\"#f0f921\"]],\"type\":\"heatmap\"}],\"heatmapgl\":[{\"colorbar\":{\"outlinewidth\":0,\"ticks\":\"\"},\"colorscale\":[[0.0,\"#0d0887\"],[0.1111111111111111,\"#46039f\"],[0.2222222222222222,\"#7201a8\"],[0.3333333333333333,\"#9c179e\"],[0.4444444444444444,\"#bd3786\"],[0.5555555555555556,\"#d8576b\"],[0.6666666666666666,\"#ed7953\"],[0.7777777777777778,\"#fb9f3a\"],[0.8888888888888888,\"#fdca26\"],[1.0,\"#f0f921\"]],\"type\":\"heatmapgl\"}],\"histogram\":[{\"marker\":{\"pattern\":{\"fillmode\":\"overlay\",\"size\":10,\"solidity\":0.2}},\"type\":\"histogram\"}],\"histogram2d\":[{\"colorbar\":{\"outlinewidth\":0,\"ticks\":\"\"},\"colorscale\":[[0.0,\"#0d0887\"],[0.1111111111111111,\"#46039f\"],[0.2222222222222222,\"#7201a8\"],[0.3333333333333333,\"#9c179e\"],[0.4444444444444444,\"#bd3786\"],[0.5555555555555556,\"#d8576b\"],[0.6666666666666666,\"#ed7953\"],[0.7777777777777778,\"#fb9f3a\"],[0.8888888888888888,\"#fdca26\"],[1.0,\"#f0f921\"]],\"type\":\"histogram2d\"}],\"histogram2dcontour\":[{\"colorbar\":{\"outlinewidth\":0,\"ticks\":\"\"},\"colorscale\":[[0.0,\"#0d0887\"],[0.1111111111111111,\"#46039f\"],[0.2222222222222222,\"#7201a8\"],[0.3333333333333333,\"#9c179e\"],[0.4444444444444444,\"#bd3786\"],[0.5555555555555556,\"#d8576b\"],[0.6666666666666666,\"#ed7953\"],[0.7777777777777778,\"#fb9f3a\"],[0.8888888888888888,\"#fdca26\"],[1.0,\"#f0f921\"]],\"type\":\"histogram2dcontour\"}],\"mesh3d\":[{\"colorbar\":{\"outlinewidth\":0,\"ticks\":\"\"},\"type\":\"mesh3d\"}],\"parcoords\":[{\"line\":{\"colorbar\":{\"outlinewidth\":0,\"ticks\":\"\"}},\"type\":\"parcoords\"}],\"pie\":[{\"automargin\":true,\"type\":\"pie\"}],\"scatter\":[{\"marker\":{\"colorbar\":{\"outlinewidth\":0,\"ticks\":\"\"}},\"type\":\"scatter\"}],\"scatter3d\":[{\"line\":{\"colorbar\":{\"outlinewidth\":0,\"ticks\":\"\"}},\"marker\":{\"colorbar\":{\"outlinewidth\":0,\"ticks\":\"\"}},\"type\":\"scatter3d\"}],\"scattercarpet\":[{\"marker\":{\"colorbar\":{\"outlinewidth\":0,\"ticks\":\"\"}},\"type\":\"scattercarpet\"}],\"scattergeo\":[{\"marker\":{\"colorbar\":{\"outlinewidth\":0,\"ticks\":\"\"}},\"type\":\"scattergeo\"}],\"scattergl\":[{\"marker\":{\"colorbar\":{\"outlinewidth\":0,\"ticks\":\"\"}},\"type\":\"scattergl\"}],\"scattermapbox\":[{\"marker\":{\"colorbar\":{\"outlinewidth\":0,\"ticks\":\"\"}},\"type\":\"scattermapbox\"}],\"scatterpolar\":[{\"marker\":{\"colorbar\":{\"outlinewidth\":0,\"ticks\":\"\"}},\"type\":\"scatterpolar\"}],\"scatterpolargl\":[{\"marker\":{\"colorbar\":{\"outlinewidth\":0,\"ticks\":\"\"}},\"type\":\"scatterpolargl\"}],\"scatterternary\":[{\"marker\":{\"colorbar\":{\"outlinewidth\":0,\"ticks\":\"\"}},\"type\":\"scatterternary\"}],\"surface\":[{\"colorbar\":{\"outlinewidth\":0,\"ticks\":\"\"},\"colorscale\":[[0.0,\"#0d0887\"],[0.1111111111111111,\"#46039f\"],[0.2222222222222222,\"#7201a8\"],[0.3333333333333333,\"#9c179e\"],[0.4444444444444444,\"#bd3786\"],[0.5555555555555556,\"#d8576b\"],[0.6666666666666666,\"#ed7953\"],[0.7777777777777778,\"#fb9f3a\"],[0.8888888888888888,\"#fdca26\"],[1.0,\"#f0f921\"]],\"type\":\"surface\"}],\"table\":[{\"cells\":{\"fill\":{\"color\":\"#EBF0F8\"},\"line\":{\"color\":\"white\"}},\"header\":{\"fill\":{\"color\":\"#C8D4E3\"},\"line\":{\"color\":\"white\"}},\"type\":\"table\"}]},\"layout\":{\"annotationdefaults\":{\"arrowcolor\":\"#2a3f5f\",\"arrowhead\":0,\"arrowwidth\":1},\"autotypenumbers\":\"strict\",\"coloraxis\":{\"colorbar\":{\"outlinewidth\":0,\"ticks\":\"\"}},\"colorscale\":{\"diverging\":[[0,\"#8e0152\"],[0.1,\"#c51b7d\"],[0.2,\"#de77ae\"],[0.3,\"#f1b6da\"],[0.4,\"#fde0ef\"],[0.5,\"#f7f7f7\"],[0.6,\"#e6f5d0\"],[0.7,\"#b8e186\"],[0.8,\"#7fbc41\"],[0.9,\"#4d9221\"],[1,\"#276419\"]],\"sequential\":[[0.0,\"#0d0887\"],[0.1111111111111111,\"#46039f\"],[0.2222222222222222,\"#7201a8\"],[0.3333333333333333,\"#9c179e\"],[0.4444444444444444,\"#bd3786\"],[0.5555555555555556,\"#d8576b\"],[0.6666666666666666,\"#ed7953\"],[0.7777777777777778,\"#fb9f3a\"],[0.8888888888888888,\"#fdca26\"],[1.0,\"#f0f921\"]],\"sequentialminus\":[[0.0,\"#0d0887\"],[0.1111111111111111,\"#46039f\"],[0.2222222222222222,\"#7201a8\"],[0.3333333333333333,\"#9c179e\"],[0.4444444444444444,\"#bd3786\"],[0.5555555555555556,\"#d8576b\"],[0.6666666666666666,\"#ed7953\"],[0.7777777777777778,\"#fb9f3a\"],[0.8888888888888888,\"#fdca26\"],[1.0,\"#f0f921\"]]},\"colorway\":[\"#636efa\",\"#EF553B\",\"#00cc96\",\"#ab63fa\",\"#FFA15A\",\"#19d3f3\",\"#FF6692\",\"#B6E880\",\"#FF97FF\",\"#FECB52\"],\"font\":{\"color\":\"#2a3f5f\"},\"geo\":{\"bgcolor\":\"white\",\"lakecolor\":\"white\",\"landcolor\":\"#E5ECF6\",\"showlakes\":true,\"showland\":true,\"subunitcolor\":\"white\"},\"hoverlabel\":{\"align\":\"left\"},\"hovermode\":\"closest\",\"mapbox\":{\"style\":\"light\"},\"paper_bgcolor\":\"white\",\"plot_bgcolor\":\"#E5ECF6\",\"polar\":{\"angularaxis\":{\"gridcolor\":\"white\",\"linecolor\":\"white\",\"ticks\":\"\"},\"bgcolor\":\"#E5ECF6\",\"radialaxis\":{\"gridcolor\":\"white\",\"linecolor\":\"white\",\"ticks\":\"\"}},\"scene\":{\"xaxis\":{\"backgroundcolor\":\"#E5ECF6\",\"gridcolor\":\"white\",\"gridwidth\":2,\"linecolor\":\"white\",\"showbackground\":true,\"ticks\":\"\",\"zerolinecolor\":\"white\"},\"yaxis\":{\"backgroundcolor\":\"#E5ECF6\",\"gridcolor\":\"white\",\"gridwidth\":2,\"linecolor\":\"white\",\"showbackground\":true,\"ticks\":\"\",\"zerolinecolor\":\"white\"},\"zaxis\":{\"backgroundcolor\":\"#E5ECF6\",\"gridcolor\":\"white\",\"gridwidth\":2,\"linecolor\":\"white\",\"showbackground\":true,\"ticks\":\"\",\"zerolinecolor\":\"white\"}},\"shapedefaults\":{\"line\":{\"color\":\"#2a3f5f\"}},\"ternary\":{\"aaxis\":{\"gridcolor\":\"white\",\"linecolor\":\"white\",\"ticks\":\"\"},\"baxis\":{\"gridcolor\":\"white\",\"linecolor\":\"white\",\"ticks\":\"\"},\"bgcolor\":\"#E5ECF6\",\"caxis\":{\"gridcolor\":\"white\",\"linecolor\":\"white\",\"ticks\":\"\"}},\"title\":{\"x\":0.05},\"xaxis\":{\"automargin\":true,\"gridcolor\":\"white\",\"linecolor\":\"white\",\"ticks\":\"\",\"title\":{\"standoff\":15},\"zerolinecolor\":\"white\",\"zerolinewidth\":2},\"yaxis\":{\"automargin\":true,\"gridcolor\":\"white\",\"linecolor\":\"white\",\"ticks\":\"\",\"title\":{\"standoff\":15},\"zerolinecolor\":\"white\",\"zerolinewidth\":2}}},\"title\":{\"text\":\"Team Valuation (in millions)\"},\"updatemenus\":[{\"buttons\":[{\"args\":[null,{\"frame\":{\"duration\":500,\"redraw\":true},\"fromcurrent\":true,\"mode\":\"immediate\",\"transition\":{\"duration\":500,\"easing\":\"linear\"}}],\"label\":\"&#9654;\",\"method\":\"animate\"},{\"args\":[[null],{\"frame\":{\"duration\":0,\"redraw\":true},\"fromcurrent\":true,\"mode\":\"immediate\",\"transition\":{\"duration\":0,\"easing\":\"linear\"}}],\"label\":\"&#9724;\",\"method\":\"animate\"}],\"direction\":\"left\",\"pad\":{\"r\":10,\"t\":70},\"showactive\":false,\"type\":\"buttons\",\"x\":0.1,\"xanchor\":\"right\",\"y\":0,\"yanchor\":\"top\"}]},                        {\"responsive\": true}                    ).then(function(){\n",
       "                            Plotly.addFrames('f5af9251-5ab4-45bf-b836-28048089d149', [{\"data\":[{\"geo\":\"geo\",\"hovertemplate\":\"<b>%{hovertext}</b><br><br>Team=New York Knicks<br>Year=2010<br>Valuation (in millions)=%{marker.size}<br>LAT=%{lat}<br>LONG=%{lon}<extra></extra>\",\"hovertext\":[\"New York Knicks\"],\"lat\":[40],\"legendgroup\":\"New York Knicks\",\"lon\":[-73],\"marker\":{\"color\":\"blue\",\"size\":[5860000000],\"sizemode\":\"area\",\"sizeref\":100000000.0,\"symbol\":\"circle\"},\"mode\":\"markers\",\"name\":\"New York Knicks\",\"showlegend\":true,\"type\":\"scattergeo\"},{\"geo\":\"geo\",\"hovertemplate\":\"<b>%{hovertext}</b><br><br>Team=Golden State Warriors<br>Year=2010<br>Valuation (in millions)=%{marker.size}<br>LAT=%{lat}<br>LONG=%{lon}<extra></extra>\",\"hovertext\":[\"Golden State Warriors\"],\"lat\":[37],\"legendgroup\":\"Golden State Warriors\",\"lon\":[-122],\"marker\":{\"color\":\"red\",\"size\":[3150000000],\"sizemode\":\"area\",\"sizeref\":100000000.0,\"symbol\":\"circle\"},\"mode\":\"markers\",\"name\":\"Golden State Warriors\",\"showlegend\":true,\"type\":\"scattergeo\"},{\"geo\":\"geo\",\"hovertemplate\":\"<b>%{hovertext}</b><br><br>Team=Los Angeles Lakers<br>Year=2010<br>Valuation (in millions)=%{marker.size}<br>LAT=%{lat}<br>LONG=%{lon}<extra></extra>\",\"hovertext\":[\"Los Angeles Lakers\"],\"lat\":[34],\"legendgroup\":\"Los Angeles Lakers\",\"lon\":[-118],\"marker\":{\"color\":\"yellow\",\"size\":[6070000000],\"sizemode\":\"area\",\"sizeref\":100000000.0,\"symbol\":\"circle\"},\"mode\":\"markers\",\"name\":\"Los Angeles Lakers\",\"showlegend\":true,\"type\":\"scattergeo\"},{\"geo\":\"geo\",\"hovertemplate\":\"<b>%{hovertext}</b><br><br>Team=Brooklyn Nets<br>Year=2010<br>Valuation (in millions)=%{marker.size}<br>LAT=%{lat}<br>LONG=%{lon}<extra></extra>\",\"hovertext\":[\"Brooklyn Nets\"],\"lat\":[40],\"legendgroup\":\"Brooklyn Nets\",\"lon\":[-73],\"marker\":{\"color\":\"blue\",\"size\":[2690000000],\"sizemode\":\"area\",\"sizeref\":100000000.0,\"symbol\":\"circle\"},\"mode\":\"markers\",\"name\":\"Brooklyn Nets\",\"showlegend\":true,\"type\":\"scattergeo\"},{\"geo\":\"geo\",\"hovertemplate\":\"<b>%{hovertext}</b><br><br>Team=Boston Celtics<br>Year=2010<br>Valuation (in millions)=%{marker.size}<br>LAT=%{lat}<br>LONG=%{lon}<extra></extra>\",\"hovertext\":[\"Boston Celtics\"],\"lat\":[42],\"legendgroup\":\"Boston Celtics\",\"lon\":[-71],\"marker\":{\"color\":\"red\",\"size\":[4330000000],\"sizemode\":\"area\",\"sizeref\":100000000.0,\"symbol\":\"circle\"},\"mode\":\"markers\",\"name\":\"Boston Celtics\",\"showlegend\":true,\"type\":\"scattergeo\"},{\"geo\":\"geo\",\"hovertemplate\":\"<b>%{hovertext}</b><br><br>Team=Chicago Bulls<br>Year=2010<br>Valuation (in millions)=%{marker.size}<br>LAT=%{lat}<br>LONG=%{lon}<extra></extra>\",\"hovertext\":[\"Chicago Bulls\"],\"lat\":[41],\"legendgroup\":\"Chicago Bulls\",\"lon\":[-87],\"marker\":{\"color\":\"yellow\",\"size\":[5110000000],\"sizemode\":\"area\",\"sizeref\":100000000.0,\"symbol\":\"circle\"},\"mode\":\"markers\",\"name\":\"Chicago Bulls\",\"showlegend\":true,\"type\":\"scattergeo\"},{\"geo\":\"geo\",\"hovertemplate\":\"<b>%{hovertext}</b><br><br>Team=Houston Rockets<br>Year=2010<br>Valuation (in millions)=%{marker.size}<br>LAT=%{lat}<br>LONG=%{lon}<extra></extra>\",\"hovertext\":[\"Houston Rockets\"],\"lat\":[29],\"legendgroup\":\"Houston Rockets\",\"lon\":[-95],\"marker\":{\"color\":\"blue\",\"size\":[4700000000],\"sizemode\":\"area\",\"sizeref\":100000000.0,\"symbol\":\"circle\"},\"mode\":\"markers\",\"name\":\"Houston Rockets\",\"showlegend\":true,\"type\":\"scattergeo\"},{\"geo\":\"geo\",\"hovertemplate\":\"<b>%{hovertext}</b><br><br>Team=Los Angeles Clippers<br>Year=2010<br>Valuation (in millions)=%{marker.size}<br>LAT=%{lat}<br>LONG=%{lon}<extra></extra>\",\"hovertext\":[\"Los Angeles Clippers\"],\"lat\":[34],\"legendgroup\":\"Los Angeles Clippers\",\"lon\":[-118],\"marker\":{\"color\":\"red\",\"size\":[2950000000],\"sizemode\":\"area\",\"sizeref\":100000000.0,\"symbol\":\"circle\"},\"mode\":\"markers\",\"name\":\"Los Angeles Clippers\",\"showlegend\":true,\"type\":\"scattergeo\"},{\"geo\":\"geo\",\"hovertemplate\":\"<b>%{hovertext}</b><br><br>Team=Dallas Mavericks<br>Year=2010<br>Valuation (in millions)=%{marker.size}<br>LAT=%{lat}<br>LONG=%{lon}<extra></extra>\",\"hovertext\":[\"Dallas Mavericks\"],\"lat\":[32],\"legendgroup\":\"Dallas Mavericks\",\"lon\":[-96],\"marker\":{\"color\":\"yellow\",\"size\":[4460000000],\"sizemode\":\"area\",\"sizeref\":100000000.0,\"symbol\":\"circle\"},\"mode\":\"markers\",\"name\":\"Dallas Mavericks\",\"showlegend\":true,\"type\":\"scattergeo\"},{\"geo\":\"geo\",\"hovertemplate\":\"<b>%{hovertext}</b><br><br>Team=Toronto Raptors<br>Year=2010<br>Valuation (in millions)=%{marker.size}<br>LAT=%{lat}<br>LONG=%{lon}<extra></extra>\",\"hovertext\":[\"Toronto Raptors\"],\"lat\":[43],\"legendgroup\":\"Toronto Raptors\",\"lon\":[-79],\"marker\":{\"color\":\"blue\",\"size\":[3860000000],\"sizemode\":\"area\",\"sizeref\":100000000.0,\"symbol\":\"circle\"},\"mode\":\"markers\",\"name\":\"Toronto Raptors\",\"showlegend\":true,\"type\":\"scattergeo\"},{\"geo\":\"geo\",\"hovertemplate\":\"<b>%{hovertext}</b><br><br>Team=Philadelphia 76ers<br>Year=2010<br>Valuation (in millions)=%{marker.size}<br>LAT=%{lat}<br>LONG=%{lon}<extra></extra>\",\"hovertext\":[\"Philadelphia 76ers\"],\"lat\":[39],\"legendgroup\":\"Philadelphia 76ers\",\"lon\":[-75],\"marker\":{\"color\":\"red\",\"size\":[3440000000],\"sizemode\":\"area\",\"sizeref\":100000000.0,\"symbol\":\"circle\"},\"mode\":\"markers\",\"name\":\"Philadelphia 76ers\",\"showlegend\":true,\"type\":\"scattergeo\"},{\"geo\":\"geo\",\"hovertemplate\":\"<b>%{hovertext}</b><br><br>Team=Miami Heat<br>Year=2010<br>Valuation (in millions)=%{marker.size}<br>LAT=%{lat}<br>LONG=%{lon}<extra></extra>\",\"hovertext\":[\"Miami Heat\"],\"lat\":[25],\"legendgroup\":\"Miami Heat\",\"lon\":[-80],\"marker\":{\"color\":\"yellow\",\"size\":[3640000000],\"sizemode\":\"area\",\"sizeref\":100000000.0,\"symbol\":\"circle\"},\"mode\":\"markers\",\"name\":\"Miami Heat\",\"showlegend\":true,\"type\":\"scattergeo\"},{\"geo\":\"geo\",\"hovertemplate\":\"<b>%{hovertext}</b><br><br>Team=San Antonio Spurs<br>Year=2010<br>Valuation (in millions)=%{marker.size}<br>LAT=%{lat}<br>LONG=%{lon}<extra></extra>\",\"hovertext\":[\"San Antonio Spurs\"],\"lat\":[29],\"legendgroup\":\"San Antonio Spurs\",\"lon\":[-98],\"marker\":{\"color\":\"blue\",\"size\":[3980000000],\"sizemode\":\"area\",\"sizeref\":100000000.0,\"symbol\":\"circle\"},\"mode\":\"markers\",\"name\":\"San Antonio Spurs\",\"showlegend\":true,\"type\":\"scattergeo\"},{\"geo\":\"geo\",\"hovertemplate\":\"<b>%{hovertext}</b><br><br>Team=Washington Wizards<br>Year=2010<br>Valuation (in millions)=%{marker.size}<br>LAT=%{lat}<br>LONG=%{lon}<extra></extra>\",\"hovertext\":[\"Washington Wizards\"],\"lat\":[38],\"legendgroup\":\"Washington Wizards\",\"lon\":[-77],\"marker\":{\"color\":\"red\",\"size\":[3130000000],\"sizemode\":\"area\",\"sizeref\":100000000.0,\"symbol\":\"circle\"},\"mode\":\"markers\",\"name\":\"Washington Wizards\",\"showlegend\":true,\"type\":\"scattergeo\"},{\"geo\":\"geo\",\"hovertemplate\":\"<b>%{hovertext}</b><br><br>Team=Portland Trail Blazers<br>Year=2010<br>Valuation (in millions)=%{marker.size}<br>LAT=%{lat}<br>LONG=%{lon}<extra></extra>\",\"hovertext\":[\"Portland Trail Blazers\"],\"lat\":[45],\"legendgroup\":\"Portland Trail Blazers\",\"lon\":[-122],\"marker\":{\"color\":\"yellow\",\"size\":[3380000000],\"sizemode\":\"area\",\"sizeref\":100000000.0,\"symbol\":\"circle\"},\"mode\":\"markers\",\"name\":\"Portland Trail Blazers\",\"showlegend\":true,\"type\":\"scattergeo\"},{\"geo\":\"geo\",\"hovertemplate\":\"<b>%{hovertext}</b><br><br>Team=Milwaukee Bucks<br>Year=2010<br>Valuation (in millions)=%{marker.size}<br>LAT=%{lat}<br>LONG=%{lon}<extra></extra>\",\"hovertext\":[\"Milwaukee Bucks\"],\"lat\":[43],\"legendgroup\":\"Milwaukee Bucks\",\"lon\":[-87],\"marker\":{\"color\":\"blue\",\"size\":[2540000000],\"sizemode\":\"area\",\"sizeref\":100000000.0,\"symbol\":\"circle\"},\"mode\":\"markers\",\"name\":\"Milwaukee Bucks\",\"showlegend\":true,\"type\":\"scattergeo\"},{\"geo\":\"geo\",\"hovertemplate\":\"<b>%{hovertext}</b><br><br>Team=Sacramento Kings<br>Year=2010<br>Valuation (in millions)=%{marker.size}<br>LAT=%{lat}<br>LONG=%{lon}<extra></extra>\",\"hovertext\":[\"Sacramento Kings\"],\"lat\":[38],\"legendgroup\":\"Sacramento Kings\",\"lon\":[-121],\"marker\":{\"color\":\"red\",\"size\":[3050000000],\"sizemode\":\"area\",\"sizeref\":100000000.0,\"symbol\":\"circle\"},\"mode\":\"markers\",\"name\":\"Sacramento Kings\",\"showlegend\":true,\"type\":\"scattergeo\"},{\"geo\":\"geo\",\"hovertemplate\":\"<b>%{hovertext}</b><br><br>Team=Denver Nuggets<br>Year=2010<br>Valuation (in millions)=%{marker.size}<br>LAT=%{lat}<br>LONG=%{lon}<extra></extra>\",\"hovertext\":[\"Denver Nuggets\"],\"lat\":[39],\"legendgroup\":\"Denver Nuggets\",\"lon\":[-104],\"marker\":{\"color\":\"yellow\",\"size\":[3210000000],\"sizemode\":\"area\",\"sizeref\":100000000.0,\"symbol\":\"circle\"},\"mode\":\"markers\",\"name\":\"Denver Nuggets\",\"showlegend\":true,\"type\":\"scattergeo\"},{\"geo\":\"geo\",\"hovertemplate\":\"<b>%{hovertext}</b><br><br>Team=Cleveland Cavaliers<br>Year=2010<br>Valuation (in millions)=%{marker.size}<br>LAT=%{lat}<br>LONG=%{lon}<extra></extra>\",\"hovertext\":[\"Cleveland Cavaliers\"],\"lat\":[41],\"legendgroup\":\"Cleveland Cavaliers\",\"lon\":[-81],\"marker\":{\"color\":\"blue\",\"size\":[4760000000],\"sizemode\":\"area\",\"sizeref\":100000000.0,\"symbol\":\"circle\"},\"mode\":\"markers\",\"name\":\"Cleveland Cavaliers\",\"showlegend\":true,\"type\":\"scattergeo\"},{\"geo\":\"geo\",\"hovertemplate\":\"<b>%{hovertext}</b><br><br>Team=Detroit Pistons<br>Year=2010<br>Valuation (in millions)=%{marker.size}<br>LAT=%{lat}<br>LONG=%{lon}<extra></extra>\",\"hovertext\":[\"Detroit Pistons\"],\"lat\":[42],\"legendgroup\":\"Detroit Pistons\",\"lon\":[-83],\"marker\":{\"color\":\"red\",\"size\":[4790000000],\"sizemode\":\"area\",\"sizeref\":100000000.0,\"symbol\":\"circle\"},\"mode\":\"markers\",\"name\":\"Detroit Pistons\",\"showlegend\":true,\"type\":\"scattergeo\"},{\"geo\":\"geo\",\"hovertemplate\":\"<b>%{hovertext}</b><br><br>Team=Utah Jazz<br>Year=2010<br>Valuation (in millions)=%{marker.size}<br>LAT=%{lat}<br>LONG=%{lon}<extra></extra>\",\"hovertext\":[\"Utah Jazz\"],\"lat\":[40],\"legendgroup\":\"Utah Jazz\",\"lon\":[-111],\"marker\":{\"color\":\"yellow\",\"size\":[3430000000],\"sizemode\":\"area\",\"sizeref\":100000000.0,\"symbol\":\"circle\"},\"mode\":\"markers\",\"name\":\"Utah Jazz\",\"showlegend\":true,\"type\":\"scattergeo\"},{\"geo\":\"geo\",\"hovertemplate\":\"<b>%{hovertext}</b><br><br>Team=Oklahoma City Thunder<br>Year=2010<br>Valuation (in millions)=%{marker.size}<br>LAT=%{lat}<br>LONG=%{lon}<extra></extra>\",\"hovertext\":[\"Oklahoma City Thunder\"],\"lat\":[35],\"legendgroup\":\"Oklahoma City Thunder\",\"lon\":[-97],\"marker\":{\"color\":\"blue\",\"size\":[3100000000],\"sizemode\":\"area\",\"sizeref\":100000000.0,\"symbol\":\"circle\"},\"mode\":\"markers\",\"name\":\"Oklahoma City Thunder\",\"showlegend\":true,\"type\":\"scattergeo\"},{\"geo\":\"geo\",\"hovertemplate\":\"<b>%{hovertext}</b><br><br>Team=Phoenix Suns<br>Year=2010<br>Valuation (in millions)=%{marker.size}<br>LAT=%{lat}<br>LONG=%{lon}<extra></extra>\",\"hovertext\":[\"Phoenix Suns\"],\"lat\":[33],\"legendgroup\":\"Phoenix Suns\",\"lon\":[-112],\"marker\":{\"color\":\"red\",\"size\":[4290000000],\"sizemode\":\"area\",\"sizeref\":100000000.0,\"symbol\":\"circle\"},\"mode\":\"markers\",\"name\":\"Phoenix Suns\",\"showlegend\":true,\"type\":\"scattergeo\"},{\"geo\":\"geo\",\"hovertemplate\":\"<b>%{hovertext}</b><br><br>Team=Indiana Pacers<br>Year=2010<br>Valuation (in millions)=%{marker.size}<br>LAT=%{lat}<br>LONG=%{lon}<extra></extra>\",\"hovertext\":[\"Indiana Pacers\"],\"lat\":[39],\"legendgroup\":\"Indiana Pacers\",\"lon\":[-86],\"marker\":{\"color\":\"yellow\",\"size\":[2810000000],\"sizemode\":\"area\",\"sizeref\":100000000.0,\"symbol\":\"circle\"},\"mode\":\"markers\",\"name\":\"Indiana Pacers\",\"showlegend\":true,\"type\":\"scattergeo\"},{\"geo\":\"geo\",\"hovertemplate\":\"<b>%{hovertext}</b><br><br>Team=Atlanta Hawks<br>Year=2010<br>Valuation (in millions)=%{marker.size}<br>LAT=%{lat}<br>LONG=%{lon}<extra></extra>\",\"hovertext\":[\"Atlanta Hawks\"],\"lat\":[33],\"legendgroup\":\"Atlanta Hawks\",\"lon\":[-84],\"marker\":{\"color\":\"blue\",\"size\":[3060000000],\"sizemode\":\"area\",\"sizeref\":100000000.0,\"symbol\":\"circle\"},\"mode\":\"markers\",\"name\":\"Atlanta Hawks\",\"showlegend\":true,\"type\":\"scattergeo\"},{\"geo\":\"geo\",\"hovertemplate\":\"<b>%{hovertext}</b><br><br>Team=Orlando Magic<br>Year=2010<br>Valuation (in millions)=%{marker.size}<br>LAT=%{lat}<br>LONG=%{lon}<extra></extra>\",\"hovertext\":[\"Orlando Magic\"],\"lat\":[28],\"legendgroup\":\"Orlando Magic\",\"lon\":[-81],\"marker\":{\"color\":\"red\",\"size\":[3610000000],\"sizemode\":\"area\",\"sizeref\":100000000.0,\"symbol\":\"circle\"},\"mode\":\"markers\",\"name\":\"Orlando Magic\",\"showlegend\":true,\"type\":\"scattergeo\"},{\"geo\":\"geo\",\"hovertemplate\":\"<b>%{hovertext}</b><br><br>Team=Charlotte Hornets<br>Year=2010<br>Valuation (in millions)=%{marker.size}<br>LAT=%{lat}<br>LONG=%{lon}<extra></extra>\",\"hovertext\":[\"Charlotte Hornets\"],\"lat\":[35],\"legendgroup\":\"Charlotte Hornets\",\"lon\":[-80],\"marker\":{\"color\":\"yellow\",\"size\":[2780000000],\"sizemode\":\"area\",\"sizeref\":100000000.0,\"symbol\":\"circle\"},\"mode\":\"markers\",\"name\":\"Charlotte Hornets\",\"showlegend\":true,\"type\":\"scattergeo\"},{\"geo\":\"geo\",\"hovertemplate\":\"<b>%{hovertext}</b><br><br>Team=Minnesota Timberwolves<br>Year=2010<br>Valuation (in millions)=%{marker.size}<br>LAT=%{lat}<br>LONG=%{lon}<extra></extra>\",\"hovertext\":[\"Minnesota Timberwolves\"],\"lat\":[44],\"legendgroup\":\"Minnesota Timberwolves\",\"lon\":[-93],\"marker\":{\"color\":\"blue\",\"size\":[2680000000],\"sizemode\":\"area\",\"sizeref\":100000000.0,\"symbol\":\"circle\"},\"mode\":\"markers\",\"name\":\"Minnesota Timberwolves\",\"showlegend\":true,\"type\":\"scattergeo\"},{\"geo\":\"geo\",\"hovertemplate\":\"<b>%{hovertext}</b><br><br>Team=Memphis Grizzlies<br>Year=2010<br>Valuation (in millions)=%{marker.size}<br>LAT=%{lat}<br>LONG=%{lon}<extra></extra>\",\"hovertext\":[\"Memphis Grizzlies\"],\"lat\":[35],\"legendgroup\":\"Memphis Grizzlies\",\"lon\":[-90],\"marker\":{\"color\":\"red\",\"size\":[2570000000],\"sizemode\":\"area\",\"sizeref\":100000000.0,\"symbol\":\"circle\"},\"mode\":\"markers\",\"name\":\"Memphis Grizzlies\",\"showlegend\":true,\"type\":\"scattergeo\"},{\"geo\":\"geo\",\"hovertemplate\":\"<b>%{hovertext}</b><br><br>Team=New Orleans Pelicans<br>Year=2010<br>Valuation (in millions)=%{marker.size}<br>LAT=%{lat}<br>LONG=%{lon}<extra></extra>\",\"hovertext\":[\"New Orleans Pelicans\"],\"lat\":[29],\"legendgroup\":\"New Orleans Pelicans\",\"lon\":[-90],\"marker\":{\"color\":\"yellow\",\"size\":[2670000000],\"sizemode\":\"area\",\"sizeref\":100000000.0,\"symbol\":\"circle\"},\"mode\":\"markers\",\"name\":\"New Orleans Pelicans\",\"showlegend\":true,\"type\":\"scattergeo\"}],\"name\":\"2010\"},{\"data\":[{\"geo\":\"geo\",\"hovertemplate\":\"<b>%{hovertext}</b><br><br>Team=New York Knicks<br>Year=2011<br>Valuation (in millions)=%{marker.size}<br>LAT=%{lat}<br>LONG=%{lon}<extra></extra>\",\"hovertext\":[\"New York Knicks\"],\"lat\":[40],\"legendgroup\":\"New York Knicks\",\"lon\":[-73],\"marker\":{\"color\":\"blue\",\"size\":[6550000000],\"sizemode\":\"area\",\"sizeref\":100000000.0,\"symbol\":\"circle\"},\"mode\":\"markers\",\"name\":\"New York Knicks\",\"showlegend\":true,\"type\":\"scattergeo\"},{\"geo\":\"geo\",\"hovertemplate\":\"<b>%{hovertext}</b><br><br>Team=Golden State Warriors<br>Year=2011<br>Valuation (in millions)=%{marker.size}<br>LAT=%{lat}<br>LONG=%{lon}<extra></extra>\",\"hovertext\":[\"Golden State Warriors\"],\"lat\":[37],\"legendgroup\":\"Golden State Warriors\",\"lon\":[-122],\"marker\":{\"color\":\"red\",\"size\":[3630000000],\"sizemode\":\"area\",\"sizeref\":100000000.0,\"symbol\":\"circle\"},\"mode\":\"markers\",\"name\":\"Golden State Warriors\",\"showlegend\":true,\"type\":\"scattergeo\"},{\"geo\":\"geo\",\"hovertemplate\":\"<b>%{hovertext}</b><br><br>Team=Los Angeles Lakers<br>Year=2011<br>Valuation (in millions)=%{marker.size}<br>LAT=%{lat}<br>LONG=%{lon}<extra></extra>\",\"hovertext\":[\"Los Angeles Lakers\"],\"lat\":[34],\"legendgroup\":\"Los Angeles Lakers\",\"lon\":[-118],\"marker\":{\"color\":\"yellow\",\"size\":[6430000000],\"sizemode\":\"area\",\"sizeref\":100000000.0,\"symbol\":\"circle\"},\"mode\":\"markers\",\"name\":\"Los Angeles Lakers\",\"showlegend\":true,\"type\":\"scattergeo\"},{\"geo\":\"geo\",\"hovertemplate\":\"<b>%{hovertext}</b><br><br>Team=Brooklyn Nets<br>Year=2011<br>Valuation (in millions)=%{marker.size}<br>LAT=%{lat}<br>LONG=%{lon}<extra></extra>\",\"hovertext\":[\"Brooklyn Nets\"],\"lat\":[40],\"legendgroup\":\"Brooklyn Nets\",\"lon\":[-73],\"marker\":{\"color\":\"blue\",\"size\":[3120000000],\"sizemode\":\"area\",\"sizeref\":100000000.0,\"symbol\":\"circle\"},\"mode\":\"markers\",\"name\":\"Brooklyn Nets\",\"showlegend\":true,\"type\":\"scattergeo\"},{\"geo\":\"geo\",\"hovertemplate\":\"<b>%{hovertext}</b><br><br>Team=Boston Celtics<br>Year=2011<br>Valuation (in millions)=%{marker.size}<br>LAT=%{lat}<br>LONG=%{lon}<extra></extra>\",\"hovertext\":[\"Boston Celtics\"],\"lat\":[42],\"legendgroup\":\"Boston Celtics\",\"lon\":[-71],\"marker\":{\"color\":\"red\",\"size\":[4520000000],\"sizemode\":\"area\",\"sizeref\":100000000.0,\"symbol\":\"circle\"},\"mode\":\"markers\",\"name\":\"Boston Celtics\",\"showlegend\":true,\"type\":\"scattergeo\"},{\"geo\":\"geo\",\"hovertemplate\":\"<b>%{hovertext}</b><br><br>Team=Chicago Bulls<br>Year=2011<br>Valuation (in millions)=%{marker.size}<br>LAT=%{lat}<br>LONG=%{lon}<extra></extra>\",\"hovertext\":[\"Chicago Bulls\"],\"lat\":[41],\"legendgroup\":\"Chicago Bulls\",\"lon\":[-87],\"marker\":{\"color\":\"yellow\",\"size\":[5110000000],\"sizemode\":\"area\",\"sizeref\":100000000.0,\"symbol\":\"circle\"},\"mode\":\"markers\",\"name\":\"Chicago Bulls\",\"showlegend\":true,\"type\":\"scattergeo\"},{\"geo\":\"geo\",\"hovertemplate\":\"<b>%{hovertext}</b><br><br>Team=Houston Rockets<br>Year=2011<br>Valuation (in millions)=%{marker.size}<br>LAT=%{lat}<br>LONG=%{lon}<extra></extra>\",\"hovertext\":[\"Houston Rockets\"],\"lat\":[29],\"legendgroup\":\"Houston Rockets\",\"lon\":[-95],\"marker\":{\"color\":\"blue\",\"size\":[4430000000],\"sizemode\":\"area\",\"sizeref\":100000000.0,\"symbol\":\"circle\"},\"mode\":\"markers\",\"name\":\"Houston Rockets\",\"showlegend\":true,\"type\":\"scattergeo\"},{\"geo\":\"geo\",\"hovertemplate\":\"<b>%{hovertext}</b><br><br>Team=Los Angeles Clippers<br>Year=2011<br>Valuation (in millions)=%{marker.size}<br>LAT=%{lat}<br>LONG=%{lon}<extra></extra>\",\"hovertext\":[\"Los Angeles Clippers\"],\"lat\":[34],\"legendgroup\":\"Los Angeles Clippers\",\"lon\":[-118],\"marker\":{\"color\":\"red\",\"size\":[3050000000],\"sizemode\":\"area\",\"sizeref\":100000000.0,\"symbol\":\"circle\"},\"mode\":\"markers\",\"name\":\"Los Angeles Clippers\",\"showlegend\":true,\"type\":\"scattergeo\"},{\"geo\":\"geo\",\"hovertemplate\":\"<b>%{hovertext}</b><br><br>Team=Dallas Mavericks<br>Year=2011<br>Valuation (in millions)=%{marker.size}<br>LAT=%{lat}<br>LONG=%{lon}<extra></extra>\",\"hovertext\":[\"Dallas Mavericks\"],\"lat\":[32],\"legendgroup\":\"Dallas Mavericks\",\"lon\":[-96],\"marker\":{\"color\":\"yellow\",\"size\":[4380000000],\"sizemode\":\"area\",\"sizeref\":100000000.0,\"symbol\":\"circle\"},\"mode\":\"markers\",\"name\":\"Dallas Mavericks\",\"showlegend\":true,\"type\":\"scattergeo\"},{\"geo\":\"geo\",\"hovertemplate\":\"<b>%{hovertext}</b><br><br>Team=Toronto Raptors<br>Year=2011<br>Valuation (in millions)=%{marker.size}<br>LAT=%{lat}<br>LONG=%{lon}<extra></extra>\",\"hovertext\":[\"Toronto Raptors\"],\"lat\":[43],\"legendgroup\":\"Toronto Raptors\",\"lon\":[-79],\"marker\":{\"color\":\"blue\",\"size\":[3990000000],\"sizemode\":\"area\",\"sizeref\":100000000.0,\"symbol\":\"circle\"},\"mode\":\"markers\",\"name\":\"Toronto Raptors\",\"showlegend\":true,\"type\":\"scattergeo\"},{\"geo\":\"geo\",\"hovertemplate\":\"<b>%{hovertext}</b><br><br>Team=Philadelphia 76ers<br>Year=2011<br>Valuation (in millions)=%{marker.size}<br>LAT=%{lat}<br>LONG=%{lon}<extra></extra>\",\"hovertext\":[\"Philadelphia 76ers\"],\"lat\":[39],\"legendgroup\":\"Philadelphia 76ers\",\"lon\":[-75],\"marker\":{\"color\":\"red\",\"size\":[3300000000],\"sizemode\":\"area\",\"sizeref\":100000000.0,\"symbol\":\"circle\"},\"mode\":\"markers\",\"name\":\"Philadelphia 76ers\",\"showlegend\":true,\"type\":\"scattergeo\"},{\"geo\":\"geo\",\"hovertemplate\":\"<b>%{hovertext}</b><br><br>Team=Miami Heat<br>Year=2011<br>Valuation (in millions)=%{marker.size}<br>LAT=%{lat}<br>LONG=%{lon}<extra></extra>\",\"hovertext\":[\"Miami Heat\"],\"lat\":[25],\"legendgroup\":\"Miami Heat\",\"lon\":[-80],\"marker\":{\"color\":\"yellow\",\"size\":[4250000000],\"sizemode\":\"area\",\"sizeref\":100000000.0,\"symbol\":\"circle\"},\"mode\":\"markers\",\"name\":\"Miami Heat\",\"showlegend\":true,\"type\":\"scattergeo\"},{\"geo\":\"geo\",\"hovertemplate\":\"<b>%{hovertext}</b><br><br>Team=San Antonio Spurs<br>Year=2011<br>Valuation (in millions)=%{marker.size}<br>LAT=%{lat}<br>LONG=%{lon}<extra></extra>\",\"hovertext\":[\"San Antonio Spurs\"],\"lat\":[29],\"legendgroup\":\"San Antonio Spurs\",\"lon\":[-98],\"marker\":{\"color\":\"blue\",\"size\":[4040000000],\"sizemode\":\"area\",\"sizeref\":100000000.0,\"symbol\":\"circle\"},\"mode\":\"markers\",\"name\":\"San Antonio Spurs\",\"showlegend\":true,\"type\":\"scattergeo\"},{\"geo\":\"geo\",\"hovertemplate\":\"<b>%{hovertext}</b><br><br>Team=Washington Wizards<br>Year=2011<br>Valuation (in millions)=%{marker.size}<br>LAT=%{lat}<br>LONG=%{lon}<extra></extra>\",\"hovertext\":[\"Washington Wizards\"],\"lat\":[38],\"legendgroup\":\"Washington Wizards\",\"lon\":[-77],\"marker\":{\"color\":\"red\",\"size\":[3220000000],\"sizemode\":\"area\",\"sizeref\":100000000.0,\"symbol\":\"circle\"},\"mode\":\"markers\",\"name\":\"Washington Wizards\",\"showlegend\":true,\"type\":\"scattergeo\"},{\"geo\":\"geo\",\"hovertemplate\":\"<b>%{hovertext}</b><br><br>Team=Portland Trail Blazers<br>Year=2011<br>Valuation (in millions)=%{marker.size}<br>LAT=%{lat}<br>LONG=%{lon}<extra></extra>\",\"hovertext\":[\"Portland Trail Blazers\"],\"lat\":[45],\"legendgroup\":\"Portland Trail Blazers\",\"lon\":[-122],\"marker\":{\"color\":\"yellow\",\"size\":[3560000000],\"sizemode\":\"area\",\"sizeref\":100000000.0,\"symbol\":\"circle\"},\"mode\":\"markers\",\"name\":\"Portland Trail Blazers\",\"showlegend\":true,\"type\":\"scattergeo\"},{\"geo\":\"geo\",\"hovertemplate\":\"<b>%{hovertext}</b><br><br>Team=Milwaukee Bucks<br>Year=2011<br>Valuation (in millions)=%{marker.size}<br>LAT=%{lat}<br>LONG=%{lon}<extra></extra>\",\"hovertext\":[\"Milwaukee Bucks\"],\"lat\":[43],\"legendgroup\":\"Milwaukee Bucks\",\"lon\":[-87],\"marker\":{\"color\":\"blue\",\"size\":[2580000000],\"sizemode\":\"area\",\"sizeref\":100000000.0,\"symbol\":\"circle\"},\"mode\":\"markers\",\"name\":\"Milwaukee Bucks\",\"showlegend\":true,\"type\":\"scattergeo\"},{\"geo\":\"geo\",\"hovertemplate\":\"<b>%{hovertext}</b><br><br>Team=Sacramento Kings<br>Year=2011<br>Valuation (in millions)=%{marker.size}<br>LAT=%{lat}<br>LONG=%{lon}<extra></extra>\",\"hovertext\":[\"Sacramento Kings\"],\"lat\":[38],\"legendgroup\":\"Sacramento Kings\",\"lon\":[-121],\"marker\":{\"color\":\"red\",\"size\":[2930000000],\"sizemode\":\"area\",\"sizeref\":100000000.0,\"symbol\":\"circle\"},\"mode\":\"markers\",\"name\":\"Sacramento Kings\",\"showlegend\":true,\"type\":\"scattergeo\"},{\"geo\":\"geo\",\"hovertemplate\":\"<b>%{hovertext}</b><br><br>Team=Denver Nuggets<br>Year=2011<br>Valuation (in millions)=%{marker.size}<br>LAT=%{lat}<br>LONG=%{lon}<extra></extra>\",\"hovertext\":[\"Denver Nuggets\"],\"lat\":[39],\"legendgroup\":\"Denver Nuggets\",\"lon\":[-104],\"marker\":{\"color\":\"yellow\",\"size\":[3160000000],\"sizemode\":\"area\",\"sizeref\":100000000.0,\"symbol\":\"circle\"},\"mode\":\"markers\",\"name\":\"Denver Nuggets\",\"showlegend\":true,\"type\":\"scattergeo\"},{\"geo\":\"geo\",\"hovertemplate\":\"<b>%{hovertext}</b><br><br>Team=Cleveland Cavaliers<br>Year=2011<br>Valuation (in millions)=%{marker.size}<br>LAT=%{lat}<br>LONG=%{lon}<extra></extra>\",\"hovertext\":[\"Cleveland Cavaliers\"],\"lat\":[41],\"legendgroup\":\"Cleveland Cavaliers\",\"lon\":[-81],\"marker\":{\"color\":\"blue\",\"size\":[3550000000],\"sizemode\":\"area\",\"sizeref\":100000000.0,\"symbol\":\"circle\"},\"mode\":\"markers\",\"name\":\"Cleveland Cavaliers\",\"showlegend\":true,\"type\":\"scattergeo\"},{\"geo\":\"geo\",\"hovertemplate\":\"<b>%{hovertext}</b><br><br>Team=Detroit Pistons<br>Year=2011<br>Valuation (in millions)=%{marker.size}<br>LAT=%{lat}<br>LONG=%{lon}<extra></extra>\",\"hovertext\":[\"Detroit Pistons\"],\"lat\":[42],\"legendgroup\":\"Detroit Pistons\",\"lon\":[-83],\"marker\":{\"color\":\"red\",\"size\":[3600000000],\"sizemode\":\"area\",\"sizeref\":100000000.0,\"symbol\":\"circle\"},\"mode\":\"markers\",\"name\":\"Detroit Pistons\",\"showlegend\":true,\"type\":\"scattergeo\"},{\"geo\":\"geo\",\"hovertemplate\":\"<b>%{hovertext}</b><br><br>Team=Utah Jazz<br>Year=2011<br>Valuation (in millions)=%{marker.size}<br>LAT=%{lat}<br>LONG=%{lon}<extra></extra>\",\"hovertext\":[\"Utah Jazz\"],\"lat\":[40],\"legendgroup\":\"Utah Jazz\",\"lon\":[-111],\"marker\":{\"color\":\"yellow\",\"size\":[3430000000],\"sizemode\":\"area\",\"sizeref\":100000000.0,\"symbol\":\"circle\"},\"mode\":\"markers\",\"name\":\"Utah Jazz\",\"showlegend\":true,\"type\":\"scattergeo\"},{\"geo\":\"geo\",\"hovertemplate\":\"<b>%{hovertext}</b><br><br>Team=Oklahoma City Thunder<br>Year=2011<br>Valuation (in millions)=%{marker.size}<br>LAT=%{lat}<br>LONG=%{lon}<extra></extra>\",\"hovertext\":[\"Oklahoma City Thunder\"],\"lat\":[35],\"legendgroup\":\"Oklahoma City Thunder\",\"lon\":[-97],\"marker\":{\"color\":\"blue\",\"size\":[3290000000],\"sizemode\":\"area\",\"sizeref\":100000000.0,\"symbol\":\"circle\"},\"mode\":\"markers\",\"name\":\"Oklahoma City Thunder\",\"showlegend\":true,\"type\":\"scattergeo\"},{\"geo\":\"geo\",\"hovertemplate\":\"<b>%{hovertext}</b><br><br>Team=Phoenix Suns<br>Year=2011<br>Valuation (in millions)=%{marker.size}<br>LAT=%{lat}<br>LONG=%{lon}<extra></extra>\",\"hovertext\":[\"Phoenix Suns\"],\"lat\":[33],\"legendgroup\":\"Phoenix Suns\",\"lon\":[-112],\"marker\":{\"color\":\"red\",\"size\":[4110000000],\"sizemode\":\"area\",\"sizeref\":100000000.0,\"symbol\":\"circle\"},\"mode\":\"markers\",\"name\":\"Phoenix Suns\",\"showlegend\":true,\"type\":\"scattergeo\"},{\"geo\":\"geo\",\"hovertemplate\":\"<b>%{hovertext}</b><br><br>Team=Indiana Pacers<br>Year=2011<br>Valuation (in millions)=%{marker.size}<br>LAT=%{lat}<br>LONG=%{lon}<extra></extra>\",\"hovertext\":[\"Indiana Pacers\"],\"lat\":[39],\"legendgroup\":\"Indiana Pacers\",\"lon\":[-86],\"marker\":{\"color\":\"yellow\",\"size\":[2690000000],\"sizemode\":\"area\",\"sizeref\":100000000.0,\"symbol\":\"circle\"},\"mode\":\"markers\",\"name\":\"Indiana Pacers\",\"showlegend\":true,\"type\":\"scattergeo\"},{\"geo\":\"geo\",\"hovertemplate\":\"<b>%{hovertext}</b><br><br>Team=Atlanta Hawks<br>Year=2011<br>Valuation (in millions)=%{marker.size}<br>LAT=%{lat}<br>LONG=%{lon}<extra></extra>\",\"hovertext\":[\"Atlanta Hawks\"],\"lat\":[33],\"legendgroup\":\"Atlanta Hawks\",\"lon\":[-84],\"marker\":{\"color\":\"blue\",\"size\":[2950000000],\"sizemode\":\"area\",\"sizeref\":100000000.0,\"symbol\":\"circle\"},\"mode\":\"markers\",\"name\":\"Atlanta Hawks\",\"showlegend\":true,\"type\":\"scattergeo\"},{\"geo\":\"geo\",\"hovertemplate\":\"<b>%{hovertext}</b><br><br>Team=Orlando Magic<br>Year=2011<br>Valuation (in millions)=%{marker.size}<br>LAT=%{lat}<br>LONG=%{lon}<extra></extra>\",\"hovertext\":[\"Orlando Magic\"],\"lat\":[28],\"legendgroup\":\"Orlando Magic\",\"lon\":[-81],\"marker\":{\"color\":\"red\",\"size\":[3850000000],\"sizemode\":\"area\",\"sizeref\":100000000.0,\"symbol\":\"circle\"},\"mode\":\"markers\",\"name\":\"Orlando Magic\",\"showlegend\":true,\"type\":\"scattergeo\"},{\"geo\":\"geo\",\"hovertemplate\":\"<b>%{hovertext}</b><br><br>Team=Charlotte Hornets<br>Year=2011<br>Valuation (in millions)=%{marker.size}<br>LAT=%{lat}<br>LONG=%{lon}<extra></extra>\",\"hovertext\":[\"Charlotte Hornets\"],\"lat\":[35],\"legendgroup\":\"Charlotte Hornets\",\"lon\":[-80],\"marker\":{\"color\":\"yellow\",\"size\":[2810000000],\"sizemode\":\"area\",\"sizeref\":100000000.0,\"symbol\":\"circle\"},\"mode\":\"markers\",\"name\":\"Charlotte Hornets\",\"showlegend\":true,\"type\":\"scattergeo\"},{\"geo\":\"geo\",\"hovertemplate\":\"<b>%{hovertext}</b><br><br>Team=Minnesota Timberwolves<br>Year=2011<br>Valuation (in millions)=%{marker.size}<br>LAT=%{lat}<br>LONG=%{lon}<extra></extra>\",\"hovertext\":[\"Minnesota Timberwolves\"],\"lat\":[44],\"legendgroup\":\"Minnesota Timberwolves\",\"lon\":[-93],\"marker\":{\"color\":\"blue\",\"size\":[2640000000],\"sizemode\":\"area\",\"sizeref\":100000000.0,\"symbol\":\"circle\"},\"mode\":\"markers\",\"name\":\"Minnesota Timberwolves\",\"showlegend\":true,\"type\":\"scattergeo\"},{\"geo\":\"geo\",\"hovertemplate\":\"<b>%{hovertext}</b><br><br>Team=Memphis Grizzlies<br>Year=2011<br>Valuation (in millions)=%{marker.size}<br>LAT=%{lat}<br>LONG=%{lon}<extra></extra>\",\"hovertext\":[\"Memphis Grizzlies\"],\"lat\":[35],\"legendgroup\":\"Memphis Grizzlies\",\"lon\":[-90],\"marker\":{\"color\":\"red\",\"size\":[2660000000],\"sizemode\":\"area\",\"sizeref\":100000000.0,\"symbol\":\"circle\"},\"mode\":\"markers\",\"name\":\"Memphis Grizzlies\",\"showlegend\":true,\"type\":\"scattergeo\"},{\"geo\":\"geo\",\"hovertemplate\":\"<b>%{hovertext}</b><br><br>Team=New Orleans Pelicans<br>Year=2011<br>Valuation (in millions)=%{marker.size}<br>LAT=%{lat}<br>LONG=%{lon}<extra></extra>\",\"hovertext\":[\"New Orleans Pelicans\"],\"lat\":[29],\"legendgroup\":\"New Orleans Pelicans\",\"lon\":[-90],\"marker\":{\"color\":\"yellow\",\"size\":[2800000000],\"sizemode\":\"area\",\"sizeref\":100000000.0,\"symbol\":\"circle\"},\"mode\":\"markers\",\"name\":\"New Orleans Pelicans\",\"showlegend\":true,\"type\":\"scattergeo\"}],\"name\":\"2011\"},{\"data\":[{\"geo\":\"geo\",\"hovertemplate\":\"<b>%{hovertext}</b><br><br>Team=New York Knicks<br>Year=2012<br>Valuation (in millions)=%{marker.size}<br>LAT=%{lat}<br>LONG=%{lon}<extra></extra>\",\"hovertext\":[\"New York Knicks\"],\"lat\":[40],\"legendgroup\":\"New York Knicks\",\"lon\":[-73],\"marker\":{\"color\":\"blue\",\"size\":[7800000000],\"sizemode\":\"area\",\"sizeref\":100000000.0,\"symbol\":\"circle\"},\"mode\":\"markers\",\"name\":\"New York Knicks\",\"showlegend\":true,\"type\":\"scattergeo\"},{\"geo\":\"geo\",\"hovertemplate\":\"<b>%{hovertext}</b><br><br>Team=Golden State Warriors<br>Year=2012<br>Valuation (in millions)=%{marker.size}<br>LAT=%{lat}<br>LONG=%{lon}<extra></extra>\",\"hovertext\":[\"Golden State Warriors\"],\"lat\":[37],\"legendgroup\":\"Golden State Warriors\",\"lon\":[-122],\"marker\":{\"color\":\"red\",\"size\":[4500000000],\"sizemode\":\"area\",\"sizeref\":100000000.0,\"symbol\":\"circle\"},\"mode\":\"markers\",\"name\":\"Golden State Warriors\",\"showlegend\":true,\"type\":\"scattergeo\"},{\"geo\":\"geo\",\"hovertemplate\":\"<b>%{hovertext}</b><br><br>Team=Los Angeles Lakers<br>Year=2012<br>Valuation (in millions)=%{marker.size}<br>LAT=%{lat}<br>LONG=%{lon}<extra></extra>\",\"hovertext\":[\"Los Angeles Lakers\"],\"lat\":[34],\"legendgroup\":\"Los Angeles Lakers\",\"lon\":[-118],\"marker\":{\"color\":\"yellow\",\"size\":[9000000000],\"sizemode\":\"area\",\"sizeref\":100000000.0,\"symbol\":\"circle\"},\"mode\":\"markers\",\"name\":\"Los Angeles Lakers\",\"showlegend\":true,\"type\":\"scattergeo\"},{\"geo\":\"geo\",\"hovertemplate\":\"<b>%{hovertext}</b><br><br>Team=Brooklyn Nets<br>Year=2012<br>Valuation (in millions)=%{marker.size}<br>LAT=%{lat}<br>LONG=%{lon}<extra></extra>\",\"hovertext\":[\"Brooklyn Nets\"],\"lat\":[40],\"legendgroup\":\"Brooklyn Nets\",\"lon\":[-73],\"marker\":{\"color\":\"blue\",\"size\":[3570000000],\"sizemode\":\"area\",\"sizeref\":100000000.0,\"symbol\":\"circle\"},\"mode\":\"markers\",\"name\":\"Brooklyn Nets\",\"showlegend\":true,\"type\":\"scattergeo\"},{\"geo\":\"geo\",\"hovertemplate\":\"<b>%{hovertext}</b><br><br>Team=Boston Celtics<br>Year=2012<br>Valuation (in millions)=%{marker.size}<br>LAT=%{lat}<br>LONG=%{lon}<extra></extra>\",\"hovertext\":[\"Boston Celtics\"],\"lat\":[42],\"legendgroup\":\"Boston Celtics\",\"lon\":[-71],\"marker\":{\"color\":\"red\",\"size\":[4820000000],\"sizemode\":\"area\",\"sizeref\":100000000.0,\"symbol\":\"circle\"},\"mode\":\"markers\",\"name\":\"Boston Celtics\",\"showlegend\":true,\"type\":\"scattergeo\"},{\"geo\":\"geo\",\"hovertemplate\":\"<b>%{hovertext}</b><br><br>Team=Chicago Bulls<br>Year=2012<br>Valuation (in millions)=%{marker.size}<br>LAT=%{lat}<br>LONG=%{lon}<extra></extra>\",\"hovertext\":[\"Chicago Bulls\"],\"lat\":[41],\"legendgroup\":\"Chicago Bulls\",\"lon\":[-87],\"marker\":{\"color\":\"yellow\",\"size\":[6000000000],\"sizemode\":\"area\",\"sizeref\":100000000.0,\"symbol\":\"circle\"},\"mode\":\"markers\",\"name\":\"Chicago Bulls\",\"showlegend\":true,\"type\":\"scattergeo\"},{\"geo\":\"geo\",\"hovertemplate\":\"<b>%{hovertext}</b><br><br>Team=Houston Rockets<br>Year=2012<br>Valuation (in millions)=%{marker.size}<br>LAT=%{lat}<br>LONG=%{lon}<extra></extra>\",\"hovertext\":[\"Houston Rockets\"],\"lat\":[29],\"legendgroup\":\"Houston Rockets\",\"lon\":[-95],\"marker\":{\"color\":\"blue\",\"size\":[4530000000],\"sizemode\":\"area\",\"sizeref\":100000000.0,\"symbol\":\"circle\"},\"mode\":\"markers\",\"name\":\"Houston Rockets\",\"showlegend\":true,\"type\":\"scattergeo\"},{\"geo\":\"geo\",\"hovertemplate\":\"<b>%{hovertext}</b><br><br>Team=Los Angeles Clippers<br>Year=2012<br>Valuation (in millions)=%{marker.size}<br>LAT=%{lat}<br>LONG=%{lon}<extra></extra>\",\"hovertext\":[\"Los Angeles Clippers\"],\"lat\":[34],\"legendgroup\":\"Los Angeles Clippers\",\"lon\":[-118],\"marker\":{\"color\":\"red\",\"size\":[3240000000],\"sizemode\":\"area\",\"sizeref\":100000000.0,\"symbol\":\"circle\"},\"mode\":\"markers\",\"name\":\"Los Angeles Clippers\",\"showlegend\":true,\"type\":\"scattergeo\"},{\"geo\":\"geo\",\"hovertemplate\":\"<b>%{hovertext}</b><br><br>Team=Dallas Mavericks<br>Year=2012<br>Valuation (in millions)=%{marker.size}<br>LAT=%{lat}<br>LONG=%{lon}<extra></extra>\",\"hovertext\":[\"Dallas Mavericks\"],\"lat\":[32],\"legendgroup\":\"Dallas Mavericks\",\"lon\":[-96],\"marker\":{\"color\":\"yellow\",\"size\":[4970000000],\"sizemode\":\"area\",\"sizeref\":100000000.0,\"symbol\":\"circle\"},\"mode\":\"markers\",\"name\":\"Dallas Mavericks\",\"showlegend\":true,\"type\":\"scattergeo\"},{\"geo\":\"geo\",\"hovertemplate\":\"<b>%{hovertext}</b><br><br>Team=Toronto Raptors<br>Year=2012<br>Valuation (in millions)=%{marker.size}<br>LAT=%{lat}<br>LONG=%{lon}<extra></extra>\",\"hovertext\":[\"Toronto Raptors\"],\"lat\":[43],\"legendgroup\":\"Toronto Raptors\",\"lon\":[-79],\"marker\":{\"color\":\"blue\",\"size\":[3820000000],\"sizemode\":\"area\",\"sizeref\":100000000.0,\"symbol\":\"circle\"},\"mode\":\"markers\",\"name\":\"Toronto Raptors\",\"showlegend\":true,\"type\":\"scattergeo\"},{\"geo\":\"geo\",\"hovertemplate\":\"<b>%{hovertext}</b><br><br>Team=Philadelphia 76ers<br>Year=2012<br>Valuation (in millions)=%{marker.size}<br>LAT=%{lat}<br>LONG=%{lon}<extra></extra>\",\"hovertext\":[\"Philadelphia 76ers\"],\"lat\":[39],\"legendgroup\":\"Philadelphia 76ers\",\"lon\":[-75],\"marker\":{\"color\":\"red\",\"size\":[3140000000],\"sizemode\":\"area\",\"sizeref\":100000000.0,\"symbol\":\"circle\"},\"mode\":\"markers\",\"name\":\"Philadelphia 76ers\",\"showlegend\":true,\"type\":\"scattergeo\"},{\"geo\":\"geo\",\"hovertemplate\":\"<b>%{hovertext}</b><br><br>Team=Miami Heat<br>Year=2012<br>Valuation (in millions)=%{marker.size}<br>LAT=%{lat}<br>LONG=%{lon}<extra></extra>\",\"hovertext\":[\"Miami Heat\"],\"lat\":[25],\"legendgroup\":\"Miami Heat\",\"lon\":[-80],\"marker\":{\"color\":\"yellow\",\"size\":[4570000000],\"sizemode\":\"area\",\"sizeref\":100000000.0,\"symbol\":\"circle\"},\"mode\":\"markers\",\"name\":\"Miami Heat\",\"showlegend\":true,\"type\":\"scattergeo\"},{\"geo\":\"geo\",\"hovertemplate\":\"<b>%{hovertext}</b><br><br>Team=San Antonio Spurs<br>Year=2012<br>Valuation (in millions)=%{marker.size}<br>LAT=%{lat}<br>LONG=%{lon}<extra></extra>\",\"hovertext\":[\"San Antonio Spurs\"],\"lat\":[29],\"legendgroup\":\"San Antonio Spurs\",\"lon\":[-98],\"marker\":{\"color\":\"blue\",\"size\":[4180000000],\"sizemode\":\"area\",\"sizeref\":100000000.0,\"symbol\":\"circle\"},\"mode\":\"markers\",\"name\":\"San Antonio Spurs\",\"showlegend\":true,\"type\":\"scattergeo\"},{\"geo\":\"geo\",\"hovertemplate\":\"<b>%{hovertext}</b><br><br>Team=Washington Wizards<br>Year=2012<br>Valuation (in millions)=%{marker.size}<br>LAT=%{lat}<br>LONG=%{lon}<extra></extra>\",\"hovertext\":[\"Washington Wizards\"],\"lat\":[38],\"legendgroup\":\"Washington Wizards\",\"lon\":[-77],\"marker\":{\"color\":\"red\",\"size\":[3280000000],\"sizemode\":\"area\",\"sizeref\":100000000.0,\"symbol\":\"circle\"},\"mode\":\"markers\",\"name\":\"Washington Wizards\",\"showlegend\":true,\"type\":\"scattergeo\"},{\"geo\":\"geo\",\"hovertemplate\":\"<b>%{hovertext}</b><br><br>Team=Portland Trail Blazers<br>Year=2012<br>Valuation (in millions)=%{marker.size}<br>LAT=%{lat}<br>LONG=%{lon}<extra></extra>\",\"hovertext\":[\"Portland Trail Blazers\"],\"lat\":[45],\"legendgroup\":\"Portland Trail Blazers\",\"lon\":[-122],\"marker\":{\"color\":\"yellow\",\"size\":[3700000000],\"sizemode\":\"area\",\"sizeref\":100000000.0,\"symbol\":\"circle\"},\"mode\":\"markers\",\"name\":\"Portland Trail Blazers\",\"showlegend\":true,\"type\":\"scattergeo\"},{\"geo\":\"geo\",\"hovertemplate\":\"<b>%{hovertext}</b><br><br>Team=Milwaukee Bucks<br>Year=2012<br>Valuation (in millions)=%{marker.size}<br>LAT=%{lat}<br>LONG=%{lon}<extra></extra>\",\"hovertext\":[\"Milwaukee Bucks\"],\"lat\":[43],\"legendgroup\":\"Milwaukee Bucks\",\"lon\":[-87],\"marker\":{\"color\":\"blue\",\"size\":[2680000000],\"sizemode\":\"area\",\"sizeref\":100000000.0,\"symbol\":\"circle\"},\"mode\":\"markers\",\"name\":\"Milwaukee Bucks\",\"showlegend\":true,\"type\":\"scattergeo\"},{\"geo\":\"geo\",\"hovertemplate\":\"<b>%{hovertext}</b><br><br>Team=Sacramento Kings<br>Year=2012<br>Valuation (in millions)=%{marker.size}<br>LAT=%{lat}<br>LONG=%{lon}<extra></extra>\",\"hovertext\":[\"Sacramento Kings\"],\"lat\":[38],\"legendgroup\":\"Sacramento Kings\",\"lon\":[-121],\"marker\":{\"color\":\"red\",\"size\":[3000000000],\"sizemode\":\"area\",\"sizeref\":100000000.0,\"symbol\":\"circle\"},\"mode\":\"markers\",\"name\":\"Sacramento Kings\",\"showlegend\":true,\"type\":\"scattergeo\"},{\"geo\":\"geo\",\"hovertemplate\":\"<b>%{hovertext}</b><br><br>Team=Denver Nuggets<br>Year=2012<br>Valuation (in millions)=%{marker.size}<br>LAT=%{lat}<br>LONG=%{lon}<extra></extra>\",\"hovertext\":[\"Denver Nuggets\"],\"lat\":[39],\"legendgroup\":\"Denver Nuggets\",\"lon\":[-104],\"marker\":{\"color\":\"yellow\",\"size\":[3160000000],\"sizemode\":\"area\",\"sizeref\":100000000.0,\"symbol\":\"circle\"},\"mode\":\"markers\",\"name\":\"Denver Nuggets\",\"showlegend\":true,\"type\":\"scattergeo\"},{\"geo\":\"geo\",\"hovertemplate\":\"<b>%{hovertext}</b><br><br>Team=Cleveland Cavaliers<br>Year=2012<br>Valuation (in millions)=%{marker.size}<br>LAT=%{lat}<br>LONG=%{lon}<extra></extra>\",\"hovertext\":[\"Cleveland Cavaliers\"],\"lat\":[41],\"legendgroup\":\"Cleveland Cavaliers\",\"lon\":[-81],\"marker\":{\"color\":\"blue\",\"size\":[3290000000],\"sizemode\":\"area\",\"sizeref\":100000000.0,\"symbol\":\"circle\"},\"mode\":\"markers\",\"name\":\"Cleveland Cavaliers\",\"showlegend\":true,\"type\":\"scattergeo\"},{\"geo\":\"geo\",\"hovertemplate\":\"<b>%{hovertext}</b><br><br>Team=Detroit Pistons<br>Year=2012<br>Valuation (in millions)=%{marker.size}<br>LAT=%{lat}<br>LONG=%{lon}<extra></extra>\",\"hovertext\":[\"Detroit Pistons\"],\"lat\":[42],\"legendgroup\":\"Detroit Pistons\",\"lon\":[-83],\"marker\":{\"color\":\"red\",\"size\":[3320000000],\"sizemode\":\"area\",\"sizeref\":100000000.0,\"symbol\":\"circle\"},\"mode\":\"markers\",\"name\":\"Detroit Pistons\",\"showlegend\":true,\"type\":\"scattergeo\"},{\"geo\":\"geo\",\"hovertemplate\":\"<b>%{hovertext}</b><br><br>Team=Utah Jazz<br>Year=2012<br>Valuation (in millions)=%{marker.size}<br>LAT=%{lat}<br>LONG=%{lon}<extra></extra>\",\"hovertext\":[\"Utah Jazz\"],\"lat\":[40],\"legendgroup\":\"Utah Jazz\",\"lon\":[-111],\"marker\":{\"color\":\"yellow\",\"size\":[3350000000],\"sizemode\":\"area\",\"sizeref\":100000000.0,\"symbol\":\"circle\"},\"mode\":\"markers\",\"name\":\"Utah Jazz\",\"showlegend\":true,\"type\":\"scattergeo\"},{\"geo\":\"geo\",\"hovertemplate\":\"<b>%{hovertext}</b><br><br>Team=Oklahoma City Thunder<br>Year=2012<br>Valuation (in millions)=%{marker.size}<br>LAT=%{lat}<br>LONG=%{lon}<extra></extra>\",\"hovertext\":[\"Oklahoma City Thunder\"],\"lat\":[35],\"legendgroup\":\"Oklahoma City Thunder\",\"lon\":[-97],\"marker\":{\"color\":\"blue\",\"size\":[3480000000],\"sizemode\":\"area\",\"sizeref\":100000000.0,\"symbol\":\"circle\"},\"mode\":\"markers\",\"name\":\"Oklahoma City Thunder\",\"showlegend\":true,\"type\":\"scattergeo\"},{\"geo\":\"geo\",\"hovertemplate\":\"<b>%{hovertext}</b><br><br>Team=Phoenix Suns<br>Year=2012<br>Valuation (in millions)=%{marker.size}<br>LAT=%{lat}<br>LONG=%{lon}<extra></extra>\",\"hovertext\":[\"Phoenix Suns\"],\"lat\":[33],\"legendgroup\":\"Phoenix Suns\",\"lon\":[-112],\"marker\":{\"color\":\"red\",\"size\":[3950000000],\"sizemode\":\"area\",\"sizeref\":100000000.0,\"symbol\":\"circle\"},\"mode\":\"markers\",\"name\":\"Phoenix Suns\",\"showlegend\":true,\"type\":\"scattergeo\"},{\"geo\":\"geo\",\"hovertemplate\":\"<b>%{hovertext}</b><br><br>Team=Indiana Pacers<br>Year=2012<br>Valuation (in millions)=%{marker.size}<br>LAT=%{lat}<br>LONG=%{lon}<extra></extra>\",\"hovertext\":[\"Indiana Pacers\"],\"lat\":[39],\"legendgroup\":\"Indiana Pacers\",\"lon\":[-86],\"marker\":{\"color\":\"yellow\",\"size\":[2830000000],\"sizemode\":\"area\",\"sizeref\":100000000.0,\"symbol\":\"circle\"},\"mode\":\"markers\",\"name\":\"Indiana Pacers\",\"showlegend\":true,\"type\":\"scattergeo\"},{\"geo\":\"geo\",\"hovertemplate\":\"<b>%{hovertext}</b><br><br>Team=Atlanta Hawks<br>Year=2012<br>Valuation (in millions)=%{marker.size}<br>LAT=%{lat}<br>LONG=%{lon}<extra></extra>\",\"hovertext\":[\"Atlanta Hawks\"],\"lat\":[33],\"legendgroup\":\"Atlanta Hawks\",\"lon\":[-84],\"marker\":{\"color\":\"blue\",\"size\":[2700000000],\"sizemode\":\"area\",\"sizeref\":100000000.0,\"symbol\":\"circle\"},\"mode\":\"markers\",\"name\":\"Atlanta Hawks\",\"showlegend\":true,\"type\":\"scattergeo\"},{\"geo\":\"geo\",\"hovertemplate\":\"<b>%{hovertext}</b><br><br>Team=Orlando Magic<br>Year=2012<br>Valuation (in millions)=%{marker.size}<br>LAT=%{lat}<br>LONG=%{lon}<extra></extra>\",\"hovertext\":[\"Orlando Magic\"],\"lat\":[28],\"legendgroup\":\"Orlando Magic\",\"lon\":[-81],\"marker\":{\"color\":\"red\",\"size\":[3850000000],\"sizemode\":\"area\",\"sizeref\":100000000.0,\"symbol\":\"circle\"},\"mode\":\"markers\",\"name\":\"Orlando Magic\",\"showlegend\":true,\"type\":\"scattergeo\"},{\"geo\":\"geo\",\"hovertemplate\":\"<b>%{hovertext}</b><br><br>Team=Charlotte Hornets<br>Year=2012<br>Valuation (in millions)=%{marker.size}<br>LAT=%{lat}<br>LONG=%{lon}<extra></extra>\",\"hovertext\":[\"Charlotte Hornets\"],\"lat\":[35],\"legendgroup\":\"Charlotte Hornets\",\"lon\":[-80],\"marker\":{\"color\":\"yellow\",\"size\":[2770000000],\"sizemode\":\"area\",\"sizeref\":100000000.0,\"symbol\":\"circle\"},\"mode\":\"markers\",\"name\":\"Charlotte Hornets\",\"showlegend\":true,\"type\":\"scattergeo\"},{\"geo\":\"geo\",\"hovertemplate\":\"<b>%{hovertext}</b><br><br>Team=Minnesota Timberwolves<br>Year=2012<br>Valuation (in millions)=%{marker.size}<br>LAT=%{lat}<br>LONG=%{lon}<extra></extra>\",\"hovertext\":[\"Minnesota Timberwolves\"],\"lat\":[44],\"legendgroup\":\"Minnesota Timberwolves\",\"lon\":[-93],\"marker\":{\"color\":\"blue\",\"size\":[2720000000],\"sizemode\":\"area\",\"sizeref\":100000000.0,\"symbol\":\"circle\"},\"mode\":\"markers\",\"name\":\"Minnesota Timberwolves\",\"showlegend\":true,\"type\":\"scattergeo\"},{\"geo\":\"geo\",\"hovertemplate\":\"<b>%{hovertext}</b><br><br>Team=Memphis Grizzlies<br>Year=2012<br>Valuation (in millions)=%{marker.size}<br>LAT=%{lat}<br>LONG=%{lon}<extra></extra>\",\"hovertext\":[\"Memphis Grizzlies\"],\"lat\":[35],\"legendgroup\":\"Memphis Grizzlies\",\"lon\":[-90],\"marker\":{\"color\":\"red\",\"size\":[2690000000],\"sizemode\":\"area\",\"sizeref\":100000000.0,\"symbol\":\"circle\"},\"mode\":\"markers\",\"name\":\"Memphis Grizzlies\",\"showlegend\":true,\"type\":\"scattergeo\"},{\"geo\":\"geo\",\"hovertemplate\":\"<b>%{hovertext}</b><br><br>Team=New Orleans Pelicans<br>Year=2012<br>Valuation (in millions)=%{marker.size}<br>LAT=%{lat}<br>LONG=%{lon}<extra></extra>\",\"hovertext\":[\"New Orleans Pelicans\"],\"lat\":[29],\"legendgroup\":\"New Orleans Pelicans\",\"lon\":[-90],\"marker\":{\"color\":\"yellow\",\"size\":[2850000000],\"sizemode\":\"area\",\"sizeref\":100000000.0,\"symbol\":\"circle\"},\"mode\":\"markers\",\"name\":\"New Orleans Pelicans\",\"showlegend\":true,\"type\":\"scattergeo\"}],\"name\":\"2012\"},{\"data\":[{\"geo\":\"geo\",\"hovertemplate\":\"<b>%{hovertext}</b><br><br>Team=New York Knicks<br>Year=2013<br>Valuation (in millions)=%{marker.size}<br>LAT=%{lat}<br>LONG=%{lon}<extra></extra>\",\"hovertext\":[\"New York Knicks\"],\"lat\":[40],\"legendgroup\":\"New York Knicks\",\"lon\":[-73],\"marker\":{\"color\":\"blue\",\"size\":[11000000000],\"sizemode\":\"area\",\"sizeref\":100000000.0,\"symbol\":\"circle\"},\"mode\":\"markers\",\"name\":\"New York Knicks\",\"showlegend\":true,\"type\":\"scattergeo\"},{\"geo\":\"geo\",\"hovertemplate\":\"<b>%{hovertext}</b><br><br>Team=Golden State Warriors<br>Year=2013<br>Valuation (in millions)=%{marker.size}<br>LAT=%{lat}<br>LONG=%{lon}<extra></extra>\",\"hovertext\":[\"Golden State Warriors\"],\"lat\":[37],\"legendgroup\":\"Golden State Warriors\",\"lon\":[-122],\"marker\":{\"color\":\"red\",\"size\":[5550000000],\"sizemode\":\"area\",\"sizeref\":100000000.0,\"symbol\":\"circle\"},\"mode\":\"markers\",\"name\":\"Golden State Warriors\",\"showlegend\":true,\"type\":\"scattergeo\"},{\"geo\":\"geo\",\"hovertemplate\":\"<b>%{hovertext}</b><br><br>Team=Los Angeles Lakers<br>Year=2013<br>Valuation (in millions)=%{marker.size}<br>LAT=%{lat}<br>LONG=%{lon}<extra></extra>\",\"hovertext\":[\"Los Angeles Lakers\"],\"lat\":[34],\"legendgroup\":\"Los Angeles Lakers\",\"lon\":[-118],\"marker\":{\"color\":\"yellow\",\"size\":[10000000000],\"sizemode\":\"area\",\"sizeref\":100000000.0,\"symbol\":\"circle\"},\"mode\":\"markers\",\"name\":\"Los Angeles Lakers\",\"showlegend\":true,\"type\":\"scattergeo\"},{\"geo\":\"geo\",\"hovertemplate\":\"<b>%{hovertext}</b><br><br>Team=Brooklyn Nets<br>Year=2013<br>Valuation (in millions)=%{marker.size}<br>LAT=%{lat}<br>LONG=%{lon}<extra></extra>\",\"hovertext\":[\"Brooklyn Nets\"],\"lat\":[40],\"legendgroup\":\"Brooklyn Nets\",\"lon\":[-73],\"marker\":{\"color\":\"blue\",\"size\":[5300000000],\"sizemode\":\"area\",\"sizeref\":100000000.0,\"symbol\":\"circle\"},\"mode\":\"markers\",\"name\":\"Brooklyn Nets\",\"showlegend\":true,\"type\":\"scattergeo\"},{\"geo\":\"geo\",\"hovertemplate\":\"<b>%{hovertext}</b><br><br>Team=Boston Celtics<br>Year=2013<br>Valuation (in millions)=%{marker.size}<br>LAT=%{lat}<br>LONG=%{lon}<extra></extra>\",\"hovertext\":[\"Boston Celtics\"],\"lat\":[42],\"legendgroup\":\"Boston Celtics\",\"lon\":[-71],\"marker\":{\"color\":\"red\",\"size\":[7300000000],\"sizemode\":\"area\",\"sizeref\":100000000.0,\"symbol\":\"circle\"},\"mode\":\"markers\",\"name\":\"Boston Celtics\",\"showlegend\":true,\"type\":\"scattergeo\"},{\"geo\":\"geo\",\"hovertemplate\":\"<b>%{hovertext}</b><br><br>Team=Chicago Bulls<br>Year=2013<br>Valuation (in millions)=%{marker.size}<br>LAT=%{lat}<br>LONG=%{lon}<extra></extra>\",\"hovertext\":[\"Chicago Bulls\"],\"lat\":[41],\"legendgroup\":\"Chicago Bulls\",\"lon\":[-87],\"marker\":{\"color\":\"yellow\",\"size\":[8000000000],\"sizemode\":\"area\",\"sizeref\":100000000.0,\"symbol\":\"circle\"},\"mode\":\"markers\",\"name\":\"Chicago Bulls\",\"showlegend\":true,\"type\":\"scattergeo\"},{\"geo\":\"geo\",\"hovertemplate\":\"<b>%{hovertext}</b><br><br>Team=Houston Rockets<br>Year=2013<br>Valuation (in millions)=%{marker.size}<br>LAT=%{lat}<br>LONG=%{lon}<extra></extra>\",\"hovertext\":[\"Houston Rockets\"],\"lat\":[29],\"legendgroup\":\"Houston Rockets\",\"lon\":[-95],\"marker\":{\"color\":\"blue\",\"size\":[5680000000],\"sizemode\":\"area\",\"sizeref\":100000000.0,\"symbol\":\"circle\"},\"mode\":\"markers\",\"name\":\"Houston Rockets\",\"showlegend\":true,\"type\":\"scattergeo\"},{\"geo\":\"geo\",\"hovertemplate\":\"<b>%{hovertext}</b><br><br>Team=Los Angeles Clippers<br>Year=2013<br>Valuation (in millions)=%{marker.size}<br>LAT=%{lat}<br>LONG=%{lon}<extra></extra>\",\"hovertext\":[\"Los Angeles Clippers\"],\"lat\":[34],\"legendgroup\":\"Los Angeles Clippers\",\"lon\":[-118],\"marker\":{\"color\":\"red\",\"size\":[4300000000],\"sizemode\":\"area\",\"sizeref\":100000000.0,\"symbol\":\"circle\"},\"mode\":\"markers\",\"name\":\"Los Angeles Clippers\",\"showlegend\":true,\"type\":\"scattergeo\"},{\"geo\":\"geo\",\"hovertemplate\":\"<b>%{hovertext}</b><br><br>Team=Dallas Mavericks<br>Year=2013<br>Valuation (in millions)=%{marker.size}<br>LAT=%{lat}<br>LONG=%{lon}<extra></extra>\",\"hovertext\":[\"Dallas Mavericks\"],\"lat\":[32],\"legendgroup\":\"Dallas Mavericks\",\"lon\":[-96],\"marker\":{\"color\":\"yellow\",\"size\":[6850000000],\"sizemode\":\"area\",\"sizeref\":100000000.0,\"symbol\":\"circle\"},\"mode\":\"markers\",\"name\":\"Dallas Mavericks\",\"showlegend\":true,\"type\":\"scattergeo\"},{\"geo\":\"geo\",\"hovertemplate\":\"<b>%{hovertext}</b><br><br>Team=Toronto Raptors<br>Year=2013<br>Valuation (in millions)=%{marker.size}<br>LAT=%{lat}<br>LONG=%{lon}<extra></extra>\",\"hovertext\":[\"Toronto Raptors\"],\"lat\":[43],\"legendgroup\":\"Toronto Raptors\",\"lon\":[-79],\"marker\":{\"color\":\"blue\",\"size\":[4050000000],\"sizemode\":\"area\",\"sizeref\":100000000.0,\"symbol\":\"circle\"},\"mode\":\"markers\",\"name\":\"Toronto Raptors\",\"showlegend\":true,\"type\":\"scattergeo\"},{\"geo\":\"geo\",\"hovertemplate\":\"<b>%{hovertext}</b><br><br>Team=Philadelphia 76ers<br>Year=2013<br>Valuation (in millions)=%{marker.size}<br>LAT=%{lat}<br>LONG=%{lon}<extra></extra>\",\"hovertext\":[\"Philadelphia 76ers\"],\"lat\":[39],\"legendgroup\":\"Philadelphia 76ers\",\"lon\":[-75],\"marker\":{\"color\":\"red\",\"size\":[4180000000],\"sizemode\":\"area\",\"sizeref\":100000000.0,\"symbol\":\"circle\"},\"mode\":\"markers\",\"name\":\"Philadelphia 76ers\",\"showlegend\":true,\"type\":\"scattergeo\"},{\"geo\":\"geo\",\"hovertemplate\":\"<b>%{hovertext}</b><br><br>Team=Miami Heat<br>Year=2013<br>Valuation (in millions)=%{marker.size}<br>LAT=%{lat}<br>LONG=%{lon}<extra></extra>\",\"hovertext\":[\"Miami Heat\"],\"lat\":[25],\"legendgroup\":\"Miami Heat\",\"lon\":[-80],\"marker\":{\"color\":\"yellow\",\"size\":[6250000000],\"sizemode\":\"area\",\"sizeref\":100000000.0,\"symbol\":\"circle\"},\"mode\":\"markers\",\"name\":\"Miami Heat\",\"showlegend\":true,\"type\":\"scattergeo\"},{\"geo\":\"geo\",\"hovertemplate\":\"<b>%{hovertext}</b><br><br>Team=San Antonio Spurs<br>Year=2013<br>Valuation (in millions)=%{marker.size}<br>LAT=%{lat}<br>LONG=%{lon}<extra></extra>\",\"hovertext\":[\"San Antonio Spurs\"],\"lat\":[29],\"legendgroup\":\"San Antonio Spurs\",\"lon\":[-98],\"marker\":{\"color\":\"blue\",\"size\":[5270000000],\"sizemode\":\"area\",\"sizeref\":100000000.0,\"symbol\":\"circle\"},\"mode\":\"markers\",\"name\":\"San Antonio Spurs\",\"showlegend\":true,\"type\":\"scattergeo\"},{\"geo\":\"geo\",\"hovertemplate\":\"<b>%{hovertext}</b><br><br>Team=Washington Wizards<br>Year=2013<br>Valuation (in millions)=%{marker.size}<br>LAT=%{lat}<br>LONG=%{lon}<extra></extra>\",\"hovertext\":[\"Washington Wizards\"],\"lat\":[38],\"legendgroup\":\"Washington Wizards\",\"lon\":[-77],\"marker\":{\"color\":\"red\",\"size\":[3970000000],\"sizemode\":\"area\",\"sizeref\":100000000.0,\"symbol\":\"circle\"},\"mode\":\"markers\",\"name\":\"Washington Wizards\",\"showlegend\":true,\"type\":\"scattergeo\"},{\"geo\":\"geo\",\"hovertemplate\":\"<b>%{hovertext}</b><br><br>Team=Portland Trail Blazers<br>Year=2013<br>Valuation (in millions)=%{marker.size}<br>LAT=%{lat}<br>LONG=%{lon}<extra></extra>\",\"hovertext\":[\"Portland Trail Blazers\"],\"lat\":[45],\"legendgroup\":\"Portland Trail Blazers\",\"lon\":[-122],\"marker\":{\"color\":\"yellow\",\"size\":[4570000000],\"sizemode\":\"area\",\"sizeref\":100000000.0,\"symbol\":\"circle\"},\"mode\":\"markers\",\"name\":\"Portland Trail Blazers\",\"showlegend\":true,\"type\":\"scattergeo\"},{\"geo\":\"geo\",\"hovertemplate\":\"<b>%{hovertext}</b><br><br>Team=Milwaukee Bucks<br>Year=2013<br>Valuation (in millions)=%{marker.size}<br>LAT=%{lat}<br>LONG=%{lon}<extra></extra>\",\"hovertext\":[\"Milwaukee Bucks\"],\"lat\":[43],\"legendgroup\":\"Milwaukee Bucks\",\"lon\":[-87],\"marker\":{\"color\":\"blue\",\"size\":[3120000000],\"sizemode\":\"area\",\"sizeref\":100000000.0,\"symbol\":\"circle\"},\"mode\":\"markers\",\"name\":\"Milwaukee Bucks\",\"showlegend\":true,\"type\":\"scattergeo\"},{\"geo\":\"geo\",\"hovertemplate\":\"<b>%{hovertext}</b><br><br>Team=Sacramento Kings<br>Year=2013<br>Valuation (in millions)=%{marker.size}<br>LAT=%{lat}<br>LONG=%{lon}<extra></extra>\",\"hovertext\":[\"Sacramento Kings\"],\"lat\":[38],\"legendgroup\":\"Sacramento Kings\",\"lon\":[-121],\"marker\":{\"color\":\"red\",\"size\":[5250000000],\"sizemode\":\"area\",\"sizeref\":100000000.0,\"symbol\":\"circle\"},\"mode\":\"markers\",\"name\":\"Sacramento Kings\",\"showlegend\":true,\"type\":\"scattergeo\"},{\"geo\":\"geo\",\"hovertemplate\":\"<b>%{hovertext}</b><br><br>Team=Denver Nuggets<br>Year=2013<br>Valuation (in millions)=%{marker.size}<br>LAT=%{lat}<br>LONG=%{lon}<extra></extra>\",\"hovertext\":[\"Denver Nuggets\"],\"lat\":[39],\"legendgroup\":\"Denver Nuggets\",\"lon\":[-104],\"marker\":{\"color\":\"yellow\",\"size\":[4270000000],\"sizemode\":\"area\",\"sizeref\":100000000.0,\"symbol\":\"circle\"},\"mode\":\"markers\",\"name\":\"Denver Nuggets\",\"showlegend\":true,\"type\":\"scattergeo\"},{\"geo\":\"geo\",\"hovertemplate\":\"<b>%{hovertext}</b><br><br>Team=Cleveland Cavaliers<br>Year=2013<br>Valuation (in millions)=%{marker.size}<br>LAT=%{lat}<br>LONG=%{lon}<extra></extra>\",\"hovertext\":[\"Cleveland Cavaliers\"],\"lat\":[41],\"legendgroup\":\"Cleveland Cavaliers\",\"lon\":[-81],\"marker\":{\"color\":\"blue\",\"size\":[4340000000],\"sizemode\":\"area\",\"sizeref\":100000000.0,\"symbol\":\"circle\"},\"mode\":\"markers\",\"name\":\"Cleveland Cavaliers\",\"showlegend\":true,\"type\":\"scattergeo\"},{\"geo\":\"geo\",\"hovertemplate\":\"<b>%{hovertext}</b><br><br>Team=Detroit Pistons<br>Year=2013<br>Valuation (in millions)=%{marker.size}<br>LAT=%{lat}<br>LONG=%{lon}<extra></extra>\",\"hovertext\":[\"Detroit Pistons\"],\"lat\":[42],\"legendgroup\":\"Detroit Pistons\",\"lon\":[-83],\"marker\":{\"color\":\"red\",\"size\":[4000000000],\"sizemode\":\"area\",\"sizeref\":100000000.0,\"symbol\":\"circle\"},\"mode\":\"markers\",\"name\":\"Detroit Pistons\",\"showlegend\":true,\"type\":\"scattergeo\"},{\"geo\":\"geo\",\"hovertemplate\":\"<b>%{hovertext}</b><br><br>Team=Utah Jazz<br>Year=2013<br>Valuation (in millions)=%{marker.size}<br>LAT=%{lat}<br>LONG=%{lon}<extra></extra>\",\"hovertext\":[\"Utah Jazz\"],\"lat\":[40],\"legendgroup\":\"Utah Jazz\",\"lon\":[-111],\"marker\":{\"color\":\"yellow\",\"size\":[4320000000],\"sizemode\":\"area\",\"sizeref\":100000000.0,\"symbol\":\"circle\"},\"mode\":\"markers\",\"name\":\"Utah Jazz\",\"showlegend\":true,\"type\":\"scattergeo\"},{\"geo\":\"geo\",\"hovertemplate\":\"<b>%{hovertext}</b><br><br>Team=Oklahoma City Thunder<br>Year=2013<br>Valuation (in millions)=%{marker.size}<br>LAT=%{lat}<br>LONG=%{lon}<extra></extra>\",\"hovertext\":[\"Oklahoma City Thunder\"],\"lat\":[35],\"legendgroup\":\"Oklahoma City Thunder\",\"lon\":[-97],\"marker\":{\"color\":\"blue\",\"size\":[4750000000],\"sizemode\":\"area\",\"sizeref\":100000000.0,\"symbol\":\"circle\"},\"mode\":\"markers\",\"name\":\"Oklahoma City Thunder\",\"showlegend\":true,\"type\":\"scattergeo\"},{\"geo\":\"geo\",\"hovertemplate\":\"<b>%{hovertext}</b><br><br>Team=Phoenix Suns<br>Year=2013<br>Valuation (in millions)=%{marker.size}<br>LAT=%{lat}<br>LONG=%{lon}<extra></extra>\",\"hovertext\":[\"Phoenix Suns\"],\"lat\":[33],\"legendgroup\":\"Phoenix Suns\",\"lon\":[-112],\"marker\":{\"color\":\"red\",\"size\":[4740000000],\"sizemode\":\"area\",\"sizeref\":100000000.0,\"symbol\":\"circle\"},\"mode\":\"markers\",\"name\":\"Phoenix Suns\",\"showlegend\":true,\"type\":\"scattergeo\"},{\"geo\":\"geo\",\"hovertemplate\":\"<b>%{hovertext}</b><br><br>Team=Indiana Pacers<br>Year=2013<br>Valuation (in millions)=%{marker.size}<br>LAT=%{lat}<br>LONG=%{lon}<extra></extra>\",\"hovertext\":[\"Indiana Pacers\"],\"lat\":[39],\"legendgroup\":\"Indiana Pacers\",\"lon\":[-86],\"marker\":{\"color\":\"yellow\",\"size\":[3830000000],\"sizemode\":\"area\",\"sizeref\":100000000.0,\"symbol\":\"circle\"},\"mode\":\"markers\",\"name\":\"Indiana Pacers\",\"showlegend\":true,\"type\":\"scattergeo\"},{\"geo\":\"geo\",\"hovertemplate\":\"<b>%{hovertext}</b><br><br>Team=Atlanta Hawks<br>Year=2013<br>Valuation (in millions)=%{marker.size}<br>LAT=%{lat}<br>LONG=%{lon}<extra></extra>\",\"hovertext\":[\"Atlanta Hawks\"],\"lat\":[33],\"legendgroup\":\"Atlanta Hawks\",\"lon\":[-84],\"marker\":{\"color\":\"blue\",\"size\":[3160000000],\"sizemode\":\"area\",\"sizeref\":100000000.0,\"symbol\":\"circle\"},\"mode\":\"markers\",\"name\":\"Atlanta Hawks\",\"showlegend\":true,\"type\":\"scattergeo\"},{\"geo\":\"geo\",\"hovertemplate\":\"<b>%{hovertext}</b><br><br>Team=Orlando Magic<br>Year=2013<br>Valuation (in millions)=%{marker.size}<br>LAT=%{lat}<br>LONG=%{lon}<extra></extra>\",\"hovertext\":[\"Orlando Magic\"],\"lat\":[28],\"legendgroup\":\"Orlando Magic\",\"lon\":[-81],\"marker\":{\"color\":\"red\",\"size\":[4700000000],\"sizemode\":\"area\",\"sizeref\":100000000.0,\"symbol\":\"circle\"},\"mode\":\"markers\",\"name\":\"Orlando Magic\",\"showlegend\":true,\"type\":\"scattergeo\"},{\"geo\":\"geo\",\"hovertemplate\":\"<b>%{hovertext}</b><br><br>Team=Charlotte Hornets<br>Year=2013<br>Valuation (in millions)=%{marker.size}<br>LAT=%{lat}<br>LONG=%{lon}<extra></extra>\",\"hovertext\":[\"Charlotte Hornets\"],\"lat\":[35],\"legendgroup\":\"Charlotte Hornets\",\"lon\":[-80],\"marker\":{\"color\":\"yellow\",\"size\":[3150000000],\"sizemode\":\"area\",\"sizeref\":100000000.0,\"symbol\":\"circle\"},\"mode\":\"markers\",\"name\":\"Charlotte Hornets\",\"showlegend\":true,\"type\":\"scattergeo\"},{\"geo\":\"geo\",\"hovertemplate\":\"<b>%{hovertext}</b><br><br>Team=Minnesota Timberwolves<br>Year=2013<br>Valuation (in millions)=%{marker.size}<br>LAT=%{lat}<br>LONG=%{lon}<extra></extra>\",\"hovertext\":[\"Minnesota Timberwolves\"],\"lat\":[44],\"legendgroup\":\"Minnesota Timberwolves\",\"lon\":[-93],\"marker\":{\"color\":\"blue\",\"size\":[3640000000],\"sizemode\":\"area\",\"sizeref\":100000000.0,\"symbol\":\"circle\"},\"mode\":\"markers\",\"name\":\"Minnesota Timberwolves\",\"showlegend\":true,\"type\":\"scattergeo\"},{\"geo\":\"geo\",\"hovertemplate\":\"<b>%{hovertext}</b><br><br>Team=Memphis Grizzlies<br>Year=2013<br>Valuation (in millions)=%{marker.size}<br>LAT=%{lat}<br>LONG=%{lon}<extra></extra>\",\"hovertext\":[\"Memphis Grizzlies\"],\"lat\":[35],\"legendgroup\":\"Memphis Grizzlies\",\"lon\":[-90],\"marker\":{\"color\":\"red\",\"size\":[3770000000],\"sizemode\":\"area\",\"sizeref\":100000000.0,\"symbol\":\"circle\"},\"mode\":\"markers\",\"name\":\"Memphis Grizzlies\",\"showlegend\":true,\"type\":\"scattergeo\"},{\"geo\":\"geo\",\"hovertemplate\":\"<b>%{hovertext}</b><br><br>Team=New Orleans Pelicans<br>Year=2013<br>Valuation (in millions)=%{marker.size}<br>LAT=%{lat}<br>LONG=%{lon}<extra></extra>\",\"hovertext\":[\"New Orleans Pelicans\"],\"lat\":[29],\"legendgroup\":\"New Orleans Pelicans\",\"lon\":[-90],\"marker\":{\"color\":\"yellow\",\"size\":[3400000000],\"sizemode\":\"area\",\"sizeref\":100000000.0,\"symbol\":\"circle\"},\"mode\":\"markers\",\"name\":\"New Orleans Pelicans\",\"showlegend\":true,\"type\":\"scattergeo\"}],\"name\":\"2013\"},{\"data\":[{\"geo\":\"geo\",\"hovertemplate\":\"<b>%{hovertext}</b><br><br>Team=New York Knicks<br>Year=2014<br>Valuation (in millions)=%{marker.size}<br>LAT=%{lat}<br>LONG=%{lon}<extra></extra>\",\"hovertext\":[\"New York Knicks\"],\"lat\":[40],\"legendgroup\":\"New York Knicks\",\"lon\":[-73],\"marker\":{\"color\":\"blue\",\"size\":[14000000000],\"sizemode\":\"area\",\"sizeref\":100000000.0,\"symbol\":\"circle\"},\"mode\":\"markers\",\"name\":\"New York Knicks\",\"showlegend\":true,\"type\":\"scattergeo\"},{\"geo\":\"geo\",\"hovertemplate\":\"<b>%{hovertext}</b><br><br>Team=Golden State Warriors<br>Year=2014<br>Valuation (in millions)=%{marker.size}<br>LAT=%{lat}<br>LONG=%{lon}<extra></extra>\",\"hovertext\":[\"Golden State Warriors\"],\"lat\":[37],\"legendgroup\":\"Golden State Warriors\",\"lon\":[-122],\"marker\":{\"color\":\"red\",\"size\":[7500000000],\"sizemode\":\"area\",\"sizeref\":100000000.0,\"symbol\":\"circle\"},\"mode\":\"markers\",\"name\":\"Golden State Warriors\",\"showlegend\":true,\"type\":\"scattergeo\"},{\"geo\":\"geo\",\"hovertemplate\":\"<b>%{hovertext}</b><br><br>Team=Los Angeles Lakers<br>Year=2014<br>Valuation (in millions)=%{marker.size}<br>LAT=%{lat}<br>LONG=%{lon}<extra></extra>\",\"hovertext\":[\"Los Angeles Lakers\"],\"lat\":[34],\"legendgroup\":\"Los Angeles Lakers\",\"lon\":[-118],\"marker\":{\"color\":\"yellow\",\"size\":[13500000000],\"sizemode\":\"area\",\"sizeref\":100000000.0,\"symbol\":\"circle\"},\"mode\":\"markers\",\"name\":\"Los Angeles Lakers\",\"showlegend\":true,\"type\":\"scattergeo\"},{\"geo\":\"geo\",\"hovertemplate\":\"<b>%{hovertext}</b><br><br>Team=Brooklyn Nets<br>Year=2014<br>Valuation (in millions)=%{marker.size}<br>LAT=%{lat}<br>LONG=%{lon}<extra></extra>\",\"hovertext\":[\"Brooklyn Nets\"],\"lat\":[40],\"legendgroup\":\"Brooklyn Nets\",\"lon\":[-73],\"marker\":{\"color\":\"blue\",\"size\":[7800000000],\"sizemode\":\"area\",\"sizeref\":100000000.0,\"symbol\":\"circle\"},\"mode\":\"markers\",\"name\":\"Brooklyn Nets\",\"showlegend\":true,\"type\":\"scattergeo\"},{\"geo\":\"geo\",\"hovertemplate\":\"<b>%{hovertext}</b><br><br>Team=Boston Celtics<br>Year=2014<br>Valuation (in millions)=%{marker.size}<br>LAT=%{lat}<br>LONG=%{lon}<extra></extra>\",\"hovertext\":[\"Boston Celtics\"],\"lat\":[42],\"legendgroup\":\"Boston Celtics\",\"lon\":[-71],\"marker\":{\"color\":\"red\",\"size\":[8750000000],\"sizemode\":\"area\",\"sizeref\":100000000.0,\"symbol\":\"circle\"},\"mode\":\"markers\",\"name\":\"Boston Celtics\",\"showlegend\":true,\"type\":\"scattergeo\"},{\"geo\":\"geo\",\"hovertemplate\":\"<b>%{hovertext}</b><br><br>Team=Chicago Bulls<br>Year=2014<br>Valuation (in millions)=%{marker.size}<br>LAT=%{lat}<br>LONG=%{lon}<extra></extra>\",\"hovertext\":[\"Chicago Bulls\"],\"lat\":[41],\"legendgroup\":\"Chicago Bulls\",\"lon\":[-87],\"marker\":{\"color\":\"yellow\",\"size\":[12000000000],\"sizemode\":\"area\",\"sizeref\":100000000.0,\"symbol\":\"circle\"},\"mode\":\"markers\",\"name\":\"Chicago Bulls\",\"showlegend\":true,\"type\":\"scattergeo\"},{\"geo\":\"geo\",\"hovertemplate\":\"<b>%{hovertext}</b><br><br>Team=Houston Rockets<br>Year=2014<br>Valuation (in millions)=%{marker.size}<br>LAT=%{lat}<br>LONG=%{lon}<extra></extra>\",\"hovertext\":[\"Houston Rockets\"],\"lat\":[29],\"legendgroup\":\"Houston Rockets\",\"lon\":[-95],\"marker\":{\"color\":\"blue\",\"size\":[7750000000],\"sizemode\":\"area\",\"sizeref\":100000000.0,\"symbol\":\"circle\"},\"mode\":\"markers\",\"name\":\"Houston Rockets\",\"showlegend\":true,\"type\":\"scattergeo\"},{\"geo\":\"geo\",\"hovertemplate\":\"<b>%{hovertext}</b><br><br>Team=Los Angeles Clippers<br>Year=2014<br>Valuation (in millions)=%{marker.size}<br>LAT=%{lat}<br>LONG=%{lon}<extra></extra>\",\"hovertext\":[\"Los Angeles Clippers\"],\"lat\":[34],\"legendgroup\":\"Los Angeles Clippers\",\"lon\":[-118],\"marker\":{\"color\":\"red\",\"size\":[5750000000],\"sizemode\":\"area\",\"sizeref\":100000000.0,\"symbol\":\"circle\"},\"mode\":\"markers\",\"name\":\"Los Angeles Clippers\",\"showlegend\":true,\"type\":\"scattergeo\"},{\"geo\":\"geo\",\"hovertemplate\":\"<b>%{hovertext}</b><br><br>Team=Dallas Mavericks<br>Year=2014<br>Valuation (in millions)=%{marker.size}<br>LAT=%{lat}<br>LONG=%{lon}<extra></extra>\",\"hovertext\":[\"Dallas Mavericks\"],\"lat\":[32],\"legendgroup\":\"Dallas Mavericks\",\"lon\":[-96],\"marker\":{\"color\":\"yellow\",\"size\":[7650000000],\"sizemode\":\"area\",\"sizeref\":100000000.0,\"symbol\":\"circle\"},\"mode\":\"markers\",\"name\":\"Dallas Mavericks\",\"showlegend\":true,\"type\":\"scattergeo\"},{\"geo\":\"geo\",\"hovertemplate\":\"<b>%{hovertext}</b><br><br>Team=Toronto Raptors<br>Year=2014<br>Valuation (in millions)=%{marker.size}<br>LAT=%{lat}<br>LONG=%{lon}<extra></extra>\",\"hovertext\":[\"Toronto Raptors\"],\"lat\":[43],\"legendgroup\":\"Toronto Raptors\",\"lon\":[-79],\"marker\":{\"color\":\"blue\",\"size\":[5200000000],\"sizemode\":\"area\",\"sizeref\":100000000.0,\"symbol\":\"circle\"},\"mode\":\"markers\",\"name\":\"Toronto Raptors\",\"showlegend\":true,\"type\":\"scattergeo\"},{\"geo\":\"geo\",\"hovertemplate\":\"<b>%{hovertext}</b><br><br>Team=Philadelphia 76ers<br>Year=2014<br>Valuation (in millions)=%{marker.size}<br>LAT=%{lat}<br>LONG=%{lon}<extra></extra>\",\"hovertext\":[\"Philadelphia 76ers\"],\"lat\":[39],\"legendgroup\":\"Philadelphia 76ers\",\"lon\":[-75],\"marker\":{\"color\":\"red\",\"size\":[4690000000],\"sizemode\":\"area\",\"sizeref\":100000000.0,\"symbol\":\"circle\"},\"mode\":\"markers\",\"name\":\"Philadelphia 76ers\",\"showlegend\":true,\"type\":\"scattergeo\"},{\"geo\":\"geo\",\"hovertemplate\":\"<b>%{hovertext}</b><br><br>Team=Miami Heat<br>Year=2014<br>Valuation (in millions)=%{marker.size}<br>LAT=%{lat}<br>LONG=%{lon}<extra></extra>\",\"hovertext\":[\"Miami Heat\"],\"lat\":[25],\"legendgroup\":\"Miami Heat\",\"lon\":[-80],\"marker\":{\"color\":\"yellow\",\"size\":[7700000000],\"sizemode\":\"area\",\"sizeref\":100000000.0,\"symbol\":\"circle\"},\"mode\":\"markers\",\"name\":\"Miami Heat\",\"showlegend\":true,\"type\":\"scattergeo\"},{\"geo\":\"geo\",\"hovertemplate\":\"<b>%{hovertext}</b><br><br>Team=San Antonio Spurs<br>Year=2014<br>Valuation (in millions)=%{marker.size}<br>LAT=%{lat}<br>LONG=%{lon}<extra></extra>\",\"hovertext\":[\"San Antonio Spurs\"],\"lat\":[29],\"legendgroup\":\"San Antonio Spurs\",\"lon\":[-98],\"marker\":{\"color\":\"blue\",\"size\":[6600000000],\"sizemode\":\"area\",\"sizeref\":100000000.0,\"symbol\":\"circle\"},\"mode\":\"markers\",\"name\":\"San Antonio Spurs\",\"showlegend\":true,\"type\":\"scattergeo\"},{\"geo\":\"geo\",\"hovertemplate\":\"<b>%{hovertext}</b><br><br>Team=Washington Wizards<br>Year=2014<br>Valuation (in millions)=%{marker.size}<br>LAT=%{lat}<br>LONG=%{lon}<extra></extra>\",\"hovertext\":[\"Washington Wizards\"],\"lat\":[38],\"legendgroup\":\"Washington Wizards\",\"lon\":[-77],\"marker\":{\"color\":\"red\",\"size\":[4850000000],\"sizemode\":\"area\",\"sizeref\":100000000.0,\"symbol\":\"circle\"},\"mode\":\"markers\",\"name\":\"Washington Wizards\",\"showlegend\":true,\"type\":\"scattergeo\"},{\"geo\":\"geo\",\"hovertemplate\":\"<b>%{hovertext}</b><br><br>Team=Portland Trail Blazers<br>Year=2014<br>Valuation (in millions)=%{marker.size}<br>LAT=%{lat}<br>LONG=%{lon}<extra></extra>\",\"hovertext\":[\"Portland Trail Blazers\"],\"lat\":[45],\"legendgroup\":\"Portland Trail Blazers\",\"lon\":[-122],\"marker\":{\"color\":\"yellow\",\"size\":[5870000000],\"sizemode\":\"area\",\"sizeref\":100000000.0,\"symbol\":\"circle\"},\"mode\":\"markers\",\"name\":\"Portland Trail Blazers\",\"showlegend\":true,\"type\":\"scattergeo\"},{\"geo\":\"geo\",\"hovertemplate\":\"<b>%{hovertext}</b><br><br>Team=Milwaukee Bucks<br>Year=2014<br>Valuation (in millions)=%{marker.size}<br>LAT=%{lat}<br>LONG=%{lon}<extra></extra>\",\"hovertext\":[\"Milwaukee Bucks\"],\"lat\":[43],\"legendgroup\":\"Milwaukee Bucks\",\"lon\":[-87],\"marker\":{\"color\":\"blue\",\"size\":[4050000000],\"sizemode\":\"area\",\"sizeref\":100000000.0,\"symbol\":\"circle\"},\"mode\":\"markers\",\"name\":\"Milwaukee Bucks\",\"showlegend\":true,\"type\":\"scattergeo\"},{\"geo\":\"geo\",\"hovertemplate\":\"<b>%{hovertext}</b><br><br>Team=Sacramento Kings<br>Year=2014<br>Valuation (in millions)=%{marker.size}<br>LAT=%{lat}<br>LONG=%{lon}<extra></extra>\",\"hovertext\":[\"Sacramento Kings\"],\"lat\":[38],\"legendgroup\":\"Sacramento Kings\",\"lon\":[-121],\"marker\":{\"color\":\"red\",\"size\":[5500000000],\"sizemode\":\"area\",\"sizeref\":100000000.0,\"symbol\":\"circle\"},\"mode\":\"markers\",\"name\":\"Sacramento Kings\",\"showlegend\":true,\"type\":\"scattergeo\"},{\"geo\":\"geo\",\"hovertemplate\":\"<b>%{hovertext}</b><br><br>Team=Denver Nuggets<br>Year=2014<br>Valuation (in millions)=%{marker.size}<br>LAT=%{lat}<br>LONG=%{lon}<extra></extra>\",\"hovertext\":[\"Denver Nuggets\"],\"lat\":[39],\"legendgroup\":\"Denver Nuggets\",\"lon\":[-104],\"marker\":{\"color\":\"yellow\",\"size\":[4950000000],\"sizemode\":\"area\",\"sizeref\":100000000.0,\"symbol\":\"circle\"},\"mode\":\"markers\",\"name\":\"Denver Nuggets\",\"showlegend\":true,\"type\":\"scattergeo\"},{\"geo\":\"geo\",\"hovertemplate\":\"<b>%{hovertext}</b><br><br>Team=Cleveland Cavaliers<br>Year=2014<br>Valuation (in millions)=%{marker.size}<br>LAT=%{lat}<br>LONG=%{lon}<extra></extra>\",\"hovertext\":[\"Cleveland Cavaliers\"],\"lat\":[41],\"legendgroup\":\"Cleveland Cavaliers\",\"lon\":[-81],\"marker\":{\"color\":\"blue\",\"size\":[5150000000],\"sizemode\":\"area\",\"sizeref\":100000000.0,\"symbol\":\"circle\"},\"mode\":\"markers\",\"name\":\"Cleveland Cavaliers\",\"showlegend\":true,\"type\":\"scattergeo\"},{\"geo\":\"geo\",\"hovertemplate\":\"<b>%{hovertext}</b><br><br>Team=Detroit Pistons<br>Year=2014<br>Valuation (in millions)=%{marker.size}<br>LAT=%{lat}<br>LONG=%{lon}<extra></extra>\",\"hovertext\":[\"Detroit Pistons\"],\"lat\":[42],\"legendgroup\":\"Detroit Pistons\",\"lon\":[-83],\"marker\":{\"color\":\"red\",\"size\":[4500000000],\"sizemode\":\"area\",\"sizeref\":100000000.0,\"symbol\":\"circle\"},\"mode\":\"markers\",\"name\":\"Detroit Pistons\",\"showlegend\":true,\"type\":\"scattergeo\"},{\"geo\":\"geo\",\"hovertemplate\":\"<b>%{hovertext}</b><br><br>Team=Utah Jazz<br>Year=2014<br>Valuation (in millions)=%{marker.size}<br>LAT=%{lat}<br>LONG=%{lon}<extra></extra>\",\"hovertext\":[\"Utah Jazz\"],\"lat\":[40],\"legendgroup\":\"Utah Jazz\",\"lon\":[-111],\"marker\":{\"color\":\"yellow\",\"size\":[5250000000],\"sizemode\":\"area\",\"sizeref\":100000000.0,\"symbol\":\"circle\"},\"mode\":\"markers\",\"name\":\"Utah Jazz\",\"showlegend\":true,\"type\":\"scattergeo\"},{\"geo\":\"geo\",\"hovertemplate\":\"<b>%{hovertext}</b><br><br>Team=Oklahoma City Thunder<br>Year=2014<br>Valuation (in millions)=%{marker.size}<br>LAT=%{lat}<br>LONG=%{lon}<extra></extra>\",\"hovertext\":[\"Oklahoma City Thunder\"],\"lat\":[35],\"legendgroup\":\"Oklahoma City Thunder\",\"lon\":[-97],\"marker\":{\"color\":\"blue\",\"size\":[5900000000],\"sizemode\":\"area\",\"sizeref\":100000000.0,\"symbol\":\"circle\"},\"mode\":\"markers\",\"name\":\"Oklahoma City Thunder\",\"showlegend\":true,\"type\":\"scattergeo\"},{\"geo\":\"geo\",\"hovertemplate\":\"<b>%{hovertext}</b><br><br>Team=Phoenix Suns<br>Year=2014<br>Valuation (in millions)=%{marker.size}<br>LAT=%{lat}<br>LONG=%{lon}<extra></extra>\",\"hovertext\":[\"Phoenix Suns\"],\"lat\":[33],\"legendgroup\":\"Phoenix Suns\",\"lon\":[-112],\"marker\":{\"color\":\"red\",\"size\":[5650000000],\"sizemode\":\"area\",\"sizeref\":100000000.0,\"symbol\":\"circle\"},\"mode\":\"markers\",\"name\":\"Phoenix Suns\",\"showlegend\":true,\"type\":\"scattergeo\"},{\"geo\":\"geo\",\"hovertemplate\":\"<b>%{hovertext}</b><br><br>Team=Indiana Pacers<br>Year=2014<br>Valuation (in millions)=%{marker.size}<br>LAT=%{lat}<br>LONG=%{lon}<extra></extra>\",\"hovertext\":[\"Indiana Pacers\"],\"lat\":[39],\"legendgroup\":\"Indiana Pacers\",\"lon\":[-86],\"marker\":{\"color\":\"yellow\",\"size\":[4750000000],\"sizemode\":\"area\",\"sizeref\":100000000.0,\"symbol\":\"circle\"},\"mode\":\"markers\",\"name\":\"Indiana Pacers\",\"showlegend\":true,\"type\":\"scattergeo\"},{\"geo\":\"geo\",\"hovertemplate\":\"<b>%{hovertext}</b><br><br>Team=Atlanta Hawks<br>Year=2014<br>Valuation (in millions)=%{marker.size}<br>LAT=%{lat}<br>LONG=%{lon}<extra></extra>\",\"hovertext\":[\"Atlanta Hawks\"],\"lat\":[33],\"legendgroup\":\"Atlanta Hawks\",\"lon\":[-84],\"marker\":{\"color\":\"blue\",\"size\":[4250000000],\"sizemode\":\"area\",\"sizeref\":100000000.0,\"symbol\":\"circle\"},\"mode\":\"markers\",\"name\":\"Atlanta Hawks\",\"showlegend\":true,\"type\":\"scattergeo\"},{\"geo\":\"geo\",\"hovertemplate\":\"<b>%{hovertext}</b><br><br>Team=Orlando Magic<br>Year=2014<br>Valuation (in millions)=%{marker.size}<br>LAT=%{lat}<br>LONG=%{lon}<extra></extra>\",\"hovertext\":[\"Orlando Magic\"],\"lat\":[28],\"legendgroup\":\"Orlando Magic\",\"lon\":[-81],\"marker\":{\"color\":\"red\",\"size\":[5600000000],\"sizemode\":\"area\",\"sizeref\":100000000.0,\"symbol\":\"circle\"},\"mode\":\"markers\",\"name\":\"Orlando Magic\",\"showlegend\":true,\"type\":\"scattergeo\"},{\"geo\":\"geo\",\"hovertemplate\":\"<b>%{hovertext}</b><br><br>Team=Charlotte Hornets<br>Year=2014<br>Valuation (in millions)=%{marker.size}<br>LAT=%{lat}<br>LONG=%{lon}<extra></extra>\",\"hovertext\":[\"Charlotte Hornets\"],\"lat\":[35],\"legendgroup\":\"Charlotte Hornets\",\"lon\":[-80],\"marker\":{\"color\":\"yellow\",\"size\":[4100000000],\"sizemode\":\"area\",\"sizeref\":100000000.0,\"symbol\":\"circle\"},\"mode\":\"markers\",\"name\":\"Charlotte Hornets\",\"showlegend\":true,\"type\":\"scattergeo\"},{\"geo\":\"geo\",\"hovertemplate\":\"<b>%{hovertext}</b><br><br>Team=Minnesota Timberwolves<br>Year=2014<br>Valuation (in millions)=%{marker.size}<br>LAT=%{lat}<br>LONG=%{lon}<extra></extra>\",\"hovertext\":[\"Minnesota Timberwolves\"],\"lat\":[44],\"legendgroup\":\"Minnesota Timberwolves\",\"lon\":[-93],\"marker\":{\"color\":\"blue\",\"size\":[4300000000],\"sizemode\":\"area\",\"sizeref\":100000000.0,\"symbol\":\"circle\"},\"mode\":\"markers\",\"name\":\"Minnesota Timberwolves\",\"showlegend\":true,\"type\":\"scattergeo\"},{\"geo\":\"geo\",\"hovertemplate\":\"<b>%{hovertext}</b><br><br>Team=Memphis Grizzlies<br>Year=2014<br>Valuation (in millions)=%{marker.size}<br>LAT=%{lat}<br>LONG=%{lon}<extra></extra>\",\"hovertext\":[\"Memphis Grizzlies\"],\"lat\":[35],\"legendgroup\":\"Memphis Grizzlies\",\"lon\":[-90],\"marker\":{\"color\":\"red\",\"size\":[4530000000],\"sizemode\":\"area\",\"sizeref\":100000000.0,\"symbol\":\"circle\"},\"mode\":\"markers\",\"name\":\"Memphis Grizzlies\",\"showlegend\":true,\"type\":\"scattergeo\"},{\"geo\":\"geo\",\"hovertemplate\":\"<b>%{hovertext}</b><br><br>Team=New Orleans Pelicans<br>Year=2014<br>Valuation (in millions)=%{marker.size}<br>LAT=%{lat}<br>LONG=%{lon}<extra></extra>\",\"hovertext\":[\"New Orleans Pelicans\"],\"lat\":[29],\"legendgroup\":\"New Orleans Pelicans\",\"lon\":[-90],\"marker\":{\"color\":\"yellow\",\"size\":[4200000000],\"sizemode\":\"area\",\"sizeref\":100000000.0,\"symbol\":\"circle\"},\"mode\":\"markers\",\"name\":\"New Orleans Pelicans\",\"showlegend\":true,\"type\":\"scattergeo\"}],\"name\":\"2014\"},{\"data\":[{\"geo\":\"geo\",\"hovertemplate\":\"<b>%{hovertext}</b><br><br>Team=New York Knicks<br>Year=2015<br>Valuation (in millions)=%{marker.size}<br>LAT=%{lat}<br>LONG=%{lon}<extra></extra>\",\"hovertext\":[\"New York Knicks\"],\"lat\":[40],\"legendgroup\":\"New York Knicks\",\"lon\":[-73],\"marker\":{\"color\":\"blue\",\"size\":[25000000000],\"sizemode\":\"area\",\"sizeref\":100000000.0,\"symbol\":\"circle\"},\"mode\":\"markers\",\"name\":\"New York Knicks\",\"showlegend\":true,\"type\":\"scattergeo\"},{\"geo\":\"geo\",\"hovertemplate\":\"<b>%{hovertext}</b><br><br>Team=Golden State Warriors<br>Year=2015<br>Valuation (in millions)=%{marker.size}<br>LAT=%{lat}<br>LONG=%{lon}<extra></extra>\",\"hovertext\":[\"Golden State Warriors\"],\"lat\":[37],\"legendgroup\":\"Golden State Warriors\",\"lon\":[-122],\"marker\":{\"color\":\"red\",\"size\":[13000000000],\"sizemode\":\"area\",\"sizeref\":100000000.0,\"symbol\":\"circle\"},\"mode\":\"markers\",\"name\":\"Golden State Warriors\",\"showlegend\":true,\"type\":\"scattergeo\"},{\"geo\":\"geo\",\"hovertemplate\":\"<b>%{hovertext}</b><br><br>Team=Los Angeles Lakers<br>Year=2015<br>Valuation (in millions)=%{marker.size}<br>LAT=%{lat}<br>LONG=%{lon}<extra></extra>\",\"hovertext\":[\"Los Angeles Lakers\"],\"lat\":[34],\"legendgroup\":\"Los Angeles Lakers\",\"lon\":[-118],\"marker\":{\"color\":\"yellow\",\"size\":[26000000000],\"sizemode\":\"area\",\"sizeref\":100000000.0,\"symbol\":\"circle\"},\"mode\":\"markers\",\"name\":\"Los Angeles Lakers\",\"showlegend\":true,\"type\":\"scattergeo\"},{\"geo\":\"geo\",\"hovertemplate\":\"<b>%{hovertext}</b><br><br>Team=Brooklyn Nets<br>Year=2015<br>Valuation (in millions)=%{marker.size}<br>LAT=%{lat}<br>LONG=%{lon}<extra></extra>\",\"hovertext\":[\"Brooklyn Nets\"],\"lat\":[40],\"legendgroup\":\"Brooklyn Nets\",\"lon\":[-73],\"marker\":{\"color\":\"blue\",\"size\":[15000000000],\"sizemode\":\"area\",\"sizeref\":100000000.0,\"symbol\":\"circle\"},\"mode\":\"markers\",\"name\":\"Brooklyn Nets\",\"showlegend\":true,\"type\":\"scattergeo\"},{\"geo\":\"geo\",\"hovertemplate\":\"<b>%{hovertext}</b><br><br>Team=Boston Celtics<br>Year=2015<br>Valuation (in millions)=%{marker.size}<br>LAT=%{lat}<br>LONG=%{lon}<extra></extra>\",\"hovertext\":[\"Boston Celtics\"],\"lat\":[42],\"legendgroup\":\"Boston Celtics\",\"lon\":[-71],\"marker\":{\"color\":\"red\",\"size\":[17000000000],\"sizemode\":\"area\",\"sizeref\":100000000.0,\"symbol\":\"circle\"},\"mode\":\"markers\",\"name\":\"Boston Celtics\",\"showlegend\":true,\"type\":\"scattergeo\"},{\"geo\":\"geo\",\"hovertemplate\":\"<b>%{hovertext}</b><br><br>Team=Chicago Bulls<br>Year=2015<br>Valuation (in millions)=%{marker.size}<br>LAT=%{lat}<br>LONG=%{lon}<extra></extra>\",\"hovertext\":[\"Chicago Bulls\"],\"lat\":[41],\"legendgroup\":\"Chicago Bulls\",\"lon\":[-87],\"marker\":{\"color\":\"yellow\",\"size\":[20000000000],\"sizemode\":\"area\",\"sizeref\":100000000.0,\"symbol\":\"circle\"},\"mode\":\"markers\",\"name\":\"Chicago Bulls\",\"showlegend\":true,\"type\":\"scattergeo\"},{\"geo\":\"geo\",\"hovertemplate\":\"<b>%{hovertext}</b><br><br>Team=Houston Rockets<br>Year=2015<br>Valuation (in millions)=%{marker.size}<br>LAT=%{lat}<br>LONG=%{lon}<extra></extra>\",\"hovertext\":[\"Houston Rockets\"],\"lat\":[29],\"legendgroup\":\"Houston Rockets\",\"lon\":[-95],\"marker\":{\"color\":\"blue\",\"size\":[12500000000],\"sizemode\":\"area\",\"sizeref\":100000000.0,\"symbol\":\"circle\"},\"mode\":\"markers\",\"name\":\"Houston Rockets\",\"showlegend\":true,\"type\":\"scattergeo\"},{\"geo\":\"geo\",\"hovertemplate\":\"<b>%{hovertext}</b><br><br>Team=Los Angeles Clippers<br>Year=2015<br>Valuation (in millions)=%{marker.size}<br>LAT=%{lat}<br>LONG=%{lon}<extra></extra>\",\"hovertext\":[\"Los Angeles Clippers\"],\"lat\":[34],\"legendgroup\":\"Los Angeles Clippers\",\"lon\":[-118],\"marker\":{\"color\":\"red\",\"size\":[16000000000],\"sizemode\":\"area\",\"sizeref\":100000000.0,\"symbol\":\"circle\"},\"mode\":\"markers\",\"name\":\"Los Angeles Clippers\",\"showlegend\":true,\"type\":\"scattergeo\"},{\"geo\":\"geo\",\"hovertemplate\":\"<b>%{hovertext}</b><br><br>Team=Dallas Mavericks<br>Year=2015<br>Valuation (in millions)=%{marker.size}<br>LAT=%{lat}<br>LONG=%{lon}<extra></extra>\",\"hovertext\":[\"Dallas Mavericks\"],\"lat\":[32],\"legendgroup\":\"Dallas Mavericks\",\"lon\":[-96],\"marker\":{\"color\":\"yellow\",\"size\":[11500000000],\"sizemode\":\"area\",\"sizeref\":100000000.0,\"symbol\":\"circle\"},\"mode\":\"markers\",\"name\":\"Dallas Mavericks\",\"showlegend\":true,\"type\":\"scattergeo\"},{\"geo\":\"geo\",\"hovertemplate\":\"<b>%{hovertext}</b><br><br>Team=Toronto Raptors<br>Year=2015<br>Valuation (in millions)=%{marker.size}<br>LAT=%{lat}<br>LONG=%{lon}<extra></extra>\",\"hovertext\":[\"Toronto Raptors\"],\"lat\":[43],\"legendgroup\":\"Toronto Raptors\",\"lon\":[-79],\"marker\":{\"color\":\"blue\",\"size\":[9200000000],\"sizemode\":\"area\",\"sizeref\":100000000.0,\"symbol\":\"circle\"},\"mode\":\"markers\",\"name\":\"Toronto Raptors\",\"showlegend\":true,\"type\":\"scattergeo\"},{\"geo\":\"geo\",\"hovertemplate\":\"<b>%{hovertext}</b><br><br>Team=Philadelphia 76ers<br>Year=2015<br>Valuation (in millions)=%{marker.size}<br>LAT=%{lat}<br>LONG=%{lon}<extra></extra>\",\"hovertext\":[\"Philadelphia 76ers\"],\"lat\":[39],\"legendgroup\":\"Philadelphia 76ers\",\"lon\":[-75],\"marker\":{\"color\":\"red\",\"size\":[7000000000],\"sizemode\":\"area\",\"sizeref\":100000000.0,\"symbol\":\"circle\"},\"mode\":\"markers\",\"name\":\"Philadelphia 76ers\",\"showlegend\":true,\"type\":\"scattergeo\"},{\"geo\":\"geo\",\"hovertemplate\":\"<b>%{hovertext}</b><br><br>Team=Miami Heat<br>Year=2015<br>Valuation (in millions)=%{marker.size}<br>LAT=%{lat}<br>LONG=%{lon}<extra></extra>\",\"hovertext\":[\"Miami Heat\"],\"lat\":[25],\"legendgroup\":\"Miami Heat\",\"lon\":[-80],\"marker\":{\"color\":\"yellow\",\"size\":[11750000000],\"sizemode\":\"area\",\"sizeref\":100000000.0,\"symbol\":\"circle\"},\"mode\":\"markers\",\"name\":\"Miami Heat\",\"showlegend\":true,\"type\":\"scattergeo\"},{\"geo\":\"geo\",\"hovertemplate\":\"<b>%{hovertext}</b><br><br>Team=San Antonio Spurs<br>Year=2015<br>Valuation (in millions)=%{marker.size}<br>LAT=%{lat}<br>LONG=%{lon}<extra></extra>\",\"hovertext\":[\"San Antonio Spurs\"],\"lat\":[29],\"legendgroup\":\"San Antonio Spurs\",\"lon\":[-98],\"marker\":{\"color\":\"blue\",\"size\":[10000000000],\"sizemode\":\"area\",\"sizeref\":100000000.0,\"symbol\":\"circle\"},\"mode\":\"markers\",\"name\":\"San Antonio Spurs\",\"showlegend\":true,\"type\":\"scattergeo\"},{\"geo\":\"geo\",\"hovertemplate\":\"<b>%{hovertext}</b><br><br>Team=Washington Wizards<br>Year=2015<br>Valuation (in millions)=%{marker.size}<br>LAT=%{lat}<br>LONG=%{lon}<extra></extra>\",\"hovertext\":[\"Washington Wizards\"],\"lat\":[38],\"legendgroup\":\"Washington Wizards\",\"lon\":[-77],\"marker\":{\"color\":\"red\",\"size\":[9000000000],\"sizemode\":\"area\",\"sizeref\":100000000.0,\"symbol\":\"circle\"},\"mode\":\"markers\",\"name\":\"Washington Wizards\",\"showlegend\":true,\"type\":\"scattergeo\"},{\"geo\":\"geo\",\"hovertemplate\":\"<b>%{hovertext}</b><br><br>Team=Portland Trail Blazers<br>Year=2015<br>Valuation (in millions)=%{marker.size}<br>LAT=%{lat}<br>LONG=%{lon}<extra></extra>\",\"hovertext\":[\"Portland Trail Blazers\"],\"lat\":[45],\"legendgroup\":\"Portland Trail Blazers\",\"lon\":[-122],\"marker\":{\"color\":\"yellow\",\"size\":[9400000000],\"sizemode\":\"area\",\"sizeref\":100000000.0,\"symbol\":\"circle\"},\"mode\":\"markers\",\"name\":\"Portland Trail Blazers\",\"showlegend\":true,\"type\":\"scattergeo\"},{\"geo\":\"geo\",\"hovertemplate\":\"<b>%{hovertext}</b><br><br>Team=Milwaukee Bucks<br>Year=2015<br>Valuation (in millions)=%{marker.size}<br>LAT=%{lat}<br>LONG=%{lon}<extra></extra>\",\"hovertext\":[\"Milwaukee Bucks\"],\"lat\":[43],\"legendgroup\":\"Milwaukee Bucks\",\"lon\":[-87],\"marker\":{\"color\":\"blue\",\"size\":[6000000000],\"sizemode\":\"area\",\"sizeref\":100000000.0,\"symbol\":\"circle\"},\"mode\":\"markers\",\"name\":\"Milwaukee Bucks\",\"showlegend\":true,\"type\":\"scattergeo\"},{\"geo\":\"geo\",\"hovertemplate\":\"<b>%{hovertext}</b><br><br>Team=Sacramento Kings<br>Year=2015<br>Valuation (in millions)=%{marker.size}<br>LAT=%{lat}<br>LONG=%{lon}<extra></extra>\",\"hovertext\":[\"Sacramento Kings\"],\"lat\":[38],\"legendgroup\":\"Sacramento Kings\",\"lon\":[-121],\"marker\":{\"color\":\"red\",\"size\":[8000000000],\"sizemode\":\"area\",\"sizeref\":100000000.0,\"symbol\":\"circle\"},\"mode\":\"markers\",\"name\":\"Sacramento Kings\",\"showlegend\":true,\"type\":\"scattergeo\"},{\"geo\":\"geo\",\"hovertemplate\":\"<b>%{hovertext}</b><br><br>Team=Denver Nuggets<br>Year=2015<br>Valuation (in millions)=%{marker.size}<br>LAT=%{lat}<br>LONG=%{lon}<extra></extra>\",\"hovertext\":[\"Denver Nuggets\"],\"lat\":[39],\"legendgroup\":\"Denver Nuggets\",\"lon\":[-104],\"marker\":{\"color\":\"yellow\",\"size\":[8550000000],\"sizemode\":\"area\",\"sizeref\":100000000.0,\"symbol\":\"circle\"},\"mode\":\"markers\",\"name\":\"Denver Nuggets\",\"showlegend\":true,\"type\":\"scattergeo\"},{\"geo\":\"geo\",\"hovertemplate\":\"<b>%{hovertext}</b><br><br>Team=Cleveland Cavaliers<br>Year=2015<br>Valuation (in millions)=%{marker.size}<br>LAT=%{lat}<br>LONG=%{lon}<extra></extra>\",\"hovertext\":[\"Cleveland Cavaliers\"],\"lat\":[41],\"legendgroup\":\"Cleveland Cavaliers\",\"lon\":[-81],\"marker\":{\"color\":\"blue\",\"size\":[9150000000],\"sizemode\":\"area\",\"sizeref\":100000000.0,\"symbol\":\"circle\"},\"mode\":\"markers\",\"name\":\"Cleveland Cavaliers\",\"showlegend\":true,\"type\":\"scattergeo\"},{\"geo\":\"geo\",\"hovertemplate\":\"<b>%{hovertext}</b><br><br>Team=Detroit Pistons<br>Year=2015<br>Valuation (in millions)=%{marker.size}<br>LAT=%{lat}<br>LONG=%{lon}<extra></extra>\",\"hovertext\":[\"Detroit Pistons\"],\"lat\":[42],\"legendgroup\":\"Detroit Pistons\",\"lon\":[-83],\"marker\":{\"color\":\"red\",\"size\":[8100000000],\"sizemode\":\"area\",\"sizeref\":100000000.0,\"symbol\":\"circle\"},\"mode\":\"markers\",\"name\":\"Detroit Pistons\",\"showlegend\":true,\"type\":\"scattergeo\"},{\"geo\":\"geo\",\"hovertemplate\":\"<b>%{hovertext}</b><br><br>Team=Utah Jazz<br>Year=2015<br>Valuation (in millions)=%{marker.size}<br>LAT=%{lat}<br>LONG=%{lon}<extra></extra>\",\"hovertext\":[\"Utah Jazz\"],\"lat\":[40],\"legendgroup\":\"Utah Jazz\",\"lon\":[-111],\"marker\":{\"color\":\"yellow\",\"size\":[8500000000],\"sizemode\":\"area\",\"sizeref\":100000000.0,\"symbol\":\"circle\"},\"mode\":\"markers\",\"name\":\"Utah Jazz\",\"showlegend\":true,\"type\":\"scattergeo\"},{\"geo\":\"geo\",\"hovertemplate\":\"<b>%{hovertext}</b><br><br>Team=Oklahoma City Thunder<br>Year=2015<br>Valuation (in millions)=%{marker.size}<br>LAT=%{lat}<br>LONG=%{lon}<extra></extra>\",\"hovertext\":[\"Oklahoma City Thunder\"],\"lat\":[35],\"legendgroup\":\"Oklahoma City Thunder\",\"lon\":[-97],\"marker\":{\"color\":\"blue\",\"size\":[9300000000],\"sizemode\":\"area\",\"sizeref\":100000000.0,\"symbol\":\"circle\"},\"mode\":\"markers\",\"name\":\"Oklahoma City Thunder\",\"showlegend\":true,\"type\":\"scattergeo\"},{\"geo\":\"geo\",\"hovertemplate\":\"<b>%{hovertext}</b><br><br>Team=Phoenix Suns<br>Year=2015<br>Valuation (in millions)=%{marker.size}<br>LAT=%{lat}<br>LONG=%{lon}<extra></extra>\",\"hovertext\":[\"Phoenix Suns\"],\"lat\":[33],\"legendgroup\":\"Phoenix Suns\",\"lon\":[-112],\"marker\":{\"color\":\"red\",\"size\":[9100000000],\"sizemode\":\"area\",\"sizeref\":100000000.0,\"symbol\":\"circle\"},\"mode\":\"markers\",\"name\":\"Phoenix Suns\",\"showlegend\":true,\"type\":\"scattergeo\"},{\"geo\":\"geo\",\"hovertemplate\":\"<b>%{hovertext}</b><br><br>Team=Indiana Pacers<br>Year=2015<br>Valuation (in millions)=%{marker.size}<br>LAT=%{lat}<br>LONG=%{lon}<extra></extra>\",\"hovertext\":[\"Indiana Pacers\"],\"lat\":[39],\"legendgroup\":\"Indiana Pacers\",\"lon\":[-86],\"marker\":{\"color\":\"yellow\",\"size\":[8300000000],\"sizemode\":\"area\",\"sizeref\":100000000.0,\"symbol\":\"circle\"},\"mode\":\"markers\",\"name\":\"Indiana Pacers\",\"showlegend\":true,\"type\":\"scattergeo\"},{\"geo\":\"geo\",\"hovertemplate\":\"<b>%{hovertext}</b><br><br>Team=Atlanta Hawks<br>Year=2015<br>Valuation (in millions)=%{marker.size}<br>LAT=%{lat}<br>LONG=%{lon}<extra></extra>\",\"hovertext\":[\"Atlanta Hawks\"],\"lat\":[33],\"legendgroup\":\"Atlanta Hawks\",\"lon\":[-84],\"marker\":{\"color\":\"blue\",\"size\":[8250000000],\"sizemode\":\"area\",\"sizeref\":100000000.0,\"symbol\":\"circle\"},\"mode\":\"markers\",\"name\":\"Atlanta Hawks\",\"showlegend\":true,\"type\":\"scattergeo\"},{\"geo\":\"geo\",\"hovertemplate\":\"<b>%{hovertext}</b><br><br>Team=Orlando Magic<br>Year=2015<br>Valuation (in millions)=%{marker.size}<br>LAT=%{lat}<br>LONG=%{lon}<extra></extra>\",\"hovertext\":[\"Orlando Magic\"],\"lat\":[28],\"legendgroup\":\"Orlando Magic\",\"lon\":[-81],\"marker\":{\"color\":\"red\",\"size\":[8750000000],\"sizemode\":\"area\",\"sizeref\":100000000.0,\"symbol\":\"circle\"},\"mode\":\"markers\",\"name\":\"Orlando Magic\",\"showlegend\":true,\"type\":\"scattergeo\"},{\"geo\":\"geo\",\"hovertemplate\":\"<b>%{hovertext}</b><br><br>Team=Charlotte Hornets<br>Year=2015<br>Valuation (in millions)=%{marker.size}<br>LAT=%{lat}<br>LONG=%{lon}<extra></extra>\",\"hovertext\":[\"Charlotte Hornets\"],\"lat\":[35],\"legendgroup\":\"Charlotte Hornets\",\"lon\":[-80],\"marker\":{\"color\":\"yellow\",\"size\":[7250000000],\"sizemode\":\"area\",\"sizeref\":100000000.0,\"symbol\":\"circle\"},\"mode\":\"markers\",\"name\":\"Charlotte Hornets\",\"showlegend\":true,\"type\":\"scattergeo\"},{\"geo\":\"geo\",\"hovertemplate\":\"<b>%{hovertext}</b><br><br>Team=Minnesota Timberwolves<br>Year=2015<br>Valuation (in millions)=%{marker.size}<br>LAT=%{lat}<br>LONG=%{lon}<extra></extra>\",\"hovertext\":[\"Minnesota Timberwolves\"],\"lat\":[44],\"legendgroup\":\"Minnesota Timberwolves\",\"lon\":[-93],\"marker\":{\"color\":\"blue\",\"size\":[6250000000],\"sizemode\":\"area\",\"sizeref\":100000000.0,\"symbol\":\"circle\"},\"mode\":\"markers\",\"name\":\"Minnesota Timberwolves\",\"showlegend\":true,\"type\":\"scattergeo\"},{\"geo\":\"geo\",\"hovertemplate\":\"<b>%{hovertext}</b><br><br>Team=Memphis Grizzlies<br>Year=2015<br>Valuation (in millions)=%{marker.size}<br>LAT=%{lat}<br>LONG=%{lon}<extra></extra>\",\"hovertext\":[\"Memphis Grizzlies\"],\"lat\":[35],\"legendgroup\":\"Memphis Grizzlies\",\"lon\":[-90],\"marker\":{\"color\":\"red\",\"size\":[7500000000],\"sizemode\":\"area\",\"sizeref\":100000000.0,\"symbol\":\"circle\"},\"mode\":\"markers\",\"name\":\"Memphis Grizzlies\",\"showlegend\":true,\"type\":\"scattergeo\"},{\"geo\":\"geo\",\"hovertemplate\":\"<b>%{hovertext}</b><br><br>Team=New Orleans Pelicans<br>Year=2015<br>Valuation (in millions)=%{marker.size}<br>LAT=%{lat}<br>LONG=%{lon}<extra></extra>\",\"hovertext\":[\"New Orleans Pelicans\"],\"lat\":[29],\"legendgroup\":\"New Orleans Pelicans\",\"lon\":[-90],\"marker\":{\"color\":\"yellow\",\"size\":[6500000000],\"sizemode\":\"area\",\"sizeref\":100000000.0,\"symbol\":\"circle\"},\"mode\":\"markers\",\"name\":\"New Orleans Pelicans\",\"showlegend\":true,\"type\":\"scattergeo\"}],\"name\":\"2015\"},{\"data\":[{\"geo\":\"geo\",\"hovertemplate\":\"<b>%{hovertext}</b><br><br>Team=New York Knicks<br>Year=2016<br>Valuation (in millions)=%{marker.size}<br>LAT=%{lat}<br>LONG=%{lon}<extra></extra>\",\"hovertext\":[\"New York Knicks\"],\"lat\":[40],\"legendgroup\":\"New York Knicks\",\"lon\":[-73],\"marker\":{\"color\":\"blue\",\"size\":[30000000000],\"sizemode\":\"area\",\"sizeref\":100000000.0,\"symbol\":\"circle\"},\"mode\":\"markers\",\"name\":\"New York Knicks\",\"showlegend\":true,\"type\":\"scattergeo\"},{\"geo\":\"geo\",\"hovertemplate\":\"<b>%{hovertext}</b><br><br>Team=Golden State Warriors<br>Year=2016<br>Valuation (in millions)=%{marker.size}<br>LAT=%{lat}<br>LONG=%{lon}<extra></extra>\",\"hovertext\":[\"Golden State Warriors\"],\"lat\":[37],\"legendgroup\":\"Golden State Warriors\",\"lon\":[-122],\"marker\":{\"color\":\"red\",\"size\":[19000000000],\"sizemode\":\"area\",\"sizeref\":100000000.0,\"symbol\":\"circle\"},\"mode\":\"markers\",\"name\":\"Golden State Warriors\",\"showlegend\":true,\"type\":\"scattergeo\"},{\"geo\":\"geo\",\"hovertemplate\":\"<b>%{hovertext}</b><br><br>Team=Los Angeles Lakers<br>Year=2016<br>Valuation (in millions)=%{marker.size}<br>LAT=%{lat}<br>LONG=%{lon}<extra></extra>\",\"hovertext\":[\"Los Angeles Lakers\"],\"lat\":[34],\"legendgroup\":\"Los Angeles Lakers\",\"lon\":[-118],\"marker\":{\"color\":\"yellow\",\"size\":[27000000000],\"sizemode\":\"area\",\"sizeref\":100000000.0,\"symbol\":\"circle\"},\"mode\":\"markers\",\"name\":\"Los Angeles Lakers\",\"showlegend\":true,\"type\":\"scattergeo\"},{\"geo\":\"geo\",\"hovertemplate\":\"<b>%{hovertext}</b><br><br>Team=Brooklyn Nets<br>Year=2016<br>Valuation (in millions)=%{marker.size}<br>LAT=%{lat}<br>LONG=%{lon}<extra></extra>\",\"hovertext\":[\"Brooklyn Nets\"],\"lat\":[40],\"legendgroup\":\"Brooklyn Nets\",\"lon\":[-73],\"marker\":{\"color\":\"blue\",\"size\":[17000000000],\"sizemode\":\"area\",\"sizeref\":100000000.0,\"symbol\":\"circle\"},\"mode\":\"markers\",\"name\":\"Brooklyn Nets\",\"showlegend\":true,\"type\":\"scattergeo\"},{\"geo\":\"geo\",\"hovertemplate\":\"<b>%{hovertext}</b><br><br>Team=Boston Celtics<br>Year=2016<br>Valuation (in millions)=%{marker.size}<br>LAT=%{lat}<br>LONG=%{lon}<extra></extra>\",\"hovertext\":[\"Boston Celtics\"],\"lat\":[42],\"legendgroup\":\"Boston Celtics\",\"lon\":[-71],\"marker\":{\"color\":\"red\",\"size\":[21000000000],\"sizemode\":\"area\",\"sizeref\":100000000.0,\"symbol\":\"circle\"},\"mode\":\"markers\",\"name\":\"Boston Celtics\",\"showlegend\":true,\"type\":\"scattergeo\"},{\"geo\":\"geo\",\"hovertemplate\":\"<b>%{hovertext}</b><br><br>Team=Chicago Bulls<br>Year=2016<br>Valuation (in millions)=%{marker.size}<br>LAT=%{lat}<br>LONG=%{lon}<extra></extra>\",\"hovertext\":[\"Chicago Bulls\"],\"lat\":[41],\"legendgroup\":\"Chicago Bulls\",\"lon\":[-87],\"marker\":{\"color\":\"yellow\",\"size\":[23000000000],\"sizemode\":\"area\",\"sizeref\":100000000.0,\"symbol\":\"circle\"},\"mode\":\"markers\",\"name\":\"Chicago Bulls\",\"showlegend\":true,\"type\":\"scattergeo\"},{\"geo\":\"geo\",\"hovertemplate\":\"<b>%{hovertext}</b><br><br>Team=Houston Rockets<br>Year=2016<br>Valuation (in millions)=%{marker.size}<br>LAT=%{lat}<br>LONG=%{lon}<extra></extra>\",\"hovertext\":[\"Houston Rockets\"],\"lat\":[29],\"legendgroup\":\"Houston Rockets\",\"lon\":[-95],\"marker\":{\"color\":\"blue\",\"size\":[15000000000],\"sizemode\":\"area\",\"sizeref\":100000000.0,\"symbol\":\"circle\"},\"mode\":\"markers\",\"name\":\"Houston Rockets\",\"showlegend\":true,\"type\":\"scattergeo\"},{\"geo\":\"geo\",\"hovertemplate\":\"<b>%{hovertext}</b><br><br>Team=Los Angeles Clippers<br>Year=2016<br>Valuation (in millions)=%{marker.size}<br>LAT=%{lat}<br>LONG=%{lon}<extra></extra>\",\"hovertext\":[\"Los Angeles Clippers\"],\"lat\":[34],\"legendgroup\":\"Los Angeles Clippers\",\"lon\":[-118],\"marker\":{\"color\":\"red\",\"size\":[20000000000],\"sizemode\":\"area\",\"sizeref\":100000000.0,\"symbol\":\"circle\"},\"mode\":\"markers\",\"name\":\"Los Angeles Clippers\",\"showlegend\":true,\"type\":\"scattergeo\"},{\"geo\":\"geo\",\"hovertemplate\":\"<b>%{hovertext}</b><br><br>Team=Dallas Mavericks<br>Year=2016<br>Valuation (in millions)=%{marker.size}<br>LAT=%{lat}<br>LONG=%{lon}<extra></extra>\",\"hovertext\":[\"Dallas Mavericks\"],\"lat\":[32],\"legendgroup\":\"Dallas Mavericks\",\"lon\":[-96],\"marker\":{\"color\":\"yellow\",\"size\":[14000000000],\"sizemode\":\"area\",\"sizeref\":100000000.0,\"symbol\":\"circle\"},\"mode\":\"markers\",\"name\":\"Dallas Mavericks\",\"showlegend\":true,\"type\":\"scattergeo\"},{\"geo\":\"geo\",\"hovertemplate\":\"<b>%{hovertext}</b><br><br>Team=Toronto Raptors<br>Year=2016<br>Valuation (in millions)=%{marker.size}<br>LAT=%{lat}<br>LONG=%{lon}<extra></extra>\",\"hovertext\":[\"Toronto Raptors\"],\"lat\":[43],\"legendgroup\":\"Toronto Raptors\",\"lon\":[-79],\"marker\":{\"color\":\"blue\",\"size\":[9800000000],\"sizemode\":\"area\",\"sizeref\":100000000.0,\"symbol\":\"circle\"},\"mode\":\"markers\",\"name\":\"Toronto Raptors\",\"showlegend\":true,\"type\":\"scattergeo\"},{\"geo\":\"geo\",\"hovertemplate\":\"<b>%{hovertext}</b><br><br>Team=Philadelphia 76ers<br>Year=2016<br>Valuation (in millions)=%{marker.size}<br>LAT=%{lat}<br>LONG=%{lon}<extra></extra>\",\"hovertext\":[\"Philadelphia 76ers\"],\"lat\":[39],\"legendgroup\":\"Philadelphia 76ers\",\"lon\":[-75],\"marker\":{\"color\":\"red\",\"size\":[7000000000],\"sizemode\":\"area\",\"sizeref\":100000000.0,\"symbol\":\"circle\"},\"mode\":\"markers\",\"name\":\"Philadelphia 76ers\",\"showlegend\":true,\"type\":\"scattergeo\"},{\"geo\":\"geo\",\"hovertemplate\":\"<b>%{hovertext}</b><br><br>Team=Miami Heat<br>Year=2016<br>Valuation (in millions)=%{marker.size}<br>LAT=%{lat}<br>LONG=%{lon}<extra></extra>\",\"hovertext\":[\"Miami Heat\"],\"lat\":[25],\"legendgroup\":\"Miami Heat\",\"lon\":[-80],\"marker\":{\"color\":\"yellow\",\"size\":[13000000000],\"sizemode\":\"area\",\"sizeref\":100000000.0,\"symbol\":\"circle\"},\"mode\":\"markers\",\"name\":\"Miami Heat\",\"showlegend\":true,\"type\":\"scattergeo\"},{\"geo\":\"geo\",\"hovertemplate\":\"<b>%{hovertext}</b><br><br>Team=San Antonio Spurs<br>Year=2016<br>Valuation (in millions)=%{marker.size}<br>LAT=%{lat}<br>LONG=%{lon}<extra></extra>\",\"hovertext\":[\"San Antonio Spurs\"],\"lat\":[29],\"legendgroup\":\"San Antonio Spurs\",\"lon\":[-98],\"marker\":{\"color\":\"blue\",\"size\":[11500000000],\"sizemode\":\"area\",\"sizeref\":100000000.0,\"symbol\":\"circle\"},\"mode\":\"markers\",\"name\":\"San Antonio Spurs\",\"showlegend\":true,\"type\":\"scattergeo\"},{\"geo\":\"geo\",\"hovertemplate\":\"<b>%{hovertext}</b><br><br>Team=Washington Wizards<br>Year=2016<br>Valuation (in millions)=%{marker.size}<br>LAT=%{lat}<br>LONG=%{lon}<extra></extra>\",\"hovertext\":[\"Washington Wizards\"],\"lat\":[38],\"legendgroup\":\"Washington Wizards\",\"lon\":[-77],\"marker\":{\"color\":\"red\",\"size\":[9600000000],\"sizemode\":\"area\",\"sizeref\":100000000.0,\"symbol\":\"circle\"},\"mode\":\"markers\",\"name\":\"Washington Wizards\",\"showlegend\":true,\"type\":\"scattergeo\"},{\"geo\":\"geo\",\"hovertemplate\":\"<b>%{hovertext}</b><br><br>Team=Portland Trail Blazers<br>Year=2016<br>Valuation (in millions)=%{marker.size}<br>LAT=%{lat}<br>LONG=%{lon}<extra></extra>\",\"hovertext\":[\"Portland Trail Blazers\"],\"lat\":[45],\"legendgroup\":\"Portland Trail Blazers\",\"lon\":[-122],\"marker\":{\"color\":\"yellow\",\"size\":[9750000000],\"sizemode\":\"area\",\"sizeref\":100000000.0,\"symbol\":\"circle\"},\"mode\":\"markers\",\"name\":\"Portland Trail Blazers\",\"showlegend\":true,\"type\":\"scattergeo\"},{\"geo\":\"geo\",\"hovertemplate\":\"<b>%{hovertext}</b><br><br>Team=Milwaukee Bucks<br>Year=2016<br>Valuation (in millions)=%{marker.size}<br>LAT=%{lat}<br>LONG=%{lon}<extra></extra>\",\"hovertext\":[\"Milwaukee Bucks\"],\"lat\":[43],\"legendgroup\":\"Milwaukee Bucks\",\"lon\":[-87],\"marker\":{\"color\":\"blue\",\"size\":[6750000000],\"sizemode\":\"area\",\"sizeref\":100000000.0,\"symbol\":\"circle\"},\"mode\":\"markers\",\"name\":\"Milwaukee Bucks\",\"showlegend\":true,\"type\":\"scattergeo\"},{\"geo\":\"geo\",\"hovertemplate\":\"<b>%{hovertext}</b><br><br>Team=Sacramento Kings<br>Year=2016<br>Valuation (in millions)=%{marker.size}<br>LAT=%{lat}<br>LONG=%{lon}<extra></extra>\",\"hovertext\":[\"Sacramento Kings\"],\"lat\":[38],\"legendgroup\":\"Sacramento Kings\",\"lon\":[-121],\"marker\":{\"color\":\"red\",\"size\":[9250000000],\"sizemode\":\"area\",\"sizeref\":100000000.0,\"symbol\":\"circle\"},\"mode\":\"markers\",\"name\":\"Sacramento Kings\",\"showlegend\":true,\"type\":\"scattergeo\"},{\"geo\":\"geo\",\"hovertemplate\":\"<b>%{hovertext}</b><br><br>Team=Denver Nuggets<br>Year=2016<br>Valuation (in millions)=%{marker.size}<br>LAT=%{lat}<br>LONG=%{lon}<extra></extra>\",\"hovertext\":[\"Denver Nuggets\"],\"lat\":[39],\"legendgroup\":\"Denver Nuggets\",\"lon\":[-104],\"marker\":{\"color\":\"yellow\",\"size\":[8550000000],\"sizemode\":\"area\",\"sizeref\":100000000.0,\"symbol\":\"circle\"},\"mode\":\"markers\",\"name\":\"Denver Nuggets\",\"showlegend\":true,\"type\":\"scattergeo\"},{\"geo\":\"geo\",\"hovertemplate\":\"<b>%{hovertext}</b><br><br>Team=Cleveland Cavaliers<br>Year=2016<br>Valuation (in millions)=%{marker.size}<br>LAT=%{lat}<br>LONG=%{lon}<extra></extra>\",\"hovertext\":[\"Cleveland Cavaliers\"],\"lat\":[41],\"legendgroup\":\"Cleveland Cavaliers\",\"lon\":[-81],\"marker\":{\"color\":\"blue\",\"size\":[11000000000],\"sizemode\":\"area\",\"sizeref\":100000000.0,\"symbol\":\"circle\"},\"mode\":\"markers\",\"name\":\"Cleveland Cavaliers\",\"showlegend\":true,\"type\":\"scattergeo\"},{\"geo\":\"geo\",\"hovertemplate\":\"<b>%{hovertext}</b><br><br>Team=Detroit Pistons<br>Year=2016<br>Valuation (in millions)=%{marker.size}<br>LAT=%{lat}<br>LONG=%{lon}<extra></extra>\",\"hovertext\":[\"Detroit Pistons\"],\"lat\":[42],\"legendgroup\":\"Detroit Pistons\",\"lon\":[-83],\"marker\":{\"color\":\"red\",\"size\":[8500000000],\"sizemode\":\"area\",\"sizeref\":100000000.0,\"symbol\":\"circle\"},\"mode\":\"markers\",\"name\":\"Detroit Pistons\",\"showlegend\":true,\"type\":\"scattergeo\"},{\"geo\":\"geo\",\"hovertemplate\":\"<b>%{hovertext}</b><br><br>Team=Utah Jazz<br>Year=2016<br>Valuation (in millions)=%{marker.size}<br>LAT=%{lat}<br>LONG=%{lon}<extra></extra>\",\"hovertext\":[\"Utah Jazz\"],\"lat\":[40],\"legendgroup\":\"Utah Jazz\",\"lon\":[-111],\"marker\":{\"color\":\"yellow\",\"size\":[8750000000],\"sizemode\":\"area\",\"sizeref\":100000000.0,\"symbol\":\"circle\"},\"mode\":\"markers\",\"name\":\"Utah Jazz\",\"showlegend\":true,\"type\":\"scattergeo\"},{\"geo\":\"geo\",\"hovertemplate\":\"<b>%{hovertext}</b><br><br>Team=Oklahoma City Thunder<br>Year=2016<br>Valuation (in millions)=%{marker.size}<br>LAT=%{lat}<br>LONG=%{lon}<extra></extra>\",\"hovertext\":[\"Oklahoma City Thunder\"],\"lat\":[35],\"legendgroup\":\"Oklahoma City Thunder\",\"lon\":[-97],\"marker\":{\"color\":\"blue\",\"size\":[9500000000],\"sizemode\":\"area\",\"sizeref\":100000000.0,\"symbol\":\"circle\"},\"mode\":\"markers\",\"name\":\"Oklahoma City Thunder\",\"showlegend\":true,\"type\":\"scattergeo\"},{\"geo\":\"geo\",\"hovertemplate\":\"<b>%{hovertext}</b><br><br>Team=Phoenix Suns<br>Year=2016<br>Valuation (in millions)=%{marker.size}<br>LAT=%{lat}<br>LONG=%{lon}<extra></extra>\",\"hovertext\":[\"Phoenix Suns\"],\"lat\":[33],\"legendgroup\":\"Phoenix Suns\",\"lon\":[-112],\"marker\":{\"color\":\"red\",\"size\":[10000000000],\"sizemode\":\"area\",\"sizeref\":100000000.0,\"symbol\":\"circle\"},\"mode\":\"markers\",\"name\":\"Phoenix Suns\",\"showlegend\":true,\"type\":\"scattergeo\"},{\"geo\":\"geo\",\"hovertemplate\":\"<b>%{hovertext}</b><br><br>Team=Indiana Pacers<br>Year=2016<br>Valuation (in millions)=%{marker.size}<br>LAT=%{lat}<br>LONG=%{lon}<extra></extra>\",\"hovertext\":[\"Indiana Pacers\"],\"lat\":[39],\"legendgroup\":\"Indiana Pacers\",\"lon\":[-86],\"marker\":{\"color\":\"yellow\",\"size\":[8400000000],\"sizemode\":\"area\",\"sizeref\":100000000.0,\"symbol\":\"circle\"},\"mode\":\"markers\",\"name\":\"Indiana Pacers\",\"showlegend\":true,\"type\":\"scattergeo\"},{\"geo\":\"geo\",\"hovertemplate\":\"<b>%{hovertext}</b><br><br>Team=Atlanta Hawks<br>Year=2016<br>Valuation (in millions)=%{marker.size}<br>LAT=%{lat}<br>LONG=%{lon}<extra></extra>\",\"hovertext\":[\"Atlanta Hawks\"],\"lat\":[33],\"legendgroup\":\"Atlanta Hawks\",\"lon\":[-84],\"marker\":{\"color\":\"blue\",\"size\":[8250000000],\"sizemode\":\"area\",\"sizeref\":100000000.0,\"symbol\":\"circle\"},\"mode\":\"markers\",\"name\":\"Atlanta Hawks\",\"showlegend\":true,\"type\":\"scattergeo\"},{\"geo\":\"geo\",\"hovertemplate\":\"<b>%{hovertext}</b><br><br>Team=Orlando Magic<br>Year=2016<br>Valuation (in millions)=%{marker.size}<br>LAT=%{lat}<br>LONG=%{lon}<extra></extra>\",\"hovertext\":[\"Orlando Magic\"],\"lat\":[28],\"legendgroup\":\"Orlando Magic\",\"lon\":[-81],\"marker\":{\"color\":\"red\",\"size\":[9000000000],\"sizemode\":\"area\",\"sizeref\":100000000.0,\"symbol\":\"circle\"},\"mode\":\"markers\",\"name\":\"Orlando Magic\",\"showlegend\":true,\"type\":\"scattergeo\"},{\"geo\":\"geo\",\"hovertemplate\":\"<b>%{hovertext}</b><br><br>Team=Charlotte Hornets<br>Year=2016<br>Valuation (in millions)=%{marker.size}<br>LAT=%{lat}<br>LONG=%{lon}<extra></extra>\",\"hovertext\":[\"Charlotte Hornets\"],\"lat\":[35],\"legendgroup\":\"Charlotte Hornets\",\"lon\":[-80],\"marker\":{\"color\":\"yellow\",\"size\":[7500000000],\"sizemode\":\"area\",\"sizeref\":100000000.0,\"symbol\":\"circle\"},\"mode\":\"markers\",\"name\":\"Charlotte Hornets\",\"showlegend\":true,\"type\":\"scattergeo\"},{\"geo\":\"geo\",\"hovertemplate\":\"<b>%{hovertext}</b><br><br>Team=Minnesota Timberwolves<br>Year=2016<br>Valuation (in millions)=%{marker.size}<br>LAT=%{lat}<br>LONG=%{lon}<extra></extra>\",\"hovertext\":[\"Minnesota Timberwolves\"],\"lat\":[44],\"legendgroup\":\"Minnesota Timberwolves\",\"lon\":[-93],\"marker\":{\"color\":\"blue\",\"size\":[7200000000],\"sizemode\":\"area\",\"sizeref\":100000000.0,\"symbol\":\"circle\"},\"mode\":\"markers\",\"name\":\"Minnesota Timberwolves\",\"showlegend\":true,\"type\":\"scattergeo\"},{\"geo\":\"geo\",\"hovertemplate\":\"<b>%{hovertext}</b><br><br>Team=Memphis Grizzlies<br>Year=2016<br>Valuation (in millions)=%{marker.size}<br>LAT=%{lat}<br>LONG=%{lon}<extra></extra>\",\"hovertext\":[\"Memphis Grizzlies\"],\"lat\":[35],\"legendgroup\":\"Memphis Grizzlies\",\"lon\":[-90],\"marker\":{\"color\":\"red\",\"size\":[7800000000],\"sizemode\":\"area\",\"sizeref\":100000000.0,\"symbol\":\"circle\"},\"mode\":\"markers\",\"name\":\"Memphis Grizzlies\",\"showlegend\":true,\"type\":\"scattergeo\"},{\"geo\":\"geo\",\"hovertemplate\":\"<b>%{hovertext}</b><br><br>Team=New Orleans Pelicans<br>Year=2016<br>Valuation (in millions)=%{marker.size}<br>LAT=%{lat}<br>LONG=%{lon}<extra></extra>\",\"hovertext\":[\"New Orleans Pelicans\"],\"lat\":[29],\"legendgroup\":\"New Orleans Pelicans\",\"lon\":[-90],\"marker\":{\"color\":\"yellow\",\"size\":[6500000000],\"sizemode\":\"area\",\"sizeref\":100000000.0,\"symbol\":\"circle\"},\"mode\":\"markers\",\"name\":\"New Orleans Pelicans\",\"showlegend\":true,\"type\":\"scattergeo\"}],\"name\":\"2016\"},{\"data\":[{\"geo\":\"geo\",\"hovertemplate\":\"<b>%{hovertext}</b><br><br>Team=New York Knicks<br>Year=2017<br>Valuation (in millions)=%{marker.size}<br>LAT=%{lat}<br>LONG=%{lon}<extra></extra>\",\"hovertext\":[\"New York Knicks\"],\"lat\":[40],\"legendgroup\":\"New York Knicks\",\"lon\":[-73],\"marker\":{\"color\":\"blue\",\"size\":[33000000000],\"sizemode\":\"area\",\"sizeref\":100000000.0,\"symbol\":\"circle\"},\"mode\":\"markers\",\"name\":\"New York Knicks\",\"showlegend\":true,\"type\":\"scattergeo\"},{\"geo\":\"geo\",\"hovertemplate\":\"<b>%{hovertext}</b><br><br>Team=Golden State Warriors<br>Year=2017<br>Valuation (in millions)=%{marker.size}<br>LAT=%{lat}<br>LONG=%{lon}<extra></extra>\",\"hovertext\":[\"Golden State Warriors\"],\"lat\":[37],\"legendgroup\":\"Golden State Warriors\",\"lon\":[-122],\"marker\":{\"color\":\"red\",\"size\":[26000000000],\"sizemode\":\"area\",\"sizeref\":100000000.0,\"symbol\":\"circle\"},\"mode\":\"markers\",\"name\":\"Golden State Warriors\",\"showlegend\":true,\"type\":\"scattergeo\"},{\"geo\":\"geo\",\"hovertemplate\":\"<b>%{hovertext}</b><br><br>Team=Los Angeles Lakers<br>Year=2017<br>Valuation (in millions)=%{marker.size}<br>LAT=%{lat}<br>LONG=%{lon}<extra></extra>\",\"hovertext\":[\"Los Angeles Lakers\"],\"lat\":[34],\"legendgroup\":\"Los Angeles Lakers\",\"lon\":[-118],\"marker\":{\"color\":\"yellow\",\"size\":[30000000000],\"sizemode\":\"area\",\"sizeref\":100000000.0,\"symbol\":\"circle\"},\"mode\":\"markers\",\"name\":\"Los Angeles Lakers\",\"showlegend\":true,\"type\":\"scattergeo\"},{\"geo\":\"geo\",\"hovertemplate\":\"<b>%{hovertext}</b><br><br>Team=Brooklyn Nets<br>Year=2017<br>Valuation (in millions)=%{marker.size}<br>LAT=%{lat}<br>LONG=%{lon}<extra></extra>\",\"hovertext\":[\"Brooklyn Nets\"],\"lat\":[40],\"legendgroup\":\"Brooklyn Nets\",\"lon\":[-73],\"marker\":{\"color\":\"blue\",\"size\":[18000000000],\"sizemode\":\"area\",\"sizeref\":100000000.0,\"symbol\":\"circle\"},\"mode\":\"markers\",\"name\":\"Brooklyn Nets\",\"showlegend\":true,\"type\":\"scattergeo\"},{\"geo\":\"geo\",\"hovertemplate\":\"<b>%{hovertext}</b><br><br>Team=Boston Celtics<br>Year=2017<br>Valuation (in millions)=%{marker.size}<br>LAT=%{lat}<br>LONG=%{lon}<extra></extra>\",\"hovertext\":[\"Boston Celtics\"],\"lat\":[42],\"legendgroup\":\"Boston Celtics\",\"lon\":[-71],\"marker\":{\"color\":\"red\",\"size\":[22000000000],\"sizemode\":\"area\",\"sizeref\":100000000.0,\"symbol\":\"circle\"},\"mode\":\"markers\",\"name\":\"Boston Celtics\",\"showlegend\":true,\"type\":\"scattergeo\"},{\"geo\":\"geo\",\"hovertemplate\":\"<b>%{hovertext}</b><br><br>Team=Chicago Bulls<br>Year=2017<br>Valuation (in millions)=%{marker.size}<br>LAT=%{lat}<br>LONG=%{lon}<extra></extra>\",\"hovertext\":[\"Chicago Bulls\"],\"lat\":[41],\"legendgroup\":\"Chicago Bulls\",\"lon\":[-87],\"marker\":{\"color\":\"yellow\",\"size\":[25000000000],\"sizemode\":\"area\",\"sizeref\":100000000.0,\"symbol\":\"circle\"},\"mode\":\"markers\",\"name\":\"Chicago Bulls\",\"showlegend\":true,\"type\":\"scattergeo\"},{\"geo\":\"geo\",\"hovertemplate\":\"<b>%{hovertext}</b><br><br>Team=Houston Rockets<br>Year=2017<br>Valuation (in millions)=%{marker.size}<br>LAT=%{lat}<br>LONG=%{lon}<extra></extra>\",\"hovertext\":[\"Houston Rockets\"],\"lat\":[29],\"legendgroup\":\"Houston Rockets\",\"lon\":[-95],\"marker\":{\"color\":\"blue\",\"size\":[16500000000],\"sizemode\":\"area\",\"sizeref\":100000000.0,\"symbol\":\"circle\"},\"mode\":\"markers\",\"name\":\"Houston Rockets\",\"showlegend\":true,\"type\":\"scattergeo\"},{\"geo\":\"geo\",\"hovertemplate\":\"<b>%{hovertext}</b><br><br>Team=Los Angeles Clippers<br>Year=2017<br>Valuation (in millions)=%{marker.size}<br>LAT=%{lat}<br>LONG=%{lon}<extra></extra>\",\"hovertext\":[\"Los Angeles Clippers\"],\"lat\":[34],\"legendgroup\":\"Los Angeles Clippers\",\"lon\":[-118],\"marker\":{\"color\":\"red\",\"size\":[20000000000],\"sizemode\":\"area\",\"sizeref\":100000000.0,\"symbol\":\"circle\"},\"mode\":\"markers\",\"name\":\"Los Angeles Clippers\",\"showlegend\":true,\"type\":\"scattergeo\"},{\"geo\":\"geo\",\"hovertemplate\":\"<b>%{hovertext}</b><br><br>Team=Dallas Mavericks<br>Year=2017<br>Valuation (in millions)=%{marker.size}<br>LAT=%{lat}<br>LONG=%{lon}<extra></extra>\",\"hovertext\":[\"Dallas Mavericks\"],\"lat\":[32],\"legendgroup\":\"Dallas Mavericks\",\"lon\":[-96],\"marker\":{\"color\":\"yellow\",\"size\":[14500000000],\"sizemode\":\"area\",\"sizeref\":100000000.0,\"symbol\":\"circle\"},\"mode\":\"markers\",\"name\":\"Dallas Mavericks\",\"showlegend\":true,\"type\":\"scattergeo\"},{\"geo\":\"geo\",\"hovertemplate\":\"<b>%{hovertext}</b><br><br>Team=Toronto Raptors<br>Year=2017<br>Valuation (in millions)=%{marker.size}<br>LAT=%{lat}<br>LONG=%{lon}<extra></extra>\",\"hovertext\":[\"Toronto Raptors\"],\"lat\":[43],\"legendgroup\":\"Toronto Raptors\",\"lon\":[-79],\"marker\":{\"color\":\"blue\",\"size\":[11250000000],\"sizemode\":\"area\",\"sizeref\":100000000.0,\"symbol\":\"circle\"},\"mode\":\"markers\",\"name\":\"Toronto Raptors\",\"showlegend\":true,\"type\":\"scattergeo\"},{\"geo\":\"geo\",\"hovertemplate\":\"<b>%{hovertext}</b><br><br>Team=Philadelphia 76ers<br>Year=2017<br>Valuation (in millions)=%{marker.size}<br>LAT=%{lat}<br>LONG=%{lon}<extra></extra>\",\"hovertext\":[\"Philadelphia 76ers\"],\"lat\":[39],\"legendgroup\":\"Philadelphia 76ers\",\"lon\":[-75],\"marker\":{\"color\":\"red\",\"size\":[8000000000],\"sizemode\":\"area\",\"sizeref\":100000000.0,\"symbol\":\"circle\"},\"mode\":\"markers\",\"name\":\"Philadelphia 76ers\",\"showlegend\":true,\"type\":\"scattergeo\"},{\"geo\":\"geo\",\"hovertemplate\":\"<b>%{hovertext}</b><br><br>Team=Miami Heat<br>Year=2017<br>Valuation (in millions)=%{marker.size}<br>LAT=%{lat}<br>LONG=%{lon}<extra></extra>\",\"hovertext\":[\"Miami Heat\"],\"lat\":[25],\"legendgroup\":\"Miami Heat\",\"lon\":[-80],\"marker\":{\"color\":\"yellow\",\"size\":[13500000000],\"sizemode\":\"area\",\"sizeref\":100000000.0,\"symbol\":\"circle\"},\"mode\":\"markers\",\"name\":\"Miami Heat\",\"showlegend\":true,\"type\":\"scattergeo\"},{\"geo\":\"geo\",\"hovertemplate\":\"<b>%{hovertext}</b><br><br>Team=San Antonio Spurs<br>Year=2017<br>Valuation (in millions)=%{marker.size}<br>LAT=%{lat}<br>LONG=%{lon}<extra></extra>\",\"hovertext\":[\"San Antonio Spurs\"],\"lat\":[29],\"legendgroup\":\"San Antonio Spurs\",\"lon\":[-98],\"marker\":{\"color\":\"blue\",\"size\":[11750000000],\"sizemode\":\"area\",\"sizeref\":100000000.0,\"symbol\":\"circle\"},\"mode\":\"markers\",\"name\":\"San Antonio Spurs\",\"showlegend\":true,\"type\":\"scattergeo\"},{\"geo\":\"geo\",\"hovertemplate\":\"<b>%{hovertext}</b><br><br>Team=Washington Wizards<br>Year=2017<br>Valuation (in millions)=%{marker.size}<br>LAT=%{lat}<br>LONG=%{lon}<extra></extra>\",\"hovertext\":[\"Washington Wizards\"],\"lat\":[38],\"legendgroup\":\"Washington Wizards\",\"lon\":[-77],\"marker\":{\"color\":\"red\",\"size\":[10000000000],\"sizemode\":\"area\",\"sizeref\":100000000.0,\"symbol\":\"circle\"},\"mode\":\"markers\",\"name\":\"Washington Wizards\",\"showlegend\":true,\"type\":\"scattergeo\"},{\"geo\":\"geo\",\"hovertemplate\":\"<b>%{hovertext}</b><br><br>Team=Portland Trail Blazers<br>Year=2017<br>Valuation (in millions)=%{marker.size}<br>LAT=%{lat}<br>LONG=%{lon}<extra></extra>\",\"hovertext\":[\"Portland Trail Blazers\"],\"lat\":[45],\"legendgroup\":\"Portland Trail Blazers\",\"lon\":[-122],\"marker\":{\"color\":\"yellow\",\"size\":[10500000000],\"sizemode\":\"area\",\"sizeref\":100000000.0,\"symbol\":\"circle\"},\"mode\":\"markers\",\"name\":\"Portland Trail Blazers\",\"showlegend\":true,\"type\":\"scattergeo\"},{\"geo\":\"geo\",\"hovertemplate\":\"<b>%{hovertext}</b><br><br>Team=Milwaukee Bucks<br>Year=2017<br>Valuation (in millions)=%{marker.size}<br>LAT=%{lat}<br>LONG=%{lon}<extra></extra>\",\"hovertext\":[\"Milwaukee Bucks\"],\"lat\":[43],\"legendgroup\":\"Milwaukee Bucks\",\"lon\":[-87],\"marker\":{\"color\":\"blue\",\"size\":[7850000000],\"sizemode\":\"area\",\"sizeref\":100000000.0,\"symbol\":\"circle\"},\"mode\":\"markers\",\"name\":\"Milwaukee Bucks\",\"showlegend\":true,\"type\":\"scattergeo\"},{\"geo\":\"geo\",\"hovertemplate\":\"<b>%{hovertext}</b><br><br>Team=Sacramento Kings<br>Year=2017<br>Valuation (in millions)=%{marker.size}<br>LAT=%{lat}<br>LONG=%{lon}<extra></extra>\",\"hovertext\":[\"Sacramento Kings\"],\"lat\":[38],\"legendgroup\":\"Sacramento Kings\",\"lon\":[-121],\"marker\":{\"color\":\"red\",\"size\":[10750000000],\"sizemode\":\"area\",\"sizeref\":100000000.0,\"symbol\":\"circle\"},\"mode\":\"markers\",\"name\":\"Sacramento Kings\",\"showlegend\":true,\"type\":\"scattergeo\"},{\"geo\":\"geo\",\"hovertemplate\":\"<b>%{hovertext}</b><br><br>Team=Denver Nuggets<br>Year=2017<br>Valuation (in millions)=%{marker.size}<br>LAT=%{lat}<br>LONG=%{lon}<extra></extra>\",\"hovertext\":[\"Denver Nuggets\"],\"lat\":[39],\"legendgroup\":\"Denver Nuggets\",\"lon\":[-104],\"marker\":{\"color\":\"yellow\",\"size\":[8900000000],\"sizemode\":\"area\",\"sizeref\":100000000.0,\"symbol\":\"circle\"},\"mode\":\"markers\",\"name\":\"Denver Nuggets\",\"showlegend\":true,\"type\":\"scattergeo\"},{\"geo\":\"geo\",\"hovertemplate\":\"<b>%{hovertext}</b><br><br>Team=Cleveland Cavaliers<br>Year=2017<br>Valuation (in millions)=%{marker.size}<br>LAT=%{lat}<br>LONG=%{lon}<extra></extra>\",\"hovertext\":[\"Cleveland Cavaliers\"],\"lat\":[41],\"legendgroup\":\"Cleveland Cavaliers\",\"lon\":[-81],\"marker\":{\"color\":\"blue\",\"size\":[12000000000],\"sizemode\":\"area\",\"sizeref\":100000000.0,\"symbol\":\"circle\"},\"mode\":\"markers\",\"name\":\"Cleveland Cavaliers\",\"showlegend\":true,\"type\":\"scattergeo\"},{\"geo\":\"geo\",\"hovertemplate\":\"<b>%{hovertext}</b><br><br>Team=Detroit Pistons<br>Year=2017<br>Valuation (in millions)=%{marker.size}<br>LAT=%{lat}<br>LONG=%{lon}<extra></extra>\",\"hovertext\":[\"Detroit Pistons\"],\"lat\":[42],\"legendgroup\":\"Detroit Pistons\",\"lon\":[-83],\"marker\":{\"color\":\"red\",\"size\":[9000000000],\"sizemode\":\"area\",\"sizeref\":100000000.0,\"symbol\":\"circle\"},\"mode\":\"markers\",\"name\":\"Detroit Pistons\",\"showlegend\":true,\"type\":\"scattergeo\"},{\"geo\":\"geo\",\"hovertemplate\":\"<b>%{hovertext}</b><br><br>Team=Utah Jazz<br>Year=2017<br>Valuation (in millions)=%{marker.size}<br>LAT=%{lat}<br>LONG=%{lon}<extra></extra>\",\"hovertext\":[\"Utah Jazz\"],\"lat\":[40],\"legendgroup\":\"Utah Jazz\",\"lon\":[-111],\"marker\":{\"color\":\"yellow\",\"size\":[9100000000],\"sizemode\":\"area\",\"sizeref\":100000000.0,\"symbol\":\"circle\"},\"mode\":\"markers\",\"name\":\"Utah Jazz\",\"showlegend\":true,\"type\":\"scattergeo\"},{\"geo\":\"geo\",\"hovertemplate\":\"<b>%{hovertext}</b><br><br>Team=Oklahoma City Thunder<br>Year=2017<br>Valuation (in millions)=%{marker.size}<br>LAT=%{lat}<br>LONG=%{lon}<extra></extra>\",\"hovertext\":[\"Oklahoma City Thunder\"],\"lat\":[35],\"legendgroup\":\"Oklahoma City Thunder\",\"lon\":[-97],\"marker\":{\"color\":\"blue\",\"size\":[10250000000],\"sizemode\":\"area\",\"sizeref\":100000000.0,\"symbol\":\"circle\"},\"mode\":\"markers\",\"name\":\"Oklahoma City Thunder\",\"showlegend\":true,\"type\":\"scattergeo\"},{\"geo\":\"geo\",\"hovertemplate\":\"<b>%{hovertext}</b><br><br>Team=Phoenix Suns<br>Year=2017<br>Valuation (in millions)=%{marker.size}<br>LAT=%{lat}<br>LONG=%{lon}<extra></extra>\",\"hovertext\":[\"Phoenix Suns\"],\"lat\":[33],\"legendgroup\":\"Phoenix Suns\",\"lon\":[-112],\"marker\":{\"color\":\"red\",\"size\":[11000000000],\"sizemode\":\"area\",\"sizeref\":100000000.0,\"symbol\":\"circle\"},\"mode\":\"markers\",\"name\":\"Phoenix Suns\",\"showlegend\":true,\"type\":\"scattergeo\"},{\"geo\":\"geo\",\"hovertemplate\":\"<b>%{hovertext}</b><br><br>Team=Indiana Pacers<br>Year=2017<br>Valuation (in millions)=%{marker.size}<br>LAT=%{lat}<br>LONG=%{lon}<extra></extra>\",\"hovertext\":[\"Indiana Pacers\"],\"lat\":[39],\"legendgroup\":\"Indiana Pacers\",\"lon\":[-86],\"marker\":{\"color\":\"yellow\",\"size\":[8800000000],\"sizemode\":\"area\",\"sizeref\":100000000.0,\"symbol\":\"circle\"},\"mode\":\"markers\",\"name\":\"Indiana Pacers\",\"showlegend\":true,\"type\":\"scattergeo\"},{\"geo\":\"geo\",\"hovertemplate\":\"<b>%{hovertext}</b><br><br>Team=Atlanta Hawks<br>Year=2017<br>Valuation (in millions)=%{marker.size}<br>LAT=%{lat}<br>LONG=%{lon}<extra></extra>\",\"hovertext\":[\"Atlanta Hawks\"],\"lat\":[33],\"legendgroup\":\"Atlanta Hawks\",\"lon\":[-84],\"marker\":{\"color\":\"blue\",\"size\":[8850000000],\"sizemode\":\"area\",\"sizeref\":100000000.0,\"symbol\":\"circle\"},\"mode\":\"markers\",\"name\":\"Atlanta Hawks\",\"showlegend\":true,\"type\":\"scattergeo\"},{\"geo\":\"geo\",\"hovertemplate\":\"<b>%{hovertext}</b><br><br>Team=Orlando Magic<br>Year=2017<br>Valuation (in millions)=%{marker.size}<br>LAT=%{lat}<br>LONG=%{lon}<extra></extra>\",\"hovertext\":[\"Orlando Magic\"],\"lat\":[28],\"legendgroup\":\"Orlando Magic\",\"lon\":[-81],\"marker\":{\"color\":\"red\",\"size\":[9200000000],\"sizemode\":\"area\",\"sizeref\":100000000.0,\"symbol\":\"circle\"},\"mode\":\"markers\",\"name\":\"Orlando Magic\",\"showlegend\":true,\"type\":\"scattergeo\"},{\"geo\":\"geo\",\"hovertemplate\":\"<b>%{hovertext}</b><br><br>Team=Charlotte Hornets<br>Year=2017<br>Valuation (in millions)=%{marker.size}<br>LAT=%{lat}<br>LONG=%{lon}<extra></extra>\",\"hovertext\":[\"Charlotte Hornets\"],\"lat\":[35],\"legendgroup\":\"Charlotte Hornets\",\"lon\":[-80],\"marker\":{\"color\":\"yellow\",\"size\":[7800000000],\"sizemode\":\"area\",\"sizeref\":100000000.0,\"symbol\":\"circle\"},\"mode\":\"markers\",\"name\":\"Charlotte Hornets\",\"showlegend\":true,\"type\":\"scattergeo\"},{\"geo\":\"geo\",\"hovertemplate\":\"<b>%{hovertext}</b><br><br>Team=Minnesota Timberwolves<br>Year=2017<br>Valuation (in millions)=%{marker.size}<br>LAT=%{lat}<br>LONG=%{lon}<extra></extra>\",\"hovertext\":[\"Minnesota Timberwolves\"],\"lat\":[44],\"legendgroup\":\"Minnesota Timberwolves\",\"lon\":[-93],\"marker\":{\"color\":\"blue\",\"size\":[7700000000],\"sizemode\":\"area\",\"sizeref\":100000000.0,\"symbol\":\"circle\"},\"mode\":\"markers\",\"name\":\"Minnesota Timberwolves\",\"showlegend\":true,\"type\":\"scattergeo\"},{\"geo\":\"geo\",\"hovertemplate\":\"<b>%{hovertext}</b><br><br>Team=Memphis Grizzlies<br>Year=2017<br>Valuation (in millions)=%{marker.size}<br>LAT=%{lat}<br>LONG=%{lon}<extra></extra>\",\"hovertext\":[\"Memphis Grizzlies\"],\"lat\":[35],\"legendgroup\":\"Memphis Grizzlies\",\"lon\":[-90],\"marker\":{\"color\":\"red\",\"size\":[7900000000],\"sizemode\":\"area\",\"sizeref\":100000000.0,\"symbol\":\"circle\"},\"mode\":\"markers\",\"name\":\"Memphis Grizzlies\",\"showlegend\":true,\"type\":\"scattergeo\"},{\"geo\":\"geo\",\"hovertemplate\":\"<b>%{hovertext}</b><br><br>Team=New Orleans Pelicans<br>Year=2017<br>Valuation (in millions)=%{marker.size}<br>LAT=%{lat}<br>LONG=%{lon}<extra></extra>\",\"hovertext\":[\"New Orleans Pelicans\"],\"lat\":[29],\"legendgroup\":\"New Orleans Pelicans\",\"lon\":[-90],\"marker\":{\"color\":\"yellow\",\"size\":[7500000000],\"sizemode\":\"area\",\"sizeref\":100000000.0,\"symbol\":\"circle\"},\"mode\":\"markers\",\"name\":\"New Orleans Pelicans\",\"showlegend\":true,\"type\":\"scattergeo\"}],\"name\":\"2017\"},{\"data\":[{\"geo\":\"geo\",\"hovertemplate\":\"<b>%{hovertext}</b><br><br>Team=New York Knicks<br>Year=2018<br>Valuation (in millions)=%{marker.size}<br>LAT=%{lat}<br>LONG=%{lon}<extra></extra>\",\"hovertext\":[\"New York Knicks\"],\"lat\":[40],\"legendgroup\":\"New York Knicks\",\"lon\":[-73],\"marker\":{\"color\":\"blue\",\"size\":[36000000000],\"sizemode\":\"area\",\"sizeref\":100000000.0,\"symbol\":\"circle\"},\"mode\":\"markers\",\"name\":\"New York Knicks\",\"showlegend\":true,\"type\":\"scattergeo\"},{\"geo\":\"geo\",\"hovertemplate\":\"<b>%{hovertext}</b><br><br>Team=Golden State Warriors<br>Year=2018<br>Valuation (in millions)=%{marker.size}<br>LAT=%{lat}<br>LONG=%{lon}<extra></extra>\",\"hovertext\":[\"Golden State Warriors\"],\"lat\":[37],\"legendgroup\":\"Golden State Warriors\",\"lon\":[-122],\"marker\":{\"color\":\"red\",\"size\":[31000000000],\"sizemode\":\"area\",\"sizeref\":100000000.0,\"symbol\":\"circle\"},\"mode\":\"markers\",\"name\":\"Golden State Warriors\",\"showlegend\":true,\"type\":\"scattergeo\"},{\"geo\":\"geo\",\"hovertemplate\":\"<b>%{hovertext}</b><br><br>Team=Los Angeles Lakers<br>Year=2018<br>Valuation (in millions)=%{marker.size}<br>LAT=%{lat}<br>LONG=%{lon}<extra></extra>\",\"hovertext\":[\"Los Angeles Lakers\"],\"lat\":[34],\"legendgroup\":\"Los Angeles Lakers\",\"lon\":[-118],\"marker\":{\"color\":\"yellow\",\"size\":[33000000000],\"sizemode\":\"area\",\"sizeref\":100000000.0,\"symbol\":\"circle\"},\"mode\":\"markers\",\"name\":\"Los Angeles Lakers\",\"showlegend\":true,\"type\":\"scattergeo\"},{\"geo\":\"geo\",\"hovertemplate\":\"<b>%{hovertext}</b><br><br>Team=Brooklyn Nets<br>Year=2018<br>Valuation (in millions)=%{marker.size}<br>LAT=%{lat}<br>LONG=%{lon}<extra></extra>\",\"hovertext\":[\"Brooklyn Nets\"],\"lat\":[40],\"legendgroup\":\"Brooklyn Nets\",\"lon\":[-73],\"marker\":{\"color\":\"blue\",\"size\":[23000000000],\"sizemode\":\"area\",\"sizeref\":100000000.0,\"symbol\":\"circle\"},\"mode\":\"markers\",\"name\":\"Brooklyn Nets\",\"showlegend\":true,\"type\":\"scattergeo\"},{\"geo\":\"geo\",\"hovertemplate\":\"<b>%{hovertext}</b><br><br>Team=Boston Celtics<br>Year=2018<br>Valuation (in millions)=%{marker.size}<br>LAT=%{lat}<br>LONG=%{lon}<extra></extra>\",\"hovertext\":[\"Boston Celtics\"],\"lat\":[42],\"legendgroup\":\"Boston Celtics\",\"lon\":[-71],\"marker\":{\"color\":\"red\",\"size\":[25000000000],\"sizemode\":\"area\",\"sizeref\":100000000.0,\"symbol\":\"circle\"},\"mode\":\"markers\",\"name\":\"Boston Celtics\",\"showlegend\":true,\"type\":\"scattergeo\"},{\"geo\":\"geo\",\"hovertemplate\":\"<b>%{hovertext}</b><br><br>Team=Chicago Bulls<br>Year=2018<br>Valuation (in millions)=%{marker.size}<br>LAT=%{lat}<br>LONG=%{lon}<extra></extra>\",\"hovertext\":[\"Chicago Bulls\"],\"lat\":[41],\"legendgroup\":\"Chicago Bulls\",\"lon\":[-87],\"marker\":{\"color\":\"yellow\",\"size\":[26000000000],\"sizemode\":\"area\",\"sizeref\":100000000.0,\"symbol\":\"circle\"},\"mode\":\"markers\",\"name\":\"Chicago Bulls\",\"showlegend\":true,\"type\":\"scattergeo\"},{\"geo\":\"geo\",\"hovertemplate\":\"<b>%{hovertext}</b><br><br>Team=Houston Rockets<br>Year=2018<br>Valuation (in millions)=%{marker.size}<br>LAT=%{lat}<br>LONG=%{lon}<extra></extra>\",\"hovertext\":[\"Houston Rockets\"],\"lat\":[29],\"legendgroup\":\"Houston Rockets\",\"lon\":[-95],\"marker\":{\"color\":\"blue\",\"size\":[22000000000],\"sizemode\":\"area\",\"sizeref\":100000000.0,\"symbol\":\"circle\"},\"mode\":\"markers\",\"name\":\"Houston Rockets\",\"showlegend\":true,\"type\":\"scattergeo\"},{\"geo\":\"geo\",\"hovertemplate\":\"<b>%{hovertext}</b><br><br>Team=Los Angeles Clippers<br>Year=2018<br>Valuation (in millions)=%{marker.size}<br>LAT=%{lat}<br>LONG=%{lon}<extra></extra>\",\"hovertext\":[\"Los Angeles Clippers\"],\"lat\":[34],\"legendgroup\":\"Los Angeles Clippers\",\"lon\":[-118],\"marker\":{\"color\":\"red\",\"size\":[21500000000],\"sizemode\":\"area\",\"sizeref\":100000000.0,\"symbol\":\"circle\"},\"mode\":\"markers\",\"name\":\"Los Angeles Clippers\",\"showlegend\":true,\"type\":\"scattergeo\"},{\"geo\":\"geo\",\"hovertemplate\":\"<b>%{hovertext}</b><br><br>Team=Dallas Mavericks<br>Year=2018<br>Valuation (in millions)=%{marker.size}<br>LAT=%{lat}<br>LONG=%{lon}<extra></extra>\",\"hovertext\":[\"Dallas Mavericks\"],\"lat\":[32],\"legendgroup\":\"Dallas Mavericks\",\"lon\":[-96],\"marker\":{\"color\":\"yellow\",\"size\":[19000000000],\"sizemode\":\"area\",\"sizeref\":100000000.0,\"symbol\":\"circle\"},\"mode\":\"markers\",\"name\":\"Dallas Mavericks\",\"showlegend\":true,\"type\":\"scattergeo\"},{\"geo\":\"geo\",\"hovertemplate\":\"<b>%{hovertext}</b><br><br>Team=Toronto Raptors<br>Year=2018<br>Valuation (in millions)=%{marker.size}<br>LAT=%{lat}<br>LONG=%{lon}<extra></extra>\",\"hovertext\":[\"Toronto Raptors\"],\"lat\":[43],\"legendgroup\":\"Toronto Raptors\",\"lon\":[-79],\"marker\":{\"color\":\"blue\",\"size\":[14000000000],\"sizemode\":\"area\",\"sizeref\":100000000.0,\"symbol\":\"circle\"},\"mode\":\"markers\",\"name\":\"Toronto Raptors\",\"showlegend\":true,\"type\":\"scattergeo\"},{\"geo\":\"geo\",\"hovertemplate\":\"<b>%{hovertext}</b><br><br>Team=Philadelphia 76ers<br>Year=2018<br>Valuation (in millions)=%{marker.size}<br>LAT=%{lat}<br>LONG=%{lon}<extra></extra>\",\"hovertext\":[\"Philadelphia 76ers\"],\"lat\":[39],\"legendgroup\":\"Philadelphia 76ers\",\"lon\":[-75],\"marker\":{\"color\":\"red\",\"size\":[11800000000],\"sizemode\":\"area\",\"sizeref\":100000000.0,\"symbol\":\"circle\"},\"mode\":\"markers\",\"name\":\"Philadelphia 76ers\",\"showlegend\":true,\"type\":\"scattergeo\"},{\"geo\":\"geo\",\"hovertemplate\":\"<b>%{hovertext}</b><br><br>Team=Miami Heat<br>Year=2018<br>Valuation (in millions)=%{marker.size}<br>LAT=%{lat}<br>LONG=%{lon}<extra></extra>\",\"hovertext\":[\"Miami Heat\"],\"lat\":[25],\"legendgroup\":\"Miami Heat\",\"lon\":[-80],\"marker\":{\"color\":\"yellow\",\"size\":[17000000000],\"sizemode\":\"area\",\"sizeref\":100000000.0,\"symbol\":\"circle\"},\"mode\":\"markers\",\"name\":\"Miami Heat\",\"showlegend\":true,\"type\":\"scattergeo\"},{\"geo\":\"geo\",\"hovertemplate\":\"<b>%{hovertext}</b><br><br>Team=San Antonio Spurs<br>Year=2018<br>Valuation (in millions)=%{marker.size}<br>LAT=%{lat}<br>LONG=%{lon}<extra></extra>\",\"hovertext\":[\"San Antonio Spurs\"],\"lat\":[29],\"legendgroup\":\"San Antonio Spurs\",\"lon\":[-98],\"marker\":{\"color\":\"blue\",\"size\":[15500000000],\"sizemode\":\"area\",\"sizeref\":100000000.0,\"symbol\":\"circle\"},\"mode\":\"markers\",\"name\":\"San Antonio Spurs\",\"showlegend\":true,\"type\":\"scattergeo\"},{\"geo\":\"geo\",\"hovertemplate\":\"<b>%{hovertext}</b><br><br>Team=Washington Wizards<br>Year=2018<br>Valuation (in millions)=%{marker.size}<br>LAT=%{lat}<br>LONG=%{lon}<extra></extra>\",\"hovertext\":[\"Washington Wizards\"],\"lat\":[38],\"legendgroup\":\"Washington Wizards\",\"lon\":[-77],\"marker\":{\"color\":\"red\",\"size\":[13500000000],\"sizemode\":\"area\",\"sizeref\":100000000.0,\"symbol\":\"circle\"},\"mode\":\"markers\",\"name\":\"Washington Wizards\",\"showlegend\":true,\"type\":\"scattergeo\"},{\"geo\":\"geo\",\"hovertemplate\":\"<b>%{hovertext}</b><br><br>Team=Portland Trail Blazers<br>Year=2018<br>Valuation (in millions)=%{marker.size}<br>LAT=%{lat}<br>LONG=%{lon}<extra></extra>\",\"hovertext\":[\"Portland Trail Blazers\"],\"lat\":[45],\"legendgroup\":\"Portland Trail Blazers\",\"lon\":[-122],\"marker\":{\"color\":\"yellow\",\"size\":[13000000000],\"sizemode\":\"area\",\"sizeref\":100000000.0,\"symbol\":\"circle\"},\"mode\":\"markers\",\"name\":\"Portland Trail Blazers\",\"showlegend\":true,\"type\":\"scattergeo\"},{\"geo\":\"geo\",\"hovertemplate\":\"<b>%{hovertext}</b><br><br>Team=Milwaukee Bucks<br>Year=2018<br>Valuation (in millions)=%{marker.size}<br>LAT=%{lat}<br>LONG=%{lon}<extra></extra>\",\"hovertext\":[\"Milwaukee Bucks\"],\"lat\":[43],\"legendgroup\":\"Milwaukee Bucks\",\"lon\":[-87],\"marker\":{\"color\":\"blue\",\"size\":[10750000000],\"sizemode\":\"area\",\"sizeref\":100000000.0,\"symbol\":\"circle\"},\"mode\":\"markers\",\"name\":\"Milwaukee Bucks\",\"showlegend\":true,\"type\":\"scattergeo\"},{\"geo\":\"geo\",\"hovertemplate\":\"<b>%{hovertext}</b><br><br>Team=Sacramento Kings<br>Year=2018<br>Valuation (in millions)=%{marker.size}<br>LAT=%{lat}<br>LONG=%{lon}<extra></extra>\",\"hovertext\":[\"Sacramento Kings\"],\"lat\":[38],\"legendgroup\":\"Sacramento Kings\",\"lon\":[-121],\"marker\":{\"color\":\"red\",\"size\":[13750000000],\"sizemode\":\"area\",\"sizeref\":100000000.0,\"symbol\":\"circle\"},\"mode\":\"markers\",\"name\":\"Sacramento Kings\",\"showlegend\":true,\"type\":\"scattergeo\"},{\"geo\":\"geo\",\"hovertemplate\":\"<b>%{hovertext}</b><br><br>Team=Denver Nuggets<br>Year=2018<br>Valuation (in millions)=%{marker.size}<br>LAT=%{lat}<br>LONG=%{lon}<extra></extra>\",\"hovertext\":[\"Denver Nuggets\"],\"lat\":[39],\"legendgroup\":\"Denver Nuggets\",\"lon\":[-104],\"marker\":{\"color\":\"yellow\",\"size\":[11250000000],\"sizemode\":\"area\",\"sizeref\":100000000.0,\"symbol\":\"circle\"},\"mode\":\"markers\",\"name\":\"Denver Nuggets\",\"showlegend\":true,\"type\":\"scattergeo\"},{\"geo\":\"geo\",\"hovertemplate\":\"<b>%{hovertext}</b><br><br>Team=Cleveland Cavaliers<br>Year=2018<br>Valuation (in millions)=%{marker.size}<br>LAT=%{lat}<br>LONG=%{lon}<extra></extra>\",\"hovertext\":[\"Cleveland Cavaliers\"],\"lat\":[41],\"legendgroup\":\"Cleveland Cavaliers\",\"lon\":[-81],\"marker\":{\"color\":\"blue\",\"size\":[13250000000],\"sizemode\":\"area\",\"sizeref\":100000000.0,\"symbol\":\"circle\"},\"mode\":\"markers\",\"name\":\"Cleveland Cavaliers\",\"showlegend\":true,\"type\":\"scattergeo\"},{\"geo\":\"geo\",\"hovertemplate\":\"<b>%{hovertext}</b><br><br>Team=Detroit Pistons<br>Year=2018<br>Valuation (in millions)=%{marker.size}<br>LAT=%{lat}<br>LONG=%{lon}<extra></extra>\",\"hovertext\":[\"Detroit Pistons\"],\"lat\":[42],\"legendgroup\":\"Detroit Pistons\",\"lon\":[-83],\"marker\":{\"color\":\"red\",\"size\":[11000000000],\"sizemode\":\"area\",\"sizeref\":100000000.0,\"symbol\":\"circle\"},\"mode\":\"markers\",\"name\":\"Detroit Pistons\",\"showlegend\":true,\"type\":\"scattergeo\"},{\"geo\":\"geo\",\"hovertemplate\":\"<b>%{hovertext}</b><br><br>Team=Utah Jazz<br>Year=2018<br>Valuation (in millions)=%{marker.size}<br>LAT=%{lat}<br>LONG=%{lon}<extra></extra>\",\"hovertext\":[\"Utah Jazz\"],\"lat\":[40],\"legendgroup\":\"Utah Jazz\",\"lon\":[-111],\"marker\":{\"color\":\"yellow\",\"size\":[12000000000],\"sizemode\":\"area\",\"sizeref\":100000000.0,\"symbol\":\"circle\"},\"mode\":\"markers\",\"name\":\"Utah Jazz\",\"showlegend\":true,\"type\":\"scattergeo\"},{\"geo\":\"geo\",\"hovertemplate\":\"<b>%{hovertext}</b><br><br>Team=Oklahoma City Thunder<br>Year=2018<br>Valuation (in millions)=%{marker.size}<br>LAT=%{lat}<br>LONG=%{lon}<extra></extra>\",\"hovertext\":[\"Oklahoma City Thunder\"],\"lat\":[35],\"legendgroup\":\"Oklahoma City Thunder\",\"lon\":[-97],\"marker\":{\"color\":\"blue\",\"size\":[12500000000],\"sizemode\":\"area\",\"sizeref\":100000000.0,\"symbol\":\"circle\"},\"mode\":\"markers\",\"name\":\"Oklahoma City Thunder\",\"showlegend\":true,\"type\":\"scattergeo\"},{\"geo\":\"geo\",\"hovertemplate\":\"<b>%{hovertext}</b><br><br>Team=Phoenix Suns<br>Year=2018<br>Valuation (in millions)=%{marker.size}<br>LAT=%{lat}<br>LONG=%{lon}<extra></extra>\",\"hovertext\":[\"Phoenix Suns\"],\"lat\":[33],\"legendgroup\":\"Phoenix Suns\",\"lon\":[-112],\"marker\":{\"color\":\"red\",\"size\":[12800000000],\"sizemode\":\"area\",\"sizeref\":100000000.0,\"symbol\":\"circle\"},\"mode\":\"markers\",\"name\":\"Phoenix Suns\",\"showlegend\":true,\"type\":\"scattergeo\"},{\"geo\":\"geo\",\"hovertemplate\":\"<b>%{hovertext}</b><br><br>Team=Indiana Pacers<br>Year=2018<br>Valuation (in millions)=%{marker.size}<br>LAT=%{lat}<br>LONG=%{lon}<extra></extra>\",\"hovertext\":[\"Indiana Pacers\"],\"lat\":[39],\"legendgroup\":\"Indiana Pacers\",\"lon\":[-86],\"marker\":{\"color\":\"yellow\",\"size\":[11750000000],\"sizemode\":\"area\",\"sizeref\":100000000.0,\"symbol\":\"circle\"},\"mode\":\"markers\",\"name\":\"Indiana Pacers\",\"showlegend\":true,\"type\":\"scattergeo\"},{\"geo\":\"geo\",\"hovertemplate\":\"<b>%{hovertext}</b><br><br>Team=Atlanta Hawks<br>Year=2018<br>Valuation (in millions)=%{marker.size}<br>LAT=%{lat}<br>LONG=%{lon}<extra></extra>\",\"hovertext\":[\"Atlanta Hawks\"],\"lat\":[33],\"legendgroup\":\"Atlanta Hawks\",\"lon\":[-84],\"marker\":{\"color\":\"blue\",\"size\":[11500000000],\"sizemode\":\"area\",\"sizeref\":100000000.0,\"symbol\":\"circle\"},\"mode\":\"markers\",\"name\":\"Atlanta Hawks\",\"showlegend\":true,\"type\":\"scattergeo\"},{\"geo\":\"geo\",\"hovertemplate\":\"<b>%{hovertext}</b><br><br>Team=Orlando Magic<br>Year=2018<br>Valuation (in millions)=%{marker.size}<br>LAT=%{lat}<br>LONG=%{lon}<extra></extra>\",\"hovertext\":[\"Orlando Magic\"],\"lat\":[28],\"legendgroup\":\"Orlando Magic\",\"lon\":[-81],\"marker\":{\"color\":\"red\",\"size\":[12250000000],\"sizemode\":\"area\",\"sizeref\":100000000.0,\"symbol\":\"circle\"},\"mode\":\"markers\",\"name\":\"Orlando Magic\",\"showlegend\":true,\"type\":\"scattergeo\"},{\"geo\":\"geo\",\"hovertemplate\":\"<b>%{hovertext}</b><br><br>Team=Charlotte Hornets<br>Year=2018<br>Valuation (in millions)=%{marker.size}<br>LAT=%{lat}<br>LONG=%{lon}<extra></extra>\",\"hovertext\":[\"Charlotte Hornets\"],\"lat\":[35],\"legendgroup\":\"Charlotte Hornets\",\"lon\":[-80],\"marker\":{\"color\":\"yellow\",\"size\":[10500000000],\"sizemode\":\"area\",\"sizeref\":100000000.0,\"symbol\":\"circle\"},\"mode\":\"markers\",\"name\":\"Charlotte Hornets\",\"showlegend\":true,\"type\":\"scattergeo\"},{\"geo\":\"geo\",\"hovertemplate\":\"<b>%{hovertext}</b><br><br>Team=Minnesota Timberwolves<br>Year=2018<br>Valuation (in millions)=%{marker.size}<br>LAT=%{lat}<br>LONG=%{lon}<extra></extra>\",\"hovertext\":[\"Minnesota Timberwolves\"],\"lat\":[44],\"legendgroup\":\"Minnesota Timberwolves\",\"lon\":[-93],\"marker\":{\"color\":\"blue\",\"size\":[10600000000],\"sizemode\":\"area\",\"sizeref\":100000000.0,\"symbol\":\"circle\"},\"mode\":\"markers\",\"name\":\"Minnesota Timberwolves\",\"showlegend\":true,\"type\":\"scattergeo\"},{\"geo\":\"geo\",\"hovertemplate\":\"<b>%{hovertext}</b><br><br>Team=Memphis Grizzlies<br>Year=2018<br>Valuation (in millions)=%{marker.size}<br>LAT=%{lat}<br>LONG=%{lon}<extra></extra>\",\"hovertext\":[\"Memphis Grizzlies\"],\"lat\":[35],\"legendgroup\":\"Memphis Grizzlies\",\"lon\":[-90],\"marker\":{\"color\":\"red\",\"size\":[10250000000],\"sizemode\":\"area\",\"sizeref\":100000000.0,\"symbol\":\"circle\"},\"mode\":\"markers\",\"name\":\"Memphis Grizzlies\",\"showlegend\":true,\"type\":\"scattergeo\"},{\"geo\":\"geo\",\"hovertemplate\":\"<b>%{hovertext}</b><br><br>Team=New Orleans Pelicans<br>Year=2018<br>Valuation (in millions)=%{marker.size}<br>LAT=%{lat}<br>LONG=%{lon}<extra></extra>\",\"hovertext\":[\"New Orleans Pelicans\"],\"lat\":[29],\"legendgroup\":\"New Orleans Pelicans\",\"lon\":[-90],\"marker\":{\"color\":\"yellow\",\"size\":[10000000000],\"sizemode\":\"area\",\"sizeref\":100000000.0,\"symbol\":\"circle\"},\"mode\":\"markers\",\"name\":\"New Orleans Pelicans\",\"showlegend\":true,\"type\":\"scattergeo\"}],\"name\":\"2018\"},{\"data\":[{\"geo\":\"geo\",\"hovertemplate\":\"<b>%{hovertext}</b><br><br>Team=New York Knicks<br>Year=2019<br>Valuation (in millions)=%{marker.size}<br>LAT=%{lat}<br>LONG=%{lon}<extra></extra>\",\"hovertext\":[\"New York Knicks\"],\"lat\":[40],\"legendgroup\":\"New York Knicks\",\"lon\":[-73],\"marker\":{\"color\":\"blue\",\"size\":[40000000000],\"sizemode\":\"area\",\"sizeref\":100000000.0,\"symbol\":\"circle\"},\"mode\":\"markers\",\"name\":\"New York Knicks\",\"showlegend\":true,\"type\":\"scattergeo\"},{\"geo\":\"geo\",\"hovertemplate\":\"<b>%{hovertext}</b><br><br>Team=Golden State Warriors<br>Year=2019<br>Valuation (in millions)=%{marker.size}<br>LAT=%{lat}<br>LONG=%{lon}<extra></extra>\",\"hovertext\":[\"Golden State Warriors\"],\"lat\":[37],\"legendgroup\":\"Golden State Warriors\",\"lon\":[-122],\"marker\":{\"color\":\"red\",\"size\":[35000000000],\"sizemode\":\"area\",\"sizeref\":100000000.0,\"symbol\":\"circle\"},\"mode\":\"markers\",\"name\":\"Golden State Warriors\",\"showlegend\":true,\"type\":\"scattergeo\"},{\"geo\":\"geo\",\"hovertemplate\":\"<b>%{hovertext}</b><br><br>Team=Los Angeles Lakers<br>Year=2019<br>Valuation (in millions)=%{marker.size}<br>LAT=%{lat}<br>LONG=%{lon}<extra></extra>\",\"hovertext\":[\"Los Angeles Lakers\"],\"lat\":[34],\"legendgroup\":\"Los Angeles Lakers\",\"lon\":[-118],\"marker\":{\"color\":\"yellow\",\"size\":[37000000000],\"sizemode\":\"area\",\"sizeref\":100000000.0,\"symbol\":\"circle\"},\"mode\":\"markers\",\"name\":\"Los Angeles Lakers\",\"showlegend\":true,\"type\":\"scattergeo\"},{\"geo\":\"geo\",\"hovertemplate\":\"<b>%{hovertext}</b><br><br>Team=Brooklyn Nets<br>Year=2019<br>Valuation (in millions)=%{marker.size}<br>LAT=%{lat}<br>LONG=%{lon}<extra></extra>\",\"hovertext\":[\"Brooklyn Nets\"],\"lat\":[40],\"legendgroup\":\"Brooklyn Nets\",\"lon\":[-73],\"marker\":{\"color\":\"blue\",\"size\":[23500000000],\"sizemode\":\"area\",\"sizeref\":100000000.0,\"symbol\":\"circle\"},\"mode\":\"markers\",\"name\":\"Brooklyn Nets\",\"showlegend\":true,\"type\":\"scattergeo\"},{\"geo\":\"geo\",\"hovertemplate\":\"<b>%{hovertext}</b><br><br>Team=Boston Celtics<br>Year=2019<br>Valuation (in millions)=%{marker.size}<br>LAT=%{lat}<br>LONG=%{lon}<extra></extra>\",\"hovertext\":[\"Boston Celtics\"],\"lat\":[42],\"legendgroup\":\"Boston Celtics\",\"lon\":[-71],\"marker\":{\"color\":\"red\",\"size\":[28000000000],\"sizemode\":\"area\",\"sizeref\":100000000.0,\"symbol\":\"circle\"},\"mode\":\"markers\",\"name\":\"Boston Celtics\",\"showlegend\":true,\"type\":\"scattergeo\"},{\"geo\":\"geo\",\"hovertemplate\":\"<b>%{hovertext}</b><br><br>Team=Chicago Bulls<br>Year=2019<br>Valuation (in millions)=%{marker.size}<br>LAT=%{lat}<br>LONG=%{lon}<extra></extra>\",\"hovertext\":[\"Chicago Bulls\"],\"lat\":[41],\"legendgroup\":\"Chicago Bulls\",\"lon\":[-87],\"marker\":{\"color\":\"yellow\",\"size\":[29000000000],\"sizemode\":\"area\",\"sizeref\":100000000.0,\"symbol\":\"circle\"},\"mode\":\"markers\",\"name\":\"Chicago Bulls\",\"showlegend\":true,\"type\":\"scattergeo\"},{\"geo\":\"geo\",\"hovertemplate\":\"<b>%{hovertext}</b><br><br>Team=Houston Rockets<br>Year=2019<br>Valuation (in millions)=%{marker.size}<br>LAT=%{lat}<br>LONG=%{lon}<extra></extra>\",\"hovertext\":[\"Houston Rockets\"],\"lat\":[29],\"legendgroup\":\"Houston Rockets\",\"lon\":[-95],\"marker\":{\"color\":\"blue\",\"size\":[23000000000],\"sizemode\":\"area\",\"sizeref\":100000000.0,\"symbol\":\"circle\"},\"mode\":\"markers\",\"name\":\"Houston Rockets\",\"showlegend\":true,\"type\":\"scattergeo\"},{\"geo\":\"geo\",\"hovertemplate\":\"<b>%{hovertext}</b><br><br>Team=Los Angeles Clippers<br>Year=2019<br>Valuation (in millions)=%{marker.size}<br>LAT=%{lat}<br>LONG=%{lon}<extra></extra>\",\"hovertext\":[\"Los Angeles Clippers\"],\"lat\":[34],\"legendgroup\":\"Los Angeles Clippers\",\"lon\":[-118],\"marker\":{\"color\":\"red\",\"size\":[22000000000],\"sizemode\":\"area\",\"sizeref\":100000000.0,\"symbol\":\"circle\"},\"mode\":\"markers\",\"name\":\"Los Angeles Clippers\",\"showlegend\":true,\"type\":\"scattergeo\"},{\"geo\":\"geo\",\"hovertemplate\":\"<b>%{hovertext}</b><br><br>Team=Dallas Mavericks<br>Year=2019<br>Valuation (in millions)=%{marker.size}<br>LAT=%{lat}<br>LONG=%{lon}<extra></extra>\",\"hovertext\":[\"Dallas Mavericks\"],\"lat\":[32],\"legendgroup\":\"Dallas Mavericks\",\"lon\":[-96],\"marker\":{\"color\":\"yellow\",\"size\":[22500000000],\"sizemode\":\"area\",\"sizeref\":100000000.0,\"symbol\":\"circle\"},\"mode\":\"markers\",\"name\":\"Dallas Mavericks\",\"showlegend\":true,\"type\":\"scattergeo\"},{\"geo\":\"geo\",\"hovertemplate\":\"<b>%{hovertext}</b><br><br>Team=Toronto Raptors<br>Year=2019<br>Valuation (in millions)=%{marker.size}<br>LAT=%{lat}<br>LONG=%{lon}<extra></extra>\",\"hovertext\":[\"Toronto Raptors\"],\"lat\":[43],\"legendgroup\":\"Toronto Raptors\",\"lon\":[-79],\"marker\":{\"color\":\"blue\",\"size\":[16750000000],\"sizemode\":\"area\",\"sizeref\":100000000.0,\"symbol\":\"circle\"},\"mode\":\"markers\",\"name\":\"Toronto Raptors\",\"showlegend\":true,\"type\":\"scattergeo\"},{\"geo\":\"geo\",\"hovertemplate\":\"<b>%{hovertext}</b><br><br>Team=Philadelphia 76ers<br>Year=2019<br>Valuation (in millions)=%{marker.size}<br>LAT=%{lat}<br>LONG=%{lon}<extra></extra>\",\"hovertext\":[\"Philadelphia 76ers\"],\"lat\":[39],\"legendgroup\":\"Philadelphia 76ers\",\"lon\":[-75],\"marker\":{\"color\":\"red\",\"size\":[16500000000],\"sizemode\":\"area\",\"sizeref\":100000000.0,\"symbol\":\"circle\"},\"mode\":\"markers\",\"name\":\"Philadelphia 76ers\",\"showlegend\":true,\"type\":\"scattergeo\"},{\"geo\":\"geo\",\"hovertemplate\":\"<b>%{hovertext}</b><br><br>Team=Miami Heat<br>Year=2019<br>Valuation (in millions)=%{marker.size}<br>LAT=%{lat}<br>LONG=%{lon}<extra></extra>\",\"hovertext\":[\"Miami Heat\"],\"lat\":[25],\"legendgroup\":\"Miami Heat\",\"lon\":[-80],\"marker\":{\"color\":\"yellow\",\"size\":[17500000000],\"sizemode\":\"area\",\"sizeref\":100000000.0,\"symbol\":\"circle\"},\"mode\":\"markers\",\"name\":\"Miami Heat\",\"showlegend\":true,\"type\":\"scattergeo\"},{\"geo\":\"geo\",\"hovertemplate\":\"<b>%{hovertext}</b><br><br>Team=San Antonio Spurs<br>Year=2019<br>Valuation (in millions)=%{marker.size}<br>LAT=%{lat}<br>LONG=%{lon}<extra></extra>\",\"hovertext\":[\"San Antonio Spurs\"],\"lat\":[29],\"legendgroup\":\"San Antonio Spurs\",\"lon\":[-98],\"marker\":{\"color\":\"blue\",\"size\":[16250000000],\"sizemode\":\"area\",\"sizeref\":100000000.0,\"symbol\":\"circle\"},\"mode\":\"markers\",\"name\":\"San Antonio Spurs\",\"showlegend\":true,\"type\":\"scattergeo\"},{\"geo\":\"geo\",\"hovertemplate\":\"<b>%{hovertext}</b><br><br>Team=Washington Wizards<br>Year=2019<br>Valuation (in millions)=%{marker.size}<br>LAT=%{lat}<br>LONG=%{lon}<extra></extra>\",\"hovertext\":[\"Washington Wizards\"],\"lat\":[38],\"legendgroup\":\"Washington Wizards\",\"lon\":[-77],\"marker\":{\"color\":\"red\",\"size\":[15500000000],\"sizemode\":\"area\",\"sizeref\":100000000.0,\"symbol\":\"circle\"},\"mode\":\"markers\",\"name\":\"Washington Wizards\",\"showlegend\":true,\"type\":\"scattergeo\"},{\"geo\":\"geo\",\"hovertemplate\":\"<b>%{hovertext}</b><br><br>Team=Portland Trail Blazers<br>Year=2019<br>Valuation (in millions)=%{marker.size}<br>LAT=%{lat}<br>LONG=%{lon}<extra></extra>\",\"hovertext\":[\"Portland Trail Blazers\"],\"lat\":[45],\"legendgroup\":\"Portland Trail Blazers\",\"lon\":[-122],\"marker\":{\"color\":\"yellow\",\"size\":[16000000000],\"sizemode\":\"area\",\"sizeref\":100000000.0,\"symbol\":\"circle\"},\"mode\":\"markers\",\"name\":\"Portland Trail Blazers\",\"showlegend\":true,\"type\":\"scattergeo\"},{\"geo\":\"geo\",\"hovertemplate\":\"<b>%{hovertext}</b><br><br>Team=Milwaukee Bucks<br>Year=2019<br>Valuation (in millions)=%{marker.size}<br>LAT=%{lat}<br>LONG=%{lon}<extra></extra>\",\"hovertext\":[\"Milwaukee Bucks\"],\"lat\":[43],\"legendgroup\":\"Milwaukee Bucks\",\"lon\":[-87],\"marker\":{\"color\":\"blue\",\"size\":[18600000000],\"sizemode\":\"area\",\"sizeref\":100000000.0,\"symbol\":\"circle\"},\"mode\":\"markers\",\"name\":\"Milwaukee Bucks\",\"showlegend\":true,\"type\":\"scattergeo\"},{\"geo\":\"geo\",\"hovertemplate\":\"<b>%{hovertext}</b><br><br>Team=Sacramento Kings<br>Year=2019<br>Valuation (in millions)=%{marker.size}<br>LAT=%{lat}<br>LONG=%{lon}<extra></extra>\",\"hovertext\":[\"Sacramento Kings\"],\"lat\":[38],\"legendgroup\":\"Sacramento Kings\",\"lon\":[-121],\"marker\":{\"color\":\"red\",\"size\":[15750000000],\"sizemode\":\"area\",\"sizeref\":100000000.0,\"symbol\":\"circle\"},\"mode\":\"markers\",\"name\":\"Sacramento Kings\",\"showlegend\":true,\"type\":\"scattergeo\"},{\"geo\":\"geo\",\"hovertemplate\":\"<b>%{hovertext}</b><br><br>Team=Denver Nuggets<br>Year=2019<br>Valuation (in millions)=%{marker.size}<br>LAT=%{lat}<br>LONG=%{lon}<extra></extra>\",\"hovertext\":[\"Denver Nuggets\"],\"lat\":[39],\"legendgroup\":\"Denver Nuggets\",\"lon\":[-104],\"marker\":{\"color\":\"yellow\",\"size\":[13750000000],\"sizemode\":\"area\",\"sizeref\":100000000.0,\"symbol\":\"circle\"},\"mode\":\"markers\",\"name\":\"Denver Nuggets\",\"showlegend\":true,\"type\":\"scattergeo\"},{\"geo\":\"geo\",\"hovertemplate\":\"<b>%{hovertext}</b><br><br>Team=Cleveland Cavaliers<br>Year=2019<br>Valuation (in millions)=%{marker.size}<br>LAT=%{lat}<br>LONG=%{lon}<extra></extra>\",\"hovertext\":[\"Cleveland Cavaliers\"],\"lat\":[41],\"legendgroup\":\"Cleveland Cavaliers\",\"lon\":[-81],\"marker\":{\"color\":\"blue\",\"size\":[12750000000],\"sizemode\":\"area\",\"sizeref\":100000000.0,\"symbol\":\"circle\"},\"mode\":\"markers\",\"name\":\"Cleveland Cavaliers\",\"showlegend\":true,\"type\":\"scattergeo\"},{\"geo\":\"geo\",\"hovertemplate\":\"<b>%{hovertext}</b><br><br>Team=Detroit Pistons<br>Year=2019<br>Valuation (in millions)=%{marker.size}<br>LAT=%{lat}<br>LONG=%{lon}<extra></extra>\",\"hovertext\":[\"Detroit Pistons\"],\"lat\":[42],\"legendgroup\":\"Detroit Pistons\",\"lon\":[-83],\"marker\":{\"color\":\"red\",\"size\":[12700000000],\"sizemode\":\"area\",\"sizeref\":100000000.0,\"symbol\":\"circle\"},\"mode\":\"markers\",\"name\":\"Detroit Pistons\",\"showlegend\":true,\"type\":\"scattergeo\"},{\"geo\":\"geo\",\"hovertemplate\":\"<b>%{hovertext}</b><br><br>Team=Utah Jazz<br>Year=2019<br>Valuation (in millions)=%{marker.size}<br>LAT=%{lat}<br>LONG=%{lon}<extra></extra>\",\"hovertext\":[\"Utah Jazz\"],\"lat\":[40],\"legendgroup\":\"Utah Jazz\",\"lon\":[-111],\"marker\":{\"color\":\"yellow\",\"size\":[14250000000],\"sizemode\":\"area\",\"sizeref\":100000000.0,\"symbol\":\"circle\"},\"mode\":\"markers\",\"name\":\"Utah Jazz\",\"showlegend\":true,\"type\":\"scattergeo\"},{\"geo\":\"geo\",\"hovertemplate\":\"<b>%{hovertext}</b><br><br>Team=Oklahoma City Thunder<br>Year=2019<br>Valuation (in millions)=%{marker.size}<br>LAT=%{lat}<br>LONG=%{lon}<extra></extra>\",\"hovertext\":[\"Oklahoma City Thunder\"],\"lat\":[35],\"legendgroup\":\"Oklahoma City Thunder\",\"lon\":[-97],\"marker\":{\"color\":\"blue\",\"size\":[14750000000],\"sizemode\":\"area\",\"sizeref\":100000000.0,\"symbol\":\"circle\"},\"mode\":\"markers\",\"name\":\"Oklahoma City Thunder\",\"showlegend\":true,\"type\":\"scattergeo\"},{\"geo\":\"geo\",\"hovertemplate\":\"<b>%{hovertext}</b><br><br>Team=Phoenix Suns<br>Year=2019<br>Valuation (in millions)=%{marker.size}<br>LAT=%{lat}<br>LONG=%{lon}<extra></extra>\",\"hovertext\":[\"Phoenix Suns\"],\"lat\":[33],\"legendgroup\":\"Phoenix Suns\",\"lon\":[-112],\"marker\":{\"color\":\"red\",\"size\":[15000000000],\"sizemode\":\"area\",\"sizeref\":100000000.0,\"symbol\":\"circle\"},\"mode\":\"markers\",\"name\":\"Phoenix Suns\",\"showlegend\":true,\"type\":\"scattergeo\"},{\"geo\":\"geo\",\"hovertemplate\":\"<b>%{hovertext}</b><br><br>Team=Indiana Pacers<br>Year=2019<br>Valuation (in millions)=%{marker.size}<br>LAT=%{lat}<br>LONG=%{lon}<extra></extra>\",\"hovertext\":[\"Indiana Pacers\"],\"lat\":[39],\"legendgroup\":\"Indiana Pacers\",\"lon\":[-86],\"marker\":{\"color\":\"yellow\",\"size\":[14000000000],\"sizemode\":\"area\",\"sizeref\":100000000.0,\"symbol\":\"circle\"},\"mode\":\"markers\",\"name\":\"Indiana Pacers\",\"showlegend\":true,\"type\":\"scattergeo\"},{\"geo\":\"geo\",\"hovertemplate\":\"<b>%{hovertext}</b><br><br>Team=Atlanta Hawks<br>Year=2019<br>Valuation (in millions)=%{marker.size}<br>LAT=%{lat}<br>LONG=%{lon}<extra></extra>\",\"hovertext\":[\"Atlanta Hawks\"],\"lat\":[33],\"legendgroup\":\"Atlanta Hawks\",\"lon\":[-84],\"marker\":{\"color\":\"blue\",\"size\":[13000000000],\"sizemode\":\"area\",\"sizeref\":100000000.0,\"symbol\":\"circle\"},\"mode\":\"markers\",\"name\":\"Atlanta Hawks\",\"showlegend\":true,\"type\":\"scattergeo\"},{\"geo\":\"geo\",\"hovertemplate\":\"<b>%{hovertext}</b><br><br>Team=Orlando Magic<br>Year=2019<br>Valuation (in millions)=%{marker.size}<br>LAT=%{lat}<br>LONG=%{lon}<extra></extra>\",\"hovertext\":[\"Orlando Magic\"],\"lat\":[28],\"legendgroup\":\"Orlando Magic\",\"lon\":[-81],\"marker\":{\"color\":\"red\",\"size\":[13250000000],\"sizemode\":\"area\",\"sizeref\":100000000.0,\"symbol\":\"circle\"},\"mode\":\"markers\",\"name\":\"Orlando Magic\",\"showlegend\":true,\"type\":\"scattergeo\"},{\"geo\":\"geo\",\"hovertemplate\":\"<b>%{hovertext}</b><br><br>Team=Charlotte Hornets<br>Year=2019<br>Valuation (in millions)=%{marker.size}<br>LAT=%{lat}<br>LONG=%{lon}<extra></extra>\",\"hovertext\":[\"Charlotte Hornets\"],\"lat\":[35],\"legendgroup\":\"Charlotte Hornets\",\"lon\":[-80],\"marker\":{\"color\":\"yellow\",\"size\":[10250000000],\"sizemode\":\"area\",\"sizeref\":100000000.0,\"symbol\":\"circle\"},\"mode\":\"markers\",\"name\":\"Charlotte Hornets\",\"showlegend\":true,\"type\":\"scattergeo\"},{\"geo\":\"geo\",\"hovertemplate\":\"<b>%{hovertext}</b><br><br>Team=Minnesota Timberwolves<br>Year=2019<br>Valuation (in millions)=%{marker.size}<br>LAT=%{lat}<br>LONG=%{lon}<extra></extra>\",\"hovertext\":[\"Minnesota Timberwolves\"],\"lat\":[44],\"legendgroup\":\"Minnesota Timberwolves\",\"lon\":[-93],\"marker\":{\"color\":\"blue\",\"size\":[12600000000],\"sizemode\":\"area\",\"sizeref\":100000000.0,\"symbol\":\"circle\"},\"mode\":\"markers\",\"name\":\"Minnesota Timberwolves\",\"showlegend\":true,\"type\":\"scattergeo\"},{\"geo\":\"geo\",\"hovertemplate\":\"<b>%{hovertext}</b><br><br>Team=Memphis Grizzlies<br>Year=2019<br>Valuation (in millions)=%{marker.size}<br>LAT=%{lat}<br>LONG=%{lon}<extra></extra>\",\"hovertext\":[\"Memphis Grizzlies\"],\"lat\":[35],\"legendgroup\":\"Memphis Grizzlies\",\"lon\":[-90],\"marker\":{\"color\":\"red\",\"size\":[10020000000],\"sizemode\":\"area\",\"sizeref\":100000000.0,\"symbol\":\"circle\"},\"mode\":\"markers\",\"name\":\"Memphis Grizzlies\",\"showlegend\":true,\"type\":\"scattergeo\"},{\"geo\":\"geo\",\"hovertemplate\":\"<b>%{hovertext}</b><br><br>Team=New Orleans Pelicans<br>Year=2019<br>Valuation (in millions)=%{marker.size}<br>LAT=%{lat}<br>LONG=%{lon}<extra></extra>\",\"hovertext\":[\"New Orleans Pelicans\"],\"lat\":[29],\"legendgroup\":\"New Orleans Pelicans\",\"lon\":[-90],\"marker\":{\"color\":\"yellow\",\"size\":[10220000000],\"sizemode\":\"area\",\"sizeref\":100000000.0,\"symbol\":\"circle\"},\"mode\":\"markers\",\"name\":\"New Orleans Pelicans\",\"showlegend\":true,\"type\":\"scattergeo\"}],\"name\":\"2019\"}]);\n",
       "                        }).then(function(){\n",
       "                            \n",
       "var gd = document.getElementById('f5af9251-5ab4-45bf-b836-28048089d149');\n",
       "var x = new MutationObserver(function (mutations, observer) {{\n",
       "        var display = window.getComputedStyle(gd).display;\n",
       "        if (!display || display === 'none') {{\n",
       "            console.log([gd, 'removed!']);\n",
       "            Plotly.purge(gd);\n",
       "            observer.disconnect();\n",
       "        }}\n",
       "}});\n",
       "\n",
       "// Listen for the removal of the full notebook cells\n",
       "var notebookContainer = gd.closest('#notebook-container');\n",
       "if (notebookContainer) {{\n",
       "    x.observe(notebookContainer, {childList: true});\n",
       "}}\n",
       "\n",
       "// Listen for the clearing of the current output cell\n",
       "var outputEl = gd.closest('.output');\n",
       "if (outputEl) {{\n",
       "    x.observe(outputEl, {childList: true});\n",
       "}}\n",
       "\n",
       "                        })                };                });            </script>        </div>"
      ]
     },
     "metadata": {},
     "output_type": "display_data"
    }
   ],
   "source": [
    "fig = px.scatter_geo(team_valuations_, \n",
    "                     lat=\"LAT\", \n",
    "                     lon= \"LONG\", \n",
    "                     color=\"Team\",\n",
    "                     hover_name=\"Team\",\n",
    "                     title = \"Team Valuation (in millions)\",\n",
    "                     color_discrete_sequence = [\"blue\", \"red\", \"yellow\"],\n",
    "                     #hover_data = {'Team': True, 'City': True, 'LAT':False, 'LONG':False, 'Year': True, 'Valuation (in millions)': True},\n",
    "                     size=\"Valuation (in millions)\",\n",
    "                     animation_frame=\"Year\",\n",
    "                     scope = \"usa\"\n",
    "                     )\n",
    "fig.show()"
   ]
  }
 ],
 "metadata": {
  "kernelspec": {
   "display_name": "Python 3",
   "language": "python",
   "name": "python3"
  },
  "language_info": {
   "codemirror_mode": {
    "name": "ipython",
    "version": 3
   },
   "file_extension": ".py",
   "mimetype": "text/x-python",
   "name": "python",
   "nbconvert_exporter": "python",
   "pygments_lexer": "ipython3",
   "version": "3.8.3"
  }
 },
 "nbformat": 4,
 "nbformat_minor": 5
}
